{
 "cells": [
  {
   "cell_type": "markdown",
   "metadata": {},
   "source": [
    "## What is Sentiment Analysis?\n"
   ]
  },
  {
   "cell_type": "markdown",
   "metadata": {},
   "source": [
    "Sentiment Analysis is a field of Natural Language Processing responsible for systems that can extract opinions from natural language. NLP targets creating pipelines that can understand language like we humans do. Sentiment analysis is one of the most basic problems in NLP and is usually one of the first problem that students face in a Natural Language Processing domain."
   ]
  },
  {
   "cell_type": "markdown",
   "metadata": {},
   "source": [
    "## Why Sentiment Analysis?"
   ]
  },
  {
   "cell_type": "markdown",
   "metadata": {},
   "source": [
    "From being able to mine opinions from product reviews to being able to forecast stock prices by studying tweets, sentiment analysis has a very wide range of applications. Sentiment Analysis forms the basis for almost every other pipeline in what we call Natural Language Understanding, due to the intuitive nature of the problem.<br>\n",
    "From an learning point of view, sentiment analysis contains everything that a Data Scientist working in NLP should be aware of. Sentence processing and all the common models/architectures used in NLP can be covered under the umbrella of Sentiment Analysis.<br><br>\n",
    "**Types of Sentiment Analysis**<br><br>\n",
    "Sentiment Analysis is essentially a classification problem. While sentiment analysis contains a wide array of problem variety, the most common types can be broadly divided as,\n",
    "- Polarity Detection : Talking about the polarity of the sentence, that is, positive, negative or neutral. Sometimes the classification can be even more fine tuned, like very positive, positive, neutral, negative and very negative.\n",
    "- Emotion Detection : Detecting the emotion of the speaker from the sentence, for example, happy, sad, angry etc.\n",
    "- Intent Detection : Being able to detect not only what is present in the sentence but also its intent."
   ]
  },
  {
   "cell_type": "markdown",
   "metadata": {},
   "source": [
    "We will perform Sentiment Analysis using traditional machine learning approach as illustrated below."
   ]
  },
  {
   "cell_type": "markdown",
   "metadata": {},
   "source": [
    "## Importing the essential(s)"
   ]
  },
  {
   "cell_type": "code",
   "execution_count": 1,
   "metadata": {},
   "outputs": [],
   "source": [
    "# Disable warnings in Anaconda\n",
    "import warnings\n",
    "warnings.filterwarnings('ignore')\n",
    "\n",
    "#Visualization libraries\n",
    "%matplotlib notebook\n",
    "import matplotlib.pyplot as plt\n",
    "import seaborn as sns\n",
    "sns.set()\n",
    "\n",
    "#For more info on arguments of seaborn.set()\n",
    "#https://seaborn.pydata.org/generated/seaborn.set.html\n",
    "\n",
    "#Graphics in SVG format are more sharp and legible\n",
    "%config InlineBackend.figure_format = 'svg'\n",
    "\n",
    "#Increase the default plot size and set the color scheme\n",
    "plt.rcParams['figure.figsize'] = (8,5)\n",
    "#This works as well - plt.rcParams['figure.figsize'] = 8,5\n",
    "plt.rcParams['image.cmap'] = 'viridis'\n",
    "\n",
    "import pandas as pd\n",
    "import numpy as np\n",
    "import helper"
   ]
  },
  {
   "cell_type": "markdown",
   "metadata": {},
   "source": [
    "## Data Preparation"
   ]
  },
  {
   "cell_type": "markdown",
   "metadata": {},
   "source": [
    "### Load the Data"
   ]
  },
  {
   "cell_type": "markdown",
   "metadata": {},
   "source": [
    "We will use Figure-8 dataset in this case."
   ]
  },
  {
   "cell_type": "code",
   "execution_count": 2,
   "metadata": {},
   "outputs": [],
   "source": [
    "import helper\n",
    "data_dir = 'data/text_emotion.csv'"
   ]
  },
  {
   "cell_type": "code",
   "execution_count": 3,
   "metadata": {},
   "outputs": [],
   "source": [
    "old_data = pd.read_csv(data_dir)"
   ]
  },
  {
   "cell_type": "markdown",
   "metadata": {},
   "source": [
    "### Reading and cleaning the data"
   ]
  },
  {
   "cell_type": "code",
   "execution_count": 4,
   "metadata": {},
   "outputs": [
    {
     "data": {
      "text/plain": [
       "(40000, 4)"
      ]
     },
     "execution_count": 4,
     "metadata": {},
     "output_type": "execute_result"
    }
   ],
   "source": [
    "old_data.shape"
   ]
  },
  {
   "cell_type": "code",
   "execution_count": 5,
   "metadata": {
    "cell_style": "split"
   },
   "outputs": [
    {
     "data": {
      "text/html": [
       "<div>\n",
       "<style scoped>\n",
       "    .dataframe tbody tr th:only-of-type {\n",
       "        vertical-align: middle;\n",
       "    }\n",
       "\n",
       "    .dataframe tbody tr th {\n",
       "        vertical-align: top;\n",
       "    }\n",
       "\n",
       "    .dataframe thead th {\n",
       "        text-align: right;\n",
       "    }\n",
       "</style>\n",
       "<table border=\"1\" class=\"dataframe\">\n",
       "  <thead>\n",
       "    <tr style=\"text-align: right;\">\n",
       "      <th></th>\n",
       "      <th>tweet_id</th>\n",
       "      <th>sentiment</th>\n",
       "      <th>author</th>\n",
       "      <th>content</th>\n",
       "    </tr>\n",
       "  </thead>\n",
       "  <tbody>\n",
       "    <tr>\n",
       "      <th>0</th>\n",
       "      <td>1956967341</td>\n",
       "      <td>empty</td>\n",
       "      <td>xoshayzers</td>\n",
       "      <td>@tiffanylue i know  i was listenin to bad habi...</td>\n",
       "    </tr>\n",
       "    <tr>\n",
       "      <th>1</th>\n",
       "      <td>1956967666</td>\n",
       "      <td>sadness</td>\n",
       "      <td>wannamama</td>\n",
       "      <td>Layin n bed with a headache  ughhhh...waitin o...</td>\n",
       "    </tr>\n",
       "    <tr>\n",
       "      <th>2</th>\n",
       "      <td>1956967696</td>\n",
       "      <td>sadness</td>\n",
       "      <td>coolfunky</td>\n",
       "      <td>Funeral ceremony...gloomy friday...</td>\n",
       "    </tr>\n",
       "    <tr>\n",
       "      <th>3</th>\n",
       "      <td>1956967789</td>\n",
       "      <td>enthusiasm</td>\n",
       "      <td>czareaquino</td>\n",
       "      <td>wants to hang out with friends SOON!</td>\n",
       "    </tr>\n",
       "    <tr>\n",
       "      <th>4</th>\n",
       "      <td>1956968416</td>\n",
       "      <td>neutral</td>\n",
       "      <td>xkilljoyx</td>\n",
       "      <td>@dannycastillo We want to trade with someone w...</td>\n",
       "    </tr>\n",
       "  </tbody>\n",
       "</table>\n",
       "</div>"
      ],
      "text/plain": [
       "     tweet_id   sentiment       author  \\\n",
       "0  1956967341       empty   xoshayzers   \n",
       "1  1956967666     sadness    wannamama   \n",
       "2  1956967696     sadness    coolfunky   \n",
       "3  1956967789  enthusiasm  czareaquino   \n",
       "4  1956968416     neutral    xkilljoyx   \n",
       "\n",
       "                                             content  \n",
       "0  @tiffanylue i know  i was listenin to bad habi...  \n",
       "1  Layin n bed with a headache  ughhhh...waitin o...  \n",
       "2                Funeral ceremony...gloomy friday...  \n",
       "3               wants to hang out with friends SOON!  \n",
       "4  @dannycastillo We want to trade with someone w...  "
      ]
     },
     "execution_count": 5,
     "metadata": {},
     "output_type": "execute_result"
    }
   ],
   "source": [
    "#Printing the first few observations\n",
    "old_data.head()"
   ]
  },
  {
   "cell_type": "code",
   "execution_count": 6,
   "metadata": {
    "cell_style": "split"
   },
   "outputs": [
    {
     "name": "stdout",
     "output_type": "stream",
     "text": [
      "<class 'pandas.core.frame.DataFrame'>\n",
      "RangeIndex: 40000 entries, 0 to 39999\n",
      "Data columns (total 4 columns):\n",
      "tweet_id     40000 non-null int64\n",
      "sentiment    40000 non-null object\n",
      "author       40000 non-null object\n",
      "content      40000 non-null object\n",
      "dtypes: int64(1), object(3)\n",
      "memory usage: 1.2+ MB\n"
     ]
    }
   ],
   "source": [
    "old_data.info()"
   ]
  },
  {
   "cell_type": "markdown",
   "metadata": {},
   "source": [
    "**Observation**\n",
    "\n",
    "- As seen above, the dataset has 40K rows aka observations/records and 4 columns aka features.\n",
    "- If we take a close look at `old_data.info()` output, it is evident that the 4 columns are `tweet_id`, `sentiment`, `author` and `content` each containing 40K records. Hence, we can infer that there are no null elements in the dataset."
   ]
  },
  {
   "cell_type": "markdown",
   "metadata": {},
   "source": [
    "Since `author` feature won't play a part in predicting sentiment from the content, we can drop that column."
   ]
  },
  {
   "cell_type": "code",
   "execution_count": 7,
   "metadata": {},
   "outputs": [],
   "source": [
    "old_data = old_data.drop('author', axis = 1)"
   ]
  },
  {
   "cell_type": "code",
   "execution_count": 8,
   "metadata": {},
   "outputs": [
    {
     "data": {
      "text/html": [
       "<div>\n",
       "<style scoped>\n",
       "    .dataframe tbody tr th:only-of-type {\n",
       "        vertical-align: middle;\n",
       "    }\n",
       "\n",
       "    .dataframe tbody tr th {\n",
       "        vertical-align: top;\n",
       "    }\n",
       "\n",
       "    .dataframe thead th {\n",
       "        text-align: right;\n",
       "    }\n",
       "</style>\n",
       "<table border=\"1\" class=\"dataframe\">\n",
       "  <thead>\n",
       "    <tr style=\"text-align: right;\">\n",
       "      <th></th>\n",
       "      <th>tweet_id</th>\n",
       "      <th>sentiment</th>\n",
       "      <th>content</th>\n",
       "    </tr>\n",
       "  </thead>\n",
       "  <tbody>\n",
       "    <tr>\n",
       "      <th>0</th>\n",
       "      <td>1956967341</td>\n",
       "      <td>empty</td>\n",
       "      <td>@tiffanylue i know  i was listenin to bad habi...</td>\n",
       "    </tr>\n",
       "    <tr>\n",
       "      <th>1</th>\n",
       "      <td>1956967666</td>\n",
       "      <td>sadness</td>\n",
       "      <td>Layin n bed with a headache  ughhhh...waitin o...</td>\n",
       "    </tr>\n",
       "    <tr>\n",
       "      <th>2</th>\n",
       "      <td>1956967696</td>\n",
       "      <td>sadness</td>\n",
       "      <td>Funeral ceremony...gloomy friday...</td>\n",
       "    </tr>\n",
       "    <tr>\n",
       "      <th>3</th>\n",
       "      <td>1956967789</td>\n",
       "      <td>enthusiasm</td>\n",
       "      <td>wants to hang out with friends SOON!</td>\n",
       "    </tr>\n",
       "    <tr>\n",
       "      <th>4</th>\n",
       "      <td>1956968416</td>\n",
       "      <td>neutral</td>\n",
       "      <td>@dannycastillo We want to trade with someone w...</td>\n",
       "    </tr>\n",
       "  </tbody>\n",
       "</table>\n",
       "</div>"
      ],
      "text/plain": [
       "     tweet_id   sentiment                                            content\n",
       "0  1956967341       empty  @tiffanylue i know  i was listenin to bad habi...\n",
       "1  1956967666     sadness  Layin n bed with a headache  ughhhh...waitin o...\n",
       "2  1956967696     sadness                Funeral ceremony...gloomy friday...\n",
       "3  1956967789  enthusiasm               wants to hang out with friends SOON!\n",
       "4  1956968416     neutral  @dannycastillo We want to trade with someone w..."
      ]
     },
     "execution_count": 8,
     "metadata": {},
     "output_type": "execute_result"
    }
   ],
   "source": [
    "#Verifying the above\n",
    "old_data.head()"
   ]
  },
  {
   "cell_type": "markdown",
   "metadata": {},
   "source": [
    "Let's explore the `sentiment` feature!"
   ]
  },
  {
   "cell_type": "code",
   "execution_count": 9,
   "metadata": {
    "cell_style": "split"
   },
   "outputs": [
    {
     "data": {
      "text/plain": [
       "13"
      ]
     },
     "execution_count": 9,
     "metadata": {},
     "output_type": "execute_result"
    }
   ],
   "source": [
    "old_data['sentiment'].nunique()"
   ]
  },
  {
   "cell_type": "code",
   "execution_count": 10,
   "metadata": {
    "cell_style": "split"
   },
   "outputs": [
    {
     "data": {
      "text/plain": [
       "neutral       8638\n",
       "worry         8459\n",
       "happiness     5209\n",
       "sadness       5165\n",
       "love          3842\n",
       "surprise      2187\n",
       "fun           1776\n",
       "relief        1526\n",
       "hate          1323\n",
       "empty          827\n",
       "enthusiasm     759\n",
       "boredom        179\n",
       "anger          110\n",
       "Name: sentiment, dtype: int64"
      ]
     },
     "execution_count": 10,
     "metadata": {},
     "output_type": "execute_result"
    }
   ],
   "source": [
    "old_data['sentiment'].value_counts()"
   ]
  },
  {
   "cell_type": "markdown",
   "metadata": {},
   "source": [
    "From the above, we can conclude that there are 13 unique sentiments listed in the dataset. Let us only consider the records having sentiment(s) as _happiness_ and _sadness_ only for simplicity purpose.<br><br>"
   ]
  },
  {
   "cell_type": "markdown",
   "metadata": {},
   "source": [
    "If we have to drop the records with other sentiment labels, we can do it in the following ways:<br>\n",
    "\n",
    "**Method 1**\n",
    "\n",
    "We can drop rows with rest of the sentiment labels individually like below:\n",
    "\n",
    "```python\n",
    "old_data  = old_data.drop(data[data.sentiment == 'anger'].index)\n",
    "old_data  = old_data.drop(data[data.sentiment == 'boredom'].index)\n",
    "old_data  = old_data.drop(data[data.sentiment == 'enthusiasm'].index)\n",
    "old_data  = old_data.drop(data[data.sentiment == 'empty'].index)\n",
    "old_data  = old_data.drop(data[data.sentiment == 'fun'].index)\n",
    "old_data  = old_data.drop(data[data.sentiment == 'relief'].index)\n",
    "old_data  = old_data.drop(data[data.sentiment == 'surprise'].index)\n",
    "old_data  = old_data.drop(data[data.sentiment == 'love'].index)\n",
    "old_data  = old_data.drop(data[data.sentiment == 'hate'].index)\n",
    "old_data  = old_data.drop(data[data.sentiment == 'neutral'].index)\n",
    "old_data  = old_data.drop(data[data.sentiment == 'worry'].index)\n",
    "```\n",
    "**Method 2**\n",
    "\n",
    "Since we will be deleting rows based on sentiments, what we can do is set `sentiment` feature as index and then drop the records as shown below, followed by re-setting the index,\n",
    "\n",
    "```python\n",
    "#If we want to set a particular feature/column as the index while loading the dataset\n",
    "# old_data = pd.read_csv('data/text_emotion.csv', index_col =\"sentiment\" )\n",
    "old_data.set_index('sentiment')\n",
    "\n",
    "#Drop the records with rest of the sentiment labels\n",
    "old_data = old_data.drop([\"empty\" , \"neutral\" ,\"love\", \"surprise\", \"fun\",\n",
    "              \"relief\", \"hate\", \"enthusiasm\", \"boredom\", \"anger\", \"worry\"], inplace = True)\n",
    "\n",
    "#Re-setting the index\n",
    "old_data.reset_index()\n",
    "```\n"
   ]
  },
  {
   "cell_type": "markdown",
   "metadata": {},
   "source": [
    "But, let's not delete the records instead create a new dataframe `data` with the required `sentiment` labels."
   ]
  },
  {
   "cell_type": "code",
   "execution_count": 11,
   "metadata": {},
   "outputs": [],
   "source": [
    "data = old_data[old_data['sentiment'].isin(['happiness','sadness'])]"
   ]
  },
  {
   "cell_type": "code",
   "execution_count": 12,
   "metadata": {},
   "outputs": [
    {
     "data": {
      "text/plain": [
       "(10374, 3)"
      ]
     },
     "execution_count": 12,
     "metadata": {},
     "output_type": "execute_result"
    }
   ],
   "source": [
    "data.shape"
   ]
  },
  {
   "cell_type": "code",
   "execution_count": 13,
   "metadata": {
    "cell_style": "split"
   },
   "outputs": [
    {
     "data": {
      "text/html": [
       "<div>\n",
       "<style scoped>\n",
       "    .dataframe tbody tr th:only-of-type {\n",
       "        vertical-align: middle;\n",
       "    }\n",
       "\n",
       "    .dataframe tbody tr th {\n",
       "        vertical-align: top;\n",
       "    }\n",
       "\n",
       "    .dataframe thead th {\n",
       "        text-align: right;\n",
       "    }\n",
       "</style>\n",
       "<table border=\"1\" class=\"dataframe\">\n",
       "  <thead>\n",
       "    <tr style=\"text-align: right;\">\n",
       "      <th></th>\n",
       "      <th>tweet_id</th>\n",
       "      <th>sentiment</th>\n",
       "      <th>content</th>\n",
       "    </tr>\n",
       "  </thead>\n",
       "  <tbody>\n",
       "    <tr>\n",
       "      <th>1</th>\n",
       "      <td>1956967666</td>\n",
       "      <td>sadness</td>\n",
       "      <td>Layin n bed with a headache  ughhhh...waitin o...</td>\n",
       "    </tr>\n",
       "    <tr>\n",
       "      <th>2</th>\n",
       "      <td>1956967696</td>\n",
       "      <td>sadness</td>\n",
       "      <td>Funeral ceremony...gloomy friday...</td>\n",
       "    </tr>\n",
       "    <tr>\n",
       "      <th>6</th>\n",
       "      <td>1956968487</td>\n",
       "      <td>sadness</td>\n",
       "      <td>I should be sleep, but im not! thinking about ...</td>\n",
       "    </tr>\n",
       "    <tr>\n",
       "      <th>8</th>\n",
       "      <td>1956969035</td>\n",
       "      <td>sadness</td>\n",
       "      <td>@charviray Charlene my love. I miss you</td>\n",
       "    </tr>\n",
       "    <tr>\n",
       "      <th>9</th>\n",
       "      <td>1956969172</td>\n",
       "      <td>sadness</td>\n",
       "      <td>@kelcouch I'm sorry  at least it's Friday?</td>\n",
       "    </tr>\n",
       "  </tbody>\n",
       "</table>\n",
       "</div>"
      ],
      "text/plain": [
       "     tweet_id sentiment                                            content\n",
       "1  1956967666   sadness  Layin n bed with a headache  ughhhh...waitin o...\n",
       "2  1956967696   sadness                Funeral ceremony...gloomy friday...\n",
       "6  1956968487   sadness  I should be sleep, but im not! thinking about ...\n",
       "8  1956969035   sadness            @charviray Charlene my love. I miss you\n",
       "9  1956969172   sadness         @kelcouch I'm sorry  at least it's Friday?"
      ]
     },
     "execution_count": 13,
     "metadata": {},
     "output_type": "execute_result"
    }
   ],
   "source": [
    "data.head()"
   ]
  },
  {
   "cell_type": "code",
   "execution_count": 14,
   "metadata": {
    "cell_style": "split"
   },
   "outputs": [
    {
     "name": "stdout",
     "output_type": "stream",
     "text": [
      "<class 'pandas.core.frame.DataFrame'>\n",
      "Int64Index: 10374 entries, 1 to 39998\n",
      "Data columns (total 3 columns):\n",
      "tweet_id     10374 non-null int64\n",
      "sentiment    10374 non-null object\n",
      "content      10374 non-null object\n",
      "dtypes: int64(1), object(2)\n",
      "memory usage: 324.2+ KB\n"
     ]
    }
   ],
   "source": [
    "data.info()"
   ]
  },
  {
   "cell_type": "code",
   "execution_count": 15,
   "metadata": {
    "cell_style": "center"
   },
   "outputs": [
    {
     "data": {
      "text/plain": [
       "2"
      ]
     },
     "execution_count": 15,
     "metadata": {},
     "output_type": "execute_result"
    }
   ],
   "source": [
    "data['sentiment'].nunique()"
   ]
  },
  {
   "cell_type": "code",
   "execution_count": 16,
   "metadata": {
    "cell_style": "center"
   },
   "outputs": [
    {
     "data": {
      "text/plain": [
       "happiness    5209\n",
       "sadness      5165\n",
       "Name: sentiment, dtype: int64"
      ]
     },
     "execution_count": 16,
     "metadata": {},
     "output_type": "execute_result"
    }
   ],
   "source": [
    "data['sentiment'].value_counts()"
   ]
  },
  {
   "cell_type": "code",
   "execution_count": 17,
   "metadata": {},
   "outputs": [
    {
     "data": {
      "text/plain": [
       "happiness    0.502121\n",
       "sadness      0.497879\n",
       "Name: sentiment, dtype: float64"
      ]
     },
     "execution_count": 17,
     "metadata": {},
     "output_type": "execute_result"
    }
   ],
   "source": [
    "#To view each sentiment in %\n",
    "data['sentiment'].value_counts(normalize = True)"
   ]
  },
  {
   "cell_type": "code",
   "execution_count": 18,
   "metadata": {},
   "outputs": [
    {
     "data": {
      "application/javascript": [
       "/* Put everything inside the global mpl namespace */\n",
       "window.mpl = {};\n",
       "\n",
       "\n",
       "mpl.get_websocket_type = function() {\n",
       "    if (typeof(WebSocket) !== 'undefined') {\n",
       "        return WebSocket;\n",
       "    } else if (typeof(MozWebSocket) !== 'undefined') {\n",
       "        return MozWebSocket;\n",
       "    } else {\n",
       "        alert('Your browser does not have WebSocket support. ' +\n",
       "              'Please try Chrome, Safari or Firefox ≥ 6. ' +\n",
       "              'Firefox 4 and 5 are also supported but you ' +\n",
       "              'have to enable WebSockets in about:config.');\n",
       "    };\n",
       "}\n",
       "\n",
       "mpl.figure = function(figure_id, websocket, ondownload, parent_element) {\n",
       "    this.id = figure_id;\n",
       "\n",
       "    this.ws = websocket;\n",
       "\n",
       "    this.supports_binary = (this.ws.binaryType != undefined);\n",
       "\n",
       "    if (!this.supports_binary) {\n",
       "        var warnings = document.getElementById(\"mpl-warnings\");\n",
       "        if (warnings) {\n",
       "            warnings.style.display = 'block';\n",
       "            warnings.textContent = (\n",
       "                \"This browser does not support binary websocket messages. \" +\n",
       "                    \"Performance may be slow.\");\n",
       "        }\n",
       "    }\n",
       "\n",
       "    this.imageObj = new Image();\n",
       "\n",
       "    this.context = undefined;\n",
       "    this.message = undefined;\n",
       "    this.canvas = undefined;\n",
       "    this.rubberband_canvas = undefined;\n",
       "    this.rubberband_context = undefined;\n",
       "    this.format_dropdown = undefined;\n",
       "\n",
       "    this.image_mode = 'full';\n",
       "\n",
       "    this.root = $('<div/>');\n",
       "    this._root_extra_style(this.root)\n",
       "    this.root.attr('style', 'display: inline-block');\n",
       "\n",
       "    $(parent_element).append(this.root);\n",
       "\n",
       "    this._init_header(this);\n",
       "    this._init_canvas(this);\n",
       "    this._init_toolbar(this);\n",
       "\n",
       "    var fig = this;\n",
       "\n",
       "    this.waiting = false;\n",
       "\n",
       "    this.ws.onopen =  function () {\n",
       "            fig.send_message(\"supports_binary\", {value: fig.supports_binary});\n",
       "            fig.send_message(\"send_image_mode\", {});\n",
       "            if (mpl.ratio != 1) {\n",
       "                fig.send_message(\"set_dpi_ratio\", {'dpi_ratio': mpl.ratio});\n",
       "            }\n",
       "            fig.send_message(\"refresh\", {});\n",
       "        }\n",
       "\n",
       "    this.imageObj.onload = function() {\n",
       "            if (fig.image_mode == 'full') {\n",
       "                // Full images could contain transparency (where diff images\n",
       "                // almost always do), so we need to clear the canvas so that\n",
       "                // there is no ghosting.\n",
       "                fig.context.clearRect(0, 0, fig.canvas.width, fig.canvas.height);\n",
       "            }\n",
       "            fig.context.drawImage(fig.imageObj, 0, 0);\n",
       "        };\n",
       "\n",
       "    this.imageObj.onunload = function() {\n",
       "        fig.ws.close();\n",
       "    }\n",
       "\n",
       "    this.ws.onmessage = this._make_on_message_function(this);\n",
       "\n",
       "    this.ondownload = ondownload;\n",
       "}\n",
       "\n",
       "mpl.figure.prototype._init_header = function() {\n",
       "    var titlebar = $(\n",
       "        '<div class=\"ui-dialog-titlebar ui-widget-header ui-corner-all ' +\n",
       "        'ui-helper-clearfix\"/>');\n",
       "    var titletext = $(\n",
       "        '<div class=\"ui-dialog-title\" style=\"width: 100%; ' +\n",
       "        'text-align: center; padding: 3px;\"/>');\n",
       "    titlebar.append(titletext)\n",
       "    this.root.append(titlebar);\n",
       "    this.header = titletext[0];\n",
       "}\n",
       "\n",
       "\n",
       "\n",
       "mpl.figure.prototype._canvas_extra_style = function(canvas_div) {\n",
       "\n",
       "}\n",
       "\n",
       "\n",
       "mpl.figure.prototype._root_extra_style = function(canvas_div) {\n",
       "\n",
       "}\n",
       "\n",
       "mpl.figure.prototype._init_canvas = function() {\n",
       "    var fig = this;\n",
       "\n",
       "    var canvas_div = $('<div/>');\n",
       "\n",
       "    canvas_div.attr('style', 'position: relative; clear: both; outline: 0');\n",
       "\n",
       "    function canvas_keyboard_event(event) {\n",
       "        return fig.key_event(event, event['data']);\n",
       "    }\n",
       "\n",
       "    canvas_div.keydown('key_press', canvas_keyboard_event);\n",
       "    canvas_div.keyup('key_release', canvas_keyboard_event);\n",
       "    this.canvas_div = canvas_div\n",
       "    this._canvas_extra_style(canvas_div)\n",
       "    this.root.append(canvas_div);\n",
       "\n",
       "    var canvas = $('<canvas/>');\n",
       "    canvas.addClass('mpl-canvas');\n",
       "    canvas.attr('style', \"left: 0; top: 0; z-index: 0; outline: 0\")\n",
       "\n",
       "    this.canvas = canvas[0];\n",
       "    this.context = canvas[0].getContext(\"2d\");\n",
       "\n",
       "    var backingStore = this.context.backingStorePixelRatio ||\n",
       "\tthis.context.webkitBackingStorePixelRatio ||\n",
       "\tthis.context.mozBackingStorePixelRatio ||\n",
       "\tthis.context.msBackingStorePixelRatio ||\n",
       "\tthis.context.oBackingStorePixelRatio ||\n",
       "\tthis.context.backingStorePixelRatio || 1;\n",
       "\n",
       "    mpl.ratio = (window.devicePixelRatio || 1) / backingStore;\n",
       "\n",
       "    var rubberband = $('<canvas/>');\n",
       "    rubberband.attr('style', \"position: absolute; left: 0; top: 0; z-index: 1;\")\n",
       "\n",
       "    var pass_mouse_events = true;\n",
       "\n",
       "    canvas_div.resizable({\n",
       "        start: function(event, ui) {\n",
       "            pass_mouse_events = false;\n",
       "        },\n",
       "        resize: function(event, ui) {\n",
       "            fig.request_resize(ui.size.width, ui.size.height);\n",
       "        },\n",
       "        stop: function(event, ui) {\n",
       "            pass_mouse_events = true;\n",
       "            fig.request_resize(ui.size.width, ui.size.height);\n",
       "        },\n",
       "    });\n",
       "\n",
       "    function mouse_event_fn(event) {\n",
       "        if (pass_mouse_events)\n",
       "            return fig.mouse_event(event, event['data']);\n",
       "    }\n",
       "\n",
       "    rubberband.mousedown('button_press', mouse_event_fn);\n",
       "    rubberband.mouseup('button_release', mouse_event_fn);\n",
       "    // Throttle sequential mouse events to 1 every 20ms.\n",
       "    rubberband.mousemove('motion_notify', mouse_event_fn);\n",
       "\n",
       "    rubberband.mouseenter('figure_enter', mouse_event_fn);\n",
       "    rubberband.mouseleave('figure_leave', mouse_event_fn);\n",
       "\n",
       "    canvas_div.on(\"wheel\", function (event) {\n",
       "        event = event.originalEvent;\n",
       "        event['data'] = 'scroll'\n",
       "        if (event.deltaY < 0) {\n",
       "            event.step = 1;\n",
       "        } else {\n",
       "            event.step = -1;\n",
       "        }\n",
       "        mouse_event_fn(event);\n",
       "    });\n",
       "\n",
       "    canvas_div.append(canvas);\n",
       "    canvas_div.append(rubberband);\n",
       "\n",
       "    this.rubberband = rubberband;\n",
       "    this.rubberband_canvas = rubberband[0];\n",
       "    this.rubberband_context = rubberband[0].getContext(\"2d\");\n",
       "    this.rubberband_context.strokeStyle = \"#000000\";\n",
       "\n",
       "    this._resize_canvas = function(width, height) {\n",
       "        // Keep the size of the canvas, canvas container, and rubber band\n",
       "        // canvas in synch.\n",
       "        canvas_div.css('width', width)\n",
       "        canvas_div.css('height', height)\n",
       "\n",
       "        canvas.attr('width', width * mpl.ratio);\n",
       "        canvas.attr('height', height * mpl.ratio);\n",
       "        canvas.attr('style', 'width: ' + width + 'px; height: ' + height + 'px;');\n",
       "\n",
       "        rubberband.attr('width', width);\n",
       "        rubberband.attr('height', height);\n",
       "    }\n",
       "\n",
       "    // Set the figure to an initial 600x600px, this will subsequently be updated\n",
       "    // upon first draw.\n",
       "    this._resize_canvas(600, 600);\n",
       "\n",
       "    // Disable right mouse context menu.\n",
       "    $(this.rubberband_canvas).bind(\"contextmenu\",function(e){\n",
       "        return false;\n",
       "    });\n",
       "\n",
       "    function set_focus () {\n",
       "        canvas.focus();\n",
       "        canvas_div.focus();\n",
       "    }\n",
       "\n",
       "    window.setTimeout(set_focus, 100);\n",
       "}\n",
       "\n",
       "mpl.figure.prototype._init_toolbar = function() {\n",
       "    var fig = this;\n",
       "\n",
       "    var nav_element = $('<div/>');\n",
       "    nav_element.attr('style', 'width: 100%');\n",
       "    this.root.append(nav_element);\n",
       "\n",
       "    // Define a callback function for later on.\n",
       "    function toolbar_event(event) {\n",
       "        return fig.toolbar_button_onclick(event['data']);\n",
       "    }\n",
       "    function toolbar_mouse_event(event) {\n",
       "        return fig.toolbar_button_onmouseover(event['data']);\n",
       "    }\n",
       "\n",
       "    for(var toolbar_ind in mpl.toolbar_items) {\n",
       "        var name = mpl.toolbar_items[toolbar_ind][0];\n",
       "        var tooltip = mpl.toolbar_items[toolbar_ind][1];\n",
       "        var image = mpl.toolbar_items[toolbar_ind][2];\n",
       "        var method_name = mpl.toolbar_items[toolbar_ind][3];\n",
       "\n",
       "        if (!name) {\n",
       "            // put a spacer in here.\n",
       "            continue;\n",
       "        }\n",
       "        var button = $('<button/>');\n",
       "        button.addClass('ui-button ui-widget ui-state-default ui-corner-all ' +\n",
       "                        'ui-button-icon-only');\n",
       "        button.attr('role', 'button');\n",
       "        button.attr('aria-disabled', 'false');\n",
       "        button.click(method_name, toolbar_event);\n",
       "        button.mouseover(tooltip, toolbar_mouse_event);\n",
       "\n",
       "        var icon_img = $('<span/>');\n",
       "        icon_img.addClass('ui-button-icon-primary ui-icon');\n",
       "        icon_img.addClass(image);\n",
       "        icon_img.addClass('ui-corner-all');\n",
       "\n",
       "        var tooltip_span = $('<span/>');\n",
       "        tooltip_span.addClass('ui-button-text');\n",
       "        tooltip_span.html(tooltip);\n",
       "\n",
       "        button.append(icon_img);\n",
       "        button.append(tooltip_span);\n",
       "\n",
       "        nav_element.append(button);\n",
       "    }\n",
       "\n",
       "    var fmt_picker_span = $('<span/>');\n",
       "\n",
       "    var fmt_picker = $('<select/>');\n",
       "    fmt_picker.addClass('mpl-toolbar-option ui-widget ui-widget-content');\n",
       "    fmt_picker_span.append(fmt_picker);\n",
       "    nav_element.append(fmt_picker_span);\n",
       "    this.format_dropdown = fmt_picker[0];\n",
       "\n",
       "    for (var ind in mpl.extensions) {\n",
       "        var fmt = mpl.extensions[ind];\n",
       "        var option = $(\n",
       "            '<option/>', {selected: fmt === mpl.default_extension}).html(fmt);\n",
       "        fmt_picker.append(option);\n",
       "    }\n",
       "\n",
       "    // Add hover states to the ui-buttons\n",
       "    $( \".ui-button\" ).hover(\n",
       "        function() { $(this).addClass(\"ui-state-hover\");},\n",
       "        function() { $(this).removeClass(\"ui-state-hover\");}\n",
       "    );\n",
       "\n",
       "    var status_bar = $('<span class=\"mpl-message\"/>');\n",
       "    nav_element.append(status_bar);\n",
       "    this.message = status_bar[0];\n",
       "}\n",
       "\n",
       "mpl.figure.prototype.request_resize = function(x_pixels, y_pixels) {\n",
       "    // Request matplotlib to resize the figure. Matplotlib will then trigger a resize in the client,\n",
       "    // which will in turn request a refresh of the image.\n",
       "    this.send_message('resize', {'width': x_pixels, 'height': y_pixels});\n",
       "}\n",
       "\n",
       "mpl.figure.prototype.send_message = function(type, properties) {\n",
       "    properties['type'] = type;\n",
       "    properties['figure_id'] = this.id;\n",
       "    this.ws.send(JSON.stringify(properties));\n",
       "}\n",
       "\n",
       "mpl.figure.prototype.send_draw_message = function() {\n",
       "    if (!this.waiting) {\n",
       "        this.waiting = true;\n",
       "        this.ws.send(JSON.stringify({type: \"draw\", figure_id: this.id}));\n",
       "    }\n",
       "}\n",
       "\n",
       "\n",
       "mpl.figure.prototype.handle_save = function(fig, msg) {\n",
       "    var format_dropdown = fig.format_dropdown;\n",
       "    var format = format_dropdown.options[format_dropdown.selectedIndex].value;\n",
       "    fig.ondownload(fig, format);\n",
       "}\n",
       "\n",
       "\n",
       "mpl.figure.prototype.handle_resize = function(fig, msg) {\n",
       "    var size = msg['size'];\n",
       "    if (size[0] != fig.canvas.width || size[1] != fig.canvas.height) {\n",
       "        fig._resize_canvas(size[0], size[1]);\n",
       "        fig.send_message(\"refresh\", {});\n",
       "    };\n",
       "}\n",
       "\n",
       "mpl.figure.prototype.handle_rubberband = function(fig, msg) {\n",
       "    var x0 = msg['x0'] / mpl.ratio;\n",
       "    var y0 = (fig.canvas.height - msg['y0']) / mpl.ratio;\n",
       "    var x1 = msg['x1'] / mpl.ratio;\n",
       "    var y1 = (fig.canvas.height - msg['y1']) / mpl.ratio;\n",
       "    x0 = Math.floor(x0) + 0.5;\n",
       "    y0 = Math.floor(y0) + 0.5;\n",
       "    x1 = Math.floor(x1) + 0.5;\n",
       "    y1 = Math.floor(y1) + 0.5;\n",
       "    var min_x = Math.min(x0, x1);\n",
       "    var min_y = Math.min(y0, y1);\n",
       "    var width = Math.abs(x1 - x0);\n",
       "    var height = Math.abs(y1 - y0);\n",
       "\n",
       "    fig.rubberband_context.clearRect(\n",
       "        0, 0, fig.canvas.width, fig.canvas.height);\n",
       "\n",
       "    fig.rubberband_context.strokeRect(min_x, min_y, width, height);\n",
       "}\n",
       "\n",
       "mpl.figure.prototype.handle_figure_label = function(fig, msg) {\n",
       "    // Updates the figure title.\n",
       "    fig.header.textContent = msg['label'];\n",
       "}\n",
       "\n",
       "mpl.figure.prototype.handle_cursor = function(fig, msg) {\n",
       "    var cursor = msg['cursor'];\n",
       "    switch(cursor)\n",
       "    {\n",
       "    case 0:\n",
       "        cursor = 'pointer';\n",
       "        break;\n",
       "    case 1:\n",
       "        cursor = 'default';\n",
       "        break;\n",
       "    case 2:\n",
       "        cursor = 'crosshair';\n",
       "        break;\n",
       "    case 3:\n",
       "        cursor = 'move';\n",
       "        break;\n",
       "    }\n",
       "    fig.rubberband_canvas.style.cursor = cursor;\n",
       "}\n",
       "\n",
       "mpl.figure.prototype.handle_message = function(fig, msg) {\n",
       "    fig.message.textContent = msg['message'];\n",
       "}\n",
       "\n",
       "mpl.figure.prototype.handle_draw = function(fig, msg) {\n",
       "    // Request the server to send over a new figure.\n",
       "    fig.send_draw_message();\n",
       "}\n",
       "\n",
       "mpl.figure.prototype.handle_image_mode = function(fig, msg) {\n",
       "    fig.image_mode = msg['mode'];\n",
       "}\n",
       "\n",
       "mpl.figure.prototype.updated_canvas_event = function() {\n",
       "    // Called whenever the canvas gets updated.\n",
       "    this.send_message(\"ack\", {});\n",
       "}\n",
       "\n",
       "// A function to construct a web socket function for onmessage handling.\n",
       "// Called in the figure constructor.\n",
       "mpl.figure.prototype._make_on_message_function = function(fig) {\n",
       "    return function socket_on_message(evt) {\n",
       "        if (evt.data instanceof Blob) {\n",
       "            /* FIXME: We get \"Resource interpreted as Image but\n",
       "             * transferred with MIME type text/plain:\" errors on\n",
       "             * Chrome.  But how to set the MIME type?  It doesn't seem\n",
       "             * to be part of the websocket stream */\n",
       "            evt.data.type = \"image/png\";\n",
       "\n",
       "            /* Free the memory for the previous frames */\n",
       "            if (fig.imageObj.src) {\n",
       "                (window.URL || window.webkitURL).revokeObjectURL(\n",
       "                    fig.imageObj.src);\n",
       "            }\n",
       "\n",
       "            fig.imageObj.src = (window.URL || window.webkitURL).createObjectURL(\n",
       "                evt.data);\n",
       "            fig.updated_canvas_event();\n",
       "            fig.waiting = false;\n",
       "            return;\n",
       "        }\n",
       "        else if (typeof evt.data === 'string' && evt.data.slice(0, 21) == \"data:image/png;base64\") {\n",
       "            fig.imageObj.src = evt.data;\n",
       "            fig.updated_canvas_event();\n",
       "            fig.waiting = false;\n",
       "            return;\n",
       "        }\n",
       "\n",
       "        var msg = JSON.parse(evt.data);\n",
       "        var msg_type = msg['type'];\n",
       "\n",
       "        // Call the  \"handle_{type}\" callback, which takes\n",
       "        // the figure and JSON message as its only arguments.\n",
       "        try {\n",
       "            var callback = fig[\"handle_\" + msg_type];\n",
       "        } catch (e) {\n",
       "            console.log(\"No handler for the '\" + msg_type + \"' message type: \", msg);\n",
       "            return;\n",
       "        }\n",
       "\n",
       "        if (callback) {\n",
       "            try {\n",
       "                // console.log(\"Handling '\" + msg_type + \"' message: \", msg);\n",
       "                callback(fig, msg);\n",
       "            } catch (e) {\n",
       "                console.log(\"Exception inside the 'handler_\" + msg_type + \"' callback:\", e, e.stack, msg);\n",
       "            }\n",
       "        }\n",
       "    };\n",
       "}\n",
       "\n",
       "// from http://stackoverflow.com/questions/1114465/getting-mouse-location-in-canvas\n",
       "mpl.findpos = function(e) {\n",
       "    //this section is from http://www.quirksmode.org/js/events_properties.html\n",
       "    var targ;\n",
       "    if (!e)\n",
       "        e = window.event;\n",
       "    if (e.target)\n",
       "        targ = e.target;\n",
       "    else if (e.srcElement)\n",
       "        targ = e.srcElement;\n",
       "    if (targ.nodeType == 3) // defeat Safari bug\n",
       "        targ = targ.parentNode;\n",
       "\n",
       "    // jQuery normalizes the pageX and pageY\n",
       "    // pageX,Y are the mouse positions relative to the document\n",
       "    // offset() returns the position of the element relative to the document\n",
       "    var x = e.pageX - $(targ).offset().left;\n",
       "    var y = e.pageY - $(targ).offset().top;\n",
       "\n",
       "    return {\"x\": x, \"y\": y};\n",
       "};\n",
       "\n",
       "/*\n",
       " * return a copy of an object with only non-object keys\n",
       " * we need this to avoid circular references\n",
       " * http://stackoverflow.com/a/24161582/3208463\n",
       " */\n",
       "function simpleKeys (original) {\n",
       "  return Object.keys(original).reduce(function (obj, key) {\n",
       "    if (typeof original[key] !== 'object')\n",
       "        obj[key] = original[key]\n",
       "    return obj;\n",
       "  }, {});\n",
       "}\n",
       "\n",
       "mpl.figure.prototype.mouse_event = function(event, name) {\n",
       "    var canvas_pos = mpl.findpos(event)\n",
       "\n",
       "    if (name === 'button_press')\n",
       "    {\n",
       "        this.canvas.focus();\n",
       "        this.canvas_div.focus();\n",
       "    }\n",
       "\n",
       "    var x = canvas_pos.x * mpl.ratio;\n",
       "    var y = canvas_pos.y * mpl.ratio;\n",
       "\n",
       "    this.send_message(name, {x: x, y: y, button: event.button,\n",
       "                             step: event.step,\n",
       "                             guiEvent: simpleKeys(event)});\n",
       "\n",
       "    /* This prevents the web browser from automatically changing to\n",
       "     * the text insertion cursor when the button is pressed.  We want\n",
       "     * to control all of the cursor setting manually through the\n",
       "     * 'cursor' event from matplotlib */\n",
       "    event.preventDefault();\n",
       "    return false;\n",
       "}\n",
       "\n",
       "mpl.figure.prototype._key_event_extra = function(event, name) {\n",
       "    // Handle any extra behaviour associated with a key event\n",
       "}\n",
       "\n",
       "mpl.figure.prototype.key_event = function(event, name) {\n",
       "\n",
       "    // Prevent repeat events\n",
       "    if (name == 'key_press')\n",
       "    {\n",
       "        if (event.which === this._key)\n",
       "            return;\n",
       "        else\n",
       "            this._key = event.which;\n",
       "    }\n",
       "    if (name == 'key_release')\n",
       "        this._key = null;\n",
       "\n",
       "    var value = '';\n",
       "    if (event.ctrlKey && event.which != 17)\n",
       "        value += \"ctrl+\";\n",
       "    if (event.altKey && event.which != 18)\n",
       "        value += \"alt+\";\n",
       "    if (event.shiftKey && event.which != 16)\n",
       "        value += \"shift+\";\n",
       "\n",
       "    value += 'k';\n",
       "    value += event.which.toString();\n",
       "\n",
       "    this._key_event_extra(event, name);\n",
       "\n",
       "    this.send_message(name, {key: value,\n",
       "                             guiEvent: simpleKeys(event)});\n",
       "    return false;\n",
       "}\n",
       "\n",
       "mpl.figure.prototype.toolbar_button_onclick = function(name) {\n",
       "    if (name == 'download') {\n",
       "        this.handle_save(this, null);\n",
       "    } else {\n",
       "        this.send_message(\"toolbar_button\", {name: name});\n",
       "    }\n",
       "};\n",
       "\n",
       "mpl.figure.prototype.toolbar_button_onmouseover = function(tooltip) {\n",
       "    this.message.textContent = tooltip;\n",
       "};\n",
       "mpl.toolbar_items = [[\"Home\", \"Reset original view\", \"fa fa-home icon-home\", \"home\"], [\"Back\", \"Back to previous view\", \"fa fa-arrow-left icon-arrow-left\", \"back\"], [\"Forward\", \"Forward to next view\", \"fa fa-arrow-right icon-arrow-right\", \"forward\"], [\"\", \"\", \"\", \"\"], [\"Pan\", \"Pan axes with left mouse, zoom with right\", \"fa fa-arrows icon-move\", \"pan\"], [\"Zoom\", \"Zoom to rectangle\", \"fa fa-square-o icon-check-empty\", \"zoom\"], [\"\", \"\", \"\", \"\"], [\"Download\", \"Download plot\", \"fa fa-floppy-o icon-save\", \"download\"]];\n",
       "\n",
       "mpl.extensions = [\"eps\", \"pdf\", \"png\", \"ps\", \"raw\", \"svg\"];\n",
       "\n",
       "mpl.default_extension = \"png\";var comm_websocket_adapter = function(comm) {\n",
       "    // Create a \"websocket\"-like object which calls the given IPython comm\n",
       "    // object with the appropriate methods. Currently this is a non binary\n",
       "    // socket, so there is still some room for performance tuning.\n",
       "    var ws = {};\n",
       "\n",
       "    ws.close = function() {\n",
       "        comm.close()\n",
       "    };\n",
       "    ws.send = function(m) {\n",
       "        //console.log('sending', m);\n",
       "        comm.send(m);\n",
       "    };\n",
       "    // Register the callback with on_msg.\n",
       "    comm.on_msg(function(msg) {\n",
       "        //console.log('receiving', msg['content']['data'], msg);\n",
       "        // Pass the mpl event to the overridden (by mpl) onmessage function.\n",
       "        ws.onmessage(msg['content']['data'])\n",
       "    });\n",
       "    return ws;\n",
       "}\n",
       "\n",
       "mpl.mpl_figure_comm = function(comm, msg) {\n",
       "    // This is the function which gets called when the mpl process\n",
       "    // starts-up an IPython Comm through the \"matplotlib\" channel.\n",
       "\n",
       "    var id = msg.content.data.id;\n",
       "    // Get hold of the div created by the display call when the Comm\n",
       "    // socket was opened in Python.\n",
       "    var element = $(\"#\" + id);\n",
       "    var ws_proxy = comm_websocket_adapter(comm)\n",
       "\n",
       "    function ondownload(figure, format) {\n",
       "        window.open(figure.imageObj.src);\n",
       "    }\n",
       "\n",
       "    var fig = new mpl.figure(id, ws_proxy,\n",
       "                           ondownload,\n",
       "                           element.get(0));\n",
       "\n",
       "    // Call onopen now - mpl needs it, as it is assuming we've passed it a real\n",
       "    // web socket which is closed, not our websocket->open comm proxy.\n",
       "    ws_proxy.onopen();\n",
       "\n",
       "    fig.parent_element = element.get(0);\n",
       "    fig.cell_info = mpl.find_output_cell(\"<div id='\" + id + \"'></div>\");\n",
       "    if (!fig.cell_info) {\n",
       "        console.error(\"Failed to find cell for figure\", id, fig);\n",
       "        return;\n",
       "    }\n",
       "\n",
       "    var output_index = fig.cell_info[2]\n",
       "    var cell = fig.cell_info[0];\n",
       "\n",
       "};\n",
       "\n",
       "mpl.figure.prototype.handle_close = function(fig, msg) {\n",
       "    var width = fig.canvas.width/mpl.ratio\n",
       "    fig.root.unbind('remove')\n",
       "\n",
       "    // Update the output cell to use the data from the current canvas.\n",
       "    fig.push_to_output();\n",
       "    var dataURL = fig.canvas.toDataURL();\n",
       "    // Re-enable the keyboard manager in IPython - without this line, in FF,\n",
       "    // the notebook keyboard shortcuts fail.\n",
       "    IPython.keyboard_manager.enable()\n",
       "    $(fig.parent_element).html('<img src=\"' + dataURL + '\" width=\"' + width + '\">');\n",
       "    fig.close_ws(fig, msg);\n",
       "}\n",
       "\n",
       "mpl.figure.prototype.close_ws = function(fig, msg){\n",
       "    fig.send_message('closing', msg);\n",
       "    // fig.ws.close()\n",
       "}\n",
       "\n",
       "mpl.figure.prototype.push_to_output = function(remove_interactive) {\n",
       "    // Turn the data on the canvas into data in the output cell.\n",
       "    var width = this.canvas.width/mpl.ratio\n",
       "    var dataURL = this.canvas.toDataURL();\n",
       "    this.cell_info[1]['text/html'] = '<img src=\"' + dataURL + '\" width=\"' + width + '\">';\n",
       "}\n",
       "\n",
       "mpl.figure.prototype.updated_canvas_event = function() {\n",
       "    // Tell IPython that the notebook contents must change.\n",
       "    IPython.notebook.set_dirty(true);\n",
       "    this.send_message(\"ack\", {});\n",
       "    var fig = this;\n",
       "    // Wait a second, then push the new image to the DOM so\n",
       "    // that it is saved nicely (might be nice to debounce this).\n",
       "    setTimeout(function () { fig.push_to_output() }, 1000);\n",
       "}\n",
       "\n",
       "mpl.figure.prototype._init_toolbar = function() {\n",
       "    var fig = this;\n",
       "\n",
       "    var nav_element = $('<div/>');\n",
       "    nav_element.attr('style', 'width: 100%');\n",
       "    this.root.append(nav_element);\n",
       "\n",
       "    // Define a callback function for later on.\n",
       "    function toolbar_event(event) {\n",
       "        return fig.toolbar_button_onclick(event['data']);\n",
       "    }\n",
       "    function toolbar_mouse_event(event) {\n",
       "        return fig.toolbar_button_onmouseover(event['data']);\n",
       "    }\n",
       "\n",
       "    for(var toolbar_ind in mpl.toolbar_items){\n",
       "        var name = mpl.toolbar_items[toolbar_ind][0];\n",
       "        var tooltip = mpl.toolbar_items[toolbar_ind][1];\n",
       "        var image = mpl.toolbar_items[toolbar_ind][2];\n",
       "        var method_name = mpl.toolbar_items[toolbar_ind][3];\n",
       "\n",
       "        if (!name) { continue; };\n",
       "\n",
       "        var button = $('<button class=\"btn btn-default\" href=\"#\" title=\"' + name + '\"><i class=\"fa ' + image + ' fa-lg\"></i></button>');\n",
       "        button.click(method_name, toolbar_event);\n",
       "        button.mouseover(tooltip, toolbar_mouse_event);\n",
       "        nav_element.append(button);\n",
       "    }\n",
       "\n",
       "    // Add the status bar.\n",
       "    var status_bar = $('<span class=\"mpl-message\" style=\"text-align:right; float: right;\"/>');\n",
       "    nav_element.append(status_bar);\n",
       "    this.message = status_bar[0];\n",
       "\n",
       "    // Add the close button to the window.\n",
       "    var buttongrp = $('<div class=\"btn-group inline pull-right\"></div>');\n",
       "    var button = $('<button class=\"btn btn-mini btn-primary\" href=\"#\" title=\"Stop Interaction\"><i class=\"fa fa-power-off icon-remove icon-large\"></i></button>');\n",
       "    button.click(function (evt) { fig.handle_close(fig, {}); } );\n",
       "    button.mouseover('Stop Interaction', toolbar_mouse_event);\n",
       "    buttongrp.append(button);\n",
       "    var titlebar = this.root.find($('.ui-dialog-titlebar'));\n",
       "    titlebar.prepend(buttongrp);\n",
       "}\n",
       "\n",
       "mpl.figure.prototype._root_extra_style = function(el){\n",
       "    var fig = this\n",
       "    el.on(\"remove\", function(){\n",
       "\tfig.close_ws(fig, {});\n",
       "    });\n",
       "}\n",
       "\n",
       "mpl.figure.prototype._canvas_extra_style = function(el){\n",
       "    // this is important to make the div 'focusable\n",
       "    el.attr('tabindex', 0)\n",
       "    // reach out to IPython and tell the keyboard manager to turn it's self\n",
       "    // off when our div gets focus\n",
       "\n",
       "    // location in version 3\n",
       "    if (IPython.notebook.keyboard_manager) {\n",
       "        IPython.notebook.keyboard_manager.register_events(el);\n",
       "    }\n",
       "    else {\n",
       "        // location in version 2\n",
       "        IPython.keyboard_manager.register_events(el);\n",
       "    }\n",
       "\n",
       "}\n",
       "\n",
       "mpl.figure.prototype._key_event_extra = function(event, name) {\n",
       "    var manager = IPython.notebook.keyboard_manager;\n",
       "    if (!manager)\n",
       "        manager = IPython.keyboard_manager;\n",
       "\n",
       "    // Check for shift+enter\n",
       "    if (event.shiftKey && event.which == 13) {\n",
       "        this.canvas_div.blur();\n",
       "        event.shiftKey = false;\n",
       "        // Send a \"J\" for go to next cell\n",
       "        event.which = 74;\n",
       "        event.keyCode = 74;\n",
       "        manager.command_mode();\n",
       "        manager.handle_keydown(event);\n",
       "    }\n",
       "}\n",
       "\n",
       "mpl.figure.prototype.handle_save = function(fig, msg) {\n",
       "    fig.ondownload(fig, null);\n",
       "}\n",
       "\n",
       "\n",
       "mpl.find_output_cell = function(html_output) {\n",
       "    // Return the cell and output element which can be found *uniquely* in the notebook.\n",
       "    // Note - this is a bit hacky, but it is done because the \"notebook_saving.Notebook\"\n",
       "    // IPython event is triggered only after the cells have been serialised, which for\n",
       "    // our purposes (turning an active figure into a static one), is too late.\n",
       "    var cells = IPython.notebook.get_cells();\n",
       "    var ncells = cells.length;\n",
       "    for (var i=0; i<ncells; i++) {\n",
       "        var cell = cells[i];\n",
       "        if (cell.cell_type === 'code'){\n",
       "            for (var j=0; j<cell.output_area.outputs.length; j++) {\n",
       "                var data = cell.output_area.outputs[j];\n",
       "                if (data.data) {\n",
       "                    // IPython >= 3 moved mimebundle to data attribute of output\n",
       "                    data = data.data;\n",
       "                }\n",
       "                if (data['text/html'] == html_output) {\n",
       "                    return [cell, data, j];\n",
       "                }\n",
       "            }\n",
       "        }\n",
       "    }\n",
       "}\n",
       "\n",
       "// Register the function which deals with the matplotlib target/channel.\n",
       "// The kernel may be null if the page has been refreshed.\n",
       "if (IPython.notebook.kernel != null) {\n",
       "    IPython.notebook.kernel.comm_manager.register_target('matplotlib', mpl.mpl_figure_comm);\n",
       "}\n"
      ],
      "text/plain": [
       "<IPython.core.display.Javascript object>"
      ]
     },
     "metadata": {},
     "output_type": "display_data"
    },
    {
     "data": {
      "text/html": [
       "<img src=\"data:image/png;base64,iVBORw0KGgoAAAANSUhEUgAAA+gAAAJxCAYAAADRvZjbAAAAAXNSR0IArs4c6QAAAARnQU1BAACxjwv8YQUAAFyKSURBVHhe7d0JnF/T3T/wb2ZJZNOISAUNRdWax66qttraKkpR+4O2qH+rVZSiqorWUw1KlfbpQtFaqgulVc/jqaUURayxlcQSsiObzCT5zzlzRyaTmWSSTGbub+b9fr1u7u93fmcmyT2/7XPPuef0mtcgAAAAgC5VVewBAACALiSgAwAAQAkI6AAAAFACAjoAAACUgIAOAAAAJSCgAwAAQAkI6AAAAFACAjoAAACUgIAOAAAAJSCgAwAAQAkI6AAAAFACAjoAAACUgIAOAAAAJSCgAwAAQAkI6AAAAFACAjoAAACUgIAOAAAAJSCgAwAAQAkI6AAAAFACAjoAAACUgIAOAAAAJSCgAwAAQAkI6AAAAFACAjoAAACUgIAOAAAAJSCgAwAAQAkI6AAAAFACAjoAAACUgIAOAAAAJSCgAwAAQAkI6AAAAFACAjoAAACUgIAOAAAAJSCgAwAAQAkI6AAAAFACAjoAAACUgIAOAAAAJSCgAwAAQAkI6AAAAFACAjoAAACUgIAOAAAAJSCgAwAAQAkI6AAAAFACAjoAAACUgIAOAAAAJSCgAwAAQAkI6AAAAFACAjoAAACUgIAOAAAAJSCgAwAAQAkI6AAAAFACAjoAAACUgIAOAAAAJSCgAwAAQAkI6AAAAFACAjoAAACUgIAOAAAAJSCgAwAAQAkI6AAAAFACAjoAAACUgIAOAAAAJSCgAwAAQAkI6AAAAFACAjoAAACUgIAOAAAAJSCgAwAAQAkI6AAAAFACAjoAAACUgIAOAAAAJSCgAwAAQAkI6AAAAFACAjoAAACUgIAOAAAAJSCgAwAAQAkI6AAAAFACveY1KG7Tg0yaND0qrelXWqlf3k+ZMiPvqSzar/Jpw8qm/Sqb9qts2q+yddf269WrV6y8cv/iHmUhoPdQEydOq7iAPnhw4xvI5MnT857Kov0qnzasbNqvsmm/yqb9Klt3bb8U0IcMGVDcoywMcQcAAIASENABAACgBAR0AAAAKAEBHQAAAEpAQAcAAIASENABAACgBCyz1kO1Z5m1uXPnxNtvT4n6+rqGunOL0q5TW1ud93V1c/KeyrK07ZeWAKmqqokVVugXffv2z/fpGpYJqmzar7Jpv8qm/SqbZdboTHrQaVUK55Mnj49Zs6bHnDn1RWnXqq+fmzcq09K235w5c2L27Jnx9tuTYtKkN/J9AADojvSg91CL60GfOnViDud9+w6IFVccXIpey+rqxvNJc+YI6ZVoWdovnSR6552p+TnZv/+KMXDgSsUjdCY9QJVN+1U27VfZtF9l04NOZ9KDTqvSsPZevapKE87p2aqra+J971s5PyfffXdmUQoAAN2LgE6r0jXnVVVVwjmlkZ6L6Tlp0A8AAN2VgA4AAAAlIKADAABACQjoAAAAUAICOrTwyCMPx8c+tmX8/OdXFiWVY9y41/O//bzzzi5KAACASiGgs8T69KmJvn1rO31Lf+/i/u70OAAAQCWyDnoPtbh10CdMeC3vV1ll9bxvLgXh0WOnxuy6OUVJ56gqJpSf28Y/u3dtdaw/fFDMnFlXlCyd1IN+wgnHxVFHfTE+//lji9LKUF9fH6+99mr07z8ghgwZUpSWQ0esY7+o5yXLn3V8K5v2q2zar7Jpv8pmHXQ6k4DeQy1rQH/8xUnx1IsTi5LOUVUk9LltJPSN1hkSI9ZZuUcH9DIT0CufL5iVTftVNu1X2bRfZRPQ6UyGuMMiPPnkEzms77bb9vGJT+wcZ599RkyZMrnxwcKtt/4xTj31xPjsZz8dO++8bey55y75/jPPPFXUmO+2227J14in/f/8z9/i6KMPjY9/fLvYZ59PxKWXXhQzZ84sajZqfj38v/71UHzpS0fHrrt+LD796V3je987J6ZOnVrUbNTWNej7779X3qZPnxY//OEFsffeezT8vR+Nz3/+8HjwwQeKWguaNGliXHzxD+KAA/bJ/6+99to9zjnnW/H6640hubmnnnoyTjvt6/GZz3wy191nnz3iy18+Jh+b5p566ol21QMAgJ5IQIc2pICdwnnfvn0bguRnY80114o77/xrfOMbJy4w+mDkyP/KQXnrrT8SBx54SGyxxdbx0EP/jOOP/0I88cSootaC7rrrzoYQ/e1Ye+11GwLwQbHyykPi+uuvzcF+7tyFe5hTsD355BMa6q3SUP/g+OAH14k///lPOdy2DPVtqaurixNP/HI8+ui/GsL5bg0Bedd44YXn4pRTvhrPP/9cUavRK6+MzeH95ptvbPi71m4I9wfF5ptvEf/7v3+LY475z3j11VeKmhGjRz8T/+//fSFGjXosH4ODDjostt32Y/nflY5Xk9Gjn47jjvv8YusBQCVpz9w8vXql3srGUYg9aTM3ECw5Q9x7KEPc29Y0xD0599wLYqeddsm3U3A+8cT/l3uyf/KTn8cmm/xHLk89yquttuBx+ve/X4xjjz0qNtxwo7jkkp8UpY096Oef/518+9JLr4zNNtsi306/+4wzTol77vl7nHbat+LTn94nlzf/t5xxxtnxyU9+Ot9OUu/2TTddH0ce+YX4whca66Qe9AMO2DvXS/WbpN7zN94YFzvuuHN85zvfi5qaxg/M22+/Nfe277XXvnHqqWfksiT9259//tm46KLL4z/+Y9OiNI0oeLwhjH8xB+wf/OCSXHbppSPj+uuvi1/+8rr40IfWy2VN3nprarzvfYPy7csuuyh++9trF1tvUQxx71qGaFY27VfZtF95pe9Fc8aNjnl1s4uShdXWNn7u1tXV531P0Ku2d1QPW3+Zv5eVgSHudCY96NCGFJ6bwnlSVVUVn/jEnvn2s88+k/dJy3CerL32OrnH+fHHH8s91y1tvfW274XzJP3uY475f/n2HXfcnvfNpd77pr+7SbpGvk+fPvHXvy5cvy1f+crX3wvnyW67fSKqq6sX+P88++zo3GO/9977LhDOk403HhHbb79j/POf98e0adOK0sYTJyussELeN9c8dKcPgWRx9QCg0qRwPm3M6Da3Wa89l7fWHuuu26JOWABtE9ChDeut9+Hi1nxDhqyS9/PDacTYsWNyL3TquU7XVadrwNN233335HD+1ltvFTXnGzGisfe9uTSUfODAFeOFF54vSuZLvfVNAbdJCrUpuI8b91rMmLH4M7rpd6+66rDiXqMU1gcPXrnh//NOURLx9NNP5v2bb76Zr31vuaVr01OP/6uvjs31dt55l+IEw5ExcuQF8fe//29MmTIlP9Zce+sBAEBPJaBDG/r1axzO1FzqbU7mzGlcYm7s2Jfji188Ivd6f+ADa8Z++x2Qh5yn3u11120cxl3XyhnkQYNWKm4taPDgwXkit5baqr/SSivn/fTpiw/o/fsv/P9J0v+p+XXvb7/deELhnnv+L375y58ttD3xxOP58aZr31Ov+sUXXx4f/vD68ac//T7OOOMbsffeu8fXvnZ8/PvfL+Q6STrJcOmlVyy2HgAA9FQCOiyDG274bQ7HZ575nRg58tI8hDxdD56WZ0sTv7Vl6tTWe44nT56c1zBvqa36U6ZMyvu2wvfSaPpdp556Ztx778Ntbs2H6G+++ZY5pN9++11x0UWX5eHxaTK6k046IWbMmFHUan89AADoiQR0WAZNS45tt90Oed/k3XdnxXPPjS7uLezxxxee3f2ll/4d77zzdqy77oeKkvnS5GwtJ/VLE6uNGfNyDBu2equ9/Utrgw02zvt0HfqSSjPeb7XVR+KUU07PE9VNmDB+gevbm7S3HgAA9CQCOiyD979/1bxPk8E1SUH6yit/vNB66c09+OD9uee4SRpi/tOfXp5v7777J/O+uZdffin+8pc/F/capeHm7777buyxx8L1l8VGG23cENI3yjPO33vv3UXpfPX19XmptCbpdmvXwDf9/3v37pP3o0Y92upQ/Jb1AACgpxLQYRl85jOfzddwn3nmN/LyaT/60Q/jC184oiFM37bAEPCWtt12uzjppK/Eued+O6644rL8M+ma7/Qzn/rUXkWt+dKyZv/1X+c1/D2n5vD/la8cm5dYW2uttePQQ/+zqNVxzj77vDwh3mmnfT0vq3bxxRfm/1taCu4zn/lkXHDBd4uaEb/97a9jn30+meumOpdddnFepi1NkjdixKYNYX/DXO+6634de++9x2LrAQBATyWgs1R611bndcc7dVt75cattccatvRv6mxpwrMf/vDSPCHcXXf9Tw7mq666akOI/uVCM6Y3t/POuzaE7XPixRefjxtu+E1MmjQhPve5QxpC+MV5pvOWNtpok7jwwh/lejfe+Js8qVoK8mkt9TRcvKOtvvoa8ctfXhuHHXZkHkqfJnW79dY/5Z787bbbPr7+9VOLmukkxf6xww475eH2t9zyh4bt97ln/0tf+ko+Nk3/n333TfV2Xmw9AADoqXrNa3lhKz3CxInTFrqmubkJExqvrV5llYXX+O7Tp6YhTC245FdnaFpmbFH/7rlz5zWEvvriXvmkYeOpp/3007/dak95S4888nCccMJxeVb4NPFcJauubgzgc+bMnzF+SS3qecnyN3hw41wHkycvftUAykf7VTbtV159+9ZG/djH89rfbenbt3fez5zZc9YGH7Dm+lEzfETD/7muKKlc3fX1l75bDxmy8OTEdC1dViyxFIDTm21nb+nvXdzfXeZwDgDdSTphn8JpT99qa6ujqroqqmt8rQaWnR70HmpZetC7Skf0wHY1Peh60CuZHrzKpv0qWxnbL4XT0WOnxuy6OUVJzzRsSP9YYeLo6DXhxahv41joQa9setDpTAJ6DyWgdw0BXUCvZAJeZdN+la2sAf3xFyfFUy9OLEp6pjQPzppzx0T1pJcE9GYE9PIT0MvJWBzoRCmU33vvw+0K58nmm2+Z61d6OAcAABZPQAcAAIASENABAACgBAR0AAAAKAGTxPVQJomjs5kkrvKZZKyyab/K1tXtl5ZUq6rqVdxrlJYXe33i9BjXsPVkaRb3gVOejfo3XjBJXDMmiSs/k8SVk4DeQwnodDYBvfIJeJVN+1W2rm6/NGP7nHGjY17d/ICZ1v5+Z8bsmDaj8gPYslj5A8Mj3pkQ9eOeF9CbEdDLT0AvJwG9hxLQ6WwCeuUT8Cqb9qtsZQjo9WMfj2ljRhclETW11TF+8owYP2VGUdIzbbLbnlE9c7KA3oKAXn4Cejk1fmMGAAAAulSPDeh//OMf46yzzor99tsvNt544/jwhz8cd955Z/Howp5//vk4/vjjY+utt45NN9009t9//7jtttuKRxc2bty4OOWUU2LbbbeNESNGxF577RXXXnttm73WU6dOjXPOOSd22GGH/O/Zfffd4/LLL4+6up49bAwAAKCn6LEB/ZJLLonrr78+B+khQ4YUpa175pln4sADD4x77703dtlllzj44INzoD7xxBPjV7/6VVFrvvQ7DzjggLj11ltjm222icMPPzyqqqpyAD///POLWvNNmzYtDj300Bzg119//TjyyCPzvyn9G7/2ta8VtQAAAOjOemxAP/fcc+Ouu+6K+++/Pz772c8Wpa07++yzY+bMmXHFFVfE9773vTj11FPjD3/4Q6yzzjoxcuTIeOONN4qajX7wgx/EhAkT4rvf/W5cfPHFuSf9pptuymH96quvjieeeKKo2ejKK6+MF154IffQ//SnP42TTz45h/V99tkn9+r/5S9/KWqWQ5rJNV2L1tlb+nsX93enxyvNeeedHR/72JYxbtzrRQkAANAT9diA/tGPfjRWW2214l7bUnB+7LHH8lD19DNNBgwYEMcee2y8++678ac//akojXjnnXfijjvuiLXWWisPg29SW1sbJ5xwQr5944035n0yd+7cuPnmm9/7fU3SpA2phz7tm9cvg7TMSprJNU0W05lbXbG19lja0r+p5RIwAAAAlcIkcYvx0EMP5X3zcN5ku+22y/umOsmjjz6arxtPgb6lzTbbLPr16xcPP/xwURLx0ksvxcSJE2PzzTePFVZYoShtNGzYsPjgBz8YjzzyyCJnXO8KaZmVNJNrZ27TxzZurT2WtuZLvwAAAFQay6w1uPTSS+Oyyy6LH//4x7HrrrsWpY0uuOCC+MUvfpHrpInbWkqhe+jQofHXv/4137/mmmvy0PbTTjstjjrqqFzWXJosLoXyJ598Mt9Pw+yPO+64fJ36mWeemcuaS4+lOnfffXe8//3vL0qX3eKWuvr3v1+M+vq5DX/nGkXJfGkYeerJTmG5MzX1jbf1hO0/fP2oHT4i3n23viipDN/97rfjtttuiZtvvjWGDVv8qI5K1atowGV5x3nzzVejpqYq1l57naKEztQ0QmXu3B7/sVGRtF9l6+r2S+/hM198LGa99lxR0qChbNzE6TFp6syioGfacJdPRNWMyRET/t3ml5SO+AysNCusvl70XWfTbvF/7s7vn03L4FIeWmQx0gRuSRqC3ppUnoa1N1lc/f79++ce9lmzZuX7TfVTeWuaypvq0TnuuOMvccwxR8UnPvHx2HHHbWPffT8Vp5769Rg16tH8eGrDG274TZxwwpdir732iO233zo+/end46yzvhljx47JdVp6/fXX4vTTT4nddtshdtll+/ja146P559v9kWnmT//+U+x7bab5/0//nFvfP7zR+R/x6c+tUv813+dn+dEaM1dd/1PHH/8F2PXXXfI9Y844uD4wx9+Vzw636xZM+Oqq34Rhx56QMO/5WP53/O5z+0b55777Rg/fnxRq/31AACAZacHvcGietBTr3a6BjzN1t7asPXtt98+5syZ0xCi/pHv/+QnP8kTw6VJ6NJM7i0ddNBBeRj8qFGj8pD2dP16mkTuS1/6Uqsztp900kl5Nvi0pFualK6jTJw4bZHD5idMeC3vV1ll9bxvLk3Glq75TsPKO1Ov4uzlvDbOXg5Yc/2oGT6iIbwu29J0N97427jkkgtj9dXXiG222bbh/9uv4XhNiMcee6QhjH8mjjzyCzFp0sTYb7894z/+Y7P4wAeGR//+A2LMmJfi/vvvy5cx/Pzn1+SfbzJhwvj4wheOyD/3sY/tEGuttXY899zoePLJJ+JDH1ovB/8bb/zTez3oqUf9/PO/0/D82jH++c/7G35mx4a2GBoPPfRAHt2w0067NDzHLsh1m/z4x5fEb37z6/w7ttxym/z8euihf8bLL/+74bl4cHz1qycVNSOfKLj77rtik03+IzbccONIcx2MG/daPPzwg/Ff/3VJw/9r0yWq1x5NZ2gXN3pjURb1vGT5Gzy48YTh5MnT857Kov0qW1e3X2uf/TW11TF+8owYP2VGUdIzbbLbnlE9c3LUj3s+6uvmFKUL6tu3d97PnNlzLsfrqO9lZdBd3z/T97ohQ1rvVKTr6EFfjIEDB+Z9817y5lLPdlOdpOl2Wz3e06dPzxPGNV1v3p76SVs98nS822+/JYfhq676bXz966fGl770lfjWt86Jm266pSGUN550GThwxfjd726NH/3oijjllNPj+ONPiAsuuCguuujHMWPGjLj66l/kek2uuOKyHM6/+tWT4/vfHxnHHfflGDnysjjwwIPf65VvTQr8P/rRlXHOOd+Lr3zlxPjZz66ONddcK/7+9/+N8ePfLGpFDvEpnO+4485x7bU3xamnnpED+a9+dV0O+Tfe+Jt4+unGyyrSc/mee/6voXyn+MlPfp5/75e//LU477wfxJ/+dEest96Hl6geAADQMQT0xRg+fHjejxmz8LDlNLlbCmNNdZJF1U897a+++mq76yepPPXIpuvc6Sy9oqamNqqrq4v7jdJZxhVXfF++3bt37xgyZJV8u7ktttgqPvjBteNf/5o/ceDs2bPz0POhQ98f++47f2b/5NBD/zOH/bbsvvsnY+ONNynupev/+8Quu+yeRz8899yzRWnEzTffEGmt/VNOOSP/25rU1NTEF7/4pXz7f/7nb3mfrqNKP99yUsIk/f6+ffvm2+2tBwAAdAwBfTG22mqrvG8awt7cfffdl/dNdZI0aVzqIU/rq7eUhranQL/lllsWJZFnaR8yZEieqb3puvQm48aNyxPKpRneUzikc3z847vmYdyHH/65+NnPfpKHc7dsm+SZZ56Kb33rtHx9+k47fSSvZZ62F198IfeWN3nllbENIf3d2HDDjXJgbi6F3DTEvS0f+tDCvdSpdz+ZNm3+qI6nn34q+vXrH7/73fXx859fucD2t781TmD4yiuNJ4HScPxttvloQ/lf4stfPiauv/7aGD366XwCqbn21gMAADqGgL4Y6667bmy66aY5cDcP6WlI+pVXXpl7Evfee++itHHIeprt/eWXX46bbrqpKG2cVCxd6540Xx899Xrut99+7/2+5i666KLcg9natewsP6lX+xvfOKMhPK8QV1318zyZW5qcLV0T/vbbb+c66Xr044//Qtx33z2x/vobNLTpQXHUUV/M26qrDsvt3aTp8oVBg1bK+5ZWWmlwcWthrU0e2NSzn9bQb/L222/lwP7LX/5soe3Xv/5lrtN8Yrl0/fphhx0Z48a93vC8vChfH7/PPp/IQ/Ob/9721gOAnqymqldUN2zpuvzWtrwUTcPW2mPdcauuETFgafXYSeLSxG//+te/8u1nnnkmRo8eHdtss02stlrjJF0pRDf1dKfHDznkkNxzuOeeezYErUFx5513xtixY+Ob3/xmHHnkkblek9TznUL1pEmTYo899og11lgj7rnnnvx3HHHEEXHGGWcUNRulAHfggQfGiy+myb92ivXWWy//29KWJq1Lk9d1NJPEtc/kyZPi0UcfybOpP/hgmqxth3wN+cknnxAPPPCPfG12mkCtuUMP3T/GjHk57r23cb371KP+n/95UEPbfrwh8P5XLmvuhBOOi0ceebjVSeJOP/3b8alP7ZXLmrT2WDqBkE4W/f73t+X7SyLNOp+G5Kfe95dffilfa/65zx1aPDpfe+u1xSRxlc8kY5VN+1U2k8SVV5okrs/sKfH604/nJWpbU1V8Bs5dhs/ASpE+71d+3wqxwmofMklcyZkkrpx67OmtFH5///vf5y0F5+Sf//zne2UpfDfZYIMN4vrrr28IZx/Lwfy6666LFVdcMUaOHLlQOE+GDRsWN9xwQw7zDzzwQFx11VU53J911lkNoer0otZ8aQK49DvTSYCnn346fvnLXzYEkQnx1a9+Nfei03UGD145dtllt7jwwktijTWG51BeX1+fl0x73/vet1A4T4H+tddeLe41SrO89+7dJw9DTz/bXOrVbmuptSWxwQYb5Zni33zzjaKk/YYPXzNfG58mrUvuvffuvG+pvfUAoCeaM3dePlnR2pbWik9ba491t21ZTsQDPTigf//7349nn322zS0NO28u9Wpffvnl8dBDD+Ul0n73u9/lAN6W1BN/4YUX5oD+xBNP5KXSDj300HymqjWpV/7b3/527ml/8skn429/+1scf/zxC0z4Red48MEHFrrOOl2DPnPmjHwNebos4f3vXzUPd089yU3SsPaRI/9roRCe2nDnnXfJs67//vfzL3tIrr32qnjnncZh88ti//0PzPvvf/+77w2pby6dUEjD1JMpU6bka8lbmjx5ct6nkwlJe+sBAAAdo/rsBsVtepAZMxa9DueMGY0TkPXvv/AM47W11TH3rTdj9lvzJ0LrDO+d3GhjZH7vQUOi6n3vb3N4WXt9/vOH5SD9zDNPNmxPx733/j1ff50C9sEHHx5bbbVNHvVw551/zROwvfHG63mZs8sv/1FeLz2F99STfvTRxxS/MfIEcXfe+Zc8m3ta/zwNe7/uuqvj//7vf/L64qnnOy251rTsXupVv+eev+clzlpOFNfaY6mXPp0guP32W+PWW/8QL7zwfO6xTxO8XXPNVfGTn/wo/z1rr71uvPrq2Ib/4+Hx97/flZdeS9sdd9weV155WT4xkZaCW2OND7S7XnulWeGTZbmqZlHPS5a/+ev4Vv5wxZ5I+1W2rm6/1j7707Dt6Q3/numzevZz6v3rrBc1c2bF2w3fE9LxaE11VTHEvY3L9LqT/n1r81YzcOUO+V5WBt31/TN9t+7XT2dg2QjoPdSyBvR5M6ZE74Er5VDcedsq0ft9Dfu0tfJ4r9reUTVwyDJ/EKTZy9Ns+88++0w88shDDUH1lTyPQFoP/YADDs51hg9fK9Zc84Px73+/kK/Lfu2112KzzbaIs88+L08c98Yb4xYI6Gmytx122DkmTHgzX2+ewnOajf3ss8+PsWNfbgjUzy1TQE+23HLrPNQ9nSR47LF/xaOP/ivPg7DSSivFZz/7udhxx4/nJdNSz3e6Xj3NNJ9mok//nilTJseIEZvGaaedFZtvvkX+fe2t114CeuUT8Cqb9qtsAnp5CegLEtArh4BeTj12krieblkmievTJw3zbn2o/vLU1IO+qH93+uB7990Fh5hTDiaJq3wmGats2q+ymSSuvJomiXvlyVHx5qTW26e2pnEFlrr67r9U6dCV+sXQwf1MElcB0ndrk8SVT4+9Bp2llwJwerPt7C39vYv7u4VzAACgUgnoAAAAUAICOgAAAJSAgA4AAAAlIKADAABACQjoAAAAUAICOgAA0CHSGujVVb3yOvlp/fy0RF+lb2ml37S19tjitrQ8MSwJ66D3UItbB33ixHExZ059DB26xnvrj3e1jlhHm66zrO2Xnq/jx7/a8HuqY8iQ1YpSOpN1tCub9qts1kEvL+ugL2jt1QfFrNn18b4PbhCzh24Y4yZW/ntOOtGQ1NUtWfv1bvi59YcPyksBl5F10MtJQO+hFhfQp06dGLNmTW/4QB4QK644uBQhXUCvbMvSfulk0TvvTGl4Ts6I/v1XjIEDVyoeoTMJeJVN+1U2Ab28BPQFpYA+fVZd9B72oZg0YN146sWJxSOVq2/f3nk/c+bsvG+vjdYZEiPWWVlAZ4kI6D3U4gL63LlzGr4EjI/6+tkNL96qqKrq+qshmk4SeMpWpqVtv7lz5zb8TGOor6npHSutNDT3otP5BLzKpv0qm4BeXgL6ggT0+QR0lkbXpy5KqaqquuHLwNBYYYX+DWGoHNfO1NRU5Y3KtLTtl55/vXv3jRVXXDlWXnlV4RwAgG5LD3oPtbge9DLS+1PZtF/l04aVTftVNj3o5aUHfUF60OfTg87S0B0JAAAAJSCgAwAAQAkI6AAAAFACAjoAAACUgIAOAAAAJSCgAwAAQAkI6AAAAFACAjoAAACUgIAOAAAAJSCgAwAAQAkI6AAAAFACAjoAAACUgIAOAAAAJSCgAwAAQAkI6AAAAFACAjoAAACUgIAOAAAAJSCgAwAAQAkI6AAAAFACAjoAAACUQK95DYrb9CATJ06LSmv6wYP75/3kydPznsqi/SqfNqxs2q+ydXX79e1bG/VjH49pY0YXJRE1tdUxfvKMGD9lRlHSM22y257RZ/aUeOXJUfHmpNbbp7amOu/r6ufkfXe29uqDYvqsuhjyHx+LWf1WjXETK/89p7bhuZ7U1S1Z+w0b0j9Wa9ha+7m5c+fFu+/WF/e6Rq9evWLIkAHFPcpCQO+hBHQ6m/arfNqwsmm/yiagl5eAvqCmgD50851i3oyp8dZblf+eU13dK+/nzFmy784D+tXGwH69Y+6cuUVJo161vaN62Poxc2ZdUdI1BPRyEtB7KAGdzqb9Kp82rGzar+P06VMTVVWNX9g7S7+GL/nJjBmz876zpR7Ed18eFTNeebYoaQgtDcfgjUkz4s0e/pwS0BfUPKDXvzU+nnnwoeKRyrW07Td0pX4xdHC/qG/Rgz5gzfWjZvgIAZ1WCeg9lIBOZ9N+lU8bVjbt13FSb/LosVNj9hIOd10WSzvEtqOkobq9xz8dk55/qiiJGDigT0ybMbvNUNpTCOgLEtDnE9BZGgJ6DyWg09m0X+XThpVN+3WcFNAff3FSPPXixKJk+evbt7EHfebMrulB32idIbHytBcaQuhjRcn8ICagC+jNCejzCegsDbO4AwAAQAkI6AAAAFACAjoAAACUgIAOAAAAJWCSuB7KJHF0Nu1X+bRhZdN+7dOeJdTSjOqvT5we4xq2zlKGWdxr33w6Rj80f8Ivk8Q1MkncgkwSN59J4lgaAnoPJaDT2bRf5dOGlU37tU+aoX3OuNExr67t2dKrqqvinRmzY9qMzvtyXV3deNJgzpyu+exe+QPD491J4xYIWwJ6IwF9QQL6fAI6S0NA76EEdDqb9qt82rCyab/2SQG9fuzjMW3M6KJkYTW11TF+8owYP2VGUbL8dXXASyG0ZdgS0BsJ6AsS0OcT0FkarkEHAACAEhDQAQAAoAQEdAAAACgBAR0AAABKQEAHAACAEhDQAQAAoAQEdAAAACgBAR0AAABKQEAHAACAEhDQAQAAoAQEdAAAACgBAR0AAABKQEAHAACAEhDQAQAAoAQEdAAAACgBAR0AAABKQEAHAACAEhDQAQAAoAQEdAAAACgBAR0AAABKQEAHAACAEhDQAQAAoAQEdAAAACgBAR0AAABKQEBfArNnz45rr702PvvZz8bWW28dW265Zey9995x5ZVXxrRp04pa8z388MNx1FFHxRZbbBGbbbZZHH744fGPf/yjeHRhzz//fBx//PH5d2+66aax//77x2233VY8CgAAQHcmoC+BL3/5y3HOOefErFmzYp999on99tsvl48cOTKH7xTgm9xzzz1xxBFHxBNPPBGf/vSnc9h+6aWX4uijj4477rijqDXfM888EwceeGDce++9scsuu8TBBx8cU6dOjRNPPDF+9atfFbUAAADorgT0dnr00Ufj73//e+41/9Of/hRnnHFGnH766fHHP/4xdthhh3j66afj7rvvznVTUD/rrLOitrY2fvOb38R3vvOdXP/mm2+OwYMH5/szZszIdZucffbZMXPmzLjiiivie9/7Xpx66qnxhz/8IdZZZ518AuCNN94oagIAANAdCejt9Prrr+f9dtttF9XV1fl20qtXrxzQkylTpuT9/fffn+vvtdde8aEPfSiXJUOHDo3DDjssJk6cGHfddVdRGvHCCy/EY489Fttuu2189KMfLUojBgwYEMcee2y8++67+aQAAAAA3ZeA3k6pJztJ15DPmTMn307mzZuXh7PX1NTka82Thx56KO+bh+0mKeAnTXWSJa0PAABA99OrIWDOK26zGOn68zRJ3LrrrpuDc+o9T73l48aNizPPPDNfl56ccMIJ8de//jUPad9oo41yWZPUy/6Rj3wk//wvfvGLXHbBBRfk25deemnsvvvuuay5NMFc6n1Pv7OjzJkzt7hVOaqqeuX93LmespVI+1U+bVjZtF/7NHy0x8wXH4tZrz1XlLSioc64idNj0tSZRUEnaGy+iC5qvg13+UTUvzUxnnv44aIkYviwFWPGzLqY2JnHoYTSsek9a2q8+tSoto9FF7dfZ2p6XgzdYseFnjMVaynbb+VBfWPYkP4L/dwKq68XfdfZNMqQwqqr9deWjRZZAum68pNOOilP9nbVVVflydueffbZ2G233XLobtI0o3saot5SU9k777yT98mi6iepvHl9AAAAuh896O00d+7cPNFbmoE9TQ638847R1VVVR7efu6550bfvn3fmwQuLa2WhsL/7W9/i+HDhxe/oVF9fX3uVR8xYkTceOONuSz1vqfbKfCn69Bb2n777fOw+kUt0bakJk6clofnV5LBg/vn/eTJ0/OeyqL9Kp82rGzar3369q2N+rGPx7Qxo4uShdXUVsf4yTNi/JQFJ3xdnmprGue/qauff5ldZ9pktz2j/q3x8cyD8y+5W3v1QTF9Vl28OalnP6fSsekze0q88uSoNo9FV7dfZ2p6XgzdfKeFnjOVamnbb+hK/WLo4H5RX7fgzw1Yc/2oGT4iZs6sK0q6RhoNPGRI6x2EdB096O1000035QD+9a9/Pa+DnoL4oEGD8kRw3/zmN/Mw99SrngwcODDvW+v1biprqpMsqn6Setib1wcAAKD7EdDbKfWUJ1tttVXeN7fNNtvk/ejRjWfbm3rNx4wZk/fNjR07Nu+b96wvqn6a8T0tydayJx4AAIDuRUBvp7S2edK0lFpzTWW9e/fO+6YQ39qQ9Pvuuy/vmwf9Ja0PAABA9yOgt1OaST352c9+9l5YT9I15T/5yU/y7aYQna4jX2211eKWW26J559/Ppcl48ePj2uuuSZWXnnlfA17kzQr/KabbppnhG8e0tPQ9iuvvDL69OkTe++9d1EKAABAdySgt9MhhxwSa665Zh7qnq47T0uupcnh0tJqaeK49ddfPw444IBcN/Wkf+c734m6uro4+OCD49vf/nacd955sd9++8XkyZPj7LPPjn79+uW6TVJZmmjuuOOOy9e0p6XX9t1333jxxRfzde+rrrpqURMAAIDuSEBvpxVXXDFuuOGGOProo/P9dPv666/Ps7sfe+yxeX30FLCb7LDDDnH11VfHxhtvHH/605/yJHNrrbVWXu+8tbXON9hgg/z7Pvaxj8Wdd94Z1113Xf47R44cGUceeWRRCwAAgO7KMms9lGXW6Gzar/Jpw8qm/drHMmuts8xa2yyztiDLrM1nmTWWhh50AAAAKAEBHQAAAEpAQAcAAIASENABAACgBAR0AAAAKAEBHQAAAEpAQAcAAIASENABAACgBAR0AAAAKAEBHQAAAEpAQAcAAIASENABAACgBAR0AAAAKAEBHQAAAEpAQAcAAIASENABAACgBAR0AAAAKAEBHQAAAEpAQAcAAIASENABAACgBAR0AAAAKAEBHQAAAEpAQAcAAIASENABAACgBAR0AAAAKAEBHQAAAEpAQAcAAIASENABAACgBAR0AAAAKAEBHQAAAEpAQAcAAIASENABAACgBAR0AAAAKAEBHQAAAEpAQAcAAIASENABAACgBAR0AAAAKAEBHQAAAEpAQAcAAIASENABAACgBAR0AAAAKAEBHQAAAEpAQAcAAIASENABAACgBAR0AAAAKAEBHQAAAEpAQAcAAIASENABAACgBAR0AAAAKAEBHQAAAEpAQAcAAIASENABAACgBAR0AAAAKAEBHQAAAEpAQAcAAIASENABAACgBAR0AAAAKAEBHQAAAEpAQAcAAIASENABAACgBAR0AAAAKAEBHQB6oD59aqJv31pbi622tjp6VfUqjhIAdK5e8xoUt+lBJk6cFpXW9IMH98/7yZOn5z2VRftVPm1Y2Vq2Xwqjc8aNjnl1s/N9GvVZZbWom/xGvP3vp4uShdU0hPjxk2fE+CkzipLlr7amOu/r6ufkfWfbZLc9o/6t8fHMgw8VJRFrrz4ops+qizcn9ez3hHRs+syeEq88OarNY9HV7deZmp4XQzffaaHnTKVa2vYbulK/GDq4X9TXLfhzA9ZcP2qGj4iZM+uKkq7Rq1evGDJkQHGPshDQeygBnc6m/SqfNqxsrQX0+rGPx7Qxo/N9Gg3ebMeGUDFBQG9BQG+bgL4gAX0+AZ2lYYg7ALBY1TVVOZh2962q4Qtr2lp7rGmrruqVv9gCQEfTg95D6UGns2m/yqcNK9uy9qCnYDrprVkxZ87coqR7Gv7RXXMP+utPjSpKFjZwQJ+YNmN2p/Yc60EvLz3oC9KDPp8edJaGgN5DCeh0Nu1X+bRhZeuIgN7Zw7q7QmtBtKWuCKYCenkJ6AsS0OcT0FkahrgDAABACQjoAAAAUAICOgAAAJSAgA4AAAAlIKAvoT//+c9x+OGHx1ZbbRX/8R//EXvssUecdtppMW3atKJGo3HjxsUpp5wS2267bYwYMSL22muvuPbaa9ucmG3q1KlxzjnnxA477BAbb7xx7L777nH55ZdHXV3XTh4BAABA5xDQ22nu3Llx6qmnxte//vUYP3587L333nHYYYflMH333XcvENBTOD/ggAPi1ltvjW222SYH+qqqqhzAzz///KLWfOlnDz300Bzg119//TjyyCNjyJAhcckll8TXvva1ohYAAADdmYDeTr/4xS/iD3/4QxxxxBFx++23x7e+9a3cQ/7DH/4w7r333hg6dGhRM+IHP/hBTJgwIb773e/GxRdfnOvddNNNOaxfffXV8cQTTxQ1G1155ZXxwgsvxPHHHx8//elP4+STT85hfZ999ok777wz/vKXvxQ1AQAA6K4E9HaYOXNmDtHDhw/PveipN7y5dL+p7J133ok77rgj1lprrdh///1zWVJbWxsnnHBCvn3jjTfmfZJ65m+++eYYMGBAHHvssUVp47qEJ554Yt43rw8AAED3JKC3w3333Rdvv/127LrrrjFnzpzcg54C+w033BCvv/56UavRo48+mq8bT9eet7TZZptFv3794uGHHy5KIl566aWYOHFibL755rHCCisUpY2GDRsWH/zgB+ORRx5p89p1AAAAugcBvR2efPLJvE+95Ona83Rd+MiRI/Mw9zSZ23//93/nx5OxY8fm/Zprrpn3zVVXV8caa6zxXp1kUfWTVD5jxox83TsAAADdV695umYX66yzzorrr78+B+xNNtkkvv3tb+fh7qm3/Mwzz4w33ngjrrjiith5553z/qKLLopzzz03TxTX0kEHHZR/btSoUbnH/JZbbsnXnB933HF5SHtLJ510Up5s7rbbbot11lmnKF12c+bMLW5VjqqqXnk/d66nbCXSfpVPG1a2lu3Xq+HuzBcfi1mvPZfvL1ZD/XETp8ekqTOLgu5pw10+EfVvTYznmo12a2n4sBVjxsy6mNiZx6Kx+SK66OXX2nHpkuNQQunY9J41NV59alTbx6KL268zNT0vhm6x42JfSxVjKdtv5UF9Y9iQ/gv93Aqrrxd919k0ypDCqqv115aNFmmHpnMYvXv3jssuuyw23HDDfM349ttvH+edd15+7Fe/+lXeL+n5jqb66VpzAAAAei496O1wwQUX5Fnc09rn11xzTVHaKB2+tM55nz598rXl6fE0e3taG/2oo44qas2X1kNP1503DZu/6667cu95Woot9ca3lB5LddJSbu9///uL0mU3ceK0JT6Z0NUGD+6f95MnT897Kov2q3zasLK1bL++fWujfuzjMW3M6Hx/cWpqq2P85BkxfsqMoqR72mS3PaP+rfHxzIMPFSULW3v1QTF9Vl28OanzXgu1NdV5X1c/J+87W2vHpSuOQxmlY9Nn9pR45clRbR6Lrm6/ztT0vBi6+U6LfS1ViqVtv6Er9Yuhg/tFfd2CPzdgzfWjZviImDmzrijpGqmDcMiQAcU9ykIPejukidqS1GveUnpi9+/fP2bNmpXvp6HvyZgxY/K+uTTB3KuvvvpenWRR9ZNUniaWa76MGwAAAN2PgN4Oaf3y5N///nfeNzd58uSYMmVKrL766vl+mqk9Lal2//335/vNpWvP04RvW265ZVHSGP6HDBmSZ2pvCvlNxo0bl3vb0wzvhsADAAB0bwJ6O6SZ1NOyaak3O61Z3iQNEb/44ovz7T322CPvBw4cmGd2f/nll+Omm27KZUlaeu3SSy/Nt5uvj55mht9vv/1i2rRpeem25tJkc+nvaG2yOQAAALoXAb2dzj777Bg0aFCcfvrpcfzxx+fr0g8++OA8u/t6660XxxxzTFEz4pRTTolVVlklL8OWlmS78MILcyh/4IEH4ogjjsjXrDd37LHH5hnaL7/88nz7hz/8YRxyyCHxxz/+Ma+9/olPfKKoCQAAQHcloLfTWmutFb/73e/yJG+PPfZY/PrXv85rkx999NHxm9/8ZoHr04cNGxY33HBD7LnnnjmUX3XVVfn687RcWwr4LaWfve6663Iof/rpp+OXv/xlTJgwIb761a/mXnQAAAC6P7O491Bmcaezab/Kpw0rm1nc28cs7q0zi3vbzOK+ILO4z2cWd5aGHnQAAAAoAQEdAAAASkBABwAAgBIQ0AEAAKAEBHQAAAAoAQEdAAAASkBABwAAgBIQ0AEAAKAEBHQAAAAoAQEdAAAASkBABwAAgBIQ0AEAAKAEBHQAAAAoAQEdAAAASkBABwAAgBIQ0AEAAKAEBHQAAAAoAQEdAAAASkBABwAAgBIQ0AEAAKAEBHQAAAAoAQEdAAAASkBABwAAgBIQ0AEAAKAEBHQAAAAoAQEdAAAASkBABwAAgBIQ0AEAAKAEBHQAAAAoAQEdAAAASkBABwAAgBIQ0AEAAKAEBHQAAAAoAQEdAAAASkBABwAAgBIQ0AEAAKAEBHQAAAAoAQEdAAAASkBABwAAgBIQ0AEAAKAEBHQAAAAoAQEdAAAASkBABwAAgBIQ0AEAAKAEBHQAAAAoAQEdAAAASkBABwAAgBIQ0AEAAKAEBHQAAAAoAQEdAAAASkBABwAAgBIQ0AEAAKAEBHQAAAAoAQEdAAAASkBABwAAgBIQ0AEAAKAEBHQAAAAoAQEdAAAASkBABwAAgBIQ0AEAAKAEBHQAAAAoAQEdAAAASkBABwAAgBIQ0AEAAKAEBHQAAAAoAQEdAAAASkBABwAAgBIQ0AEAAKAEBHQAAAAoAQEdAAAASkBABwAAgBIQ0JfB2WefHR/+8Ifz9vbbbxel840bNy5OOeWU2HbbbWPEiBGx1157xbXXXhvz5s0raixo6tSpcc4558QOO+wQG2+8cey+++5x+eWXR11dXVEDAACA7kpAX0r//Oc/47e//W3069evKFlQCucHHHBA3HrrrbHNNtvE4YcfHlVVVTmAn3/++UWt+aZNmxaHHnpoDvDrr79+HHnkkTFkyJC45JJL4mtf+1pRCwAAgO5KQF8KM2bMiDPOOCN23XXX3NPdmh/84AcxYcKE+O53vxsXX3xx7km/6aabcli/+uqr44knnihqNrryyivjhRdeiOOPPz5++tOfxsknn5zD+j777BN33nln/OUvfylqAgAA0B0J6EvhwgsvjLfeeivOOuusomRB77zzTtxxxx2x1lprxf7771+URtTW1sYJJ5yQb9944415n8ydOzduvvnmGDBgQBx77LFFaUSvXr3ixBNPzPvm9QEAAOh+BPQl9OCDD8Z1110Xp556agwdOrQoXdCjjz6arxtP1563tNlmm+Vh8Q8//HBREvHSSy/FxIkTY/PNN48VVlihKG00bNiw+OAHPxiPPPJIm9euAwAAUPkE9CUwc+bMPLQ9Be/mPeMtjR07Nu/XXHPNvG+uuro61lhjjffqJIuqn6TyNKx+/PjxRQkAAADdTa95umXb7dxzz83Xkd9yyy3xgQ98IJelyd9Sr/pDDz0UK664Yi674oor4qKLLsr100RxLR100EG5l33UqFG5xzz9vnTN+XHHHZeHtLd00kkn5cnmbrvttlhnnXWK0mUzZ87c4lblqKrqlfdz53rKViLtV/m0YWVr2X69Gu7OfPGxmPXac/n+YjXUHzdxekyaOrMo6J423OUTUf/WxHiu2Ui3loYPWzFmzKyLiZ15LBqbL6KLXn6tHZcuOQ4llI5N71lT49WnRrV9LLq4/TpT0/Ni6BY7Lva1VDGWsv1WHtQ3hg3pv9DPrbD6etF3nU2jDCmsulp/bdlokXZKQ9KvueaaPKN6Uzhvy5Ke82iqn641BwAAoGfSg94O9fX18alPfSoGDRqUl1ZLy6U1aa0HPQX5NHv7aaedFkcddVQuay6th56uO3/yySfz/bvuuiv3nqffdeaZZ+ay5tJjqc7dd98d73//+4vSZTNx4rSKu6Z98OD+eT958vS8p7Jov8qnDStby/br27c26sc+HtPGjM73F6emtjrGT54R46fMKEq6p0122zPq3xofzzz4UFGysLVXHxTTZ9XFm5M677VQW1Od93X1c/K+s7V2XLriOJRROjZ9Zk+JV54c1eax6Or260xNz4uhm++02NdSpVja9hu6Ur8YOrhf1Nct+HMD1lw/aoaPiJkz64qSrpE6B4cMGVDcoyz0oLdDuv57zJgxeUj6BhtsEB/+8Iff21I4T7baaqt8/9VXX43hw4fnsvQzLc2ZM2eBOsmi6iepPE0s19akdAAAAFQ+Ab0devfunSeFa21bZZVVcp20Xnm6379//zxTe1pS7f7778+PNZeuPU+Bf8sttyxKIs/SPmTIkDxT+6xZs4rSRuPGjcu97WmGd0PgAQAAui8BvR3SRG7nnXdeq1sK10kamp7ur7TSSjFw4MDYfffd4+WXX86TyjVJS69deuml+XYK803SkPn99tsvpk2bFldeeWVR2ihNNpeGorc22RwAAADdh4C+nJxyyim5d/1b3/pWnljuwgsvzKH8gQceiCOOOCJGjBhR1Gx07LHH5hnaL7/88nz7hz/8YRxyyCHxxz/+MXbdddf4xCc+UdQEoLP06VOTr9XuDlsahJW2pvu1tdVRVV2Vry1vz1Zd1ctILgBYzkwSt4xamySuyeuvvx4jR46Me++9N6ZPn57XMz/44INz8G7tS87UqVPjkksuiTvvvDOmTJkSw4YNi3333Te+8IUv5GH2HckkcXQ27Vf5emIbpiA7euzUmN1igp9KlAJ5Ulf8X9LSP73HPx2Tnn8q31+cgQP6xLQZs7v9hGAmiWudSeLaZpK4BZkkbj6TxLE0BPQeSkCns2m/ytdTA/rjL06Kp16cWJRUrr59G0/0zpw5O+83WmdIrDzthYZQ8Vi+vzg9JYwJ6K0T0NsmoC9IQJ9PQGdpGOIOAAAAJSCgAwAAQAkI6AAAAFACAjoAAACUgIAOAAAAJSCgAwAAQAkI6AAAAFACAjoAAACUgIAOAAAAJSCgAwAAQAkI6AAAAFACAjoAAACUgIAOAAAAJdBrXoPiNj3IxInTotKafvDg/nk/efL0vKeyaL/KV4lt2KdPTVRV9SruLbna2up4feL0GNewVbr0f0nq6ubk/bAh/aP2zadj9EMP5fuLs/bqg2L6rLp4c1L3fg1vstueUf/W+HjmwbaPS1cci9qaov3qG9uvs7V2XHrKc2Jx0rHpM3tKvPLkqDaPRVe3X2dqel4M3Xynxb6WKsXStt/QlfrF0MH9or54320yYM31o2b4iJg5s64o6Rq9evWKIUMGFPcoCwG9hxLQ6Wzar/JVYhv27Vsbc8aNjnl1s4uSJVNVXRXvzJgd02Z07ZeojlBd3XiiYs6cxvf+lT8wPN6dNK7dX54F9PkE9EYCeiMBfUEC+nwCOktDQO+hBHQ6m/arfJUa0OvHPh7TxowuSpZMTW11jJ88I8ZPmVGUVK6WXzDbE0SbE9DnE9AbCeiNBPQFCejzCegsDdegAwAAQAkI6AAAAFACAjoAAACUgIAOAAAAJSCgAwAAQAkI6AAAAFACAjoAAACUgIAOAAAAJSCgAwAAQAkI6AAAAFACAjoAAACUgIAOAAAAJSCgAwAAQAkI6AAAAFACAjoAAACUgIAOAAAAJSCgAwAAQAkI6AAAAFACAjoAAACUgIAOAAAAJSCgAwAAQAkI6AAAAFACAjoAAACUgIAOAAAAJSCgAwAAQAkI6AAAAFACAjoAAACUgIAOAAAAJSCgAwAAQAkI6AAAAFACAjoAAACUgIAOAAAAJSCgAwAAQAkI6AAAAFACAjoAAACUgIAOAAAAJSCgAwAAQAkI6AAAAFACAjoAAACUgIAOAAAAJSCgAwAAQAkI6AAAAFACAjoAAACUgIAOAAAAJSCgAwAAQAkI6AAAAFACAjoAAACUgIAOAAAAJSCgAwAAQAkI6AAAAFACAjoAAACUgIAOAAAAJSCgAwAAQAkI6AAAAFACAjoAAACUgIAOAAAAJSCgt9Obb74Zv/rVr+LII4+MHXfcMTbeeOPYfvvt46STTornnnuuqLWg559/Po4//vjYeuutY9NNN439998/brvttuLRhY0bNy5OOeWU2HbbbWPEiBGx1157xbXXXhvz5s0ragAAANBdCejt9Otf/zq+973v5RC9ww475KC+4YYbxp///Of47Gc/Gw888EBRs9EzzzwTBx54YNx7772xyy67xMEHHxxTp06NE088MQf9ltLvPeCAA+LWW2+NbbbZJg4//PCoqqqKc845J84///yiFgAAAN2VgN5OqUc79Wb/9a9/je9+97tx8sknx5VXXhkXXXRRzJ49O84+++yiZqN0f+bMmXHFFVfkYH/qqafGH/7wh1hnnXVi5MiR8cYbbxQ1G/3gBz+ICRMm5N998cUX5570m266KYf1q6++Op544omiJsDy1adPTfTtW7vQ1qtX5K21x8q61dZWR1V1VdQ07Jdmq67q1fB/bvhPAwB0gl7zjJ9eZnvssUe8/PLLcf/998fgwYPjhRdeiD333DM++tGPxi9/+cuiVqM//vGP8Y1vfCMPjT/mmGNy2TvvvJOHta+++ur5BEBzDz/8cBx66KHxuc99Lvemd5SJE6dV3ND5wYP75/3kydPznsqi/SpHCrajx06N2XVzipJGKewmdS3Ky2zYkP7Re/zTMen5p4qSJTNwQJ+YNmN2vDmp8p+3tTVF+9U3tt8mu+0Z9W+Nj2cefCjfX5y1Vx8U02fVdYtjsSjtOS5dcSxatl9na+249JTnxOKkY9Nn9pR45clRbR6Lrm6/ztT0vBi6+U5L9B5TZkvbfkNX6hdDB/eL+hafmwPWXD9qho+ImTPripKukU5ADxkyoLhHWehB7wC1tbV5X1NTk/cPPdT4RpQCekvbbbdd3jfVSR599NGGL7x1OaS3tNlmm0W/fv1yUAfoLCmcP/XixAW2Z8dMyVvL8jJv4yZObwjYdTF+yoyl2ubNdQ4bAOg8etCX0ZNPPpmvQU+Txv3ud7/LZRdccEH84he/iEsvvTR23333XNZcCt1Dhw59r7f8mmuuyUPbTzvttDjqqKNyWXNpsriXXnop/10dZc6cucWtylFV1TjMdK4vzBVJ+1WONKL7X6PH5zDeXNNI70r61PjwmivFSm8/F6899XhRsmSGD1sxZsysi4lTZxYlFaxppH7Rfhvu8omof2tiPNfOE8Dd6lgsQnuOS5ccixbt19laOy495TmxOOnY9J41NV59alTbx6KL268zNT0vhm6x4xK9x5TaUrbfyoP65pFcLX9uhdXXi77rbFqKz9Pqav21ZaNFlsH06dPjm9/8Zh4ekq5JbzJt2rS8HzCg9SEjqTwNa2+yuPr9+/fPPeyzZs0qSgAAAOhu9KAvpTQxXFpC7Z577omvfOUr8eUvf7l4JOLMM8+MG2+8Mc/W3tqw9bQ825w5c+If//hHvv+Tn/wkTwx37rnn5pncWzrooIPyMPhRo0bFCiusUJQuG9eg09m0X+VI16A//uKkPES8ub59e+f9zJmz874SbLTOkFh52gvxypOPFSVLpjtdY+sa9PZxDXrrXIPeNtegL8g16PO5Bp2loQd9KdTX1+fl0lI4P/rooxcI58nAgQPzvnkveXOpx7ypTtJ0u6knvaXUU5+uc++ocA4AAED5COhLKIXzr3/963HnnXfmtcrT8mktDR8+PO/HjBmT981NnDgxZsyY8V6dZFH1U0/7q6++ukB9AAAAuh8BfQmksJyWSEuTu6Vh52koe2u22mqrvG8awt7cfffdl/dNdZI0aVzqIU/LtLWUhranQL/lllsWJQALa2vt8qXZ0nJqaVKbNDy8+ZYmXEtby/Iyb+n/0b/h/wQAUAkE9HaaO3dunmX9z3/+c+y///5x9tlnF48sbN11141NN900B+7mIT0NYb/yyisbvkj3ib333rsobRzinmZ7T2up33TTTUVp5Inh0kzwSfo7AdqSZsmfM2501I99fJm3d18eldcOT9duN9/SbOhpa1le5m3gnCnRNPs8AEDZmSSunX70ox/Fj3/841hxxRXjsMMOa/gyvPC5jX333TfWWGONfPuZZ56JQw45JPe677nnnjFo0KA8LH7s2LF55vcjjzwy12sybty4PEHcpEmTYo899si/J13jPnr06DjiiCPijDPOKGp2DJPE0dm03/KVer5TuJ42ZnRRsvRqaqtj/OTGdcCbq8RJjpZ0IrSWTBI3n0ni5jNJXCOTxDUySdyCTBI3n0niWBp60Nvp9ddfz/u33347Lr/88rjssssW2l577bVcJ9lggw3i+uuvj4997GM5mF933XU53I8cOXKhcJ4MGzYsbrjhhhzmH3jggbjqqqtyuD/rrLPi9NNPL2oBAADQXQno7fT9738/nn322UVu22yzTVG70XrrrZfD/EMPPZSXSPvd736XA3hbVltttbjwwgtzQH/iiSfi1ltvjUMPPTSf3QIAAKB7E9ABAACgBAR0AAAAKAEBHQAAAEpAQAcAAIASENABAACgBAR0AAAAKAEBHQAAAEpAQAcAAIASENABAACgBAR0AAAAKAEBHQAAAEpAQAcAAIASENABAACgBAR0AAAAKAEBHQAAAEpAQAcAAIASENABAACgBAR0AAAAKAEBHQAAAEpAQAcAAIASENABAACgBAR0AAAAKAEBHQAAAEpAQAcAAIASENABAACgBAR0AAAAKAEBHQAAAEpAQAcAAIASENABAACgBAR0AAAAKAEBHQAAAEpAQAcAAIASENABAACgBAR0AAAAKAEBHQAAAEpAQAcAAIASENABAACgBAR0AAAAKAEBHagYffrURN++tctlGziwT6y44goVu62wQm1U11RHTe2yb9VVvaJXr17FUQcAoLP0mteguE0PMnHitKi0ph88uH/eT548Pe+pLB3RfilIzxk3OubVzS5KOk5VdVVMn1Ufc+fOLUoqy8BV14jZk9+I158aVZQsvYED+sS0GbPjzUkLtlVtTXXe19XPyftKsMlue0b9W+PjmQcfKkqWzNqrD2p4XtQtdCwqUcv2W9Jj052OxaK057h0xbHo6tdfa8elpzwnFicdmz6zp8QrT45q81hU4vvn0mp6XgzdfKdlev8tk6Vtv6Er9Yuhg/tFfd2CPzdgzfWjZviImDmzrijpGulk/JAhA4p7lIWA3kMJ6HS2jgro9WMfj2ljRhclHSf1HI+fPCPGT5lRlFSWZQ2izbX1pVtAr2wCevu057h0xbEQ0MsrHRsBfb6m54WALqCzdAxxBwAAgBIQ0AEAAKAEBHQAAAAoAQEdAAAASkBABwAAgBIQ0AEAAKAEBHQAAAAoAQEdAAAASkBABwAAgBIQ0AEAAKAEBHQAAAAoAQEdAAAASkBABwAAgBIQ0AEAAKAEBHQAAAAoAQEdAAAASkBABwAAgBIQ0AEAAKAEBHQAAAAoAQEdSqhPn5ro27e2W229ekXeWnusvVttbXX0qmr4JQAA0A31mteguE0PMnHitKi0ph88uH/eT548Pe+7sxRG54wbHfPqZhclla+2tibv6+rq835p9Flltaib/Ea8/e+ni5KOU9MQ/sdPnhHjp8woSirLJrvtGfVvjY9nHnyoKFl6a68+KKbPqos3Jy34Wqutqc77uvo5eV8JlvW4tHUsKlHL9lvSY9OdjsWitOe4dMWx6OrXX2vHpac8JxYnHZs+s6fEK0+OavNYVOL759Jqel4M3XynDvtc6mpL235DV+oXQwf3i/q6BX9uwJrrR83wETFzZl1R0jV69eoVQ4YMKO5RFgJ6DyWgl1sK6PVjH49pY0YXJZWvb9/eeT9z5tKfdBi82Y4NH/YTBPRWLGsQba6tL90CemUT0NunPcelK46FgF5e6dgI6PM1PS8EdAGdpWOIOwAAAJSAgA4AAAAlIKADAABACQjoAAAAUAICOgAAAJSAgA49WHVNVZ69vDO2SMuXN2ytPdberapXr7y19tiybtVVvfJspgAA0FUEdOjBUiCd9NasxuXFlvM2buL0vLX2WHu3WXVz8tbaY8u6TZtV33gSAQAAuoiADj3cnDlz89rfy3ubNHVm3lp7rL3bu7PnNGz1rT62rNu8ufOKIwIAAF1DQC+Zhx9+OI466qjYYostYrPNNovDDz88/vGPfxSPAgAA0F0J6CVyzz33xBFHHBFPPPFEfPrTn479998/XnrppTj66KPjjjvuKGp1H3361ETfvrXt3tLlwWlr7bHuttXWVkevKuOtAQCgJ+k1r0Fxmy40e/bs2GOPPWLy5Mlx0003xYc+9KFcPn78+PjMZz6TrxX+29/+Fv369cvly2rixGnR1U2fguiccaNjXt3somTRamtr8r6urj7vl1YKvmWfDKz3ysOifvIbMW3s6KJk+UgTo70xaUa8OXl6UbL81NZU531d/Zy8Xxqb7LZn1L81Pp558KGipOOsvfqgmD6rLt6ctPyPxfLQkcemrWPREW3Y2Zb1uFT686K5lu23pMemOx2LRWnPcemKY9HVr7/WjktPeU4sTjo2fWZPiVeeHNXmsajE98+l1fS8GLr5Th32udTVlrb9hq7UL4YO7hf1dQv+3IA114+a4SNi5sy6oqRrpO/DQ4YMKO5RFgJ6Sfz973+PY445Jg444IA499xzi9JGl19+eVxyySUxcuTI2HPPPYvSZVOWgF4/9vGYNqZ9IbRv3955P3Nm+wJ9W9KM3WlitHTtdVkN/+iuDR9qE+L1p0YVJcvHwAF9YtqM2Z3y5aojvpwsa9halEr/otmRx6atY1GJXzCX9bh0pwDSsv2W9Nj0lDDWnuPSFceiq19/rR2XnvKcWJx0bAT0+ZqeFwK6gM7SEdBL4sILL4yf/exncdFFF8WnPvWporTRqFGj4sADD4yDDz44zj777KJ02Uxq+ADp+oBeE/WvPh3TX32hKFm0FVaozftZDW/6y6KmpiomTJ0ZExu2stpgx91izjsT47lHHi1Klo81h70vZrxbFxMmzyhKlp+O+HKyPI9LZx6L5aEjj01bx6ISv2Au63Gp9OdFcy3bb0mPTXc6FovSnuPSFceiq19/rR2XnvKcWJx0bPrUTY3XRj/V5rGoxPfPpdX0vBiyyXYd9rnU1Za2/YYM6hurNGz19Qt2CvVfY92oWWPDhoC+bKNCl1UK6Cuv3L+4R1kI6CVxwgknxF//+te4+eabY6ONNipKG02ZMiU+8pGPxHbbbRe/+MUvilIAAAC6E5PElcS0adPyfsCAhYeZNJW98847eQ8AAED3I6CXRNNAhtYmLyv7hGYAAAAsOwG9JAYOHJj3rfWSN5U11QEAAKD7EdBLYvjw4Xk/ZsyYvG9u7Nixed9UBwAAgO5HQC+JrbbaKu//8Y9/5H1z9913X9431QEAAKD7EdBLYtttt43VVlstbrnllnj++eeL0ojx48fHNddcEyuvvHLsvPPORSkAAADdjWXWSuTuu++O4447Lvr16xd77rln9O7dO26//faYOHFi/OhHP4rdd9+9qAkAAEB3I6CXzMMPPxyXXXZZjBo1Kt9Pa6Iff/zx8dGPfjTfBwAAoHsS0AEAAKAEXIMOAAAAJSCgAwAAQAkI6AAAAFACAjoAAACUgIAOAAAAJSCgAwAAQAkI6AAAAFACAjoAAACUgIAOAAAAJdBrXoPiNnSqN998M26//fb4v//7v3jppZdi0qRJsdJKK8XWW28dxx57bKy33npFzcV7/vnn46KLLoqHH344Zs+eHeuuu24cffTR8alPfaqoQUfrqPb7+Mc/Hq+99lpxb0HHHXdcnHjiicU9OtLbb78dP/rRj+Lxxx+PV199Nd8fMmRIfOhDH4qjjjoqPvrRjxY1F8/rr/N1VPt5/ZXL2WefHb/5zW/y7YceeihWXHHFfHtxxo0bFyNHjox77703pk+fHmuuuWYcdNBBccghh0SvXr2KWixvS9N+hx9+eDz44IPFvQXttddeceGFFxb36Ggf/vCHi1sLO/fcc+OAAw4o7i1a+uz78Y9/nN+P586dGxtvvHF86UtfWqLPUWhOQKfLpA+dn/3sZ7HWWmvlUPe+970vf9H/+9//HrW1tfmxj3zkI0Xttj3zzDP5S8icOXNizz33jEGDBsXf/va3eOWVV+Kb3/xmHHnkkUVNOlJHtV8KCClc/Od//mdRMt+WW24Z2267bXGPjjRmzJj4zGc+E5tuumkMHz48t9/48ePjzjvvjHfeeSdOOumkOOaYY4rabfP66xod1X5ef+Xxz3/+M7dD3759Y8aMGe0OeCmcpyCRTpLusccesfrqq+egPnr06DjiiCPijDPOKGqyPC1t+zUF9C9/+ctFyXwpQO6+++7FPTpaOr7p9bLvvvsWJfOl98aNNtqouNe2e+65J3dK9OvXL38G9u7dO3deTJw4MZ9E1X4sDQGdLnPHHXfE4MGD85fA5tIb29e+9rX44Ac/GH/5y1+K0rZ97nOfi1GjRsUvfvGL985WTps2LQ488MDcs5T+nlVXXTWX03E6qv3Sh2Dyv//7v3lP50iBOr3919TUFCWNUshLX1ZSaHvggQeif//+xSOt8/rrGh3Vfl5/5ZAC3d577x3rr79+vPXWWzmwtTfgff3rX48///nPcd5558X++++fy+rq6uLzn/98Do033XRTbLLJJrmc5WNZ2q8poD/77LNFCZ0lBfTUwfDrX/+6KFkyacRYOik2efLk/DpLI5iS9D6cTqCm0SvphHUK77AkXINOl0lnFVuGu+STn/xk7pVNw6bTm96ivPDCC/HYY4/lXp7mQ4kGDBiQz2i+++678ac//akopSN1RPvRdaqrqxcKd8nQoUNjs802y1880mUMi+L113U6ov0ojzQiKQW7s846qyhpnzRaIp0ES++5TeE8SaOYTjjhhHz7xhtvzHuWn6VtPyrb/fffH6+//nq+FKEpnCfpffiwww7Lveh33XVXUQrtJ6BTSunLRdLaF9Dm0hnqpHk4aLLddtvlfVMdOk97269JChO///3v44orrsjX7z333HPFI3S2qVOn5uvoUshOQ/8WxeuvfJak/Zp4/XWt1Ht63XXXxamnnpq/2C+JRx99NPeWt3YpQjpRk3ru0vWxLD/L0n7NpVEQV155Ze7NTaOS6BxptFE6iZXe/9J+7NixxSOL5zOQ5UVAp3SefPLJfC1zmmRjccPDmt5I04Q4LaUJk9KXkyV5s2XZLUn7NZkwYUKcdtppeaKxNMlOOhudJlhJH5wsX+m61UsvvTQuueSSOPPMM/MIiDTyIbVDnz59ilqt8/rresvSfk28/rrOzJkz8zXiKWA37wFvr0W9BtMoizXWWMNrcDla1vZrLl2qkCb6S5OTpUuEDj744HjjjTeKR1le0lwN6b0zvf+lfRodmNo0nbhcnEW9/tLcIInXH0tDQKdU0uyzaWKpdN3OySefXJS2LV3rmqTeotak8jQEkM6xpO2X7LfffnHNNdfkoWL/+te/ck/ENttsk6+JTRNdsXylgHfZZZfF5ZdfnnsPZs2aFd///vdzSFscr7+utyztl3j9da0f/vCH+QTJOeecU5QsmcW9BtMcBKmHPT0v6HjL2n7JLrvsEv/93/8d9913X75kKI1mSdc1P/LII/HFL34x6uvri5p0tDRPQ3rfTL3caSTEz3/+8zyPQLqe/Pzzzy9qtW1Rr7+mMp+BLA0BndJIZyu/+tWv5uGVaTbT1obstdQ0x6FlZLre0rRfkuputdVWecK59IG2xRZb5C8r6UPy7rvvzsN1WX7ScnhpcqKnnnoqT2aTrptLJ1cuuOCCokbbvP663rK0X+L113XS0PN0ciRNqvmBD3ygKF0y5vntOh3Rfkla6WL77bfPo47SDPAbbrhhnv17xx13zJ+n6XXN8vGNb3wjRowYkUf7pZUwPvaxj8VVV10V73//++OGG27IJ18WZVGfgT4XWRYCOqWQzhCn9XbTchVp/eTWlhtpzcCBA/O+rTOU6exmUx2Wn6Vtv7akZUrSDKhJ6lFg+UvzBaQheanX9NBDD82zsqde1UXx+iuPpWm/tnj9LX/pPfP000/P4SAthba0ml5fTT15LaVRTWlOkBVWWKEooSN0VPstStOQea/BzpWCehrmnlbKWNwJykV9BjaV+QxkaQjodLn0QZeuvUrr96blRtJEK+3VdI1PWhO4pTR7Zlr6pKkOy8eytN+irLTSSnlvaGbna5rwZnGT23j9lVN7229RvP6Wr/TaSK+bNBnYBhtskJd7atrSUNskjWxI99NyhW1Z1GswBYz0s16DHa+j2m9R0qiWJF3nTudq7/vfol5/Tdeee/2xNAR0ulT6ApGGGP31r3+Ngw46KE/QsSTSB2Dyj3/8I++bS9dzJU116HjL2n6LkiabS1ZbbbW8p/M0Lc+VJplaFK+/cmpv+y2K19/ylUYppB7S1rZVVlkl19lnn33y/UWtZZ9mak895K2NlkgzvKcg2dpymCybjmq/RWl6DbZ3NQY6Tnvf/3wGstzMgy7SEO7mnXzyyfPWW2+9eaeffvq8uXPnFo+0bsyYMfNeeOGFebNnzy5KGh144IHzPvzhD89reDMsSubNe+edd+Z98pOfnLfJJpvMGzduXFFKR+qI9vv3v/89b9KkScW9+f75z3/O22ijjeZtscUW86ZOnVqU0pGefvrp/Dpp6fXXX5+300475XYdNWpUUer1VzYd0X5ef+V02GGH5fZ76623ipJGr732Wm7DhtBdlDQ68cQTc/0bb7yxKJmX2/mII45Y6HnA8rck7Zder629Rz7//PPztt5663kbbLBBfp3S8Z555pl506ZNK+7Nd8stt+T2+/jHPz6vrq6uKJ2X2y5tzb377rv5/XbEiBHznnvuuaJ03rw333xz3rbbbpu36dOnF6XQfr3SH0VWh06VJkH58Y9/nCfnSBMbVVUtPKBj3333zcvEJA1vltHwARf/8z//815Z0vAmG4ccckjuzd1zzz1j0KBBebh1Gl6UZhRPE7DQ8Tqi/X71q1/lWXDThHKpLC0LlSbFSWee0zW1P/jBD/KyUXS88847L89Um2bsTsc+9cKloZj/93//lyf8+8IXvhCnnHJKUdvrr2w6ov28/sopXSqUhkmnSxSaL1XZVH711Vfndm/SEPDigAMOyDP6p9m/U1um+UDS8lHp+ui0ZBSdZ0naL71XnnDCCdEQxvNSXam3PQ2XTq/j9J6alj/0Hrp8pPfQ3/3ud/n9r6mnPE22mVazSEuE/uxnP1tg9Em6XCFJk3I2lybTPO644/LPpM/ANLri9ttvz5d5pe9J6Xp2WFICOl0mffCk5UQWpfkHWVsBIUlfKi+++OL8gZi+nK677rp5srL0Zsny0RHtlyZgSSEhfSim2VJT26288sp5SFha/iRd28fykWYgTl9O0jDY8ePHx7vvvpuvu0uTHn3uc5/LMwg35/VXLh3Rfl5/5bSkAT15/fXX8xra9957b54YLoW9tI52OnlmNunOtSTt9/LLL8cVV1wRTzzxRL40JV1vnl7Hm266aT65koI7y0cK1mmm9nSSOZ3cSvPprLrqqnkOj3SCs+W1420F9CS9H6flLtOcBMlGG20Uxx9//HvzgcCSEtABAACgBEwSBwAAACUgoAMAAEAJCOgAAABQAgI6AAAAlICADgAAACUgoAMAAEAJCOgAAABQAgI6AAAAlICADgAAACUgoAMAAEAJCOgAAABQAgI6AAAAlICADgAAACUgoAMAAEAJCOgAAABQAgI6AAAAlICADgAAACUgoAMAAEAJCOgAAABQAgI6AAAAlICADgAAACUgoAMAAEAJCOgAAABQAgI6AAAAlICADgAAACUgoAMAAEAJCOgAAABQAgI6AAAAlICADgAAACUgoAMAAEAJCOgAAABQAgI6AAAAlICADgAAACUgoAMAAEAJCOgAAABQAgI6AAAAdLmI/w8XTzOurFch6AAAAABJRU5ErkJggg==\" width=\"800\">"
      ],
      "text/plain": [
       "<IPython.core.display.HTML object>"
      ]
     },
     "metadata": {},
     "output_type": "display_data"
    }
   ],
   "source": [
    "data.loc[data['sentiment'] == 'happiness', 'content'].str.len().apply(np.log1p).hist(label = 'happiness', alpha = .5)\n",
    "data.loc[data['sentiment'] == 'sadness', 'content'].str.len().apply(np.log1p).hist(label = 'sadness', alpha = .5)\n",
    "plt.legend();"
   ]
  },
  {
   "cell_type": "markdown",
   "metadata": {},
   "source": [
    "Hence, we have created a new dataframe with only two sentiments - _happiness_, _sadness_.<br>\n",
    "\n",
    "**Observation**\n",
    "\n",
    "- The dataset is nearly balanced with almost equal number of _happiness_ and _sadness_ records.\n",
    "- The distribution of lengths for _happiness_ and _sadness_ contents is also almost the same."
   ]
  },
  {
   "cell_type": "markdown",
   "metadata": {},
   "source": [
    "### Preprocessing the data"
   ]
  },
  {
   "cell_type": "markdown",
   "metadata": {},
   "source": [
    "The input provided to Sentiment analysis is not all useful. While recent Deep Learning models have promoted shifting all feature engineering to these models, NLP practitioners still prefer cleaning up the input before passing it through any pipeline.<br>When we take a look at the `content` feature of our dataset, we can see that there are a lot of stop words(auxiliary verbs, prepositions, special characters like punctuations and other symbols which we need to eliminate. In order to bring uniformity, we will convert the entire text to lower case."
   ]
  },
  {
   "cell_type": "code",
   "execution_count": 19,
   "metadata": {},
   "outputs": [
    {
     "data": {
      "text/plain": [
       "1    Layin n bed with a headache  ughhhh...waitin o...\n",
       "2                  Funeral ceremony...gloomy friday...\n",
       "6    I should be sleep, but im not! thinking about ...\n",
       "8              @charviray Charlene my love. I miss you\n",
       "9           @kelcouch I'm sorry  at least it's Friday?\n",
       "Name: content, dtype: object"
      ]
     },
     "execution_count": 19,
     "metadata": {},
     "output_type": "execute_result"
    }
   ],
   "source": [
    "data['content'].head()"
   ]
  },
  {
   "cell_type": "code",
   "execution_count": 20,
   "metadata": {},
   "outputs": [],
   "source": [
    "#Converting the text to lower-case\n",
    "data['content'] = data['content'].apply(lambda x: \" \".join(x.lower() for x in x.split()))\n",
    "\n",
    "#Removing Punctuation, Symbols,\n",
    "data['content'] = data['content'].str.replace('[^\\w\\s]',' ')\n",
    "\n",
    "#Removing Stop Words using NLTK\n",
    "from nltk.corpus import stopwords\n",
    "stop = stopwords.words('english')\n",
    "data['content'] = data['content'].apply(lambda x: \" \".join(x for x in x.split() if x not in stop))"
   ]
  },
  {
   "cell_type": "code",
   "execution_count": 21,
   "metadata": {},
   "outputs": [
    {
     "data": {
      "text/plain": [
       "1              layin n bed headache ughhhh waitin call\n",
       "2                       funeral ceremony gloomy friday\n",
       "6    sleep im thinking old friend want married damn...\n",
       "8                         charviray charlene love miss\n",
       "9                          kelcouch sorry least friday\n",
       "Name: content, dtype: object"
      ]
     },
     "execution_count": 21,
     "metadata": {},
     "output_type": "execute_result"
    }
   ],
   "source": [
    "data['content'].head()"
   ]
  },
  {
   "cell_type": "markdown",
   "metadata": {},
   "source": [
    "To avoid our model to go through same words in different forms, example 'had' and 'having' we should convert all the words to their root form, i.e the variants of a word within the text (for example plural forms, past tense, continuous forms etc) must all be converted to the base word it represents.<br>\n",
    "This is known as `Lemmatisation` which is different from `Stemming` in the way that the former refers to a corpus of words (which is nothing but a dictionary) like Wordnet (in case of NLTK) and Word(in case of textblob) to find the root form of a given word whereas the latter just reduces the word to short form without any reference. For example - lemmatising 'given' will give us 'give' whereas stemming of the same would result in 'giv' which doesn't have any meaning in English.<br>\n",
    "Along with that, I have added code to revert repetition of letters in a word with the assumption that hardly any word has letters repeated more than twice, consecutively. Though not very accurate, it can help in some corrections."
   ]
  },
  {
   "cell_type": "code",
   "execution_count": 22,
   "metadata": {},
   "outputs": [],
   "source": [
    "#Lemmatisating 'content'\n",
    "from textblob import Word\n",
    "data['content'] = data['content'].apply(lambda x: \" \".join([Word(word).lemmatize() for word in x.split()]))\n",
    "\n",
    "#Correcting Letter Repetitions\n",
    "import re\n",
    "def de_repeat(text):\n",
    "    pattern = re.compile(r\"(.)\\1{2,}\")\n",
    "    return pattern.sub(r\"\\1\\1\", text)\n"
   ]
  },
  {
   "cell_type": "markdown",
   "metadata": {},
   "source": [
    "Next consideration is the idea that if a word is appearing only once in the entire sample of data, then it most likely has no influence in determining the sentiment of the text. Hence we can remove all the rarely occurring words from the dataset which are generally proper nouns and other insignificant words with respect to the current context."
   ]
  },
  {
   "cell_type": "code",
   "execution_count": 23,
   "metadata": {},
   "outputs": [],
   "source": [
    "# Code to find the top 10,000 rarest words (modify according to your dataset) \n",
    "# appearing in the data\n",
    "freq = pd.Series(' '.join(data['content']).split()).value_counts()[-10000:]\n",
    "\n",
    "# Removing all those rarely appearing words from the data\n",
    "freq = list(freq.index)\n",
    "data['content'] = data['content'].apply(lambda x: \" \".join(x for x in x.split() if x not in freq))"
   ]
  },
  {
   "cell_type": "code",
   "execution_count": 24,
   "metadata": {},
   "outputs": [
    {
     "data": {
      "text/plain": [
       "1                    n bed headache ughhhh waitin call\n",
       "2                       funeral ceremony gloomy friday\n",
       "6    sleep im thinking old friend want married damn...\n",
       "8                                  charviray love miss\n",
       "9                          kelcouch sorry least friday\n",
       "Name: content, dtype: object"
      ]
     },
     "execution_count": 24,
     "metadata": {},
     "output_type": "execute_result"
    }
   ],
   "source": [
    "data['content'].head()"
   ]
  },
  {
   "cell_type": "markdown",
   "metadata": {},
   "source": [
    "There are few other obstacles like sarcasm detection, spelling mistakes which need to be taken care of while doing sentiment analysis. Again, we will skip that to keep the model simple. "
   ]
  },
  {
   "cell_type": "markdown",
   "metadata": {},
   "source": [
    "### Encoding the target variable"
   ]
  },
  {
   "cell_type": "markdown",
   "metadata": {},
   "source": [
    "Our goal is to predict the sentiment from the given content. Henceforth, we will pick `sentiment` as our output label.<br><br>\n",
    "Also, we can’t have text in our data if we’re going to run any kind of model on it. So before we can run a model, we need to make this data ready for the model.<br>\n",
    "To convert categorical text data into model-understandable numerical data, we will use the `Label Encoder` class. The preference for `Label Encoder` over `One Hot Encoder` is purely because of the fact that we just have two labels(_happiness_ and _sadness_). In order to label encode the `sentiment` column, all we have to do is to import the `LabelEncoder` class from the `sklearn` library, fit and transform the `sentiment` column of the data, and then replace the existing text data with the new encoded data.<br><br>\n"
   ]
  },
  {
   "cell_type": "code",
   "execution_count": 25,
   "metadata": {},
   "outputs": [],
   "source": [
    "#Encoding output labels 'sadness' as '1' & 'happiness' as '0'\n",
    "from sklearn.preprocessing import LabelEncoder\n",
    "labelencoder = LabelEncoder()\n",
    "y = labelencoder.fit_transform(data.sentiment.values)"
   ]
  },
  {
   "cell_type": "code",
   "execution_count": 26,
   "metadata": {},
   "outputs": [
    {
     "data": {
      "text/plain": [
       "array([1, 1, 1, ..., 0, 0, 0])"
      ]
     },
     "execution_count": 26,
     "metadata": {},
     "output_type": "execute_result"
    }
   ],
   "source": [
    "#Output label 'y' is a numpy array consisting of label-encoded values\n",
    "y"
   ]
  },
  {
   "cell_type": "markdown",
   "metadata": {},
   "source": [
    "### Splitting the dataset into train and test"
   ]
  },
  {
   "cell_type": "markdown",
   "metadata": {},
   "source": [
    "Our data didn't come with separate training and test dataset(s), hence we will split our data into the same. Input to the model is `content` feature, while `sentiment` is the target variable."
   ]
  },
  {
   "cell_type": "code",
   "execution_count": 27,
   "metadata": {},
   "outputs": [],
   "source": [
    "#Splitting into train and test data in 90:10 ratio\n",
    "from sklearn.model_selection import train_test_split\n",
    "X_train, X_test, y_train, y_test = train_test_split(data.content.values, y, stratify=y, \n",
    "                                                    random_state=38, test_size=0.1, shuffle=True)"
   ]
  },
  {
   "cell_type": "markdown",
   "metadata": {},
   "source": [
    "Note that if we are not setting `shuffle = True` in `train_test_split`, then we can do the same prior to this step in the following way: \n",
    "```python\n",
    "#Shuffling the dataframe on its indexes\n",
    "data = data.reindex(np.random.permutation(data.index))\n",
    "data.head()\n",
    "```"
   ]
  },
  {
   "cell_type": "markdown",
   "metadata": {},
   "source": [
    "## Feature Extraction"
   ]
  },
  {
   "cell_type": "markdown",
   "metadata": {},
   "source": [
    "Now that the dataset is clean, the next step we would like to make sure that the input fed to the machine learning model doesn't contains any text as we know that our machine learning models are mathematical models, thereby needing numerical data.<br>\n",
    "We will look at the following methods to achieve that,\n",
    "- TF-IDF\n",
    "- Count Vectors"
   ]
  },
  {
   "cell_type": "markdown",
   "metadata": {},
   "source": [
    "### Term Frequency-Inverse Document Frequency (TF-IDF)"
   ]
  },
  {
   "cell_type": "markdown",
   "metadata": {},
   "source": [
    "This is a technique to quantify a word in documents, we generally compute a weight to each word which signifies the importance of the word in the document and corpus. This method is a widely used technique in Information Retrieval and Text Mining.<br>\n",
    "For example “Deep Learning methodologies work well for NLP problems”. Its easy for us to understand the sentence as we know the semantics of the words and the sentence. But how will the computer understand this sentence? The computer can understand any data only in the form of numerical value. So, for this reason we vectorize all of the text so that the computer can understand the text better."
   ]
  },
  {
   "cell_type": "code",
   "execution_count": 28,
   "metadata": {},
   "outputs": [],
   "source": [
    "# Extracting TF-IDF parameters\n",
    "from sklearn.feature_extraction.text import TfidfVectorizer\n",
    "tfidf = TfidfVectorizer(max_features=1000, analyzer='word',ngram_range=(1,3))\n",
    "X_train_tfidf = tfidf.fit_transform(X_train)\n",
    "X_test_tfidf = tfidf.fit_transform(X_test)"
   ]
  },
  {
   "cell_type": "markdown",
   "metadata": {},
   "source": [
    "### Count Vectors"
   ]
  },
  {
   "cell_type": "markdown",
   "metadata": {},
   "source": [
    "This is another way we can represent text data numerically: one-hot encoding (or count vectorization).<br>\n",
    "The idea is very simple, we will be creating vectors that have a dimensionality equal to the size of our vocabulary, and if the text data features that vocab word, we will put a one in that dimension. Every time we encounter that word again, we will increase the count, leaving 0s everywhere we did not find the word even once.<br>\n",
    "The result of this will be very large vectors, if we use them on real text data, however, we will get very accurate counts of the word content of our text data. Unfortunately, this won’t provide use with any semantic or relational information, but that’s okay since that’s not the point of using this technique.<br>"
   ]
  },
  {
   "cell_type": "code",
   "execution_count": 29,
   "metadata": {},
   "outputs": [],
   "source": [
    "# Extracting Count Vectors Parameters\n",
    "from sklearn.feature_extraction.text import CountVectorizer\n",
    "count_vect = CountVectorizer(analyzer='word')\n",
    "count_vect.fit(data['content'])\n",
    "X_train_count =  count_vect.transform(X_train)\n",
    "X_test_count =  count_vect.transform(X_test)"
   ]
  },
  {
   "cell_type": "markdown",
   "metadata": {},
   "source": [
    "## Build, Train, Evaluate the Model"
   ]
  },
  {
   "cell_type": "markdown",
   "metadata": {},
   "source": [
    "Now our data is model-ready. Since this is basically a classification task, we will discuss the implementation of four machine learning classifiers, namely, Multinomial Naive Bayes Classifier, Linear SVM, Logistic Regression, and Random Forest Classifier. "
   ]
  },
  {
   "cell_type": "markdown",
   "metadata": {},
   "source": [
    "### Evaluation Metrics\n",
    "\n",
    "It is a measure of how our model performs. In general, performance on all metrics is correlated. But, some algorithms may end up doing better or worse in different situations. The practical coding of any metric looks almost exactly the same. The difficulty comes in how to make the choice, not in how to implement it. There are two categories of evaluation metrics, _error metrics_ and _scoring metrics_. Below is a list of metrics for classification problems,<br><br>\n",
    "**Classification Metrics**<br>\n",
    "- Error metrics (Accuracy, Precision, Recall)\n",
    "- Scoring metrics(F1 Score)"
   ]
  },
  {
   "cell_type": "code",
   "execution_count": 30,
   "metadata": {},
   "outputs": [],
   "source": [
    "#Importing the metrics\n",
    "from sklearn.metrics import accuracy_score\n",
    "from sklearn.metrics import recall_score as recall\n",
    "from sklearn.metrics import precision_score as precision\n",
    "from sklearn.metrics import f1_score as f1\n",
    "from sklearn.metrics import roc_curve"
   ]
  },
  {
   "cell_type": "markdown",
   "metadata": {},
   "source": [
    "### Building the model using TF-IDF vectors"
   ]
  },
  {
   "cell_type": "code",
   "execution_count": 31,
   "metadata": {},
   "outputs": [
    {
     "name": "stdout",
     "output_type": "stream",
     "text": [
      "Multinomial Naive Bayes\n",
      "accuracy: 0.521\n",
      "recall: 0.520\n",
      "precision: 0.519\n",
      "f1_score: 0.520\n",
      "Linear SVM\n",
      "accuracy: 0.550\n",
      "recall: 0.636\n",
      "precision: 0.541\n",
      "f1_score: 0.585\n",
      "Logistic Regression\n",
      "accuracy: 0.537\n",
      "recall: 0.574\n",
      "precision: 0.532\n",
      "f1_score: 0.553\n",
      "Decision Tree\n",
      "accuracy: 0.509\n",
      "recall: 0.373\n",
      "precision: 0.509\n",
      "f1_score: 0.431\n",
      "Random Forest\n",
      "accuracy: 0.523\n",
      "recall: 0.468\n",
      "precision: 0.524\n",
      "f1_score: 0.494\n"
     ]
    }
   ],
   "source": [
    "# Model 1: Multinomial Naive Bayes Classifier\n",
    "from sklearn.naive_bayes import MultinomialNB\n",
    "nb = MultinomialNB()\n",
    "nb.fit(X_train_tfidf, y_train)\n",
    "y_pred = nb.predict(X_test_tfidf)\n",
    "accuracy_nb = accuracy_score(y_test,y_pred)\n",
    "recall_nb = recall(y_test,y_pred)\n",
    "precision_nb = precision(y_test,y_pred)\n",
    "f1_nb = f1(y_test,y_pred)\n",
    "print('Multinomial Naive Bayes\\naccuracy: %.3f\\nrecall: %.3f\\nprecision: %.3f\\nf1_score: %.3f' \n",
    "      %(accuracy_nb, recall_nb, precision_nb,f1_nb))\n",
    "\n",
    "# Model 2: Linear SVM\n",
    "from sklearn.linear_model import SGDClassifier\n",
    "lsvm = SGDClassifier(alpha=0.001, random_state=7, max_iter=20, tol=None)\n",
    "lsvm.fit(X_train_tfidf, y_train)\n",
    "y_pred = lsvm.predict(X_test_tfidf)\n",
    "accuracy_lsvm = accuracy_score(y_test,y_pred)\n",
    "recall_lsvm = recall(y_test,y_pred)\n",
    "precision_lsvm = precision(y_test,y_pred)\n",
    "f1_lsvm = f1(y_test,y_pred)\n",
    "print('Linear SVM\\naccuracy: %.3f\\nrecall: %.3f\\nprecision: %.3f\\nf1_score: %.3f' \n",
    "      %(accuracy_lsvm, recall_lsvm, precision_lsvm,f1_lsvm))\n",
    "\n",
    "# Model 3: logistic regression\n",
    "from sklearn.linear_model import LogisticRegression\n",
    "logreg = LogisticRegression(C=1)\n",
    "logreg.fit(X_train_tfidf, y_train)\n",
    "y_pred = logreg.predict(X_test_tfidf)\n",
    "accuracy_logreg = accuracy_score(y_test,y_pred)\n",
    "recall_logreg = recall(y_test,y_pred)\n",
    "precision_logreg = precision(y_test,y_pred)\n",
    "f1_logreg = f1(y_test,y_pred)\n",
    "print('Logistic Regression\\naccuracy: %.3f\\nrecall: %.3f\\nprecision: %.3f\\nf1_score: %.3f' \n",
    "      %(accuracy_logreg, recall_logreg, precision_logreg,f1_logreg))\n",
    "\n",
    "# Model 4: Decision Tree Classifier\n",
    "from sklearn.tree import DecisionTreeClassifier\n",
    "dt = DecisionTreeClassifier()\n",
    "dt.fit(X_train_tfidf, y_train)\n",
    "y_pred = dt.predict(X_test_tfidf)\n",
    "accuracy_dt = accuracy_score(y_test,y_pred)\n",
    "recall_dt = recall(y_test,y_pred)\n",
    "precision_dt = precision(y_test,y_pred)\n",
    "f1_dt = f1(y_test,y_pred)\n",
    "print('Decision Tree\\naccuracy: %.3f\\nrecall: %.3f\\nprecision: %.3f\\nf1_score: %.3f' \n",
    "      %(accuracy_dt, recall_dt, precision_dt,f1_dt))\n",
    "\n",
    "# Model 5: Random Forest Classifier\n",
    "from sklearn.ensemble import RandomForestClassifier\n",
    "rf = RandomForestClassifier(n_estimators=400)\n",
    "rf.fit(X_train_tfidf, y_train)\n",
    "y_pred = rf.predict(X_test_tfidf)\n",
    "accuracy_rf = accuracy_score(y_test,y_pred)\n",
    "recall_rf = recall(y_test,y_pred)\n",
    "precision_rf = precision(y_test,y_pred)\n",
    "f1_rf = f1(y_test,y_pred)\n",
    "print('Random Forest\\naccuracy: %.3f\\nrecall: %.3f\\nprecision: %.3f\\nf1_score: %.3f' \n",
    "      %(accuracy_rf, recall_rf, precision_rf,f1_rf))\n"
   ]
  },
  {
   "cell_type": "markdown",
   "metadata": {},
   "source": [
    "### How well TF-IDF Vectors performed?"
   ]
  },
  {
   "cell_type": "code",
   "execution_count": 32,
   "metadata": {},
   "outputs": [
    {
     "data": {
      "text/html": [
       "        <script type=\"text/javascript\">\n",
       "        window.PlotlyConfig = {MathJaxConfig: 'local'};\n",
       "        if (window.MathJax) {MathJax.Hub.Config({SVG: {font: \"STIX-Web\"}});}\n",
       "        if (typeof require !== 'undefined') {\n",
       "        require.undef(\"plotly\");\n",
       "        requirejs.config({\n",
       "            paths: {\n",
       "                'plotly': ['https://cdn.plot.ly/plotly-latest.min']\n",
       "            }\n",
       "        });\n",
       "        require(['plotly'], function(Plotly) {\n",
       "            window._Plotly = Plotly;\n",
       "        });\n",
       "        }\n",
       "        </script>\n",
       "        "
      ]
     },
     "metadata": {},
     "output_type": "display_data"
    }
   ],
   "source": [
    "#Importing plotly\n",
    "from plotly.offline import download_plotlyjs, init_notebook_mode, plot, iplot\n",
    "import plotly\n",
    "import plotly.graph_objs as go\n",
    "\n",
    "init_notebook_mode(connected=True)"
   ]
  },
  {
   "cell_type": "code",
   "execution_count": 33,
   "metadata": {},
   "outputs": [
    {
     "data": {
      "application/vnd.plotly.v1+json": {
       "config": {
        "linkText": "Export to plot.ly",
        "plotlyServerURL": "https://plot.ly",
        "showLink": false
       },
       "data": [
        {
         "name": "Multinomial Naive Bayes",
         "type": "bar",
         "x": [
          "accuracy",
          "recall",
          "precision",
          "f1_score"
         ],
         "y": [
          0.5211946050096339,
          0.5203094777562862,
          0.5193050193050193,
          0.5198067632850241
         ]
        },
        {
         "name": "Linear SVM",
         "type": "bar",
         "x": [
          "accuracy",
          "recall",
          "precision",
          "f1_score"
         ],
         "y": [
          0.5500963391136802,
          0.6363636363636364,
          0.5411184210526315,
          0.5848888888888889
         ]
        },
        {
         "name": "Logistic Regression",
         "type": "bar",
         "x": [
          "accuracy",
          "recall",
          "precision",
          "f1_score"
         ],
         "y": [
          0.5366088631984586,
          0.574468085106383,
          0.532258064516129,
          0.5525581395348836
         ]
        },
        {
         "name": "Decision Tree",
         "type": "bar",
         "x": [
          "accuracy",
          "recall",
          "precision",
          "f1_score",
          "f1_score"
         ],
         "y": [
          0.5086705202312138,
          0.3733075435203095,
          0.5092348284960422,
          0.4308035714285714
         ]
        },
        {
         "name": "Random Forest",
         "type": "bar",
         "x": [
          "accuracy",
          "recall",
          "precision",
          "f1_score",
          "f1_score"
         ],
         "y": [
          0.523121387283237,
          0.46808510638297873,
          0.5238095238095238,
          0.49438202247191015
         ]
        }
       ],
       "layout": {
        "template": {
         "data": {
          "bar": [
           {
            "error_x": {
             "color": "#2a3f5f"
            },
            "error_y": {
             "color": "#2a3f5f"
            },
            "marker": {
             "line": {
              "color": "#E5ECF6",
              "width": 0.5
             }
            },
            "type": "bar"
           }
          ],
          "barpolar": [
           {
            "marker": {
             "line": {
              "color": "#E5ECF6",
              "width": 0.5
             }
            },
            "type": "barpolar"
           }
          ],
          "carpet": [
           {
            "aaxis": {
             "endlinecolor": "#2a3f5f",
             "gridcolor": "white",
             "linecolor": "white",
             "minorgridcolor": "white",
             "startlinecolor": "#2a3f5f"
            },
            "baxis": {
             "endlinecolor": "#2a3f5f",
             "gridcolor": "white",
             "linecolor": "white",
             "minorgridcolor": "white",
             "startlinecolor": "#2a3f5f"
            },
            "type": "carpet"
           }
          ],
          "choropleth": [
           {
            "colorbar": {
             "outlinewidth": 0,
             "ticks": ""
            },
            "type": "choropleth"
           }
          ],
          "contour": [
           {
            "colorbar": {
             "outlinewidth": 0,
             "ticks": ""
            },
            "colorscale": [
             [
              0,
              "#0d0887"
             ],
             [
              0.1111111111111111,
              "#46039f"
             ],
             [
              0.2222222222222222,
              "#7201a8"
             ],
             [
              0.3333333333333333,
              "#9c179e"
             ],
             [
              0.4444444444444444,
              "#bd3786"
             ],
             [
              0.5555555555555556,
              "#d8576b"
             ],
             [
              0.6666666666666666,
              "#ed7953"
             ],
             [
              0.7777777777777778,
              "#fb9f3a"
             ],
             [
              0.8888888888888888,
              "#fdca26"
             ],
             [
              1,
              "#f0f921"
             ]
            ],
            "type": "contour"
           }
          ],
          "contourcarpet": [
           {
            "colorbar": {
             "outlinewidth": 0,
             "ticks": ""
            },
            "type": "contourcarpet"
           }
          ],
          "heatmap": [
           {
            "colorbar": {
             "outlinewidth": 0,
             "ticks": ""
            },
            "colorscale": [
             [
              0,
              "#0d0887"
             ],
             [
              0.1111111111111111,
              "#46039f"
             ],
             [
              0.2222222222222222,
              "#7201a8"
             ],
             [
              0.3333333333333333,
              "#9c179e"
             ],
             [
              0.4444444444444444,
              "#bd3786"
             ],
             [
              0.5555555555555556,
              "#d8576b"
             ],
             [
              0.6666666666666666,
              "#ed7953"
             ],
             [
              0.7777777777777778,
              "#fb9f3a"
             ],
             [
              0.8888888888888888,
              "#fdca26"
             ],
             [
              1,
              "#f0f921"
             ]
            ],
            "type": "heatmap"
           }
          ],
          "heatmapgl": [
           {
            "colorbar": {
             "outlinewidth": 0,
             "ticks": ""
            },
            "colorscale": [
             [
              0,
              "#0d0887"
             ],
             [
              0.1111111111111111,
              "#46039f"
             ],
             [
              0.2222222222222222,
              "#7201a8"
             ],
             [
              0.3333333333333333,
              "#9c179e"
             ],
             [
              0.4444444444444444,
              "#bd3786"
             ],
             [
              0.5555555555555556,
              "#d8576b"
             ],
             [
              0.6666666666666666,
              "#ed7953"
             ],
             [
              0.7777777777777778,
              "#fb9f3a"
             ],
             [
              0.8888888888888888,
              "#fdca26"
             ],
             [
              1,
              "#f0f921"
             ]
            ],
            "type": "heatmapgl"
           }
          ],
          "histogram": [
           {
            "marker": {
             "colorbar": {
              "outlinewidth": 0,
              "ticks": ""
             }
            },
            "type": "histogram"
           }
          ],
          "histogram2d": [
           {
            "colorbar": {
             "outlinewidth": 0,
             "ticks": ""
            },
            "colorscale": [
             [
              0,
              "#0d0887"
             ],
             [
              0.1111111111111111,
              "#46039f"
             ],
             [
              0.2222222222222222,
              "#7201a8"
             ],
             [
              0.3333333333333333,
              "#9c179e"
             ],
             [
              0.4444444444444444,
              "#bd3786"
             ],
             [
              0.5555555555555556,
              "#d8576b"
             ],
             [
              0.6666666666666666,
              "#ed7953"
             ],
             [
              0.7777777777777778,
              "#fb9f3a"
             ],
             [
              0.8888888888888888,
              "#fdca26"
             ],
             [
              1,
              "#f0f921"
             ]
            ],
            "type": "histogram2d"
           }
          ],
          "histogram2dcontour": [
           {
            "colorbar": {
             "outlinewidth": 0,
             "ticks": ""
            },
            "colorscale": [
             [
              0,
              "#0d0887"
             ],
             [
              0.1111111111111111,
              "#46039f"
             ],
             [
              0.2222222222222222,
              "#7201a8"
             ],
             [
              0.3333333333333333,
              "#9c179e"
             ],
             [
              0.4444444444444444,
              "#bd3786"
             ],
             [
              0.5555555555555556,
              "#d8576b"
             ],
             [
              0.6666666666666666,
              "#ed7953"
             ],
             [
              0.7777777777777778,
              "#fb9f3a"
             ],
             [
              0.8888888888888888,
              "#fdca26"
             ],
             [
              1,
              "#f0f921"
             ]
            ],
            "type": "histogram2dcontour"
           }
          ],
          "mesh3d": [
           {
            "colorbar": {
             "outlinewidth": 0,
             "ticks": ""
            },
            "type": "mesh3d"
           }
          ],
          "parcoords": [
           {
            "line": {
             "colorbar": {
              "outlinewidth": 0,
              "ticks": ""
             }
            },
            "type": "parcoords"
           }
          ],
          "scatter": [
           {
            "marker": {
             "colorbar": {
              "outlinewidth": 0,
              "ticks": ""
             }
            },
            "type": "scatter"
           }
          ],
          "scatter3d": [
           {
            "line": {
             "colorbar": {
              "outlinewidth": 0,
              "ticks": ""
             }
            },
            "marker": {
             "colorbar": {
              "outlinewidth": 0,
              "ticks": ""
             }
            },
            "type": "scatter3d"
           }
          ],
          "scattercarpet": [
           {
            "marker": {
             "colorbar": {
              "outlinewidth": 0,
              "ticks": ""
             }
            },
            "type": "scattercarpet"
           }
          ],
          "scattergeo": [
           {
            "marker": {
             "colorbar": {
              "outlinewidth": 0,
              "ticks": ""
             }
            },
            "type": "scattergeo"
           }
          ],
          "scattergl": [
           {
            "marker": {
             "colorbar": {
              "outlinewidth": 0,
              "ticks": ""
             }
            },
            "type": "scattergl"
           }
          ],
          "scattermapbox": [
           {
            "marker": {
             "colorbar": {
              "outlinewidth": 0,
              "ticks": ""
             }
            },
            "type": "scattermapbox"
           }
          ],
          "scatterpolar": [
           {
            "marker": {
             "colorbar": {
              "outlinewidth": 0,
              "ticks": ""
             }
            },
            "type": "scatterpolar"
           }
          ],
          "scatterpolargl": [
           {
            "marker": {
             "colorbar": {
              "outlinewidth": 0,
              "ticks": ""
             }
            },
            "type": "scatterpolargl"
           }
          ],
          "scatterternary": [
           {
            "marker": {
             "colorbar": {
              "outlinewidth": 0,
              "ticks": ""
             }
            },
            "type": "scatterternary"
           }
          ],
          "surface": [
           {
            "colorbar": {
             "outlinewidth": 0,
             "ticks": ""
            },
            "colorscale": [
             [
              0,
              "#0d0887"
             ],
             [
              0.1111111111111111,
              "#46039f"
             ],
             [
              0.2222222222222222,
              "#7201a8"
             ],
             [
              0.3333333333333333,
              "#9c179e"
             ],
             [
              0.4444444444444444,
              "#bd3786"
             ],
             [
              0.5555555555555556,
              "#d8576b"
             ],
             [
              0.6666666666666666,
              "#ed7953"
             ],
             [
              0.7777777777777778,
              "#fb9f3a"
             ],
             [
              0.8888888888888888,
              "#fdca26"
             ],
             [
              1,
              "#f0f921"
             ]
            ],
            "type": "surface"
           }
          ],
          "table": [
           {
            "cells": {
             "fill": {
              "color": "#EBF0F8"
             },
             "line": {
              "color": "white"
             }
            },
            "header": {
             "fill": {
              "color": "#C8D4E3"
             },
             "line": {
              "color": "white"
             }
            },
            "type": "table"
           }
          ]
         },
         "layout": {
          "annotationdefaults": {
           "arrowcolor": "#2a3f5f",
           "arrowhead": 0,
           "arrowwidth": 1
          },
          "colorscale": {
           "diverging": [
            [
             0,
             "#8e0152"
            ],
            [
             0.1,
             "#c51b7d"
            ],
            [
             0.2,
             "#de77ae"
            ],
            [
             0.3,
             "#f1b6da"
            ],
            [
             0.4,
             "#fde0ef"
            ],
            [
             0.5,
             "#f7f7f7"
            ],
            [
             0.6,
             "#e6f5d0"
            ],
            [
             0.7,
             "#b8e186"
            ],
            [
             0.8,
             "#7fbc41"
            ],
            [
             0.9,
             "#4d9221"
            ],
            [
             1,
             "#276419"
            ]
           ],
           "sequential": [
            [
             0,
             "#0d0887"
            ],
            [
             0.1111111111111111,
             "#46039f"
            ],
            [
             0.2222222222222222,
             "#7201a8"
            ],
            [
             0.3333333333333333,
             "#9c179e"
            ],
            [
             0.4444444444444444,
             "#bd3786"
            ],
            [
             0.5555555555555556,
             "#d8576b"
            ],
            [
             0.6666666666666666,
             "#ed7953"
            ],
            [
             0.7777777777777778,
             "#fb9f3a"
            ],
            [
             0.8888888888888888,
             "#fdca26"
            ],
            [
             1,
             "#f0f921"
            ]
           ],
           "sequentialminus": [
            [
             0,
             "#0d0887"
            ],
            [
             0.1111111111111111,
             "#46039f"
            ],
            [
             0.2222222222222222,
             "#7201a8"
            ],
            [
             0.3333333333333333,
             "#9c179e"
            ],
            [
             0.4444444444444444,
             "#bd3786"
            ],
            [
             0.5555555555555556,
             "#d8576b"
            ],
            [
             0.6666666666666666,
             "#ed7953"
            ],
            [
             0.7777777777777778,
             "#fb9f3a"
            ],
            [
             0.8888888888888888,
             "#fdca26"
            ],
            [
             1,
             "#f0f921"
            ]
           ]
          },
          "colorway": [
           "#636efa",
           "#EF553B",
           "#00cc96",
           "#ab63fa",
           "#FFA15A",
           "#19d3f3",
           "#FF6692",
           "#B6E880",
           "#FF97FF",
           "#FECB52"
          ],
          "font": {
           "color": "#2a3f5f"
          },
          "geo": {
           "bgcolor": "white",
           "lakecolor": "white",
           "landcolor": "#E5ECF6",
           "showlakes": true,
           "showland": true,
           "subunitcolor": "white"
          },
          "hoverlabel": {
           "align": "left"
          },
          "hovermode": "closest",
          "mapbox": {
           "style": "light"
          },
          "paper_bgcolor": "white",
          "plot_bgcolor": "#E5ECF6",
          "polar": {
           "angularaxis": {
            "gridcolor": "white",
            "linecolor": "white",
            "ticks": ""
           },
           "bgcolor": "#E5ECF6",
           "radialaxis": {
            "gridcolor": "white",
            "linecolor": "white",
            "ticks": ""
           }
          },
          "scene": {
           "xaxis": {
            "backgroundcolor": "#E5ECF6",
            "gridcolor": "white",
            "gridwidth": 2,
            "linecolor": "white",
            "showbackground": true,
            "ticks": "",
            "zerolinecolor": "white"
           },
           "yaxis": {
            "backgroundcolor": "#E5ECF6",
            "gridcolor": "white",
            "gridwidth": 2,
            "linecolor": "white",
            "showbackground": true,
            "ticks": "",
            "zerolinecolor": "white"
           },
           "zaxis": {
            "backgroundcolor": "#E5ECF6",
            "gridcolor": "white",
            "gridwidth": 2,
            "linecolor": "white",
            "showbackground": true,
            "ticks": "",
            "zerolinecolor": "white"
           }
          },
          "shapedefaults": {
           "line": {
            "color": "#2a3f5f"
           }
          },
          "ternary": {
           "aaxis": {
            "gridcolor": "white",
            "linecolor": "white",
            "ticks": ""
           },
           "baxis": {
            "gridcolor": "white",
            "linecolor": "white",
            "ticks": ""
           },
           "bgcolor": "#E5ECF6",
           "caxis": {
            "gridcolor": "white",
            "linecolor": "white",
            "ticks": ""
           }
          },
          "title": {
           "x": 0.05
          },
          "xaxis": {
           "automargin": true,
           "gridcolor": "white",
           "linecolor": "white",
           "ticks": "",
           "zerolinecolor": "white",
           "zerolinewidth": 2
          },
          "yaxis": {
           "automargin": true,
           "gridcolor": "white",
           "linecolor": "white",
           "ticks": "",
           "zerolinecolor": "white",
           "zerolinewidth": 2
          }
         }
        },
        "title": {
         "text": "Performance of Machine Learning Classifiers using TF-IDF"
        }
       }
      },
      "text/html": [
       "<div>\n",
       "        \n",
       "        \n",
       "            <div id=\"4785266e-b888-4ba2-ab3d-62dc4f525f5d\" class=\"plotly-graph-div\" style=\"height:525px; width:100%;\"></div>\n",
       "            <script type=\"text/javascript\">\n",
       "                require([\"plotly\"], function(Plotly) {\n",
       "                    window.PLOTLYENV=window.PLOTLYENV || {};\n",
       "                    \n",
       "                if (document.getElementById(\"4785266e-b888-4ba2-ab3d-62dc4f525f5d\")) {\n",
       "                    Plotly.newPlot(\n",
       "                        '4785266e-b888-4ba2-ab3d-62dc4f525f5d',\n",
       "                        [{\"name\": \"Multinomial Naive Bayes\", \"type\": \"bar\", \"x\": [\"accuracy\", \"recall\", \"precision\", \"f1_score\"], \"y\": [0.5211946050096339, 0.5203094777562862, 0.5193050193050193, 0.5198067632850241]}, {\"name\": \"Linear SVM\", \"type\": \"bar\", \"x\": [\"accuracy\", \"recall\", \"precision\", \"f1_score\"], \"y\": [0.5500963391136802, 0.6363636363636364, 0.5411184210526315, 0.5848888888888889]}, {\"name\": \"Logistic Regression\", \"type\": \"bar\", \"x\": [\"accuracy\", \"recall\", \"precision\", \"f1_score\"], \"y\": [0.5366088631984586, 0.574468085106383, 0.532258064516129, 0.5525581395348836]}, {\"name\": \"Decision Tree\", \"type\": \"bar\", \"x\": [\"accuracy\", \"recall\", \"precision\", \"f1_score\", \"f1_score\"], \"y\": [0.5086705202312138, 0.3733075435203095, 0.5092348284960422, 0.4308035714285714]}, {\"name\": \"Random Forest\", \"type\": \"bar\", \"x\": [\"accuracy\", \"recall\", \"precision\", \"f1_score\", \"f1_score\"], \"y\": [0.523121387283237, 0.46808510638297873, 0.5238095238095238, 0.49438202247191015]}],\n",
       "                        {\"template\": {\"data\": {\"bar\": [{\"error_x\": {\"color\": \"#2a3f5f\"}, \"error_y\": {\"color\": \"#2a3f5f\"}, \"marker\": {\"line\": {\"color\": \"#E5ECF6\", \"width\": 0.5}}, \"type\": \"bar\"}], \"barpolar\": [{\"marker\": {\"line\": {\"color\": \"#E5ECF6\", \"width\": 0.5}}, \"type\": \"barpolar\"}], \"carpet\": [{\"aaxis\": {\"endlinecolor\": \"#2a3f5f\", \"gridcolor\": \"white\", \"linecolor\": \"white\", \"minorgridcolor\": \"white\", \"startlinecolor\": \"#2a3f5f\"}, \"baxis\": {\"endlinecolor\": \"#2a3f5f\", \"gridcolor\": \"white\", \"linecolor\": \"white\", \"minorgridcolor\": \"white\", \"startlinecolor\": \"#2a3f5f\"}, \"type\": \"carpet\"}], \"choropleth\": [{\"colorbar\": {\"outlinewidth\": 0, \"ticks\": \"\"}, \"type\": \"choropleth\"}], \"contour\": [{\"colorbar\": {\"outlinewidth\": 0, \"ticks\": \"\"}, \"colorscale\": [[0.0, \"#0d0887\"], [0.1111111111111111, \"#46039f\"], [0.2222222222222222, \"#7201a8\"], [0.3333333333333333, \"#9c179e\"], [0.4444444444444444, \"#bd3786\"], [0.5555555555555556, \"#d8576b\"], [0.6666666666666666, \"#ed7953\"], [0.7777777777777778, \"#fb9f3a\"], [0.8888888888888888, \"#fdca26\"], [1.0, \"#f0f921\"]], \"type\": \"contour\"}], \"contourcarpet\": [{\"colorbar\": {\"outlinewidth\": 0, \"ticks\": \"\"}, \"type\": \"contourcarpet\"}], \"heatmap\": [{\"colorbar\": {\"outlinewidth\": 0, \"ticks\": \"\"}, \"colorscale\": [[0.0, \"#0d0887\"], [0.1111111111111111, \"#46039f\"], [0.2222222222222222, \"#7201a8\"], [0.3333333333333333, \"#9c179e\"], [0.4444444444444444, \"#bd3786\"], [0.5555555555555556, \"#d8576b\"], [0.6666666666666666, \"#ed7953\"], [0.7777777777777778, \"#fb9f3a\"], [0.8888888888888888, \"#fdca26\"], [1.0, \"#f0f921\"]], \"type\": \"heatmap\"}], \"heatmapgl\": [{\"colorbar\": {\"outlinewidth\": 0, \"ticks\": \"\"}, \"colorscale\": [[0.0, \"#0d0887\"], [0.1111111111111111, \"#46039f\"], [0.2222222222222222, \"#7201a8\"], [0.3333333333333333, \"#9c179e\"], [0.4444444444444444, \"#bd3786\"], [0.5555555555555556, \"#d8576b\"], [0.6666666666666666, \"#ed7953\"], [0.7777777777777778, \"#fb9f3a\"], [0.8888888888888888, \"#fdca26\"], [1.0, \"#f0f921\"]], \"type\": \"heatmapgl\"}], \"histogram\": [{\"marker\": {\"colorbar\": {\"outlinewidth\": 0, \"ticks\": \"\"}}, \"type\": \"histogram\"}], \"histogram2d\": [{\"colorbar\": {\"outlinewidth\": 0, \"ticks\": \"\"}, \"colorscale\": [[0.0, \"#0d0887\"], [0.1111111111111111, \"#46039f\"], [0.2222222222222222, \"#7201a8\"], [0.3333333333333333, \"#9c179e\"], [0.4444444444444444, \"#bd3786\"], [0.5555555555555556, \"#d8576b\"], [0.6666666666666666, \"#ed7953\"], [0.7777777777777778, \"#fb9f3a\"], [0.8888888888888888, \"#fdca26\"], [1.0, \"#f0f921\"]], \"type\": \"histogram2d\"}], \"histogram2dcontour\": [{\"colorbar\": {\"outlinewidth\": 0, \"ticks\": \"\"}, \"colorscale\": [[0.0, \"#0d0887\"], [0.1111111111111111, \"#46039f\"], [0.2222222222222222, \"#7201a8\"], [0.3333333333333333, \"#9c179e\"], [0.4444444444444444, \"#bd3786\"], [0.5555555555555556, \"#d8576b\"], [0.6666666666666666, \"#ed7953\"], [0.7777777777777778, \"#fb9f3a\"], [0.8888888888888888, \"#fdca26\"], [1.0, \"#f0f921\"]], \"type\": \"histogram2dcontour\"}], \"mesh3d\": [{\"colorbar\": {\"outlinewidth\": 0, \"ticks\": \"\"}, \"type\": \"mesh3d\"}], \"parcoords\": [{\"line\": {\"colorbar\": {\"outlinewidth\": 0, \"ticks\": \"\"}}, \"type\": \"parcoords\"}], \"scatter\": [{\"marker\": {\"colorbar\": {\"outlinewidth\": 0, \"ticks\": \"\"}}, \"type\": \"scatter\"}], \"scatter3d\": [{\"line\": {\"colorbar\": {\"outlinewidth\": 0, \"ticks\": \"\"}}, \"marker\": {\"colorbar\": {\"outlinewidth\": 0, \"ticks\": \"\"}}, \"type\": \"scatter3d\"}], \"scattercarpet\": [{\"marker\": {\"colorbar\": {\"outlinewidth\": 0, \"ticks\": \"\"}}, \"type\": \"scattercarpet\"}], \"scattergeo\": [{\"marker\": {\"colorbar\": {\"outlinewidth\": 0, \"ticks\": \"\"}}, \"type\": \"scattergeo\"}], \"scattergl\": [{\"marker\": {\"colorbar\": {\"outlinewidth\": 0, \"ticks\": \"\"}}, \"type\": \"scattergl\"}], \"scattermapbox\": [{\"marker\": {\"colorbar\": {\"outlinewidth\": 0, \"ticks\": \"\"}}, \"type\": \"scattermapbox\"}], \"scatterpolar\": [{\"marker\": {\"colorbar\": {\"outlinewidth\": 0, \"ticks\": \"\"}}, \"type\": \"scatterpolar\"}], \"scatterpolargl\": [{\"marker\": {\"colorbar\": {\"outlinewidth\": 0, \"ticks\": \"\"}}, \"type\": \"scatterpolargl\"}], \"scatterternary\": [{\"marker\": {\"colorbar\": {\"outlinewidth\": 0, \"ticks\": \"\"}}, \"type\": \"scatterternary\"}], \"surface\": [{\"colorbar\": {\"outlinewidth\": 0, \"ticks\": \"\"}, \"colorscale\": [[0.0, \"#0d0887\"], [0.1111111111111111, \"#46039f\"], [0.2222222222222222, \"#7201a8\"], [0.3333333333333333, \"#9c179e\"], [0.4444444444444444, \"#bd3786\"], [0.5555555555555556, \"#d8576b\"], [0.6666666666666666, \"#ed7953\"], [0.7777777777777778, \"#fb9f3a\"], [0.8888888888888888, \"#fdca26\"], [1.0, \"#f0f921\"]], \"type\": \"surface\"}], \"table\": [{\"cells\": {\"fill\": {\"color\": \"#EBF0F8\"}, \"line\": {\"color\": \"white\"}}, \"header\": {\"fill\": {\"color\": \"#C8D4E3\"}, \"line\": {\"color\": \"white\"}}, \"type\": \"table\"}]}, \"layout\": {\"annotationdefaults\": {\"arrowcolor\": \"#2a3f5f\", \"arrowhead\": 0, \"arrowwidth\": 1}, \"colorscale\": {\"diverging\": [[0, \"#8e0152\"], [0.1, \"#c51b7d\"], [0.2, \"#de77ae\"], [0.3, \"#f1b6da\"], [0.4, \"#fde0ef\"], [0.5, \"#f7f7f7\"], [0.6, \"#e6f5d0\"], [0.7, \"#b8e186\"], [0.8, \"#7fbc41\"], [0.9, \"#4d9221\"], [1, \"#276419\"]], \"sequential\": [[0.0, \"#0d0887\"], [0.1111111111111111, \"#46039f\"], [0.2222222222222222, \"#7201a8\"], [0.3333333333333333, \"#9c179e\"], [0.4444444444444444, \"#bd3786\"], [0.5555555555555556, \"#d8576b\"], [0.6666666666666666, \"#ed7953\"], [0.7777777777777778, \"#fb9f3a\"], [0.8888888888888888, \"#fdca26\"], [1.0, \"#f0f921\"]], \"sequentialminus\": [[0.0, \"#0d0887\"], [0.1111111111111111, \"#46039f\"], [0.2222222222222222, \"#7201a8\"], [0.3333333333333333, \"#9c179e\"], [0.4444444444444444, \"#bd3786\"], [0.5555555555555556, \"#d8576b\"], [0.6666666666666666, \"#ed7953\"], [0.7777777777777778, \"#fb9f3a\"], [0.8888888888888888, \"#fdca26\"], [1.0, \"#f0f921\"]]}, \"colorway\": [\"#636efa\", \"#EF553B\", \"#00cc96\", \"#ab63fa\", \"#FFA15A\", \"#19d3f3\", \"#FF6692\", \"#B6E880\", \"#FF97FF\", \"#FECB52\"], \"font\": {\"color\": \"#2a3f5f\"}, \"geo\": {\"bgcolor\": \"white\", \"lakecolor\": \"white\", \"landcolor\": \"#E5ECF6\", \"showlakes\": true, \"showland\": true, \"subunitcolor\": \"white\"}, \"hoverlabel\": {\"align\": \"left\"}, \"hovermode\": \"closest\", \"mapbox\": {\"style\": \"light\"}, \"paper_bgcolor\": \"white\", \"plot_bgcolor\": \"#E5ECF6\", \"polar\": {\"angularaxis\": {\"gridcolor\": \"white\", \"linecolor\": \"white\", \"ticks\": \"\"}, \"bgcolor\": \"#E5ECF6\", \"radialaxis\": {\"gridcolor\": \"white\", \"linecolor\": \"white\", \"ticks\": \"\"}}, \"scene\": {\"xaxis\": {\"backgroundcolor\": \"#E5ECF6\", \"gridcolor\": \"white\", \"gridwidth\": 2, \"linecolor\": \"white\", \"showbackground\": true, \"ticks\": \"\", \"zerolinecolor\": \"white\"}, \"yaxis\": {\"backgroundcolor\": \"#E5ECF6\", \"gridcolor\": \"white\", \"gridwidth\": 2, \"linecolor\": \"white\", \"showbackground\": true, \"ticks\": \"\", \"zerolinecolor\": \"white\"}, \"zaxis\": {\"backgroundcolor\": \"#E5ECF6\", \"gridcolor\": \"white\", \"gridwidth\": 2, \"linecolor\": \"white\", \"showbackground\": true, \"ticks\": \"\", \"zerolinecolor\": \"white\"}}, \"shapedefaults\": {\"line\": {\"color\": \"#2a3f5f\"}}, \"ternary\": {\"aaxis\": {\"gridcolor\": \"white\", \"linecolor\": \"white\", \"ticks\": \"\"}, \"baxis\": {\"gridcolor\": \"white\", \"linecolor\": \"white\", \"ticks\": \"\"}, \"bgcolor\": \"#E5ECF6\", \"caxis\": {\"gridcolor\": \"white\", \"linecolor\": \"white\", \"ticks\": \"\"}}, \"title\": {\"x\": 0.05}, \"xaxis\": {\"automargin\": true, \"gridcolor\": \"white\", \"linecolor\": \"white\", \"ticks\": \"\", \"zerolinecolor\": \"white\", \"zerolinewidth\": 2}, \"yaxis\": {\"automargin\": true, \"gridcolor\": \"white\", \"linecolor\": \"white\", \"ticks\": \"\", \"zerolinecolor\": \"white\", \"zerolinewidth\": 2}}}, \"title\": {\"text\": \"Performance of Machine Learning Classifiers using TF-IDF\"}},\n",
       "                        {\"responsive\": true}\n",
       "                    ).then(function(){\n",
       "                            \n",
       "var gd = document.getElementById('4785266e-b888-4ba2-ab3d-62dc4f525f5d');\n",
       "var x = new MutationObserver(function (mutations, observer) {{\n",
       "        var display = window.getComputedStyle(gd).display;\n",
       "        if (!display || display === 'none') {{\n",
       "            console.log([gd, 'removed!']);\n",
       "            Plotly.purge(gd);\n",
       "            observer.disconnect();\n",
       "        }}\n",
       "}});\n",
       "\n",
       "// Listen for the removal of the full notebook cells\n",
       "var notebookContainer = gd.closest('#notebook-container');\n",
       "if (notebookContainer) {{\n",
       "    x.observe(notebookContainer, {childList: true});\n",
       "}}\n",
       "\n",
       "// Listen for the clearing of the current output cell\n",
       "var outputEl = gd.closest('.output');\n",
       "if (outputEl) {{\n",
       "    x.observe(outputEl, {childList: true});\n",
       "}}\n",
       "\n",
       "                        })\n",
       "                };\n",
       "                });\n",
       "            </script>\n",
       "        </div>"
      ]
     },
     "metadata": {},
     "output_type": "display_data"
    }
   ],
   "source": [
    "#Create a bar for Multinomial Naive Bayes metrics\n",
    "trace0 = go.Bar(\n",
    "           x = ['accuracy','recall', 'precision', 'f1_score'],\n",
    "           y = [accuracy_nb, recall_nb, precision_nb, f1_nb],\n",
    "           name = 'Multinomial Naive Bayes' \n",
    ")\n",
    "\n",
    "#Create a bar for Linear SVM metrics\n",
    "trace1 = go.Bar(\n",
    "          x = ['accuracy','recall', 'precision', 'f1_score'],\n",
    "          y = [accuracy_lsvm, recall_lsvm, precision_lsvm, f1_lsvm],\n",
    "          name = 'Linear SVM'\n",
    ")\n",
    "\n",
    "#Create a bar for Logistic Regression metrics\n",
    "trace2 = go.Bar(\n",
    "           x = ['accuracy','recall', 'precision', 'f1_score'],\n",
    "           y = [accuracy_logreg, recall_logreg, precision_logreg, f1_logreg],\n",
    "           name = 'Logistic Regression' \n",
    ")\n",
    "\n",
    "#Create a bar for Decision Tree metrics\n",
    "trace3 = go.Bar(\n",
    "           x = ['accuracy','recall', 'precision', 'f1_score', 'f1_score'],\n",
    "           y = [accuracy_dt, recall_dt, precision_dt, f1_dt],\n",
    "           name = 'Decision Tree' \n",
    ")\n",
    "\n",
    "#Create a bar for Random Forest metrics\n",
    "trace4 = go.Bar(\n",
    "           x = ['accuracy','recall', 'precision', 'f1_score', 'f1_score'],\n",
    "           y = [accuracy_rf, recall_rf, precision_rf, f1_rf],\n",
    "           name = 'Random Forest' \n",
    ")\n",
    "\n",
    "\n",
    "#Define the data array\n",
    "data = [trace0, trace1, trace2, trace3, trace4]\n",
    "\n",
    "#Set the title\n",
    "layout = {'title': 'Performance of Machine Learning Classifiers using TF-IDF'}\n",
    "\n",
    "#Create a 'Figure' and plot it\n",
    "fig = go.Figure(data = data, layout = layout)\n",
    "iplot(fig, show_link=False)"
   ]
  },
  {
   "cell_type": "markdown",
   "metadata": {},
   "source": [
    "**Observation** <br>\n",
    "\n",
    "\n",
    "As we can see none of the models perform great. All the classifiers had accuracy about 50-52%, same goes for precision as well when taken the TF-IDF approach. In terms of recall, Linear SVM has comparatively higher recall than other classifiers whereas Decison tree fares the worst.The reason for poor performance might be due to the length of the content being very short."
   ]
  },
  {
   "cell_type": "markdown",
   "metadata": {},
   "source": [
    "### Building the model using Count vectors"
   ]
  },
  {
   "cell_type": "code",
   "execution_count": 34,
   "metadata": {},
   "outputs": [
    {
     "name": "stdout",
     "output_type": "stream",
     "text": [
      "Multinomial Naive Bayes\n",
      "accuracy: 0.774\n",
      "recall: 0.781\n",
      "precision: 0.768\n",
      "f1_score: 0.775\n",
      "Linear SVM\n",
      "accuracy: 0.792\n",
      "recall: 0.791\n",
      "precision: 0.791\n",
      "f1_score: 0.791\n",
      "Logistic Regression\n",
      "accuracy: 0.796\n",
      "recall: 0.797\n",
      "precision: 0.794\n",
      "f1_score: 0.795\n",
      "Decision Tree\n",
      "accuracy: 0.731\n",
      "recall: 0.714\n",
      "precision: 0.738\n",
      "f1_score: 0.726\n",
      "Random Forest\n",
      "accuracy: 0.776\n",
      "recall: 0.772\n",
      "precision: 0.778\n",
      "f1_score: 0.775\n"
     ]
    }
   ],
   "source": [
    "# Model 1: Multinomial Naive Bayes Classifier\n",
    "from sklearn.naive_bayes import MultinomialNB\n",
    "nb = MultinomialNB()\n",
    "nb.fit(X_train_count, y_train)\n",
    "y_pred = nb.predict(X_test_count)\n",
    "accuracy_nb = accuracy_score(y_test,y_pred)\n",
    "recall_nb = recall(y_test,y_pred)\n",
    "precision_nb = precision(y_test,y_pred)\n",
    "f1_nb = f1(y_test,y_pred)\n",
    "print('Multinomial Naive Bayes\\naccuracy: %.3f\\nrecall: %.3f\\nprecision: %.3f\\nf1_score: %.3f' \n",
    "      %(accuracy_nb, recall_nb, precision_nb, f1_nb))\n",
    "\n",
    "# Model 2: Linear SVM\n",
    "from sklearn.linear_model import SGDClassifier\n",
    "lsvm = SGDClassifier(alpha=0.001, random_state=7, max_iter=20, tol=None)\n",
    "lsvm.fit(X_train_count, y_train)\n",
    "y_pred = lsvm.predict(X_test_count)\n",
    "accuracy_lsvm = accuracy_score(y_test,y_pred)\n",
    "recall_lsvm = recall(y_test,y_pred)\n",
    "precision_lsvm = precision(y_test,y_pred)\n",
    "f1_lsvm = f1(y_test,y_pred)\n",
    "print('Linear SVM\\naccuracy: %.3f\\nrecall: %.3f\\nprecision: %.3f\\nf1_score: %.3f' \n",
    "      %(accuracy_lsvm, recall_lsvm, precision_lsvm, f1_lsvm))\n",
    "\n",
    "# Model 3: logistic regression\n",
    "from sklearn.linear_model import LogisticRegression\n",
    "logreg = LogisticRegression(C=1)\n",
    "logreg.fit(X_train_count, y_train)\n",
    "y_pred = logreg.predict(X_test_count)\n",
    "accuracy_logreg = accuracy_score(y_test,y_pred)\n",
    "recall_logreg = recall(y_test,y_pred)\n",
    "precision_logreg = precision(y_test,y_pred)\n",
    "f1_logreg = f1(y_test,y_pred)\n",
    "print('Logistic Regression\\naccuracy: %.3f\\nrecall: %.3f\\nprecision: %.3f\\nf1_score: %.3f' \n",
    "      %(accuracy_logreg, recall_logreg, precision_logreg, f1_logreg))\n",
    "\n",
    "# Model 4: Decision Tree Classifier\n",
    "from sklearn.tree import DecisionTreeClassifier\n",
    "dt = DecisionTreeClassifier()\n",
    "dt.fit(X_train_count, y_train)\n",
    "y_pred = dt.predict(X_test_count)\n",
    "accuracy_dt = accuracy_score(y_test,y_pred)\n",
    "recall_dt = recall(y_test,y_pred)\n",
    "precision_dt = precision(y_test,y_pred)\n",
    "f1_dt = f1(y_test,y_pred)\n",
    "print('Decision Tree\\naccuracy: %.3f\\nrecall: %.3f\\nprecision: %.3f\\nf1_score: %.3f' \n",
    "      %(accuracy_dt, recall_dt, precision_dt, f1_dt))\n",
    "\n",
    "# Model 5: Random Forest Classifier\n",
    "from sklearn.ensemble import RandomForestClassifier\n",
    "rf = RandomForestClassifier(n_estimators=400)\n",
    "rf.fit(X_train_count, y_train)\n",
    "y_pred = rf.predict(X_test_count)\n",
    "accuracy_rf = accuracy_score(y_test,y_pred)\n",
    "recall_rf = recall(y_test,y_pred)\n",
    "precision_rf = precision(y_test,y_pred)\n",
    "f1_rf = f1(y_test,y_pred)\n",
    "print('Random Forest\\naccuracy: %.3f\\nrecall: %.3f\\nprecision: %.3f\\nf1_score: %.3f' \n",
    "      %(accuracy_rf, recall_rf, precision_rf, f1_rf))"
   ]
  },
  {
   "cell_type": "markdown",
   "metadata": {},
   "source": [
    "### How well Count Vectors performed?"
   ]
  },
  {
   "cell_type": "code",
   "execution_count": 35,
   "metadata": {},
   "outputs": [
    {
     "data": {
      "application/vnd.plotly.v1+json": {
       "config": {
        "linkText": "Export to plot.ly",
        "plotlyServerURL": "https://plot.ly",
        "showLink": false
       },
       "data": [
        {
         "name": "Multinomial Naive Bayes",
         "type": "bar",
         "x": [
          "accuracy",
          "recall",
          "precision",
          "f1_score"
         ],
         "y": [
          0.7736030828516378,
          0.781431334622824,
          0.7680608365019012,
          0.7746883988494727
         ]
        },
        {
         "name": "Linear SVM",
         "type": "bar",
         "x": [
          "accuracy",
          "recall",
          "precision",
          "f1_score"
         ],
         "y": [
          0.791907514450867,
          0.7911025145067698,
          0.7911025145067698,
          0.7911025145067698
         ]
        },
        {
         "name": "Logistic Regression",
         "type": "bar",
         "x": [
          "accuracy",
          "recall",
          "precision",
          "f1_score"
         ],
         "y": [
          0.7957610789980732,
          0.7969052224371374,
          0.7938342967244701,
          0.7953667953667953
         ]
        },
        {
         "name": "Decision Tree",
         "type": "bar",
         "x": [
          "accuracy",
          "recall",
          "precision",
          "f1_score",
          "f1_score"
         ],
         "y": [
          0.7312138728323699,
          0.7137330754352031,
          0.738,
          0.7256637168141593
         ]
        },
        {
         "name": "Random Forest",
         "type": "bar",
         "x": [
          "accuracy",
          "recall",
          "precision",
          "f1_score",
          "f1_score"
         ],
         "y": [
          0.7764932562620424,
          0.7717601547388782,
          0.7777777777777778,
          0.7747572815533981
         ]
        }
       ],
       "layout": {
        "template": {
         "data": {
          "bar": [
           {
            "error_x": {
             "color": "#2a3f5f"
            },
            "error_y": {
             "color": "#2a3f5f"
            },
            "marker": {
             "line": {
              "color": "#E5ECF6",
              "width": 0.5
             }
            },
            "type": "bar"
           }
          ],
          "barpolar": [
           {
            "marker": {
             "line": {
              "color": "#E5ECF6",
              "width": 0.5
             }
            },
            "type": "barpolar"
           }
          ],
          "carpet": [
           {
            "aaxis": {
             "endlinecolor": "#2a3f5f",
             "gridcolor": "white",
             "linecolor": "white",
             "minorgridcolor": "white",
             "startlinecolor": "#2a3f5f"
            },
            "baxis": {
             "endlinecolor": "#2a3f5f",
             "gridcolor": "white",
             "linecolor": "white",
             "minorgridcolor": "white",
             "startlinecolor": "#2a3f5f"
            },
            "type": "carpet"
           }
          ],
          "choropleth": [
           {
            "colorbar": {
             "outlinewidth": 0,
             "ticks": ""
            },
            "type": "choropleth"
           }
          ],
          "contour": [
           {
            "colorbar": {
             "outlinewidth": 0,
             "ticks": ""
            },
            "colorscale": [
             [
              0,
              "#0d0887"
             ],
             [
              0.1111111111111111,
              "#46039f"
             ],
             [
              0.2222222222222222,
              "#7201a8"
             ],
             [
              0.3333333333333333,
              "#9c179e"
             ],
             [
              0.4444444444444444,
              "#bd3786"
             ],
             [
              0.5555555555555556,
              "#d8576b"
             ],
             [
              0.6666666666666666,
              "#ed7953"
             ],
             [
              0.7777777777777778,
              "#fb9f3a"
             ],
             [
              0.8888888888888888,
              "#fdca26"
             ],
             [
              1,
              "#f0f921"
             ]
            ],
            "type": "contour"
           }
          ],
          "contourcarpet": [
           {
            "colorbar": {
             "outlinewidth": 0,
             "ticks": ""
            },
            "type": "contourcarpet"
           }
          ],
          "heatmap": [
           {
            "colorbar": {
             "outlinewidth": 0,
             "ticks": ""
            },
            "colorscale": [
             [
              0,
              "#0d0887"
             ],
             [
              0.1111111111111111,
              "#46039f"
             ],
             [
              0.2222222222222222,
              "#7201a8"
             ],
             [
              0.3333333333333333,
              "#9c179e"
             ],
             [
              0.4444444444444444,
              "#bd3786"
             ],
             [
              0.5555555555555556,
              "#d8576b"
             ],
             [
              0.6666666666666666,
              "#ed7953"
             ],
             [
              0.7777777777777778,
              "#fb9f3a"
             ],
             [
              0.8888888888888888,
              "#fdca26"
             ],
             [
              1,
              "#f0f921"
             ]
            ],
            "type": "heatmap"
           }
          ],
          "heatmapgl": [
           {
            "colorbar": {
             "outlinewidth": 0,
             "ticks": ""
            },
            "colorscale": [
             [
              0,
              "#0d0887"
             ],
             [
              0.1111111111111111,
              "#46039f"
             ],
             [
              0.2222222222222222,
              "#7201a8"
             ],
             [
              0.3333333333333333,
              "#9c179e"
             ],
             [
              0.4444444444444444,
              "#bd3786"
             ],
             [
              0.5555555555555556,
              "#d8576b"
             ],
             [
              0.6666666666666666,
              "#ed7953"
             ],
             [
              0.7777777777777778,
              "#fb9f3a"
             ],
             [
              0.8888888888888888,
              "#fdca26"
             ],
             [
              1,
              "#f0f921"
             ]
            ],
            "type": "heatmapgl"
           }
          ],
          "histogram": [
           {
            "marker": {
             "colorbar": {
              "outlinewidth": 0,
              "ticks": ""
             }
            },
            "type": "histogram"
           }
          ],
          "histogram2d": [
           {
            "colorbar": {
             "outlinewidth": 0,
             "ticks": ""
            },
            "colorscale": [
             [
              0,
              "#0d0887"
             ],
             [
              0.1111111111111111,
              "#46039f"
             ],
             [
              0.2222222222222222,
              "#7201a8"
             ],
             [
              0.3333333333333333,
              "#9c179e"
             ],
             [
              0.4444444444444444,
              "#bd3786"
             ],
             [
              0.5555555555555556,
              "#d8576b"
             ],
             [
              0.6666666666666666,
              "#ed7953"
             ],
             [
              0.7777777777777778,
              "#fb9f3a"
             ],
             [
              0.8888888888888888,
              "#fdca26"
             ],
             [
              1,
              "#f0f921"
             ]
            ],
            "type": "histogram2d"
           }
          ],
          "histogram2dcontour": [
           {
            "colorbar": {
             "outlinewidth": 0,
             "ticks": ""
            },
            "colorscale": [
             [
              0,
              "#0d0887"
             ],
             [
              0.1111111111111111,
              "#46039f"
             ],
             [
              0.2222222222222222,
              "#7201a8"
             ],
             [
              0.3333333333333333,
              "#9c179e"
             ],
             [
              0.4444444444444444,
              "#bd3786"
             ],
             [
              0.5555555555555556,
              "#d8576b"
             ],
             [
              0.6666666666666666,
              "#ed7953"
             ],
             [
              0.7777777777777778,
              "#fb9f3a"
             ],
             [
              0.8888888888888888,
              "#fdca26"
             ],
             [
              1,
              "#f0f921"
             ]
            ],
            "type": "histogram2dcontour"
           }
          ],
          "mesh3d": [
           {
            "colorbar": {
             "outlinewidth": 0,
             "ticks": ""
            },
            "type": "mesh3d"
           }
          ],
          "parcoords": [
           {
            "line": {
             "colorbar": {
              "outlinewidth": 0,
              "ticks": ""
             }
            },
            "type": "parcoords"
           }
          ],
          "scatter": [
           {
            "marker": {
             "colorbar": {
              "outlinewidth": 0,
              "ticks": ""
             }
            },
            "type": "scatter"
           }
          ],
          "scatter3d": [
           {
            "line": {
             "colorbar": {
              "outlinewidth": 0,
              "ticks": ""
             }
            },
            "marker": {
             "colorbar": {
              "outlinewidth": 0,
              "ticks": ""
             }
            },
            "type": "scatter3d"
           }
          ],
          "scattercarpet": [
           {
            "marker": {
             "colorbar": {
              "outlinewidth": 0,
              "ticks": ""
             }
            },
            "type": "scattercarpet"
           }
          ],
          "scattergeo": [
           {
            "marker": {
             "colorbar": {
              "outlinewidth": 0,
              "ticks": ""
             }
            },
            "type": "scattergeo"
           }
          ],
          "scattergl": [
           {
            "marker": {
             "colorbar": {
              "outlinewidth": 0,
              "ticks": ""
             }
            },
            "type": "scattergl"
           }
          ],
          "scattermapbox": [
           {
            "marker": {
             "colorbar": {
              "outlinewidth": 0,
              "ticks": ""
             }
            },
            "type": "scattermapbox"
           }
          ],
          "scatterpolar": [
           {
            "marker": {
             "colorbar": {
              "outlinewidth": 0,
              "ticks": ""
             }
            },
            "type": "scatterpolar"
           }
          ],
          "scatterpolargl": [
           {
            "marker": {
             "colorbar": {
              "outlinewidth": 0,
              "ticks": ""
             }
            },
            "type": "scatterpolargl"
           }
          ],
          "scatterternary": [
           {
            "marker": {
             "colorbar": {
              "outlinewidth": 0,
              "ticks": ""
             }
            },
            "type": "scatterternary"
           }
          ],
          "surface": [
           {
            "colorbar": {
             "outlinewidth": 0,
             "ticks": ""
            },
            "colorscale": [
             [
              0,
              "#0d0887"
             ],
             [
              0.1111111111111111,
              "#46039f"
             ],
             [
              0.2222222222222222,
              "#7201a8"
             ],
             [
              0.3333333333333333,
              "#9c179e"
             ],
             [
              0.4444444444444444,
              "#bd3786"
             ],
             [
              0.5555555555555556,
              "#d8576b"
             ],
             [
              0.6666666666666666,
              "#ed7953"
             ],
             [
              0.7777777777777778,
              "#fb9f3a"
             ],
             [
              0.8888888888888888,
              "#fdca26"
             ],
             [
              1,
              "#f0f921"
             ]
            ],
            "type": "surface"
           }
          ],
          "table": [
           {
            "cells": {
             "fill": {
              "color": "#EBF0F8"
             },
             "line": {
              "color": "white"
             }
            },
            "header": {
             "fill": {
              "color": "#C8D4E3"
             },
             "line": {
              "color": "white"
             }
            },
            "type": "table"
           }
          ]
         },
         "layout": {
          "annotationdefaults": {
           "arrowcolor": "#2a3f5f",
           "arrowhead": 0,
           "arrowwidth": 1
          },
          "colorscale": {
           "diverging": [
            [
             0,
             "#8e0152"
            ],
            [
             0.1,
             "#c51b7d"
            ],
            [
             0.2,
             "#de77ae"
            ],
            [
             0.3,
             "#f1b6da"
            ],
            [
             0.4,
             "#fde0ef"
            ],
            [
             0.5,
             "#f7f7f7"
            ],
            [
             0.6,
             "#e6f5d0"
            ],
            [
             0.7,
             "#b8e186"
            ],
            [
             0.8,
             "#7fbc41"
            ],
            [
             0.9,
             "#4d9221"
            ],
            [
             1,
             "#276419"
            ]
           ],
           "sequential": [
            [
             0,
             "#0d0887"
            ],
            [
             0.1111111111111111,
             "#46039f"
            ],
            [
             0.2222222222222222,
             "#7201a8"
            ],
            [
             0.3333333333333333,
             "#9c179e"
            ],
            [
             0.4444444444444444,
             "#bd3786"
            ],
            [
             0.5555555555555556,
             "#d8576b"
            ],
            [
             0.6666666666666666,
             "#ed7953"
            ],
            [
             0.7777777777777778,
             "#fb9f3a"
            ],
            [
             0.8888888888888888,
             "#fdca26"
            ],
            [
             1,
             "#f0f921"
            ]
           ],
           "sequentialminus": [
            [
             0,
             "#0d0887"
            ],
            [
             0.1111111111111111,
             "#46039f"
            ],
            [
             0.2222222222222222,
             "#7201a8"
            ],
            [
             0.3333333333333333,
             "#9c179e"
            ],
            [
             0.4444444444444444,
             "#bd3786"
            ],
            [
             0.5555555555555556,
             "#d8576b"
            ],
            [
             0.6666666666666666,
             "#ed7953"
            ],
            [
             0.7777777777777778,
             "#fb9f3a"
            ],
            [
             0.8888888888888888,
             "#fdca26"
            ],
            [
             1,
             "#f0f921"
            ]
           ]
          },
          "colorway": [
           "#636efa",
           "#EF553B",
           "#00cc96",
           "#ab63fa",
           "#FFA15A",
           "#19d3f3",
           "#FF6692",
           "#B6E880",
           "#FF97FF",
           "#FECB52"
          ],
          "font": {
           "color": "#2a3f5f"
          },
          "geo": {
           "bgcolor": "white",
           "lakecolor": "white",
           "landcolor": "#E5ECF6",
           "showlakes": true,
           "showland": true,
           "subunitcolor": "white"
          },
          "hoverlabel": {
           "align": "left"
          },
          "hovermode": "closest",
          "mapbox": {
           "style": "light"
          },
          "paper_bgcolor": "white",
          "plot_bgcolor": "#E5ECF6",
          "polar": {
           "angularaxis": {
            "gridcolor": "white",
            "linecolor": "white",
            "ticks": ""
           },
           "bgcolor": "#E5ECF6",
           "radialaxis": {
            "gridcolor": "white",
            "linecolor": "white",
            "ticks": ""
           }
          },
          "scene": {
           "xaxis": {
            "backgroundcolor": "#E5ECF6",
            "gridcolor": "white",
            "gridwidth": 2,
            "linecolor": "white",
            "showbackground": true,
            "ticks": "",
            "zerolinecolor": "white"
           },
           "yaxis": {
            "backgroundcolor": "#E5ECF6",
            "gridcolor": "white",
            "gridwidth": 2,
            "linecolor": "white",
            "showbackground": true,
            "ticks": "",
            "zerolinecolor": "white"
           },
           "zaxis": {
            "backgroundcolor": "#E5ECF6",
            "gridcolor": "white",
            "gridwidth": 2,
            "linecolor": "white",
            "showbackground": true,
            "ticks": "",
            "zerolinecolor": "white"
           }
          },
          "shapedefaults": {
           "line": {
            "color": "#2a3f5f"
           }
          },
          "ternary": {
           "aaxis": {
            "gridcolor": "white",
            "linecolor": "white",
            "ticks": ""
           },
           "baxis": {
            "gridcolor": "white",
            "linecolor": "white",
            "ticks": ""
           },
           "bgcolor": "#E5ECF6",
           "caxis": {
            "gridcolor": "white",
            "linecolor": "white",
            "ticks": ""
           }
          },
          "title": {
           "x": 0.05
          },
          "xaxis": {
           "automargin": true,
           "gridcolor": "white",
           "linecolor": "white",
           "ticks": "",
           "zerolinecolor": "white",
           "zerolinewidth": 2
          },
          "yaxis": {
           "automargin": true,
           "gridcolor": "white",
           "linecolor": "white",
           "ticks": "",
           "zerolinecolor": "white",
           "zerolinewidth": 2
          }
         }
        },
        "title": {
         "text": "Performance of Machine Learning Classifiers using Count Vectors"
        }
       }
      },
      "text/html": [
       "<div>\n",
       "        \n",
       "        \n",
       "            <div id=\"b2af2146-3260-4834-8a31-a0557c92cb36\" class=\"plotly-graph-div\" style=\"height:525px; width:100%;\"></div>\n",
       "            <script type=\"text/javascript\">\n",
       "                require([\"plotly\"], function(Plotly) {\n",
       "                    window.PLOTLYENV=window.PLOTLYENV || {};\n",
       "                    \n",
       "                if (document.getElementById(\"b2af2146-3260-4834-8a31-a0557c92cb36\")) {\n",
       "                    Plotly.newPlot(\n",
       "                        'b2af2146-3260-4834-8a31-a0557c92cb36',\n",
       "                        [{\"name\": \"Multinomial Naive Bayes\", \"type\": \"bar\", \"x\": [\"accuracy\", \"recall\", \"precision\", \"f1_score\"], \"y\": [0.7736030828516378, 0.781431334622824, 0.7680608365019012, 0.7746883988494727]}, {\"name\": \"Linear SVM\", \"type\": \"bar\", \"x\": [\"accuracy\", \"recall\", \"precision\", \"f1_score\"], \"y\": [0.791907514450867, 0.7911025145067698, 0.7911025145067698, 0.7911025145067698]}, {\"name\": \"Logistic Regression\", \"type\": \"bar\", \"x\": [\"accuracy\", \"recall\", \"precision\", \"f1_score\"], \"y\": [0.7957610789980732, 0.7969052224371374, 0.7938342967244701, 0.7953667953667953]}, {\"name\": \"Decision Tree\", \"type\": \"bar\", \"x\": [\"accuracy\", \"recall\", \"precision\", \"f1_score\", \"f1_score\"], \"y\": [0.7312138728323699, 0.7137330754352031, 0.738, 0.7256637168141593]}, {\"name\": \"Random Forest\", \"type\": \"bar\", \"x\": [\"accuracy\", \"recall\", \"precision\", \"f1_score\", \"f1_score\"], \"y\": [0.7764932562620424, 0.7717601547388782, 0.7777777777777778, 0.7747572815533981]}],\n",
       "                        {\"template\": {\"data\": {\"bar\": [{\"error_x\": {\"color\": \"#2a3f5f\"}, \"error_y\": {\"color\": \"#2a3f5f\"}, \"marker\": {\"line\": {\"color\": \"#E5ECF6\", \"width\": 0.5}}, \"type\": \"bar\"}], \"barpolar\": [{\"marker\": {\"line\": {\"color\": \"#E5ECF6\", \"width\": 0.5}}, \"type\": \"barpolar\"}], \"carpet\": [{\"aaxis\": {\"endlinecolor\": \"#2a3f5f\", \"gridcolor\": \"white\", \"linecolor\": \"white\", \"minorgridcolor\": \"white\", \"startlinecolor\": \"#2a3f5f\"}, \"baxis\": {\"endlinecolor\": \"#2a3f5f\", \"gridcolor\": \"white\", \"linecolor\": \"white\", \"minorgridcolor\": \"white\", \"startlinecolor\": \"#2a3f5f\"}, \"type\": \"carpet\"}], \"choropleth\": [{\"colorbar\": {\"outlinewidth\": 0, \"ticks\": \"\"}, \"type\": \"choropleth\"}], \"contour\": [{\"colorbar\": {\"outlinewidth\": 0, \"ticks\": \"\"}, \"colorscale\": [[0.0, \"#0d0887\"], [0.1111111111111111, \"#46039f\"], [0.2222222222222222, \"#7201a8\"], [0.3333333333333333, \"#9c179e\"], [0.4444444444444444, \"#bd3786\"], [0.5555555555555556, \"#d8576b\"], [0.6666666666666666, \"#ed7953\"], [0.7777777777777778, \"#fb9f3a\"], [0.8888888888888888, \"#fdca26\"], [1.0, \"#f0f921\"]], \"type\": \"contour\"}], \"contourcarpet\": [{\"colorbar\": {\"outlinewidth\": 0, \"ticks\": \"\"}, \"type\": \"contourcarpet\"}], \"heatmap\": [{\"colorbar\": {\"outlinewidth\": 0, \"ticks\": \"\"}, \"colorscale\": [[0.0, \"#0d0887\"], [0.1111111111111111, \"#46039f\"], [0.2222222222222222, \"#7201a8\"], [0.3333333333333333, \"#9c179e\"], [0.4444444444444444, \"#bd3786\"], [0.5555555555555556, \"#d8576b\"], [0.6666666666666666, \"#ed7953\"], [0.7777777777777778, \"#fb9f3a\"], [0.8888888888888888, \"#fdca26\"], [1.0, \"#f0f921\"]], \"type\": \"heatmap\"}], \"heatmapgl\": [{\"colorbar\": {\"outlinewidth\": 0, \"ticks\": \"\"}, \"colorscale\": [[0.0, \"#0d0887\"], [0.1111111111111111, \"#46039f\"], [0.2222222222222222, \"#7201a8\"], [0.3333333333333333, \"#9c179e\"], [0.4444444444444444, \"#bd3786\"], [0.5555555555555556, \"#d8576b\"], [0.6666666666666666, \"#ed7953\"], [0.7777777777777778, \"#fb9f3a\"], [0.8888888888888888, \"#fdca26\"], [1.0, \"#f0f921\"]], \"type\": \"heatmapgl\"}], \"histogram\": [{\"marker\": {\"colorbar\": {\"outlinewidth\": 0, \"ticks\": \"\"}}, \"type\": \"histogram\"}], \"histogram2d\": [{\"colorbar\": {\"outlinewidth\": 0, \"ticks\": \"\"}, \"colorscale\": [[0.0, \"#0d0887\"], [0.1111111111111111, \"#46039f\"], [0.2222222222222222, \"#7201a8\"], [0.3333333333333333, \"#9c179e\"], [0.4444444444444444, \"#bd3786\"], [0.5555555555555556, \"#d8576b\"], [0.6666666666666666, \"#ed7953\"], [0.7777777777777778, \"#fb9f3a\"], [0.8888888888888888, \"#fdca26\"], [1.0, \"#f0f921\"]], \"type\": \"histogram2d\"}], \"histogram2dcontour\": [{\"colorbar\": {\"outlinewidth\": 0, \"ticks\": \"\"}, \"colorscale\": [[0.0, \"#0d0887\"], [0.1111111111111111, \"#46039f\"], [0.2222222222222222, \"#7201a8\"], [0.3333333333333333, \"#9c179e\"], [0.4444444444444444, \"#bd3786\"], [0.5555555555555556, \"#d8576b\"], [0.6666666666666666, \"#ed7953\"], [0.7777777777777778, \"#fb9f3a\"], [0.8888888888888888, \"#fdca26\"], [1.0, \"#f0f921\"]], \"type\": \"histogram2dcontour\"}], \"mesh3d\": [{\"colorbar\": {\"outlinewidth\": 0, \"ticks\": \"\"}, \"type\": \"mesh3d\"}], \"parcoords\": [{\"line\": {\"colorbar\": {\"outlinewidth\": 0, \"ticks\": \"\"}}, \"type\": \"parcoords\"}], \"scatter\": [{\"marker\": {\"colorbar\": {\"outlinewidth\": 0, \"ticks\": \"\"}}, \"type\": \"scatter\"}], \"scatter3d\": [{\"line\": {\"colorbar\": {\"outlinewidth\": 0, \"ticks\": \"\"}}, \"marker\": {\"colorbar\": {\"outlinewidth\": 0, \"ticks\": \"\"}}, \"type\": \"scatter3d\"}], \"scattercarpet\": [{\"marker\": {\"colorbar\": {\"outlinewidth\": 0, \"ticks\": \"\"}}, \"type\": \"scattercarpet\"}], \"scattergeo\": [{\"marker\": {\"colorbar\": {\"outlinewidth\": 0, \"ticks\": \"\"}}, \"type\": \"scattergeo\"}], \"scattergl\": [{\"marker\": {\"colorbar\": {\"outlinewidth\": 0, \"ticks\": \"\"}}, \"type\": \"scattergl\"}], \"scattermapbox\": [{\"marker\": {\"colorbar\": {\"outlinewidth\": 0, \"ticks\": \"\"}}, \"type\": \"scattermapbox\"}], \"scatterpolar\": [{\"marker\": {\"colorbar\": {\"outlinewidth\": 0, \"ticks\": \"\"}}, \"type\": \"scatterpolar\"}], \"scatterpolargl\": [{\"marker\": {\"colorbar\": {\"outlinewidth\": 0, \"ticks\": \"\"}}, \"type\": \"scatterpolargl\"}], \"scatterternary\": [{\"marker\": {\"colorbar\": {\"outlinewidth\": 0, \"ticks\": \"\"}}, \"type\": \"scatterternary\"}], \"surface\": [{\"colorbar\": {\"outlinewidth\": 0, \"ticks\": \"\"}, \"colorscale\": [[0.0, \"#0d0887\"], [0.1111111111111111, \"#46039f\"], [0.2222222222222222, \"#7201a8\"], [0.3333333333333333, \"#9c179e\"], [0.4444444444444444, \"#bd3786\"], [0.5555555555555556, \"#d8576b\"], [0.6666666666666666, \"#ed7953\"], [0.7777777777777778, \"#fb9f3a\"], [0.8888888888888888, \"#fdca26\"], [1.0, \"#f0f921\"]], \"type\": \"surface\"}], \"table\": [{\"cells\": {\"fill\": {\"color\": \"#EBF0F8\"}, \"line\": {\"color\": \"white\"}}, \"header\": {\"fill\": {\"color\": \"#C8D4E3\"}, \"line\": {\"color\": \"white\"}}, \"type\": \"table\"}]}, \"layout\": {\"annotationdefaults\": {\"arrowcolor\": \"#2a3f5f\", \"arrowhead\": 0, \"arrowwidth\": 1}, \"colorscale\": {\"diverging\": [[0, \"#8e0152\"], [0.1, \"#c51b7d\"], [0.2, \"#de77ae\"], [0.3, \"#f1b6da\"], [0.4, \"#fde0ef\"], [0.5, \"#f7f7f7\"], [0.6, \"#e6f5d0\"], [0.7, \"#b8e186\"], [0.8, \"#7fbc41\"], [0.9, \"#4d9221\"], [1, \"#276419\"]], \"sequential\": [[0.0, \"#0d0887\"], [0.1111111111111111, \"#46039f\"], [0.2222222222222222, \"#7201a8\"], [0.3333333333333333, \"#9c179e\"], [0.4444444444444444, \"#bd3786\"], [0.5555555555555556, \"#d8576b\"], [0.6666666666666666, \"#ed7953\"], [0.7777777777777778, \"#fb9f3a\"], [0.8888888888888888, \"#fdca26\"], [1.0, \"#f0f921\"]], \"sequentialminus\": [[0.0, \"#0d0887\"], [0.1111111111111111, \"#46039f\"], [0.2222222222222222, \"#7201a8\"], [0.3333333333333333, \"#9c179e\"], [0.4444444444444444, \"#bd3786\"], [0.5555555555555556, \"#d8576b\"], [0.6666666666666666, \"#ed7953\"], [0.7777777777777778, \"#fb9f3a\"], [0.8888888888888888, \"#fdca26\"], [1.0, \"#f0f921\"]]}, \"colorway\": [\"#636efa\", \"#EF553B\", \"#00cc96\", \"#ab63fa\", \"#FFA15A\", \"#19d3f3\", \"#FF6692\", \"#B6E880\", \"#FF97FF\", \"#FECB52\"], \"font\": {\"color\": \"#2a3f5f\"}, \"geo\": {\"bgcolor\": \"white\", \"lakecolor\": \"white\", \"landcolor\": \"#E5ECF6\", \"showlakes\": true, \"showland\": true, \"subunitcolor\": \"white\"}, \"hoverlabel\": {\"align\": \"left\"}, \"hovermode\": \"closest\", \"mapbox\": {\"style\": \"light\"}, \"paper_bgcolor\": \"white\", \"plot_bgcolor\": \"#E5ECF6\", \"polar\": {\"angularaxis\": {\"gridcolor\": \"white\", \"linecolor\": \"white\", \"ticks\": \"\"}, \"bgcolor\": \"#E5ECF6\", \"radialaxis\": {\"gridcolor\": \"white\", \"linecolor\": \"white\", \"ticks\": \"\"}}, \"scene\": {\"xaxis\": {\"backgroundcolor\": \"#E5ECF6\", \"gridcolor\": \"white\", \"gridwidth\": 2, \"linecolor\": \"white\", \"showbackground\": true, \"ticks\": \"\", \"zerolinecolor\": \"white\"}, \"yaxis\": {\"backgroundcolor\": \"#E5ECF6\", \"gridcolor\": \"white\", \"gridwidth\": 2, \"linecolor\": \"white\", \"showbackground\": true, \"ticks\": \"\", \"zerolinecolor\": \"white\"}, \"zaxis\": {\"backgroundcolor\": \"#E5ECF6\", \"gridcolor\": \"white\", \"gridwidth\": 2, \"linecolor\": \"white\", \"showbackground\": true, \"ticks\": \"\", \"zerolinecolor\": \"white\"}}, \"shapedefaults\": {\"line\": {\"color\": \"#2a3f5f\"}}, \"ternary\": {\"aaxis\": {\"gridcolor\": \"white\", \"linecolor\": \"white\", \"ticks\": \"\"}, \"baxis\": {\"gridcolor\": \"white\", \"linecolor\": \"white\", \"ticks\": \"\"}, \"bgcolor\": \"#E5ECF6\", \"caxis\": {\"gridcolor\": \"white\", \"linecolor\": \"white\", \"ticks\": \"\"}}, \"title\": {\"x\": 0.05}, \"xaxis\": {\"automargin\": true, \"gridcolor\": \"white\", \"linecolor\": \"white\", \"ticks\": \"\", \"zerolinecolor\": \"white\", \"zerolinewidth\": 2}, \"yaxis\": {\"automargin\": true, \"gridcolor\": \"white\", \"linecolor\": \"white\", \"ticks\": \"\", \"zerolinecolor\": \"white\", \"zerolinewidth\": 2}}}, \"title\": {\"text\": \"Performance of Machine Learning Classifiers using Count Vectors\"}},\n",
       "                        {\"responsive\": true}\n",
       "                    ).then(function(){\n",
       "                            \n",
       "var gd = document.getElementById('b2af2146-3260-4834-8a31-a0557c92cb36');\n",
       "var x = new MutationObserver(function (mutations, observer) {{\n",
       "        var display = window.getComputedStyle(gd).display;\n",
       "        if (!display || display === 'none') {{\n",
       "            console.log([gd, 'removed!']);\n",
       "            Plotly.purge(gd);\n",
       "            observer.disconnect();\n",
       "        }}\n",
       "}});\n",
       "\n",
       "// Listen for the removal of the full notebook cells\n",
       "var notebookContainer = gd.closest('#notebook-container');\n",
       "if (notebookContainer) {{\n",
       "    x.observe(notebookContainer, {childList: true});\n",
       "}}\n",
       "\n",
       "// Listen for the clearing of the current output cell\n",
       "var outputEl = gd.closest('.output');\n",
       "if (outputEl) {{\n",
       "    x.observe(outputEl, {childList: true});\n",
       "}}\n",
       "\n",
       "                        })\n",
       "                };\n",
       "                });\n",
       "            </script>\n",
       "        </div>"
      ]
     },
     "metadata": {},
     "output_type": "display_data"
    }
   ],
   "source": [
    "#Create a bar for Multinomial Naive Bayes metrics\n",
    "trace0 = go.Bar(\n",
    "           x = ['accuracy','recall', 'precision', 'f1_score'],\n",
    "           y = [accuracy_nb, recall_nb, precision_nb, f1_nb],\n",
    "           name = 'Multinomial Naive Bayes' \n",
    ")\n",
    "\n",
    "#Create a bar for Linear SVM metrics\n",
    "trace1 = go.Bar(\n",
    "          x = ['accuracy','recall', 'precision', 'f1_score'],\n",
    "          y = [accuracy_lsvm, recall_lsvm, precision_lsvm, f1_lsvm],\n",
    "          name = 'Linear SVM'\n",
    ")\n",
    "\n",
    "#Create a bar for Logistic Regression metrics\n",
    "trace2 = go.Bar(\n",
    "           x = ['accuracy','recall', 'precision', 'f1_score'],\n",
    "           y = [accuracy_logreg, recall_logreg, precision_logreg, f1_logreg],\n",
    "           name = 'Logistic Regression' \n",
    ")\n",
    "\n",
    "#Create a bar for Decision Tree metrics\n",
    "trace3 = go.Bar(\n",
    "           x = ['accuracy','recall', 'precision', 'f1_score', 'f1_score'],\n",
    "           y = [accuracy_dt, recall_dt, precision_dt, f1_dt],\n",
    "           name = 'Decision Tree' \n",
    ")\n",
    "\n",
    "#Create a bar for Random Forest metrics\n",
    "trace4 = go.Bar(\n",
    "           x = ['accuracy','recall', 'precision', 'f1_score', 'f1_score'],\n",
    "           y = [accuracy_rf, recall_rf, precision_rf, f1_rf],\n",
    "           name = 'Random Forest' \n",
    ")\n",
    "\n",
    "\n",
    "#Define the data array\n",
    "data = [trace0, trace1, trace2, trace3, trace4]\n",
    "\n",
    "#Set the title\n",
    "layout = {'title': 'Performance of Machine Learning Classifiers using Count Vectors'}\n",
    "\n",
    "#Create a 'Figure' and plot it\n",
    "fig = go.Figure(data = data, layout = layout)\n",
    "iplot(fig, show_link=False)"
   ]
  },
  {
   "cell_type": "markdown",
   "metadata": {},
   "source": [
    "**Observation**\n",
    "\n",
    "- It is evident from the above results that count vectors performed way better than TF-IDF approach as far as this data is concerned. As stated earlier, we will get very accurate counts of the word content of our text data in count vectors approach. Since tweets are of short length, presence of some significant adjectives plays an important factor in determining the sentiment from a given tweet. \n",
    "- Coming to the classifiers, apart from Decision Tree the metrics for other classifiers are more or less the same with Logistic Regression again coming out as winner in terms of accuracy, recall, precision and f1_score."
   ]
  },
  {
   "cell_type": "markdown",
   "metadata": {},
   "source": [
    "### Random Inputs"
   ]
  },
  {
   "cell_type": "markdown",
   "metadata": {},
   "source": [
    "Let's now input some random sentences to our model and see how it fares. Since, `Logistic Regression` performed the best, we will consider that model for the below inputs. Also we will take the `count vector` approach into consideration for obvious reasons."
   ]
  },
  {
   "cell_type": "code",
   "execution_count": 36,
   "metadata": {},
   "outputs": [
    {
     "name": "stdout",
     "output_type": "stream",
     "text": [
      "[0 0 0 0 1 1 1 1]\n"
     ]
    }
   ],
   "source": [
    "tweets = pd.DataFrame(['I am very happy today! The atmosphere looks cheerful',\n",
    "'Things are looking great. It was such a good day',\n",
    "'Success is right around the corner. Lets celebrate this victory',\n",
    "'Everything is more beautiful when you experience them with a smile!',\n",
    "'Now this is my worst, okay? But I am gonna get better.',\n",
    "'I am tired, boss. Tired of being on the road, lonely as a sparrow in the rain. I am tired of all the pain I feel',\n",
    "'This is quite annoying. I am filled with grief',\n",
    "'Her betrayal shattered my heart into pieces. It was a terrible day'])\n",
    "\n",
    "# Preprocessing tweets as done before\n",
    "tweets[0] = tweets[0].str.replace('[^\\w\\s]',' ')\n",
    "from nltk.corpus import stopwords\n",
    "stop = stopwords.words('english')\n",
    "tweets[0] = tweets[0].apply(lambda x: \" \".join(x for x in x.split() if x not in stop))\n",
    "from textblob import Word\n",
    "tweets[0] = tweets[0].apply(lambda x: \" \".join([Word(word).lemmatize() for word in x.split()]))\n",
    "\n",
    "# Extracting Count Vectors feature from our tweets\n",
    "tweet_count = count_vect.transform(tweets[0])\n",
    "\n",
    "#Predicting the emotion of the tweet\n",
    "tweet_pred = logreg.predict(tweet_count)\n",
    "\n",
    "print(tweet_pred)"
   ]
  },
  {
   "cell_type": "markdown",
   "metadata": {},
   "source": [
    "**Observation**\n",
    "\n",
    "- Since `0` label was for `happiness` and `1` for `sadness`, all the tweets were classified correctly. One can then argue about the low accuracy of our classifiers when the dataset was fed to them, but that is because we haven't had gramatically correct and direct sentences unlike the random inputs. "
   ]
  },
  {
   "cell_type": "markdown",
   "metadata": {},
   "source": [
    "## Conclusion"
   ]
  },
  {
   "cell_type": "markdown",
   "metadata": {},
   "source": [
    "It is safe to conclude that for normal grammatically correct tweets, our model works pretty well. In a similar way, we can detect other emotions as well. Note that we ignored other complexities like sarcasm, spell errors. With more data and other preprocessing techniques we can build better models. Also, we can leverage techniques of classifying sentiments using deep learning(RNN, LSTM)."
   ]
  }
 ],
 "metadata": {
  "kernelspec": {
   "display_name": "dlprojects",
   "language": "python",
   "name": "myenv"
  },
  "toc": {
   "base_numbering": 1,
   "nav_menu": {},
   "number_sections": false,
   "sideBar": true,
   "skip_h1_title": false,
   "title_cell": "Table of Contents",
   "title_sidebar": "Contents",
   "toc_cell": false,
   "toc_position": {},
   "toc_section_display": true,
   "toc_window_display": false
  }
 },
 "nbformat": 4,
 "nbformat_minor": 2
}
