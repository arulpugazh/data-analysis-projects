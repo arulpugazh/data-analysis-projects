{
 "cells": [
  {
   "cell_type": "markdown",
   "metadata": {},
   "source": [
    "Note: Introduction is copied from Towards Data Science blog in Medium\n",
    "## What is Sentiment Analysis?\n"
   ]
  },
  {
   "cell_type": "markdown",
   "metadata": {},
   "source": [
    "Sentiment Analysis is a field of Natural Language Processing responsible for systems that can extract opinions from natural language. NLP targets creating pipelines that can understand language like we humans do. Sentiment analysis is one of the most basic problems in NLP and is usually one of the first problem that students face in a Natural Language Processing domain."
   ]
  },
  {
   "cell_type": "markdown",
   "metadata": {},
   "source": [
    "## Why Sentiment Analysis?"
   ]
  },
  {
   "cell_type": "markdown",
   "metadata": {},
   "source": [
    "From being able to mine opinions from product reviews to being able to forecast stock prices by studying tweets, sentiment analysis has a very wide range of applications. Sentiment Analysis forms the basis for almost every other pipeline in what we call Natural Language Understanding, due to the intuitive nature of the problem.<br>\n",
    "From an learning point of view, sentiment analysis contains everything that a Data Scientist working in NLP should be aware of. Sentence processing and all the common models/architectures used in NLP can be covered under the umbrella of Sentiment Analysis.<br><br>\n",
    "**Types of Sentiment Analysis**<br><br>\n",
    "Sentiment Analysis is essentially a classification problem. While sentiment analysis contains a wide array of problem variety, the most common types can be broadly divided as,\n",
    "- Polarity Detection : Talking about the polarity of the sentence, that is, positive, negative or neutral. Sometimes the classification can be even more fine tuned, like very positive, positive, neutral, negative and very negative.\n",
    "- Emotion Detection : Detecting the emotion of the speaker from the sentence, for example, happy, sad, angry etc.\n",
    "- Intent Detection : Being able to detect not only what is present in the sentence but also its intent."
   ]
  },
  {
   "cell_type": "markdown",
   "metadata": {},
   "source": [
    "We will perform Sentiment Analysis using traditional machine learning approach as illustrated below."
   ]
  },
  {
   "cell_type": "markdown",
   "metadata": {},
   "source": [
    "## Imports"
   ]
  },
  {
   "cell_type": "code",
   "execution_count": 1,
   "metadata": {},
   "outputs": [],
   "source": [
    "%load_ext autoreload\n",
    "%autoreload 2\n",
    "# Disable warnings in Anaconda\n",
    "import warnings\n",
    "warnings.filterwarnings('ignore')\n",
    "\n",
    "#Visualization libraries\n",
    "%matplotlib notebook\n",
    "import matplotlib.pyplot as plt\n",
    "import seaborn as sns\n",
    "sns.set()\n",
    "\n",
    "#For more info on arguments of seaborn.set()\n",
    "#https://seaborn.pydata.org/generated/seaborn.set.html\n",
    "\n",
    "#Graphics in SVG format are more sharp and legible\n",
    "%config InlineBackend.figure_format = 'svg'\n",
    "\n",
    "#Increase the default plot size and set the color scheme\n",
    "plt.rcParams['figure.figsize'] = (8,5)\n",
    "#This works as well - plt.rcParams['figure.figsize'] = 8,5\n",
    "plt.rcParams['image.cmap'] = 'viridis'\n",
    "\n",
    "import pandas as pd\n",
    "import numpy as np"
   ]
  },
  {
   "cell_type": "markdown",
   "metadata": {},
   "source": [
    "## Data Preparation"
   ]
  },
  {
   "cell_type": "markdown",
   "metadata": {},
   "source": [
    "### Load the Data"
   ]
  },
  {
   "cell_type": "markdown",
   "metadata": {},
   "source": [
    "We will use a Twitter dataset for this"
   ]
  },
  {
   "cell_type": "code",
   "execution_count": 2,
   "metadata": {},
   "outputs": [],
   "source": [
    "data_dir = 'data/text_emotion.csv'"
   ]
  },
  {
   "cell_type": "code",
   "execution_count": 3,
   "metadata": {},
   "outputs": [],
   "source": [
    "old_data = pd.read_csv(data_dir)"
   ]
  },
  {
   "cell_type": "markdown",
   "metadata": {},
   "source": [
    "### Reading and cleaning the data"
   ]
  },
  {
   "cell_type": "code",
   "execution_count": 4,
   "metadata": {},
   "outputs": [
    {
     "data": {
      "text/plain": [
       "(40000, 4)"
      ]
     },
     "execution_count": 4,
     "metadata": {},
     "output_type": "execute_result"
    }
   ],
   "source": [
    "old_data.shape"
   ]
  },
  {
   "cell_type": "code",
   "execution_count": 5,
   "metadata": {
    "cell_style": "split"
   },
   "outputs": [
    {
     "data": {
      "text/html": [
       "<div>\n",
       "<style scoped>\n",
       "    .dataframe tbody tr th:only-of-type {\n",
       "        vertical-align: middle;\n",
       "    }\n",
       "\n",
       "    .dataframe tbody tr th {\n",
       "        vertical-align: top;\n",
       "    }\n",
       "\n",
       "    .dataframe thead th {\n",
       "        text-align: right;\n",
       "    }\n",
       "</style>\n",
       "<table border=\"1\" class=\"dataframe\">\n",
       "  <thead>\n",
       "    <tr style=\"text-align: right;\">\n",
       "      <th></th>\n",
       "      <th>tweet_id</th>\n",
       "      <th>sentiment</th>\n",
       "      <th>author</th>\n",
       "      <th>content</th>\n",
       "    </tr>\n",
       "  </thead>\n",
       "  <tbody>\n",
       "    <tr>\n",
       "      <th>0</th>\n",
       "      <td>1956967341</td>\n",
       "      <td>empty</td>\n",
       "      <td>xoshayzers</td>\n",
       "      <td>@tiffanylue i know  i was listenin to bad habi...</td>\n",
       "    </tr>\n",
       "    <tr>\n",
       "      <th>1</th>\n",
       "      <td>1956967666</td>\n",
       "      <td>sadness</td>\n",
       "      <td>wannamama</td>\n",
       "      <td>Layin n bed with a headache  ughhhh...waitin o...</td>\n",
       "    </tr>\n",
       "    <tr>\n",
       "      <th>2</th>\n",
       "      <td>1956967696</td>\n",
       "      <td>sadness</td>\n",
       "      <td>coolfunky</td>\n",
       "      <td>Funeral ceremony...gloomy friday...</td>\n",
       "    </tr>\n",
       "    <tr>\n",
       "      <th>3</th>\n",
       "      <td>1956967789</td>\n",
       "      <td>enthusiasm</td>\n",
       "      <td>czareaquino</td>\n",
       "      <td>wants to hang out with friends SOON!</td>\n",
       "    </tr>\n",
       "    <tr>\n",
       "      <th>4</th>\n",
       "      <td>1956968416</td>\n",
       "      <td>neutral</td>\n",
       "      <td>xkilljoyx</td>\n",
       "      <td>@dannycastillo We want to trade with someone w...</td>\n",
       "    </tr>\n",
       "  </tbody>\n",
       "</table>\n",
       "</div>"
      ],
      "text/plain": [
       "     tweet_id   sentiment       author  \\\n",
       "0  1956967341       empty   xoshayzers   \n",
       "1  1956967666     sadness    wannamama   \n",
       "2  1956967696     sadness    coolfunky   \n",
       "3  1956967789  enthusiasm  czareaquino   \n",
       "4  1956968416     neutral    xkilljoyx   \n",
       "\n",
       "                                             content  \n",
       "0  @tiffanylue i know  i was listenin to bad habi...  \n",
       "1  Layin n bed with a headache  ughhhh...waitin o...  \n",
       "2                Funeral ceremony...gloomy friday...  \n",
       "3               wants to hang out with friends SOON!  \n",
       "4  @dannycastillo We want to trade with someone w...  "
      ]
     },
     "execution_count": 5,
     "metadata": {},
     "output_type": "execute_result"
    }
   ],
   "source": [
    "#Printing the first few observations\n",
    "old_data.head()"
   ]
  },
  {
   "cell_type": "code",
   "execution_count": 6,
   "metadata": {
    "cell_style": "split"
   },
   "outputs": [
    {
     "name": "stdout",
     "output_type": "stream",
     "text": [
      "<class 'pandas.core.frame.DataFrame'>\n",
      "RangeIndex: 40000 entries, 0 to 39999\n",
      "Data columns (total 4 columns):\n",
      "tweet_id     40000 non-null int64\n",
      "sentiment    40000 non-null object\n",
      "author       40000 non-null object\n",
      "content      40000 non-null object\n",
      "dtypes: int64(1), object(3)\n",
      "memory usage: 1.2+ MB\n"
     ]
    }
   ],
   "source": [
    "old_data.info()"
   ]
  },
  {
   "cell_type": "markdown",
   "metadata": {},
   "source": [
    "**Observation**\n",
    "\n",
    "- As seen above, the dataset has 40K rows aka observations/records and 4 columns aka features.\n",
    "- If we take a close look at `old_data.info()` output, it is evident that the 4 columns are `tweet_id`, `sentiment`, `author` and `content` each containing 40K records. Hence, we can infer that there are no null elements in the dataset."
   ]
  },
  {
   "cell_type": "markdown",
   "metadata": {},
   "source": [
    "Since `author` feature won't play a part in predicting sentiment from the content, we can drop that column."
   ]
  },
  {
   "cell_type": "code",
   "execution_count": 7,
   "metadata": {},
   "outputs": [],
   "source": [
    "old_data = old_data.drop('author', axis = 1)"
   ]
  },
  {
   "cell_type": "code",
   "execution_count": 8,
   "metadata": {},
   "outputs": [
    {
     "data": {
      "text/html": [
       "<div>\n",
       "<style scoped>\n",
       "    .dataframe tbody tr th:only-of-type {\n",
       "        vertical-align: middle;\n",
       "    }\n",
       "\n",
       "    .dataframe tbody tr th {\n",
       "        vertical-align: top;\n",
       "    }\n",
       "\n",
       "    .dataframe thead th {\n",
       "        text-align: right;\n",
       "    }\n",
       "</style>\n",
       "<table border=\"1\" class=\"dataframe\">\n",
       "  <thead>\n",
       "    <tr style=\"text-align: right;\">\n",
       "      <th></th>\n",
       "      <th>tweet_id</th>\n",
       "      <th>sentiment</th>\n",
       "      <th>content</th>\n",
       "    </tr>\n",
       "  </thead>\n",
       "  <tbody>\n",
       "    <tr>\n",
       "      <th>0</th>\n",
       "      <td>1956967341</td>\n",
       "      <td>empty</td>\n",
       "      <td>@tiffanylue i know  i was listenin to bad habi...</td>\n",
       "    </tr>\n",
       "    <tr>\n",
       "      <th>1</th>\n",
       "      <td>1956967666</td>\n",
       "      <td>sadness</td>\n",
       "      <td>Layin n bed with a headache  ughhhh...waitin o...</td>\n",
       "    </tr>\n",
       "    <tr>\n",
       "      <th>2</th>\n",
       "      <td>1956967696</td>\n",
       "      <td>sadness</td>\n",
       "      <td>Funeral ceremony...gloomy friday...</td>\n",
       "    </tr>\n",
       "    <tr>\n",
       "      <th>3</th>\n",
       "      <td>1956967789</td>\n",
       "      <td>enthusiasm</td>\n",
       "      <td>wants to hang out with friends SOON!</td>\n",
       "    </tr>\n",
       "    <tr>\n",
       "      <th>4</th>\n",
       "      <td>1956968416</td>\n",
       "      <td>neutral</td>\n",
       "      <td>@dannycastillo We want to trade with someone w...</td>\n",
       "    </tr>\n",
       "  </tbody>\n",
       "</table>\n",
       "</div>"
      ],
      "text/plain": [
       "     tweet_id   sentiment                                            content\n",
       "0  1956967341       empty  @tiffanylue i know  i was listenin to bad habi...\n",
       "1  1956967666     sadness  Layin n bed with a headache  ughhhh...waitin o...\n",
       "2  1956967696     sadness                Funeral ceremony...gloomy friday...\n",
       "3  1956967789  enthusiasm               wants to hang out with friends SOON!\n",
       "4  1956968416     neutral  @dannycastillo We want to trade with someone w..."
      ]
     },
     "execution_count": 8,
     "metadata": {},
     "output_type": "execute_result"
    }
   ],
   "source": [
    "#Verifying the above\n",
    "old_data.head()"
   ]
  },
  {
   "cell_type": "markdown",
   "metadata": {},
   "source": [
    "Let's explore the `sentiment` feature!"
   ]
  },
  {
   "cell_type": "code",
   "execution_count": 9,
   "metadata": {
    "cell_style": "split"
   },
   "outputs": [
    {
     "data": {
      "text/plain": [
       "13"
      ]
     },
     "execution_count": 9,
     "metadata": {},
     "output_type": "execute_result"
    }
   ],
   "source": [
    "old_data['sentiment'].nunique()"
   ]
  },
  {
   "cell_type": "code",
   "execution_count": 10,
   "metadata": {
    "cell_style": "split"
   },
   "outputs": [
    {
     "data": {
      "text/plain": [
       "neutral       8638\n",
       "worry         8459\n",
       "happiness     5209\n",
       "sadness       5165\n",
       "love          3842\n",
       "surprise      2187\n",
       "fun           1776\n",
       "relief        1526\n",
       "hate          1323\n",
       "empty          827\n",
       "enthusiasm     759\n",
       "boredom        179\n",
       "anger          110\n",
       "Name: sentiment, dtype: int64"
      ]
     },
     "execution_count": 10,
     "metadata": {},
     "output_type": "execute_result"
    }
   ],
   "source": [
    "old_data['sentiment'].value_counts()"
   ]
  },
  {
   "cell_type": "markdown",
   "metadata": {},
   "source": [
    "From the above, we can conclude that there are 13 unique sentiments listed in the dataset. Let us only consider the records having sentiment(s) as _happiness_ and _sadness_ only for simplicity purpose.<br><br>"
   ]
  },
  {
   "cell_type": "markdown",
   "metadata": {},
   "source": [
    "If we have to drop the records with other sentiment labels, we can do it in the following ways:<br>\n",
    "\n",
    "**Method 1**\n",
    "\n",
    "We can drop rows with rest of the sentiment labels individually like below:\n",
    "\n",
    "```python\n",
    "old_data  = old_data.drop(data[data.sentiment == 'anger'].index)\n",
    "old_data  = old_data.drop(data[data.sentiment == 'boredom'].index)\n",
    "old_data  = old_data.drop(data[data.sentiment == 'enthusiasm'].index)\n",
    "old_data  = old_data.drop(data[data.sentiment == 'empty'].index)\n",
    "old_data  = old_data.drop(data[data.sentiment == 'fun'].index)\n",
    "old_data  = old_data.drop(data[data.sentiment == 'relief'].index)\n",
    "old_data  = old_data.drop(data[data.sentiment == 'surprise'].index)\n",
    "old_data  = old_data.drop(data[data.sentiment == 'love'].index)\n",
    "old_data  = old_data.drop(data[data.sentiment == 'hate'].index)\n",
    "old_data  = old_data.drop(data[data.sentiment == 'neutral'].index)\n",
    "old_data  = old_data.drop(data[data.sentiment == 'worry'].index)\n",
    "```\n",
    "**Method 2**\n",
    "\n",
    "Since we will be deleting rows based on sentiments, what we can do is set `sentiment` feature as index and then drop the records as shown below, followed by re-setting the index,\n",
    "\n",
    "```python\n",
    "#If we want to set a particular feature/column as the index while loading the dataset\n",
    "# old_data = pd.read_csv('data/text_emotion.csv', index_col =\"sentiment\" )\n",
    "old_data.set_index('sentiment')\n",
    "\n",
    "#Drop the records with rest of the sentiment labels\n",
    "old_data = old_data.drop([\"empty\" , \"neutral\" ,\"love\", \"surprise\", \"fun\",\n",
    "              \"relief\", \"hate\", \"enthusiasm\", \"boredom\", \"anger\", \"worry\"], inplace = True)\n",
    "\n",
    "#Re-setting the index\n",
    "old_data.reset_index()\n",
    "```\n"
   ]
  },
  {
   "cell_type": "markdown",
   "metadata": {},
   "source": [
    "But, let's not delete the records instead create a new dataframe `data` with the required `sentiment` labels."
   ]
  },
  {
   "cell_type": "code",
   "execution_count": 11,
   "metadata": {},
   "outputs": [],
   "source": [
    "data = old_data[old_data['sentiment'].isin(['happiness','sadness'])]"
   ]
  },
  {
   "cell_type": "code",
   "execution_count": 12,
   "metadata": {},
   "outputs": [
    {
     "data": {
      "text/plain": [
       "(10374, 3)"
      ]
     },
     "execution_count": 12,
     "metadata": {},
     "output_type": "execute_result"
    }
   ],
   "source": [
    "data.shape"
   ]
  },
  {
   "cell_type": "code",
   "execution_count": 13,
   "metadata": {
    "cell_style": "split"
   },
   "outputs": [
    {
     "data": {
      "text/html": [
       "<div>\n",
       "<style scoped>\n",
       "    .dataframe tbody tr th:only-of-type {\n",
       "        vertical-align: middle;\n",
       "    }\n",
       "\n",
       "    .dataframe tbody tr th {\n",
       "        vertical-align: top;\n",
       "    }\n",
       "\n",
       "    .dataframe thead th {\n",
       "        text-align: right;\n",
       "    }\n",
       "</style>\n",
       "<table border=\"1\" class=\"dataframe\">\n",
       "  <thead>\n",
       "    <tr style=\"text-align: right;\">\n",
       "      <th></th>\n",
       "      <th>tweet_id</th>\n",
       "      <th>sentiment</th>\n",
       "      <th>content</th>\n",
       "    </tr>\n",
       "  </thead>\n",
       "  <tbody>\n",
       "    <tr>\n",
       "      <th>1</th>\n",
       "      <td>1956967666</td>\n",
       "      <td>sadness</td>\n",
       "      <td>Layin n bed with a headache  ughhhh...waitin o...</td>\n",
       "    </tr>\n",
       "    <tr>\n",
       "      <th>2</th>\n",
       "      <td>1956967696</td>\n",
       "      <td>sadness</td>\n",
       "      <td>Funeral ceremony...gloomy friday...</td>\n",
       "    </tr>\n",
       "    <tr>\n",
       "      <th>6</th>\n",
       "      <td>1956968487</td>\n",
       "      <td>sadness</td>\n",
       "      <td>I should be sleep, but im not! thinking about ...</td>\n",
       "    </tr>\n",
       "    <tr>\n",
       "      <th>8</th>\n",
       "      <td>1956969035</td>\n",
       "      <td>sadness</td>\n",
       "      <td>@charviray Charlene my love. I miss you</td>\n",
       "    </tr>\n",
       "    <tr>\n",
       "      <th>9</th>\n",
       "      <td>1956969172</td>\n",
       "      <td>sadness</td>\n",
       "      <td>@kelcouch I'm sorry  at least it's Friday?</td>\n",
       "    </tr>\n",
       "  </tbody>\n",
       "</table>\n",
       "</div>"
      ],
      "text/plain": [
       "     tweet_id sentiment                                            content\n",
       "1  1956967666   sadness  Layin n bed with a headache  ughhhh...waitin o...\n",
       "2  1956967696   sadness                Funeral ceremony...gloomy friday...\n",
       "6  1956968487   sadness  I should be sleep, but im not! thinking about ...\n",
       "8  1956969035   sadness            @charviray Charlene my love. I miss you\n",
       "9  1956969172   sadness         @kelcouch I'm sorry  at least it's Friday?"
      ]
     },
     "execution_count": 13,
     "metadata": {},
     "output_type": "execute_result"
    }
   ],
   "source": [
    "data.head()"
   ]
  },
  {
   "cell_type": "code",
   "execution_count": 14,
   "metadata": {
    "cell_style": "split"
   },
   "outputs": [
    {
     "name": "stdout",
     "output_type": "stream",
     "text": [
      "<class 'pandas.core.frame.DataFrame'>\n",
      "Int64Index: 10374 entries, 1 to 39998\n",
      "Data columns (total 3 columns):\n",
      "tweet_id     10374 non-null int64\n",
      "sentiment    10374 non-null object\n",
      "content      10374 non-null object\n",
      "dtypes: int64(1), object(2)\n",
      "memory usage: 324.2+ KB\n"
     ]
    }
   ],
   "source": [
    "data.info()"
   ]
  },
  {
   "cell_type": "code",
   "execution_count": 15,
   "metadata": {
    "cell_style": "center"
   },
   "outputs": [
    {
     "data": {
      "text/plain": [
       "2"
      ]
     },
     "execution_count": 15,
     "metadata": {},
     "output_type": "execute_result"
    }
   ],
   "source": [
    "data['sentiment'].nunique()"
   ]
  },
  {
   "cell_type": "code",
   "execution_count": 16,
   "metadata": {
    "cell_style": "center"
   },
   "outputs": [
    {
     "data": {
      "text/plain": [
       "happiness    5209\n",
       "sadness      5165\n",
       "Name: sentiment, dtype: int64"
      ]
     },
     "execution_count": 16,
     "metadata": {},
     "output_type": "execute_result"
    }
   ],
   "source": [
    "data['sentiment'].value_counts()"
   ]
  },
  {
   "cell_type": "code",
   "execution_count": 17,
   "metadata": {},
   "outputs": [
    {
     "data": {
      "text/plain": [
       "happiness    0.502121\n",
       "sadness      0.497879\n",
       "Name: sentiment, dtype: float64"
      ]
     },
     "execution_count": 17,
     "metadata": {},
     "output_type": "execute_result"
    }
   ],
   "source": [
    "#To view each sentiment in %\n",
    "data['sentiment'].value_counts(normalize = True)"
   ]
  },
  {
   "cell_type": "code",
   "execution_count": 18,
   "metadata": {},
   "outputs": [
    {
     "data": {
      "application/javascript": [
       "/* Put everything inside the global mpl namespace */\n",
       "window.mpl = {};\n",
       "\n",
       "\n",
       "mpl.get_websocket_type = function() {\n",
       "    if (typeof(WebSocket) !== 'undefined') {\n",
       "        return WebSocket;\n",
       "    } else if (typeof(MozWebSocket) !== 'undefined') {\n",
       "        return MozWebSocket;\n",
       "    } else {\n",
       "        alert('Your browser does not have WebSocket support.' +\n",
       "              'Please try Chrome, Safari or Firefox ≥ 6. ' +\n",
       "              'Firefox 4 and 5 are also supported but you ' +\n",
       "              'have to enable WebSockets in about:config.');\n",
       "    };\n",
       "}\n",
       "\n",
       "mpl.figure = function(figure_id, websocket, ondownload, parent_element) {\n",
       "    this.id = figure_id;\n",
       "\n",
       "    this.ws = websocket;\n",
       "\n",
       "    this.supports_binary = (this.ws.binaryType != undefined);\n",
       "\n",
       "    if (!this.supports_binary) {\n",
       "        var warnings = document.getElementById(\"mpl-warnings\");\n",
       "        if (warnings) {\n",
       "            warnings.style.display = 'block';\n",
       "            warnings.textContent = (\n",
       "                \"This browser does not support binary websocket messages. \" +\n",
       "                    \"Performance may be slow.\");\n",
       "        }\n",
       "    }\n",
       "\n",
       "    this.imageObj = new Image();\n",
       "\n",
       "    this.context = undefined;\n",
       "    this.message = undefined;\n",
       "    this.canvas = undefined;\n",
       "    this.rubberband_canvas = undefined;\n",
       "    this.rubberband_context = undefined;\n",
       "    this.format_dropdown = undefined;\n",
       "\n",
       "    this.image_mode = 'full';\n",
       "\n",
       "    this.root = $('<div/>');\n",
       "    this._root_extra_style(this.root)\n",
       "    this.root.attr('style', 'display: inline-block');\n",
       "\n",
       "    $(parent_element).append(this.root);\n",
       "\n",
       "    this._init_header(this);\n",
       "    this._init_canvas(this);\n",
       "    this._init_toolbar(this);\n",
       "\n",
       "    var fig = this;\n",
       "\n",
       "    this.waiting = false;\n",
       "\n",
       "    this.ws.onopen =  function () {\n",
       "            fig.send_message(\"supports_binary\", {value: fig.supports_binary});\n",
       "            fig.send_message(\"send_image_mode\", {});\n",
       "            if (mpl.ratio != 1) {\n",
       "                fig.send_message(\"set_dpi_ratio\", {'dpi_ratio': mpl.ratio});\n",
       "            }\n",
       "            fig.send_message(\"refresh\", {});\n",
       "        }\n",
       "\n",
       "    this.imageObj.onload = function() {\n",
       "            if (fig.image_mode == 'full') {\n",
       "                // Full images could contain transparency (where diff images\n",
       "                // almost always do), so we need to clear the canvas so that\n",
       "                // there is no ghosting.\n",
       "                fig.context.clearRect(0, 0, fig.canvas.width, fig.canvas.height);\n",
       "            }\n",
       "            fig.context.drawImage(fig.imageObj, 0, 0);\n",
       "        };\n",
       "\n",
       "    this.imageObj.onunload = function() {\n",
       "        fig.ws.close();\n",
       "    }\n",
       "\n",
       "    this.ws.onmessage = this._make_on_message_function(this);\n",
       "\n",
       "    this.ondownload = ondownload;\n",
       "}\n",
       "\n",
       "mpl.figure.prototype._init_header = function() {\n",
       "    var titlebar = $(\n",
       "        '<div class=\"ui-dialog-titlebar ui-widget-header ui-corner-all ' +\n",
       "        'ui-helper-clearfix\"/>');\n",
       "    var titletext = $(\n",
       "        '<div class=\"ui-dialog-title\" style=\"width: 100%; ' +\n",
       "        'text-align: center; padding: 3px;\"/>');\n",
       "    titlebar.append(titletext)\n",
       "    this.root.append(titlebar);\n",
       "    this.header = titletext[0];\n",
       "}\n",
       "\n",
       "\n",
       "\n",
       "mpl.figure.prototype._canvas_extra_style = function(canvas_div) {\n",
       "\n",
       "}\n",
       "\n",
       "\n",
       "mpl.figure.prototype._root_extra_style = function(canvas_div) {\n",
       "\n",
       "}\n",
       "\n",
       "mpl.figure.prototype._init_canvas = function() {\n",
       "    var fig = this;\n",
       "\n",
       "    var canvas_div = $('<div/>');\n",
       "\n",
       "    canvas_div.attr('style', 'position: relative; clear: both; outline: 0');\n",
       "\n",
       "    function canvas_keyboard_event(event) {\n",
       "        return fig.key_event(event, event['data']);\n",
       "    }\n",
       "\n",
       "    canvas_div.keydown('key_press', canvas_keyboard_event);\n",
       "    canvas_div.keyup('key_release', canvas_keyboard_event);\n",
       "    this.canvas_div = canvas_div\n",
       "    this._canvas_extra_style(canvas_div)\n",
       "    this.root.append(canvas_div);\n",
       "\n",
       "    var canvas = $('<canvas/>');\n",
       "    canvas.addClass('mpl-canvas');\n",
       "    canvas.attr('style', \"left: 0; top: 0; z-index: 0; outline: 0\")\n",
       "\n",
       "    this.canvas = canvas[0];\n",
       "    this.context = canvas[0].getContext(\"2d\");\n",
       "\n",
       "    var backingStore = this.context.backingStorePixelRatio ||\n",
       "\tthis.context.webkitBackingStorePixelRatio ||\n",
       "\tthis.context.mozBackingStorePixelRatio ||\n",
       "\tthis.context.msBackingStorePixelRatio ||\n",
       "\tthis.context.oBackingStorePixelRatio ||\n",
       "\tthis.context.backingStorePixelRatio || 1;\n",
       "\n",
       "    mpl.ratio = (window.devicePixelRatio || 1) / backingStore;\n",
       "\n",
       "    var rubberband = $('<canvas/>');\n",
       "    rubberband.attr('style', \"position: absolute; left: 0; top: 0; z-index: 1;\")\n",
       "\n",
       "    var pass_mouse_events = true;\n",
       "\n",
       "    canvas_div.resizable({\n",
       "        start: function(event, ui) {\n",
       "            pass_mouse_events = false;\n",
       "        },\n",
       "        resize: function(event, ui) {\n",
       "            fig.request_resize(ui.size.width, ui.size.height);\n",
       "        },\n",
       "        stop: function(event, ui) {\n",
       "            pass_mouse_events = true;\n",
       "            fig.request_resize(ui.size.width, ui.size.height);\n",
       "        },\n",
       "    });\n",
       "\n",
       "    function mouse_event_fn(event) {\n",
       "        if (pass_mouse_events)\n",
       "            return fig.mouse_event(event, event['data']);\n",
       "    }\n",
       "\n",
       "    rubberband.mousedown('button_press', mouse_event_fn);\n",
       "    rubberband.mouseup('button_release', mouse_event_fn);\n",
       "    // Throttle sequential mouse events to 1 every 20ms.\n",
       "    rubberband.mousemove('motion_notify', mouse_event_fn);\n",
       "\n",
       "    rubberband.mouseenter('figure_enter', mouse_event_fn);\n",
       "    rubberband.mouseleave('figure_leave', mouse_event_fn);\n",
       "\n",
       "    canvas_div.on(\"wheel\", function (event) {\n",
       "        event = event.originalEvent;\n",
       "        event['data'] = 'scroll'\n",
       "        if (event.deltaY < 0) {\n",
       "            event.step = 1;\n",
       "        } else {\n",
       "            event.step = -1;\n",
       "        }\n",
       "        mouse_event_fn(event);\n",
       "    });\n",
       "\n",
       "    canvas_div.append(canvas);\n",
       "    canvas_div.append(rubberband);\n",
       "\n",
       "    this.rubberband = rubberband;\n",
       "    this.rubberband_canvas = rubberband[0];\n",
       "    this.rubberband_context = rubberband[0].getContext(\"2d\");\n",
       "    this.rubberband_context.strokeStyle = \"#000000\";\n",
       "\n",
       "    this._resize_canvas = function(width, height) {\n",
       "        // Keep the size of the canvas, canvas container, and rubber band\n",
       "        // canvas in synch.\n",
       "        canvas_div.css('width', width)\n",
       "        canvas_div.css('height', height)\n",
       "\n",
       "        canvas.attr('width', width * mpl.ratio);\n",
       "        canvas.attr('height', height * mpl.ratio);\n",
       "        canvas.attr('style', 'width: ' + width + 'px; height: ' + height + 'px;');\n",
       "\n",
       "        rubberband.attr('width', width);\n",
       "        rubberband.attr('height', height);\n",
       "    }\n",
       "\n",
       "    // Set the figure to an initial 600x600px, this will subsequently be updated\n",
       "    // upon first draw.\n",
       "    this._resize_canvas(600, 600);\n",
       "\n",
       "    // Disable right mouse context menu.\n",
       "    $(this.rubberband_canvas).bind(\"contextmenu\",function(e){\n",
       "        return false;\n",
       "    });\n",
       "\n",
       "    function set_focus () {\n",
       "        canvas.focus();\n",
       "        canvas_div.focus();\n",
       "    }\n",
       "\n",
       "    window.setTimeout(set_focus, 100);\n",
       "}\n",
       "\n",
       "mpl.figure.prototype._init_toolbar = function() {\n",
       "    var fig = this;\n",
       "\n",
       "    var nav_element = $('<div/>')\n",
       "    nav_element.attr('style', 'width: 100%');\n",
       "    this.root.append(nav_element);\n",
       "\n",
       "    // Define a callback function for later on.\n",
       "    function toolbar_event(event) {\n",
       "        return fig.toolbar_button_onclick(event['data']);\n",
       "    }\n",
       "    function toolbar_mouse_event(event) {\n",
       "        return fig.toolbar_button_onmouseover(event['data']);\n",
       "    }\n",
       "\n",
       "    for(var toolbar_ind in mpl.toolbar_items) {\n",
       "        var name = mpl.toolbar_items[toolbar_ind][0];\n",
       "        var tooltip = mpl.toolbar_items[toolbar_ind][1];\n",
       "        var image = mpl.toolbar_items[toolbar_ind][2];\n",
       "        var method_name = mpl.toolbar_items[toolbar_ind][3];\n",
       "\n",
       "        if (!name) {\n",
       "            // put a spacer in here.\n",
       "            continue;\n",
       "        }\n",
       "        var button = $('<button/>');\n",
       "        button.addClass('ui-button ui-widget ui-state-default ui-corner-all ' +\n",
       "                        'ui-button-icon-only');\n",
       "        button.attr('role', 'button');\n",
       "        button.attr('aria-disabled', 'false');\n",
       "        button.click(method_name, toolbar_event);\n",
       "        button.mouseover(tooltip, toolbar_mouse_event);\n",
       "\n",
       "        var icon_img = $('<span/>');\n",
       "        icon_img.addClass('ui-button-icon-primary ui-icon');\n",
       "        icon_img.addClass(image);\n",
       "        icon_img.addClass('ui-corner-all');\n",
       "\n",
       "        var tooltip_span = $('<span/>');\n",
       "        tooltip_span.addClass('ui-button-text');\n",
       "        tooltip_span.html(tooltip);\n",
       "\n",
       "        button.append(icon_img);\n",
       "        button.append(tooltip_span);\n",
       "\n",
       "        nav_element.append(button);\n",
       "    }\n",
       "\n",
       "    var fmt_picker_span = $('<span/>');\n",
       "\n",
       "    var fmt_picker = $('<select/>');\n",
       "    fmt_picker.addClass('mpl-toolbar-option ui-widget ui-widget-content');\n",
       "    fmt_picker_span.append(fmt_picker);\n",
       "    nav_element.append(fmt_picker_span);\n",
       "    this.format_dropdown = fmt_picker[0];\n",
       "\n",
       "    for (var ind in mpl.extensions) {\n",
       "        var fmt = mpl.extensions[ind];\n",
       "        var option = $(\n",
       "            '<option/>', {selected: fmt === mpl.default_extension}).html(fmt);\n",
       "        fmt_picker.append(option)\n",
       "    }\n",
       "\n",
       "    // Add hover states to the ui-buttons\n",
       "    $( \".ui-button\" ).hover(\n",
       "        function() { $(this).addClass(\"ui-state-hover\");},\n",
       "        function() { $(this).removeClass(\"ui-state-hover\");}\n",
       "    );\n",
       "\n",
       "    var status_bar = $('<span class=\"mpl-message\"/>');\n",
       "    nav_element.append(status_bar);\n",
       "    this.message = status_bar[0];\n",
       "}\n",
       "\n",
       "mpl.figure.prototype.request_resize = function(x_pixels, y_pixels) {\n",
       "    // Request matplotlib to resize the figure. Matplotlib will then trigger a resize in the client,\n",
       "    // which will in turn request a refresh of the image.\n",
       "    this.send_message('resize', {'width': x_pixels, 'height': y_pixels});\n",
       "}\n",
       "\n",
       "mpl.figure.prototype.send_message = function(type, properties) {\n",
       "    properties['type'] = type;\n",
       "    properties['figure_id'] = this.id;\n",
       "    this.ws.send(JSON.stringify(properties));\n",
       "}\n",
       "\n",
       "mpl.figure.prototype.send_draw_message = function() {\n",
       "    if (!this.waiting) {\n",
       "        this.waiting = true;\n",
       "        this.ws.send(JSON.stringify({type: \"draw\", figure_id: this.id}));\n",
       "    }\n",
       "}\n",
       "\n",
       "\n",
       "mpl.figure.prototype.handle_save = function(fig, msg) {\n",
       "    var format_dropdown = fig.format_dropdown;\n",
       "    var format = format_dropdown.options[format_dropdown.selectedIndex].value;\n",
       "    fig.ondownload(fig, format);\n",
       "}\n",
       "\n",
       "\n",
       "mpl.figure.prototype.handle_resize = function(fig, msg) {\n",
       "    var size = msg['size'];\n",
       "    if (size[0] != fig.canvas.width || size[1] != fig.canvas.height) {\n",
       "        fig._resize_canvas(size[0], size[1]);\n",
       "        fig.send_message(\"refresh\", {});\n",
       "    };\n",
       "}\n",
       "\n",
       "mpl.figure.prototype.handle_rubberband = function(fig, msg) {\n",
       "    var x0 = msg['x0'] / mpl.ratio;\n",
       "    var y0 = (fig.canvas.height - msg['y0']) / mpl.ratio;\n",
       "    var x1 = msg['x1'] / mpl.ratio;\n",
       "    var y1 = (fig.canvas.height - msg['y1']) / mpl.ratio;\n",
       "    x0 = Math.floor(x0) + 0.5;\n",
       "    y0 = Math.floor(y0) + 0.5;\n",
       "    x1 = Math.floor(x1) + 0.5;\n",
       "    y1 = Math.floor(y1) + 0.5;\n",
       "    var min_x = Math.min(x0, x1);\n",
       "    var min_y = Math.min(y0, y1);\n",
       "    var width = Math.abs(x1 - x0);\n",
       "    var height = Math.abs(y1 - y0);\n",
       "\n",
       "    fig.rubberband_context.clearRect(\n",
       "        0, 0, fig.canvas.width, fig.canvas.height);\n",
       "\n",
       "    fig.rubberband_context.strokeRect(min_x, min_y, width, height);\n",
       "}\n",
       "\n",
       "mpl.figure.prototype.handle_figure_label = function(fig, msg) {\n",
       "    // Updates the figure title.\n",
       "    fig.header.textContent = msg['label'];\n",
       "}\n",
       "\n",
       "mpl.figure.prototype.handle_cursor = function(fig, msg) {\n",
       "    var cursor = msg['cursor'];\n",
       "    switch(cursor)\n",
       "    {\n",
       "    case 0:\n",
       "        cursor = 'pointer';\n",
       "        break;\n",
       "    case 1:\n",
       "        cursor = 'default';\n",
       "        break;\n",
       "    case 2:\n",
       "        cursor = 'crosshair';\n",
       "        break;\n",
       "    case 3:\n",
       "        cursor = 'move';\n",
       "        break;\n",
       "    }\n",
       "    fig.rubberband_canvas.style.cursor = cursor;\n",
       "}\n",
       "\n",
       "mpl.figure.prototype.handle_message = function(fig, msg) {\n",
       "    fig.message.textContent = msg['message'];\n",
       "}\n",
       "\n",
       "mpl.figure.prototype.handle_draw = function(fig, msg) {\n",
       "    // Request the server to send over a new figure.\n",
       "    fig.send_draw_message();\n",
       "}\n",
       "\n",
       "mpl.figure.prototype.handle_image_mode = function(fig, msg) {\n",
       "    fig.image_mode = msg['mode'];\n",
       "}\n",
       "\n",
       "mpl.figure.prototype.updated_canvas_event = function() {\n",
       "    // Called whenever the canvas gets updated.\n",
       "    this.send_message(\"ack\", {});\n",
       "}\n",
       "\n",
       "// A function to construct a web socket function for onmessage handling.\n",
       "// Called in the figure constructor.\n",
       "mpl.figure.prototype._make_on_message_function = function(fig) {\n",
       "    return function socket_on_message(evt) {\n",
       "        if (evt.data instanceof Blob) {\n",
       "            /* FIXME: We get \"Resource interpreted as Image but\n",
       "             * transferred with MIME type text/plain:\" errors on\n",
       "             * Chrome.  But how to set the MIME type?  It doesn't seem\n",
       "             * to be part of the websocket stream */\n",
       "            evt.data.type = \"image/png\";\n",
       "\n",
       "            /* Free the memory for the previous frames */\n",
       "            if (fig.imageObj.src) {\n",
       "                (window.URL || window.webkitURL).revokeObjectURL(\n",
       "                    fig.imageObj.src);\n",
       "            }\n",
       "\n",
       "            fig.imageObj.src = (window.URL || window.webkitURL).createObjectURL(\n",
       "                evt.data);\n",
       "            fig.updated_canvas_event();\n",
       "            fig.waiting = false;\n",
       "            return;\n",
       "        }\n",
       "        else if (typeof evt.data === 'string' && evt.data.slice(0, 21) == \"data:image/png;base64\") {\n",
       "            fig.imageObj.src = evt.data;\n",
       "            fig.updated_canvas_event();\n",
       "            fig.waiting = false;\n",
       "            return;\n",
       "        }\n",
       "\n",
       "        var msg = JSON.parse(evt.data);\n",
       "        var msg_type = msg['type'];\n",
       "\n",
       "        // Call the  \"handle_{type}\" callback, which takes\n",
       "        // the figure and JSON message as its only arguments.\n",
       "        try {\n",
       "            var callback = fig[\"handle_\" + msg_type];\n",
       "        } catch (e) {\n",
       "            console.log(\"No handler for the '\" + msg_type + \"' message type: \", msg);\n",
       "            return;\n",
       "        }\n",
       "\n",
       "        if (callback) {\n",
       "            try {\n",
       "                // console.log(\"Handling '\" + msg_type + \"' message: \", msg);\n",
       "                callback(fig, msg);\n",
       "            } catch (e) {\n",
       "                console.log(\"Exception inside the 'handler_\" + msg_type + \"' callback:\", e, e.stack, msg);\n",
       "            }\n",
       "        }\n",
       "    };\n",
       "}\n",
       "\n",
       "// from http://stackoverflow.com/questions/1114465/getting-mouse-location-in-canvas\n",
       "mpl.findpos = function(e) {\n",
       "    //this section is from http://www.quirksmode.org/js/events_properties.html\n",
       "    var targ;\n",
       "    if (!e)\n",
       "        e = window.event;\n",
       "    if (e.target)\n",
       "        targ = e.target;\n",
       "    else if (e.srcElement)\n",
       "        targ = e.srcElement;\n",
       "    if (targ.nodeType == 3) // defeat Safari bug\n",
       "        targ = targ.parentNode;\n",
       "\n",
       "    // jQuery normalizes the pageX and pageY\n",
       "    // pageX,Y are the mouse positions relative to the document\n",
       "    // offset() returns the position of the element relative to the document\n",
       "    var x = e.pageX - $(targ).offset().left;\n",
       "    var y = e.pageY - $(targ).offset().top;\n",
       "\n",
       "    return {\"x\": x, \"y\": y};\n",
       "};\n",
       "\n",
       "/*\n",
       " * return a copy of an object with only non-object keys\n",
       " * we need this to avoid circular references\n",
       " * http://stackoverflow.com/a/24161582/3208463\n",
       " */\n",
       "function simpleKeys (original) {\n",
       "  return Object.keys(original).reduce(function (obj, key) {\n",
       "    if (typeof original[key] !== 'object')\n",
       "        obj[key] = original[key]\n",
       "    return obj;\n",
       "  }, {});\n",
       "}\n",
       "\n",
       "mpl.figure.prototype.mouse_event = function(event, name) {\n",
       "    var canvas_pos = mpl.findpos(event)\n",
       "\n",
       "    if (name === 'button_press')\n",
       "    {\n",
       "        this.canvas.focus();\n",
       "        this.canvas_div.focus();\n",
       "    }\n",
       "\n",
       "    var x = canvas_pos.x * mpl.ratio;\n",
       "    var y = canvas_pos.y * mpl.ratio;\n",
       "\n",
       "    this.send_message(name, {x: x, y: y, button: event.button,\n",
       "                             step: event.step,\n",
       "                             guiEvent: simpleKeys(event)});\n",
       "\n",
       "    /* This prevents the web browser from automatically changing to\n",
       "     * the text insertion cursor when the button is pressed.  We want\n",
       "     * to control all of the cursor setting manually through the\n",
       "     * 'cursor' event from matplotlib */\n",
       "    event.preventDefault();\n",
       "    return false;\n",
       "}\n",
       "\n",
       "mpl.figure.prototype._key_event_extra = function(event, name) {\n",
       "    // Handle any extra behaviour associated with a key event\n",
       "}\n",
       "\n",
       "mpl.figure.prototype.key_event = function(event, name) {\n",
       "\n",
       "    // Prevent repeat events\n",
       "    if (name == 'key_press')\n",
       "    {\n",
       "        if (event.which === this._key)\n",
       "            return;\n",
       "        else\n",
       "            this._key = event.which;\n",
       "    }\n",
       "    if (name == 'key_release')\n",
       "        this._key = null;\n",
       "\n",
       "    var value = '';\n",
       "    if (event.ctrlKey && event.which != 17)\n",
       "        value += \"ctrl+\";\n",
       "    if (event.altKey && event.which != 18)\n",
       "        value += \"alt+\";\n",
       "    if (event.shiftKey && event.which != 16)\n",
       "        value += \"shift+\";\n",
       "\n",
       "    value += 'k';\n",
       "    value += event.which.toString();\n",
       "\n",
       "    this._key_event_extra(event, name);\n",
       "\n",
       "    this.send_message(name, {key: value,\n",
       "                             guiEvent: simpleKeys(event)});\n",
       "    return false;\n",
       "}\n",
       "\n",
       "mpl.figure.prototype.toolbar_button_onclick = function(name) {\n",
       "    if (name == 'download') {\n",
       "        this.handle_save(this, null);\n",
       "    } else {\n",
       "        this.send_message(\"toolbar_button\", {name: name});\n",
       "    }\n",
       "};\n",
       "\n",
       "mpl.figure.prototype.toolbar_button_onmouseover = function(tooltip) {\n",
       "    this.message.textContent = tooltip;\n",
       "};\n",
       "mpl.toolbar_items = [[\"Home\", \"Reset original view\", \"fa fa-home icon-home\", \"home\"], [\"Back\", \"Back to  previous view\", \"fa fa-arrow-left icon-arrow-left\", \"back\"], [\"Forward\", \"Forward to next view\", \"fa fa-arrow-right icon-arrow-right\", \"forward\"], [\"\", \"\", \"\", \"\"], [\"Pan\", \"Pan axes with left mouse, zoom with right\", \"fa fa-arrows icon-move\", \"pan\"], [\"Zoom\", \"Zoom to rectangle\", \"fa fa-square-o icon-check-empty\", \"zoom\"], [\"\", \"\", \"\", \"\"], [\"Download\", \"Download plot\", \"fa fa-floppy-o icon-save\", \"download\"]];\n",
       "\n",
       "mpl.extensions = [\"eps\", \"jpeg\", \"pdf\", \"png\", \"ps\", \"raw\", \"svg\", \"tif\"];\n",
       "\n",
       "mpl.default_extension = \"png\";var comm_websocket_adapter = function(comm) {\n",
       "    // Create a \"websocket\"-like object which calls the given IPython comm\n",
       "    // object with the appropriate methods. Currently this is a non binary\n",
       "    // socket, so there is still some room for performance tuning.\n",
       "    var ws = {};\n",
       "\n",
       "    ws.close = function() {\n",
       "        comm.close()\n",
       "    };\n",
       "    ws.send = function(m) {\n",
       "        //console.log('sending', m);\n",
       "        comm.send(m);\n",
       "    };\n",
       "    // Register the callback with on_msg.\n",
       "    comm.on_msg(function(msg) {\n",
       "        //console.log('receiving', msg['content']['data'], msg);\n",
       "        // Pass the mpl event to the overridden (by mpl) onmessage function.\n",
       "        ws.onmessage(msg['content']['data'])\n",
       "    });\n",
       "    return ws;\n",
       "}\n",
       "\n",
       "mpl.mpl_figure_comm = function(comm, msg) {\n",
       "    // This is the function which gets called when the mpl process\n",
       "    // starts-up an IPython Comm through the \"matplotlib\" channel.\n",
       "\n",
       "    var id = msg.content.data.id;\n",
       "    // Get hold of the div created by the display call when the Comm\n",
       "    // socket was opened in Python.\n",
       "    var element = $(\"#\" + id);\n",
       "    var ws_proxy = comm_websocket_adapter(comm)\n",
       "\n",
       "    function ondownload(figure, format) {\n",
       "        window.open(figure.imageObj.src);\n",
       "    }\n",
       "\n",
       "    var fig = new mpl.figure(id, ws_proxy,\n",
       "                           ondownload,\n",
       "                           element.get(0));\n",
       "\n",
       "    // Call onopen now - mpl needs it, as it is assuming we've passed it a real\n",
       "    // web socket which is closed, not our websocket->open comm proxy.\n",
       "    ws_proxy.onopen();\n",
       "\n",
       "    fig.parent_element = element.get(0);\n",
       "    fig.cell_info = mpl.find_output_cell(\"<div id='\" + id + \"'></div>\");\n",
       "    if (!fig.cell_info) {\n",
       "        console.error(\"Failed to find cell for figure\", id, fig);\n",
       "        return;\n",
       "    }\n",
       "\n",
       "    var output_index = fig.cell_info[2]\n",
       "    var cell = fig.cell_info[0];\n",
       "\n",
       "};\n",
       "\n",
       "mpl.figure.prototype.handle_close = function(fig, msg) {\n",
       "    var width = fig.canvas.width/mpl.ratio\n",
       "    fig.root.unbind('remove')\n",
       "\n",
       "    // Update the output cell to use the data from the current canvas.\n",
       "    fig.push_to_output();\n",
       "    var dataURL = fig.canvas.toDataURL();\n",
       "    // Re-enable the keyboard manager in IPython - without this line, in FF,\n",
       "    // the notebook keyboard shortcuts fail.\n",
       "    IPython.keyboard_manager.enable()\n",
       "    $(fig.parent_element).html('<img src=\"' + dataURL + '\" width=\"' + width + '\">');\n",
       "    fig.close_ws(fig, msg);\n",
       "}\n",
       "\n",
       "mpl.figure.prototype.close_ws = function(fig, msg){\n",
       "    fig.send_message('closing', msg);\n",
       "    // fig.ws.close()\n",
       "}\n",
       "\n",
       "mpl.figure.prototype.push_to_output = function(remove_interactive) {\n",
       "    // Turn the data on the canvas into data in the output cell.\n",
       "    var width = this.canvas.width/mpl.ratio\n",
       "    var dataURL = this.canvas.toDataURL();\n",
       "    this.cell_info[1]['text/html'] = '<img src=\"' + dataURL + '\" width=\"' + width + '\">';\n",
       "}\n",
       "\n",
       "mpl.figure.prototype.updated_canvas_event = function() {\n",
       "    // Tell IPython that the notebook contents must change.\n",
       "    IPython.notebook.set_dirty(true);\n",
       "    this.send_message(\"ack\", {});\n",
       "    var fig = this;\n",
       "    // Wait a second, then push the new image to the DOM so\n",
       "    // that it is saved nicely (might be nice to debounce this).\n",
       "    setTimeout(function () { fig.push_to_output() }, 1000);\n",
       "}\n",
       "\n",
       "mpl.figure.prototype._init_toolbar = function() {\n",
       "    var fig = this;\n",
       "\n",
       "    var nav_element = $('<div/>')\n",
       "    nav_element.attr('style', 'width: 100%');\n",
       "    this.root.append(nav_element);\n",
       "\n",
       "    // Define a callback function for later on.\n",
       "    function toolbar_event(event) {\n",
       "        return fig.toolbar_button_onclick(event['data']);\n",
       "    }\n",
       "    function toolbar_mouse_event(event) {\n",
       "        return fig.toolbar_button_onmouseover(event['data']);\n",
       "    }\n",
       "\n",
       "    for(var toolbar_ind in mpl.toolbar_items){\n",
       "        var name = mpl.toolbar_items[toolbar_ind][0];\n",
       "        var tooltip = mpl.toolbar_items[toolbar_ind][1];\n",
       "        var image = mpl.toolbar_items[toolbar_ind][2];\n",
       "        var method_name = mpl.toolbar_items[toolbar_ind][3];\n",
       "\n",
       "        if (!name) { continue; };\n",
       "\n",
       "        var button = $('<button class=\"btn btn-default\" href=\"#\" title=\"' + name + '\"><i class=\"fa ' + image + ' fa-lg\"></i></button>');\n",
       "        button.click(method_name, toolbar_event);\n",
       "        button.mouseover(tooltip, toolbar_mouse_event);\n",
       "        nav_element.append(button);\n",
       "    }\n",
       "\n",
       "    // Add the status bar.\n",
       "    var status_bar = $('<span class=\"mpl-message\" style=\"text-align:right; float: right;\"/>');\n",
       "    nav_element.append(status_bar);\n",
       "    this.message = status_bar[0];\n",
       "\n",
       "    // Add the close button to the window.\n",
       "    var buttongrp = $('<div class=\"btn-group inline pull-right\"></div>');\n",
       "    var button = $('<button class=\"btn btn-mini btn-primary\" href=\"#\" title=\"Stop Interaction\"><i class=\"fa fa-power-off icon-remove icon-large\"></i></button>');\n",
       "    button.click(function (evt) { fig.handle_close(fig, {}); } );\n",
       "    button.mouseover('Stop Interaction', toolbar_mouse_event);\n",
       "    buttongrp.append(button);\n",
       "    var titlebar = this.root.find($('.ui-dialog-titlebar'));\n",
       "    titlebar.prepend(buttongrp);\n",
       "}\n",
       "\n",
       "mpl.figure.prototype._root_extra_style = function(el){\n",
       "    var fig = this\n",
       "    el.on(\"remove\", function(){\n",
       "\tfig.close_ws(fig, {});\n",
       "    });\n",
       "}\n",
       "\n",
       "mpl.figure.prototype._canvas_extra_style = function(el){\n",
       "    // this is important to make the div 'focusable\n",
       "    el.attr('tabindex', 0)\n",
       "    // reach out to IPython and tell the keyboard manager to turn it's self\n",
       "    // off when our div gets focus\n",
       "\n",
       "    // location in version 3\n",
       "    if (IPython.notebook.keyboard_manager) {\n",
       "        IPython.notebook.keyboard_manager.register_events(el);\n",
       "    }\n",
       "    else {\n",
       "        // location in version 2\n",
       "        IPython.keyboard_manager.register_events(el);\n",
       "    }\n",
       "\n",
       "}\n",
       "\n",
       "mpl.figure.prototype._key_event_extra = function(event, name) {\n",
       "    var manager = IPython.notebook.keyboard_manager;\n",
       "    if (!manager)\n",
       "        manager = IPython.keyboard_manager;\n",
       "\n",
       "    // Check for shift+enter\n",
       "    if (event.shiftKey && event.which == 13) {\n",
       "        this.canvas_div.blur();\n",
       "        event.shiftKey = false;\n",
       "        // Send a \"J\" for go to next cell\n",
       "        event.which = 74;\n",
       "        event.keyCode = 74;\n",
       "        manager.command_mode();\n",
       "        manager.handle_keydown(event);\n",
       "    }\n",
       "}\n",
       "\n",
       "mpl.figure.prototype.handle_save = function(fig, msg) {\n",
       "    fig.ondownload(fig, null);\n",
       "}\n",
       "\n",
       "\n",
       "mpl.find_output_cell = function(html_output) {\n",
       "    // Return the cell and output element which can be found *uniquely* in the notebook.\n",
       "    // Note - this is a bit hacky, but it is done because the \"notebook_saving.Notebook\"\n",
       "    // IPython event is triggered only after the cells have been serialised, which for\n",
       "    // our purposes (turning an active figure into a static one), is too late.\n",
       "    var cells = IPython.notebook.get_cells();\n",
       "    var ncells = cells.length;\n",
       "    for (var i=0; i<ncells; i++) {\n",
       "        var cell = cells[i];\n",
       "        if (cell.cell_type === 'code'){\n",
       "            for (var j=0; j<cell.output_area.outputs.length; j++) {\n",
       "                var data = cell.output_area.outputs[j];\n",
       "                if (data.data) {\n",
       "                    // IPython >= 3 moved mimebundle to data attribute of output\n",
       "                    data = data.data;\n",
       "                }\n",
       "                if (data['text/html'] == html_output) {\n",
       "                    return [cell, data, j];\n",
       "                }\n",
       "            }\n",
       "        }\n",
       "    }\n",
       "}\n",
       "\n",
       "// Register the function which deals with the matplotlib target/channel.\n",
       "// The kernel may be null if the page has been refreshed.\n",
       "if (IPython.notebook.kernel != null) {\n",
       "    IPython.notebook.kernel.comm_manager.register_target('matplotlib', mpl.mpl_figure_comm);\n",
       "}\n"
      ],
      "text/plain": [
       "<IPython.core.display.Javascript object>"
      ]
     },
     "metadata": {},
     "output_type": "display_data"
    },
    {
     "data": {
      "text/html": [
       "<img src=\"data:image/png;base64,iVBORw0KGgoAAAANSUhEUgAABkAAAAPoCAYAAACGezKDAAAgAElEQVR4XuzdB5gV5dn/8fts36V3RCwvVlRExa4xsaEIChZAsf/FGNFEjSV2I7GBWBM1xhgTjQXEioKNKIqxxVhjwUYEUXHpsIUt5389s9l1YffsPDvlnJl7vnNdeV9kn3lmns99cy7m/JiZVDqdTgsbAggggAACCCCAAAIIIIAAAggggAACCCCAAAIIIKBIIEUAoqiaLAUBBBBAAAEEEEAAAQQQQAABBBBAAAEEEEAAAQQcAQIQGgEBBBBAAAEEEEAAAQQQQAABBBBAAAEEEEAAAQTUCRCAqCspC0IAAQQQQAABBBBAAAEEEEAAAQQQQAABBBBAAAECEHoAAQQQQAABBBBAAAEEEEAAAQQQQAABBBBAAAEE1AkQgKgrKQtCAAEEEEAAAQQQQAABBBBAAAEEEEAAAQQQQAABAhB6AAEEEEAAAQQQQAABBBBAAAEEEEAAAQQQQAABBNQJEICoKykLQgABBBBAAAEEEEAAAQQQQAABBBBAAAEEEEAAAQIQegABBBBAAAEEEEAAAQQQQAABBBBAAAEEEEAAAQTUCRCAqCspC0IAAQQQQAABBBBAAAEEEEAAAQQQQAABBBBAAAECEHoAAQQQQAABBBBAAAEEEEAAAQQQQAABBBBAAAEE1AkQgKgrKQtCAAEEEEAAAQQQQAABBBBAAAEEEEAAAQQQQAABAhB6AAEEEEAAAQQQQAABBBBAAAEEEEAAAQQQQAABBNQJEICoKykLQgABBBBAAAEEEEAAAQQQQAABBBBAAAEEEEAAAQIQegABBBBAAAEEEEAAAQQQQAABBBBAAAEEEEAAAQTUCRCAqCspC0IAAQQQQAABBBBAAAEEEEAAAQQQQAABBBBAAAECEHoAAQQQQAABBBBAAAEEEEAAAQQQQAABBBBAAAEE1AkQgKgrKQtCAAEEEEAAAQQQQAABBBBAAAEEEEAAAQQQQAABAhB6AAEEEEAAAQQQQAABBBBAAAEEEEAAAQQQQAABBNQJEICoKykLQgABBBBAAAEEEEAAAQQQQAABBBBAAAEEEEAAAQIQegABBBBAAAEEEEAAAQQQQAABBBBAAAEEEEAAAQTUCRCAqCspC0IAAQQQQAABBBBAAAEEEEAAAQQQQAABBBBAAAECEHoAAQQQQAABBBBAAAEEEEAAAQQQQAABBBBAAAEE1AkQgKgrKQtCAAEEEEAAAQQQQAABBBBAAAEEEEAAAQQQQAABAhB6AAEEEEAAAQQQQAABBBBAAAEEEEAAAQQQQAABBNQJEICoKykLQgABBBBAAAEEEEAAAQQQQAABBBBAAAEEEEAAAQIQegABBBBAAAEEEEAAAQQQQAABBBBAAAEEEEAAAQTUCRCAqCspC0IAAQQQQAABBBBAAAEEEEAAAQQQQAABBBBAAAECEHoAAQQQQAABBBBAAAEEEEAAAQQQQAABBBBAAAEE1AkQgKgrKQtCAAEEEEAAAQQQQAABBBBAAAEEEEAAAQQQQAABAhB6AAEEEEAAAQQQQAABBBBAAAEEEEAAAQQQQAABBNQJEICoKykLQgABBBBAAAEEEEAAAQQQQAABBBBAAAEEEEAAAQIQegABBBBAAAEEEEAAAQQQQAABBBBAAAEEEEAAAQTUCRCAqCspC0IAAQQQQAABBBBAAAEEEEAAAQQQQAABBBBAAAECEHoAAQQQQAABBBBAAAEEEEAAAQQQQAABBBBAAAEE1AkQgKgrKQtCAAEEEEAAAQQQQAABBBBAAAEEEEAAAQQQQAABAhB6AAEEEEAAAQQQQAABBBBAAAEEEEAAAQQQQAABBNQJEICoKykLQgABBBBAAAEEEEAAAQQQQAABBBBAAAEEEEAAAQIQegABBBBAAAEEEEAAAQQQQAABBBBAAAEEEEAAAQTUCRCAqCspC0IAAQQQQAABBBBAAAEEEEAAAQQQQAABBBBAAAECEHoAAQQQQAABBBBAAAEEEEAAAQQQQAABBBBAAAEE1AkQgKgrKQtCAAEEEEAAAQQQQAABBBBAAAEEEEAAAQQQQAABAhB6AAEEEEAAAQQQQAABBBBAAAEEEEAAAQQQQAABBNQJEICoKykLQgABBBBAAAEEEEAAAQQQQAABBBBAAAEEEEAAAQIQegABBBBAAAEEEEAAAQQQQAABBBBAAAEEEEAAAQTUCRCAqCspC0IAAQQQQAABBBBAAAEEEEAAAQQQQAABBBBAAAECEHoAAQQQQAABBBBAAAEEEEAAAQQQQAABBBBAAAEE1AkQgKgrKQtCAAEEEEAAAQQQQAABBBBAAAEEEEAAAQQQQAABAhB6AAEEEEAAAQQQQAABBBBAAAEEEEAAAQQQQAABBNQJEICoKykLQgABBBBAAAEEEEAAAQQQQAABBBBAAAEEEEAAAQIQegABBBBAAAEEEEAAAQQQQAABBBBAAAEEEEAAAQTUCRCAqCspC0IAAQQQQAABBBBAAAEEEEAAAQQQQAABBBBAAAECEHoAAQQQQAABBBBAAAEEEEAAAQQQQAABBBBAAAEE1AkQgKgrKQtCAAEEEEAAAQQQQAABBBBAAAEEEEAAAQQQQAABAhB6AAEEEEAAAQQQQAABBBBAAAEEEEAAAQQQQAABBNQJEICoKykLQgABBBBAAAEEEEAAAQQQQAABBBBAAAEEEEAAAQIQegABBBBAAAEEEEAAAQQQQAABBBBAAAEEEEAAAQTUCRCAqCspC0IAAQQQQAABBBBAAAEEEEAAAQQQQAABBBBAAAECEHoAAQQQQAABBBBAAAEEEEAAAQQQQAABBBBAAAEE1AkQgKgrKQtCAAEEEEAAAQQQQAABBBBAAAEEEEAAAQQQQAABAhB6AAEEEEAAAQQQQAABBBBAAAEEEEAAAQQQQAABBNQJEICoKykLQgABBBBAAAEEEEAAAQQQQAABBBBAAAEEEEAAAQIQegABBBBAAAEEEEAAAQQQQAABBBBAAAEEEEAAAQTUCRCAqCspC0IAAQQQQAABBBBAAAEEEEAAAQQQQAABBBBAAAECEHoAAQQQQAABBBBAAAEEEEAAAQQQQAABBBBAAAEE1AkQgKgrKQtCAAEEEEAAAQQQQAABBBBAAAEEEEAAAQQQQAABAhB6AAEEEEAAAQQQQAABBBBAAAEEEEAAAQQQQAABBNQJEICoKykLQgABBBBAAAEEEEAAAQQQQAABBBBAAAEEEEAAAQIQegABBBBAAAEEEEAAAQQQQAABBBBAAAEEEEAAAQTUCRCAqCspC0IAAQQQQAABBBBAAAEEEEAAAQQQQAABBBBAAAECEHoAAQQQQAABBBBAAAEEEEAAAQQQQAABBBBAAAEE1AkQgKgrKQtCAAEEEEAAAQQQQAABBBBAAAEEEEAAAQQQQAABAhB6AAEEEEAAAQQQQAABBBBAAAEEEEAAAQQQQAABBNQJEICoKykLQgABBBBAAAEEEEAAAQQQQAABBBBAAAEEEEAAAQIQegABBBBAAAEEEEAAAQQQQAABBBBAAAEEEEAAAQTUCRCAqCspC0IAAQQQQAABBBBAAAEEEEAAAQQQQAABBBBAAAECEHoAAQQQQAABBBBAAAEEEEAAAQQQQAABBBBAAAEE1AkQgKgrKQtCAAEEEEAAAQQQQAABBBBAAAEEEEAAAQQQQAABAhB6AAEEEEAAAQQQQAABBBBAAAEEEEAAAQQQQAABBNQJEICoKykLQgABBBBAAAEEEEAAAQQQQAABBBBAAAEEEEAAAQIQegABBBBAAAEEEEAAAQQQQAABBBBAAAEEEEAAAQTUCRCAqCspC0IAAQQQQAABBBBAAAEEEEAAAQQQQAABBBBAAAECEHoAAQQQQAABBBBAAAEEEEAAAQQQQAABBBBAAAEE1AkQgKgrKQtCAAEEEEAAAQQQQAABBBBAAAEEEEAAAQQQQAABAhB6AAEEEEAAAQQQQAABBBBAAAEEEEAAAQQQQAABBNQJEICoKykLQgABBBBAAAEEEEAAAQQQQAABBBBAAAEEEEAAAQIQegABBBBAAAEEEEAAAQQQQAABBBBAAAEEEEAAAQTUCRCAqCspC0IAAQQQQAABBBBAAAEEEEAAAQQQQAABBBBAAAECEHoAAQQQQAABBBBAAAEEEEAAAQQQQAABBBBAAAEE1AkQgKgrKQtCAAEEEEAAAQQQQAABBBBAAAEEEEAAAQQQQAABAhB6AAEEEEAAAQQQQAABBBBAAAEEEEAAAQQQQAABBNQJEICoKykLQgABBBBAAAEEEEAAAQQQQAABBBBAAAEEEEAAAQIQegABBBBAAAEEEEAAAQQQQAABBBBAAAEEEEAAAQTUCRCAqCspC0IAAQQQQAABBBBAAAEEEEAAAQQQQAABBBBAAAECEHoAAQQQQAABBBBAAAEEEEAAAQQQQAABBBBAAAEE1AkQgKgrKQtCAAEEEEAAAQQQQAABBBBAAAEEEEAAAQQQQAABAhB6AAEEEEAAAQQQQAABBBBAAAEEEEAAAQQQQAABBNQJEICoKykLQgABBBBAAAEEEEAAAQQQQAABBBBAAAEEEEAAAQIQegABBBBAAAEEEEAAAQQQQAABBBBAAAEEEEAAAQTUCRCAqCspC0IAAQQQQAABBBBAAAEEEEAAAQQQQAABBBBAAAECEHoAAQQQQAABBBBAAAEEEEAAAQQQQAABBBBAAAEE1AkQgKgrKQtCAAEEEEAAAQQQQAABBBBAAAEEEEAAAQQQQAABAhB6AAEEEEAAAQQQQAABBBBAAAEEEEAAAQQQQAABBNQJEICoKykLQgABBBBAAAEEEEAAAQQQQAABBBBAAAEEEEAAAQIQegABBBBAAAEEEEAAAQQQQAABBBBAAAEEEEAAAQTUCRCAqCspC0IAAQQQQAABBBBAAAEEEEAAAQQQQAABBBBAAAECEHoAAQQQQAABBBBAAAEEEEAAAQQQQAABBBBAAAEE1AkQgKgrKQtCAAEEEEAAAQQQQAABBBBAAAEEEEAAAQQQQAABAhB6AAEEEEAAAQQQQAABBBBAAAEEEEAAAQQQQAABBNQJEICoKykLQgABBBBAAAEEEEAAAQQQQAABBBBAAAEEEEAAAQIQegABBBBAAAEEEEAAAQQQQAABBBBAAAEEEEAAAQTUCRCAqCspC0IAAQQQQAABBBBAAAEEEEAAAQQQQAABBBBAAAECEHoAAQQQQAABBBBAAAEEEEAAAQQQQAABBBBAAAEE1AkQgKgrKQtCAAEEEEAAAQQQQAABBBBAAAEEEEAAAQQQQAABAhB6AAEEEEAAAQQQQAABBBBAAAEEEEAAAQQQQAABBNQJEICoKykLQgABBBBAAAEEEEAAAQQQQAABBBBAAAEEEEAAAQIQegABBBBAAAEEEEAAAQQQQAABBBBAAAEEEEAAAQTUCRCAqCspC0IAAQQQQAABBBBAAAEEEEAAAQQQQAABBBBAAAECEHoAAQQQQAABBBBAAAEEEEAAAQQQQAABBBBAAAEE1AkQgKgrKQtCAAEEEEAAAQQQQAABBBBAAAEEEEAAAQQQQAABAhB6AAEEEEAAAQQQQAABBBBAAAEEEEAAAQQQQAABBNQJEICoKykLQgABBBBAAAEEEEAAAQQQQAABBBBAAAEEEEAAAQIQegABC4GVK6ukrq7eYmRyh3TuXCL5+XmOk/FiQyCuAvRyXCvHebcmQD/TF1oE6GUtlWQd9DI9oEmAftZUzWSvhV4Or/7meyLjy4ZALgUIQHKpz7FjI7BsWYXU1tbF5nxzcaLdu3doCkCWLl2Ti1PgmAgEIkAvB8LIJBERoJ8jUghOw7cAveybkAkiIkAvR6QQnEYgAvRzIIxMEgEBejm8IhQU5Eu3bmXhHYCZEbAQIACxQGIIAgQg7j3AXxjcjRgRDwF6OR514iztBOhnOydGRV+AXo5+jThDOwF62c6JUfEQoJ/jUSfO0l2AXnY38jqCAMSrHPsFKUAAEqQmc6kVIABxLy1/YXA3YkQ8BOjleNSJs7QToJ/tnBgVfQF6Ofo14gztBOhlOydGxUOAfo5HnThLdwF62d3I6wgCEK9y7BekAAFIkJrMpVaAAMS9tPyFwd2IEfEQoJfjUSfO0k6AfrZzYlT0Bejl6NeIM7QToJftnBgVDwH6OR514izdBehldyOvIwhAvMqxX5ACBCBBajKXWgECEPfS8hcGdyNGxEOAXo5HnThLOwH62c6JUdEXoJejXyPO0E6AXrZzYlQ8BOjneNSJs3QXoJfdjbyOIADxKsd+QQoQgASpyVxqBQhA3EvLXxjcjRgRDwF6OR514iztBOhnOydGRV+AXo5+jThDOwF62c6JUfEQoJ/jUSfO0l2AXnY38jqCAMSrHPsFKUAAEqQmc6kVIABxLy1/YXA3YkQ8BOjleNSJs7QToJ/tnBgVfQF6Ofo14gztBOhlOydGxUOAfo5HnThLdwF62d3I6wgCEK9y7BekAAFIkJrMpVaAAMS9tPyFwd2IEfEQoJfjUSfO0k6AfrZzYlT0Bejl6NeIM7QToJftnBgVDwH6OR514izdBehldyOvIwhAvMqxX5ACBCBBajKXWgECEPfS8hcGdyNGxEOAXo5HnThLOwH62c6JUdEXoJejXyPO0E6AXrZzYlQ8BOjneNSJs3QXoJfdjbyOIADxKsd+QQoQgASpyVxqBQhA3EvLXxjcjRgRDwF6OR514iztBOhnOydGRV+AXo5+jThDOwF62c6JUfEQoJ/jUSfO0l2AXnY38jqCAMSrHPsFKUAAEqQmc6kVIABxLy1/YXA3YkQ8BOjleNSJs7QToJ/tnBgVfQF6Ofo14gztBOhlOydGxUOAfo5HnThLdwF62d3I6wgCEK9y7BekAAFIkJrMpVbATwBSX18v1dWVUlVVIXV1NWL+W+NWWFggqZRIOi1SU1OrcYmsKSECmXo5Ly9P8vMLpaSkTIqLS8X8NxsCURfgYi7qFeL8bAXoZVspxkVdgF6OeoU4v/YI0M/t0WJslAXo5fCqQwASni0z2wsQgNhbMTLBAl4DEBN6LF9eLiJp9Xp5eSkRMf9LS329/vWqL2iCF2jXyynp2rWnE4awIRBlAS7molwdzq09AvRye7QYG2UBejnK1eHc2itAP7dXjPFRFaCXw6sMAUh4tsxsL0AAYm/FyAQLeAlAWg8/Umr/1XjK3P7xvy1tbgNhQyCmApl6ueHurea9TQgS0xIn6rS5mEtUuVUvll5WXd5ELY5eTlS51S+WflZf4sQskF4Or9QEIOHZMrO9AAGIvRUjEyzQ3gDEfFG6ePHCpi9LzeNyyso6S1FRsTT/clUTaX5+XtMjsOrqdD7mS1O9WEtmgUy9bIK9tWurpaJipfNYu4YtJb1791cbbNIn8RfgYi7+NWQFDQL0Mp2gRYBe1lJJ1sFnMz2gSYDP5vCqSQASni0z2wsQgNhbMTLBAu0NQCor18iKFebRV+K8K6Br115qg4/GtiAASfAfEGVLd+tlE4QsX/5DUwjSpUtPKS3toEyB5WgR4GJOSyVZB71MD2gRoJe1VJJ1EIDQA5oE+GwOr5oEIOHZMrO9AAGIvRUjEyzQ3gBk2TLz5WiFI9atWx8pLi5Rr+f2pbF6ABaoRsCml6urq2TZsu//F3KWSbduvdSsn4XoEuBiTlc9k7waejnJ1de1dnpZVz2Tvhr6OekdoGf99HJ4tSQACc+Wme0FCEDsrRiZYIH2BiDl5YuktrbGeTxOnz4bqb/7w7SGzZfGCW4hlh4jAZteNneBfP/9AucxdwUFhdKzZ78YrZBTTZIAF3NJqrbutdLLuuubpNXRy0mqtv610s/6a5yUFdLL4VWaACQ8W2a2FyAAsbdiZIIF2huAmPd/1NfXSV5evvN+gCRsNl8aJ8GBNcZfwLaXk/jnPP7VTd4KuJhLXs21rphe1lrZ5K2LXk5ezTWvmH7WXN1krY1eDq/eBCDh2TKzvQABiL0VIxMsQADiXnzbL43dZ2IEArkVsO1lApDc1omj2wlwMWfnxKjoC9DL0a8RZ2gnQC/bOTEqHgL0czzqxFm6C9DL7kZeRxCAeJVjvyAFCECC1GQutQIEIO6ltf3S2H0mRiCQWwHbXiYAyW2dOLqdABdzdk6Mir4AvRz9GnGGdgL0sp0To+IhQD/Ho06cpbsAvexu5HUEAYhXOfYLUoAAJEhN5lIrQADiXlrbL43dZ2IEArkVsO1lApDc1omj2wlwMWfnxKjoC9DL0a8RZ2gnQC/bOTEqHgL0czzqxFm6C9DL7kZeRxCAeJVjvyAFCECC1GQutQIEIO6ltf3S2H0mRiCQWwHbXiYAyW2dOLqdABdzdk6Mir4AvRz9GnGGdgL0sp0To+IhQD/Ho06cpbsAvexu5HUEAYhXOfYLUoAAJEhN5lIrQADiXlrbL43dZ2IEArkVsO1lApDc1omj2wlwMWfnxKjoC9DL0a8RZ2gnQC/bOTEqHgL0czzqxFm6C9DL7kZeRxCAeJVjvyAFCECC1GQutQLZCEBKSgollYovYV7ejydfX59u10LSaZGqqpp27cNgBMISIAAJS5Z5cyHAxVwu1DlmGAL0chiqzJkLAXo5F+ocMywB+jksWebNtgC9HJ44AUh4tsxsL0AAYm/FyAQLZCMAKS0tlMrqOqmoro2ltAlvTARiog8TaNhuZcUFUlqcL5WV4QYge++9s3NKgwYNljvuuNv29NSOO+qoQ+W7776VXr16y2OPzVS7Ti8LIwDxosY+URXgYi6qleG82itAL7dXjPFRFaCXo1oZzsuLAP3sRY19oihAL4dXFQKQ8GyZ2V6AAMTeipEJFshWALJkZbWUL6+Umtq62Gmnmt2+krZMQAoL8qVn11Lp0bmYACTLFScAyQxOAJLlZuRwoQpwMRcqL5NnUYBeziI2hwpVgF4OlZfJsyxAP2cZnMOFJkAvh0YrBCDh2TKzvQABiL0VIxMskM0A5Nvy1fLB5+Wx0/byCKxBm/eUDXp2JADJQbUJQAhActB2HDIHAlzM5QCdQ4YiQC+HwsqkORCgl3OAziFDE6CfQ6Nl4iwL0MvhgROAhGfLzPYCBCD2VoxMsAABiHvxCUDcjRgRDwHuAIlHnThLOwEu5uycGBV9AXo5+jXiDO0E6GU7J0bFQ4B+jkedOEt3AXrZ3cjrCAIQr3LsF6QAAUiQmsylVoAAxL20BCDuRoyIhwABSDzqxFnaCXAxZ+fEqOgL0MvRrxFnaCdAL9s5MSoeAvRzPOrEWboL0MvuRl5HEIB4lWO/IAUIQILUZC61AgQg7qUlAHE3YkQ8BAhA4lEnztJOgIs5OydGRV+AXo5+jThDOwF62c6JUfEQoJ/jUSfO0l2AXnY38jqCAMSrHPsFKUAAEqQmc6kVIABxL23cApC3335LHntsunzwwXuycuUK6dKlq2y55dZy2GGjZO+9f9rmghcv/l5mzHhc3nnnbVmw4GtZtWql5OXlSefOXWTLLbeSn/50PznwwIOloKCgxTyN794YOnSYXH757+S1116Vhx9+UObN+0TWrFkjvXr1lp133lWOPvo42XjjTVo9jyDnMMd77LGZ6xxn7713dv57/PhfyEknjXfO8cknH5OPPvrQsTLrHDRoexk58kjZZZfd2rRau3atPPXUEzJnzovy5ZefO1YdO3aSAQM2k332+ZkceugoKS4uyTjHN98sdOr09ttvysKFC6W2tkY6d+4sAwZsLnvssZeMGDFKysrKWt1/zZrV8sQTj8qrr74iX331pVRUrJGOHTvKBhv0k5133s05/759+7bYlwDE/c87I+IjwMVcfGrFmbYtQC/TIVoE6GUtlWQdRoB+pg+0CNDL4VWSACQ8W2a2FyAAsbdiZIIFCEDcix+XAGTbbQfJFltsKY8//kjGRY0YMVIuvPCyVn8+bdoDcscdv5eampo2UQYNGiw33PD7Fl/ONw8v+vffSP7ylz+1Ok9RUZFceulE2W+/A1r8PMg53AIQE/aY8CPTdswxx8sZZ5zV6o8/+2yeXHzx+fLtt99k3L9v3w3kqqsmy9ZbD2wxZvbs5+Xqq68QE6Jk2rp37yGTJ9/cYn8TeJx77i/FnH+mzQRU5513kZh6N98IQNz/vDMiPgJczMWnVpxp2wL0Mh2iRYBe1lJJ1mEE6Gf6QIsAvRxeJQlAwrNlZnsBAhB7K0YmWIAAxL34cQlAGlfSo0cPOeqoo2W77baXqqoq+de/3pDp06dKXV2dM+SSS34rw4aNWGfhzz33jEyceKnzez169JQjjxzj3DXSqVNnKS//Qd5779/OHQfV1dXOmOOPP1lOO+2MdeZoDC/M8ZcsWSIm6Bg9+hjnbob6+np55ZU58uij05zzMHeVTJlyq+y66+6hzdFWANJ4jv36bShjx46TrbYaKJWVlfLSS7OdUCSdTjvndeutf5Sddmq4a6Rx+/rr+XLqqSc6d7UUFhbK8OEjZc8995Zu3brJsmXL5NVXX5aZM2c4QVKHDh3kT3/6m2yyyaZN+5s7P44/fqysXVstXbt2k3HjTpCBA7eR4uJi+eGHxfLss7Pk5ZdfdMabOzruv3+6Y2k243j88WPkv/+dL/n5+U6djWGXLl2cY5tam7tKTLBifn7PPQ84d6Q0bgQg7n/eGREfAS7m4lMrzrRtAXqZDtEiQC9rqaSedZSUFEoq5W09ZWVFzjWL+ft3RUXmf7TkbXb2aq+AuTyrqmr7H+q1d86kjOezObxKE4CEZ8vM9gIEIPZWjEywAAGIe/HjFIBsttnmcvPNt0u3bt3XWdgzzzwtV111hfN7O+44RH7/+zvX+XljeGEeo/TnP98n5g6O9TfzSK0zzjjVuQjYcMP+MnXq463OYX6ztLRUbrrpdtluu0HrjHnjjdfkggvOdkKQ/v03lvvum+qECI1b43kEMUdbAYiZ39wxc9NNt7W4k+Xee/8if/rT7c4pHXTQIXLZZRPXWcP48SfIJ5985Dxyyuw/cOC2rVqddUrc9qoAACAASURBVNbpThBh7pi54467m8bcc89dcvfdDf633/5n2X77HVrsP3ny1U13p1x77RT5yU9+5ox5991/y5ln/tz59amnni4nnnhKi32ff/4ZufLKhjBrzJhj5Fe/OrdpDAGI+593RsRHgIu5+NSKM21bgF6mQ7QI0MtaKqlnHaWlhSI1lZKurmj3ooqLCySVSjn/MKq6urbd+7NDcAKp4jKRwlKprCQA8aLKZ7MXNbt9CEDsnBgVrgABSLi+zK5EgADEvZBxCkBuu+3PMnhwyy/UTWhx6KEHyooV5p0gXeTpp2c3Lfy7776V3/zmHDH//5BDDpOzzvrxC/P1dcaOHSXmDgbziKWXXnp9nR83Dy/Ml+7my/fWtptvniLTpz/k/Oj662+WPfbYu2lYkHO4BSB33vlX2Xbb7Vqc4vLly2XEiIbHc5lHipm7KBq3f/3rTTn77AnOf55xxtlyzDHHZWwg8zix++//m/Pzu+76W1NQMmXKtU2PKZsx47kWYZUZb4wfeOBe5w4Q42OCLbPNnv2cXHHFxc6vr7zyWtl//wNbHN/U+sYbJ4l5hNY222wnu+++Z9MYAhD3P++MiI8AF3PxqRVn2rYAvUyHaBGgl7VUUs86TACSXr1E6lf9IOna9n15XlhoAhARc+dBTQ0BSK66IlVQKHmdekmqYw8CEI9F4LPZI5zFbgQgFkgMCV2AACR0Yg6gQYAAxL2KcQlAzOOqZs6c7fxLpda2n//8JOdl3+bnr7zyVqtjzJfn5lbvTNuECePl/fffdX788stvrjO2MbwoKiqWp556PuMLvM37M04+eZwzx8iRR8j55zd8oW+2IOdoKwAxLyufNesfGa0OOuinziOuzJ0wDz3043tCbr31Bpk27UHnXP/2t4eagonWvJrfrXHaaWfK8cef5Awz4Y8Jgcxm7g4588xzZJttts14Ls3n/uKLz+XEE492fsus7+yzz3cev9X8Lpq2OpoAxP3POyPiI8DFXHxqxZm2LUAv0yFaBOhlLZXUs47GAKRu2SJZPf/jdi2stLRIUnkpSdenpbKSR2C1Cy/AwR03HSj53foRgPgw5bPZB57LrgQg4dkys70AAYi9FSMTLEAA4l78uAQg5i4B86V8ps08Osl8KW+2OXPecN4RkWmrqKiQb79dJIsWLZQFC76WL774TN5///11Xvpt7gAxd4I0bo3hhXm01J133pNxbvP4qwMP/InzeKjBg3eU2267K5Q52gpA1r+zY/2THTVqmPPuE3MHxsMPP9n04+aG7p3z44hDDx0lv/lNw2OpVq9eLSecMHadl5ibd5LsvPOuMmTIrrLLLrs54Uamzdyt8+qrrzT9uLS0THbccSdnf/O/AQMa7hZpbSMAaU/VGBt1AS7mol4hzs9WgF62lWJc1AXo5ahXKHnnRwAS/5oTgPivIZ/N/g0zzUAAEp4tM9sLEIDYWzEywQIEIO7Fj0sAMmjQ9nLHHX/JuKDmX96vH16YnRYuXCBTpz4gr70213kcVmtb44sAzc8yBSA//em+cvXV17cJO3LkwbJkSbnzHpCHHnq0aWxjiBLEHG0FIOu/l2P9kz388EOcF5L37buBTJ8+o+nHxx03RubP/9K9adYbsf56jPV11/2uKZBaf8Itt9xKDjjgIDn88NHO+1SabyacMneimBetmzt21t969+4j++67v4wZM0769Om7zo8JQNpdOnaIsAAXcxEuDqfWLgF6uV1cDI6wAL0c4eIk9NQIQOJfeAIQ/zXks9m/YaYZCEDCs2VmewECEHsrRiZYgADEvfjxCUDWfdn2+itrKwB57rlZcu21E6Wm5sdn43bo0EE23nhT+b//GyBbbTVQdtppZ7nhhuuavrTPFIDst9+BMnHitW3CHnroUFm2bKkz9333TWsa2xiABDFHGAHIMccc4dwRU1RU1OZdLusvvkOHjtKv34YtTObN+0Reeukf8vrr/5TPP5/XItAwAcwtt9zhvHR+/e3777+TOXP+If/851x5//33ZO3a6nWGFBcXy8SJ18lee/2k6fcJQNz/vDMiPgJczMWnVpxp2wL0Mh2iRYBe1lJJPesgAIl/LQlA/NeQz2b/hgQg4Rkys38BAhD/hsyQAAECEPciaw9AvvrqS/l//+9YJ/wwdxucfPKpss8++zpfuq//PpFTTjlePv204fm5mQIQ8ximm2++PSNsbW2tHHDA3mL+v3nc00033dYiAAlijjACkNNOO1n+858PnPOdMeN56datm3sDWY5YuXKlEy69+eZr8uKLLzgvrDfbkCG7OCFIW5t5nNiHH74vb7/9lsye/bwsXPi1M9y86+SRR2aICWDMRgBiWQyGxUKAi7lYlImTtBCgly2QGBILAXo5FmVK1EkSgMS/3AQg/mvIZ7N/w0wzcAdIeLbMbC9AAGJvxcgECxCAuBdfewBy883Xy/TpUx2Iiy66XIYPP6xVlHQ6LYcddpBz54bZMgUgXbt2kxkznsv4Uu9PPvlIxo8/wZlj3LjjZcKEs5qO13gHSBBzhBGATJp0tcyY0fBS9CuvvEb2339oxgaaP/8r5w4N8x6RgQO3lY022tgZa8IKE1DU1NTKVltt3er+S5cukZNPPtZ5TJjZXnhhrpSUlDh3iJh3s5i7P8wdOa1tJlg6//yz5K233nB+fP31t8gee+zl/JoAxP3POyPiI8DFXHxqxZm2LUAv0yFaBOhlLZXUsw4CkPjXkgDEfw35bPZvmGkGApDwbJnZXoAAxN6KkQkWIABxL772AOTXv/6lc9eB2e6996GML9F+443X5Nxzf9kENnv2q2Ies9S4NYYXDV+63yx77LF3q7jXX3+NPPFEw3s/7rzzr7LtttuFMkcYAYgJNC655ALnfLfbzrxz5e6MQc8VV1zk3I1htksvvVIOPni4mBDJPP5r+fJlssEGG8rDDz+RsQEvuOBs5/FWZps58x/SuXNnufTS38hLL812fs+8m8Q8Iqu17YEH7pPbb7/F+ZF5H4t5B4nZCEDc/7wzIj4CXMzFp1acadsC9DIdokWAXtZSST3rIACJfy0JQPzXkM9m/4aZZiAACc+Wme0FCEDsrRiZYAECEPfiaw9AJk68TMw7QMx22mlnyvHHn9QC5bPP5jl3FZSX/9D0s2eeeUk6dmx4tJLZmgcg5sv9O+74s/Ts2WuduebOnSMXX3y+cyfD9tvvILff/ud1fh7kHGEEIHV1dXLssaObHjE1btwJMmHCr1p4Gc/f/e5yJ/AwBlOnPt4UFpl3rTz99JPOPmeddZ6MHn10i/3NS+hPOmmcrF69ynkUmdnfbM8887RcddUVzq9NqHHVVZNbBDDmUWZnnHGqfPTRh2JeWj9t2hNNQQkBiPufd0bER4CLufjUijNtW4BepkO0CNDLWiqpZx0EIPGvJQGI/xry2ezfMNMMBCDh2TKzvQABiL0VIxMsQADiXnztAcjcuS/LhRf+2oHIz8+XUaOOlN1330s6d+4iP/zwvXMXwgsvPOs8uqn5Nn36U9K3b9+m32oeXpjf7N69h/OIK3OnRGVlpfM4qBkzHhcTIpjHOd19999lk002XWfOIOcIIwAxJ2uCBfNC+UaPHXbYSQ477HDZcMONZNmyJfLyyy/Js8/OdNZp3qEyadJNsueeP94N8803C+Wkk45xTMzPTZCx774HSp8+faWyco3Mm/epTJv2YNPjrxrvHjHHNo+3OuWU4+SLLz533LbeehsZNeoI6d+/4fFa5tFajz76sDOH2UaMGCkXXnhZkzEBiPufd0bER4CLufjUijNtW4BepkO0CNDLWiqpZx0EIPGvJQGI/xry2ezfMNMMBCDh2TKzvQABiL0VIxMsQADiXnztAYgRmDLlOnn88eltYpgv+s27LB588D5nXPN3S5j/bgwvevToKbvvvmfTXQ7rT2ruiLjuuhtl660HtjhekHOEFYCYk37vvXfk8ssvlCVLlmQ0My+UP//8S2To0INbjHn99X+KeUTWmjVrMu5fUFAg48f/Qo47bt07chYt+sZ5FNmCBQ0vOs+0/exn+8sVV1wlhYWFTUMIQNz/vDMiPgJczMWnVpxp2wL0Mh2iRYBe1lJJPesgAIl/LQlA/NeQz2b/hplmIAAJz5aZ7QUIQOytGJlggWwGIOXLK6Wmti522uZf6Tdu5pFGNlthQb707FoqPToXS2Vljc0unsfsvXfDy7AHDRrsvJMi02buWnj33X87P17/Bebm9+bMedF5wfcnn3wsq1atdL44N2HGFltsKUOHHiJ7772PfP31f+W440Y7cxx00CFy2WUTmw7XGF40Bg//+McL8uij05y7EcydJf37byQHHDDUuSuhQ4cfH53V/HzDmKP5/LZWhx9+iPzww2Ln0VHmXRutbeYODnNHy6uvvixfffWlrFy5QoqKiqV///6y6657yOGHH+Xc1ZFpKy8vd0In87JyE2asWbNaSkvLnH122WU3566SjTfepNXdq6urZebMGfLyyy/Kl19+LitXrhQTmJi7bgYP3tGpzZAhu7TYlwDE8x8zdoygABdzESwKp+RJgF72xMZOERSglyNYlISfEgFI/BuAAMR/Dfls9m+YaQYCkPBsmdlegADE3oqRCRbIVgBSWV0nFdW1sZQ2+YeJQEz0YZl/OOssKy6Q0uL80AOQqKCuH154Oa8g5vBy3KTsQwCSlEonY51czCWjzklYJb2chConY430cjLqHKdVEoDEqVqtnysBiP8a8tns35AAJDxDZvYvQADi35AZEiCQjQCkpKRQmt1EETtVL4/AalykCUyqqsK9AyQqoEGEF0HMERWPKJ4HAUgUq8I5eRXgYs6rHPtFTYBejlpFOB+vAvSyVzn2C0uAACQs2ezNSwDi35rPZv+GBCDhGTKzfwECEP+GzJAAgWwEIHFntP3SOO7r9Hv+QYQXQczhdx2a97ft5cWLF0p9fZ3k5eVL7979NZOwthgLcDEX4+Jx6usI0Ms0hBYBellLJfWsgwAk/rUkAPFfQz6b/RsSgIRnyMz+BQhA/BsyQwIECEDci2z7pbH7TLpHBBFeBDGHbmV/q7PtZQIQf87snR0BLuay48xRwhegl8M35gjZEaCXs+PMUewFCEDsraI6kgDEf2X4bPZvSAASniEz+xcgAPFvyAwJECAAcS+y7ZfG7jPpHhFEeBHEHLqV/a3OtpcJQPw5s3d2BLiYy44zRwlfgF4O35gjZEcgib0c90f9ZqczcneUwsJ8qV9VLjVLF0nF1580nEhapLa2zvWkSkuLJJWXknR9Wior17qOZ0A4AgQg/l2T+NnsX81uBl6CbufEqHAFCEDC9WV2JQIEIO6FtP3S2H0m3SOCCC+CmEO3sr/V2fYyAYg/Z/bOjgAXc9lx5ijhC9DL4RtzhOwIJLGXzR0GldV1UlFdmx1kjtIugU4diiRvzRKpW/6trPzqIynMz5OCgjyprSEAaRdkDgcTgPjHT+Jns381uxkIQOycGBWuAAFIuL7MrkSAAMS9kLZfGrvPxAgEcitg28sEILmtE0e3E+Bizs6JUdEXoJejXyPO0E4gib1sApAlK6ulfHml1FjcVWAnyaigBPr27ChF1cskteI7WfrFf6SspEBKiwsIQIICzsI8BCD+kZP42exfzW4GAhA7J0aFK0AAEq4vsysRIABxL6Ttl8buMzECgdwK2PYyAUhu68TR7QS4mLNzYlT0Bejl6NeIM7QTSGIvNwYg35avlg8+L7eDYlTWBAZt3lM6pVdJ4ZrFUv3Np9KxrIgAJGv6wRyIAMS/YxI/m/2r2c1AAGLnxKhwBQhAwvVldiUCBCDuhbT90th9JkYgkFsB214mAMltnTi6nQAXc3ZOjIq+AL0c/RpxhnYCSexlAhC73sjVKAKQXMkHd1wCEP+WSfxs9q9mNwMBiJ0To8IVIAAJ15fZlQgQgLgX0vZLY/eZGIFAbgVse5kAJLd14uh2AlzM2TkxKvoC9HL0a8QZ2gkksZcJQOx6I1ejCEByJR/ccQlA/Fsm8bPZv5rdDAQgdk6MCleAACRcX2ZXIkAA4l5I2y+N3WdiBAK5FbDtZQKQ3NaJo9sJcDFn58So6AvQy9GvEWdoJ5DEXiYAseuNXI0iAMmVfHDHJQDxb5nEz2b/anYzEIDYOTEqXAECkHB9mV2JAAGIeyFtvzR2n4kRCORWwLaXCUByWyeObifAxZydE6OiL0AvR79GnKGdQBJ7mQDErjdyNYoAJFfywR2XAMS/ZRI/m/2r2c1AAGLnxKhwBQhAwvVldiUCBCDuhbT90th9JkYgkFsB214mAMltnTi6nQAXc3ZOjIq+AL0c/RpxhnYCSexlAhC73sjVKAKQXMkHd1wCEP+WSfxs9q9mNwMBiJ0To8IVIAAJ15fZlQgQgLgX0vZLY/eZGIFAbgVse5kAJLd14uh2AlzM2TkxKvoC9HL0a8QZ2gkksZcJQOx6I1ejCEByJR/ccQlA/Fsm8bPZv5rdDAQgdk6MCleAACRcX2ZXIkAA4l5I2y+N3WdiBAK5FbDtZQKQ3NaJo9sJcDFn58So6AvQy9GvEWdoJ6Ctl0tKCiWVanvthYX5sqaqVlauWSvfla+2g2JU1gT69uwoRdXLJL38W1n6+YfSsaxISosLpLamzvUcSkuLJJWXknR9Wior17qOZ0A4AgQg/l21fTb7FwluBgKQ4CyZybsAAYh3O/ZMkAABiHuxbb80dp+JEQjkVsC2lwlAclsnjm4nwMWcnROjoi9AL0e/RpyhnYC2XjZ3d0hNpaSrKzICFBTkSfXaOqmorpVlK6vsoBiVNYEePbtJXs0aqVu+WMo/+4AAJGvywR2IAMS/pbbPZv8iwc1AABKcJTN5FyAA8W7HngkSIABxL7btl8buMzECgdwK2PYyAUhu68TR7QS4mLNzYlT0Bejl6NeIM7QT0NbLJgBJr14i9at+kHRtTasIefl5UlNbL2vX1smqCu4SsOuU7I3qvtHGkq6pkdqVSwhAssce6JEIQPxzavts9i8S3AwEIMFZMpN3AQIQ73bsmSABAhD3Ytt+aew+EyMQyK2AbS8TgOS2ThzdToCLOTsnRkVfgF6Ofo04QzsBbb3cGIDULVskq+d/3CpCQWG+VFbXyuqKtfL90sx3itgJMipoge2HjpBUup4AJGjYLM5HAOIfW9tns3+R4GYgAAnOkpm8CxCAeLdjzwQJEIC4F9v2S2P3mRiBQG4FbHuZACS3deLodgJczNk5MSr6AvRy9GvEGdoJaOtlAhC7ukd5FAFIlKtjd24EIHZObY3S9tnsXyS4GQhAgrNkJu8CBCDe7SK352WXXSbTpk2TX/ziF3LOOee4nt8LL7wgU6dOlQ8//FBWrVol3bt3l2233VZGjx4t++23n+v+ZkBU5rA6WR+DCEDc8Wy/NHafiREI5FbAtpcJQHJbJ45uJ8DFnJ0To6IvQC9Hv0acoZ2Atl4mALGre5RHEYBEuTp250YAYudEAOLfycsMBCBe1NgnaAECkKBFczTf888/L2eeeaZzdLcAZO3atXLBBRfIrFmzMp7t8OHDZdKkSVJYWNjqmKjMkS3ubAQgJSWFkkpla0XBHycv78eTr69Pt+sA6bRIVVXrzwxu10QMRiAAAQKQABCZIjIC2r5oiwwsJ5J1AXo56+QcMCQBbb1MABJSo2RxWgKQLGKHdCgCEP+w2j6b/YsENwMBSHCWzORdgADEu11k9pwzZ46cccYZUlPT8AWyWwDSeKeIGTt48GA56aSTZMMNN5SvvvpK7r77bpk3b54zz9ixY2XixImtrjMqc2SrCNkIQMzFg9RUSro6ns/FTaVSToBjwoy0+T+WW6q4TKSwVCorCUAM2dVX/1ZmzXrK0Zs791+WigwLUoAAJEhN5sq1ABdzua4Axw9KgF4OSpJ5ci2grZcJQHLdUf6PTwDi3zDXMxCA+K+Ats9m/yLBzUAAEpwlM3kXIADxbheJPf/617/KlClTmsIPc1JtBSBvv/22jBs3zjn3PffcU+666y4pKChoWkt1dbWMHz9e3nzzTef3pk+fLoMGDVpnrVGZI5sFyFYAkl69ROpX/SDp2viFASYAadxsA5BUQaHkdeolqY49CED+h0cAks0/2a0fiwAk9zXgDIIT4GIuOEtmyq0AvZxbf44enIC2XiYACa43cjUTAUiu5IM7LgGIf0ttn83+RYKbgQAkOEtm8i5AAOLdLqd7zp8/X6677jp58cUXnfPIz8+Xuro659dtBSDmMVnmcVlm/FNPPSUDBgxosY4FCxbIsGHDnFDl4IMPlltuuWWdMVGZI5sFyGYAUrdskaye/3E2lxfIsVJ5KTERiLn3I235CCz+otaSngAkkHb0NQkBiC8+do6YABdzESsIp+NZgF72TMeOERPQ1ssEIBFrMA+nQwDiAS1iu3Bd7b8g2j6b/YsENwMBSHCWzORdgADEu13O9rz//vvl2muvbbrrY/PNN3ceY3XppZe2GYBUVVXJLrvsIub9HTvttJM8+OCDGddwyimnyNy5c6W0tFRee+015/+bLSpzZBufAMRdnADE3chmBAGIjVK4YwhAwvVl9uwKcDGXXW+OFp4AvRyeLTNnV0BbLxOAZLd/wjgaAUgYqtmdkwDEv7e2z2b/IsHNQAASnCUzeRcgAPFul7M9L7zwQnnsscekqKhITj75ZOf9H++++66ccMIJbQYgb731lhx33HHOmAkTJshZZ52VcQ133nmn3Hjjjc7PzWO29thjD+fXUZkj2/gEIO7iBCDuRjYjCEBslMIdQwASri+zZ1eAi7nsenO08ATo5fBsmTm7Atp6mQAku/0TxtEIQMJQze6cBCD+vbV9NvsXCW4GApDgLJnJuwABiHe7nO15xRVXOI+7Ov30052Xl5vtjTfecA1AzB0fv/3tb53xkydPlpEjR2Zcw8yZM+Wcc85xfn7JJZc0zR2VObKNTwDiLk4A4m5kM4IAxEYp3DEEIOH6Mnt2BbiYy643RwtPgF4Oz5aZsyugrZcJQLLbP2EcjQAkDNXszkkA4t9b22ezf5HgZiAACc6SmbwLEIB4t8vZnvX19ZKXl7fO8W0CkJtuukn++Mc/Ovv9/e9/dx6HlWl755135Oijj3Z+bB6HdcEFFzi/jsoc2cYnAHEXj0sA8s03C+Wxx6bL22+/KQsXLpTa2hrp3LmzDBiwueyxx14yYsQoKSsra3XBK1eukBkzHpe3335LvvrqSzH/nU6LdOrUSTbbbHPZa699ZMSIw6S4uCQjmNnn8ccfkTlzXhRzLul0vfzf/20mw4cfJiNGjJRrrrlSZs16ytl/7tx/rTPPmWf+XN59998yZMiucsstt8uXX34hDz/8kPzrX2/KkiXlUlJS4pzHQQcNk2HDDnXe9dPWNnfuHHn22Vnyn/98IMuXL5OiomLp129D2W23PeTII8dKz549M+6+Zs1qeeKJR+XVV19xLCoq1kjHjh1lgw36yc477yYjRx4pffv2bXV/8xn2wgvPyuzZz8knn3wsK1Ysd869R4+eMnjwjnLIIYfJdtsNcm+6kEYQgIQEy7Q5EeBiLifsHDQEAXo5BFSmzImAtl4mAMlJGwV6UAKQQDlzMhkBiH92bZ/N/kWCm4EAJDhLZvIuQADi3S5Se9oEIObuj8b3fphHaG2zzTYZ1/Dpp5/KYYcd5vx8zJgx8rvf/c75dVTmyDY+AYi7eBwCkNmzn5err77CeQ9Opq179x4yefLNsvXWA9cZYva97rrfSWVlRZsYm2yyqdxyyx3Ss2evFuM++OA9ufDCX8uKFStanWPXXfdwwhQTDJitrQBk6NCDZcqUH98FtP6EO+ywk9xww62thjEmhLn88ouc4CTTVlxcLOedd5EMGzaixRATeJx77i9l8eLvM+5fUFDg7G9CneabCUouuOAcJ8hpazvssMOd/dcPe9070f8IAhD/hswQHQEu5qJTC87EnwC97M+PvaMjoK2XCUCi01tez4QAxKtcdPYjAPFfC22fzf5FgpuBACQ4S2byLkAA4t0uUnvaBCAXX3yxPPLII855m0dcbbbZZhnX8N///leGDh3q/HzUqFEyadIk59dRmSPb+HV19e065BdffCE1NWsllcqXvn03stq3pKRA6lctkbpli2T1fz+22idKg1LNTiZteWIdNxko+d36SV6nHlJVVWu5l7dh5m6LceNGy9q11dKtWzc59tgTZeDAbcV80f/DD9/LM8/MdO7KMJu5i+Ghhx513rNjtvfee0dOP328pNNp5y6HI44YLdtvv4N07dpVli5dKh9//JFMn/6QrFq1yhl/4IEHy8SJ16xzovPnfyUnnjjOOb75Ut/c8bHffgc4882b96n8/e9/k2+/XeT8zNwhYbbXXls3JJgw4VR55523nfNfuXKllJSUyujRY2WXXXZz7vZ499135N5773HuxjDbKaf8XMaP/8U651FVVSU///lJ8tln85zf33PPveXgg4c7d35UVVU6c5i1LF++3Pn5b397tXNHSeNmzm3cuKPkv/+d7xxzzJhjZNddd5cuXbo6d5G8+ebr8uijDzshk/n5vfc+JAMG/PhZY0KkJ554zJlun332lWHDDpHevfs6wZK5G+TBB//u3M1itgsuuFgOP/wobwX3sVeqWTObO3wybd99t0DS6TopLCxq8/PUx6mwKwK+BfLyUpJKpZzPr/p6209n34dlAgQCF6CXAydlwhwJaOtl8/em2hU/SM2SRVK18NPWVVMiayprZNWatVK+vDJH8hw2k8C2BxwiqXS91KxcIks++1A6dSiSDqWFIhZ/bXD+3mz+Tzrt3BnPlhuBkv5bSWGPflLQpRd18FgCbZ/NHhlC2838I0M2BHIpQACSS/0Aj20TgFx22WUybdo056izZs2SAQMGZDyD+fPny0EHHeT8/IgjjpBrr73W+XVU5giQLpSpPvvsM1m7tkZSqTzZYAO7AKS4M0yWWAAAIABJREFUuEDSq5dI7dJFsiaGAYgXyA6bDJSC7v0k1bGHVFeHG4Dcffef5K67Gh4Bd+edf5HBg3doccrXXXeVPP74o87vT558o+yzz8+cX5vw4513/u18oX/nnXfLdttt32JfE7Ace+wYMQGDCVVmz35ZCgoKm8adeeYvmu64MOGIuYOj+bZ69Sr55S9Pd8KUxu3119cNQE4/vSEAMVvnzl3krrvuEXPHSfPNBBiNYU2fPn3liSdmrvPzW2+9SR544D7n9y688BIZNerIFmsxAcQvfjFeFiz4WsrKOshjjz0lXbp0ccaZ45vzMNtpp02Qk08e32L/5557Ri6//GLn948+epycffZ5zq9rampk//1/4oQjJrT5/e/vaLHv119/LSeeeIxUVlbKlltuJffe+6CX1srKPt9+awKQeikqKpQtttgiK8fkIAgggAACCCCAQNQEapYvlpol30jVNw3/wKa1rSEAqZby5VVRO/3En882+w9rCkCWfm4CkOKGAIQtNgIlG24phT02lMKuvWNzzpwoAgggkE0BApBsaod4LJsAxIQYf/3rX52zePzxx2XgwHUf8dP89Jo/Amvs2LEyceJE58dRmSNEylan5g4Qd/Go3wEyefI1zrs/zPb00y9I9+7dWyxq4cIFcv/99zp3Q5j3gWy++RbOXRHmzgvzvpAddxwikybdkBHjl7/8MeR48slnpVevhsdgmSBhzJhRzq/33fcAueaaya3OYe4SMXdXmH+pbbZMd4CYn02Y8Cs5/viTWp3n2GNHO+8HMdvzz8+Rjh07Ob82IcvIkcOkoqJC9trrJzJlyi0Z1/Laa6/Kr3/9S+fnZ5xxlhx33InOr827Oy677CLn17/73XVywAENd4o138xdIlOmXCc9evSQbbbZzrE029KlS2T48AOdX5u7aM4/v2Ge9TdTA/NekP79NxLzKKxsb9wBkm1xjhemAP+aLUxd5s6mAL2cTW2OFaaAtl7mDpAwuyU7c3MHSHacwzwKd4D419X22exfJNgZuAMkWE9ma78AAUj7zSK5h00Acuutt8ptt93mnP8DDzwgQ4YMybiW5i9BP+200+TXv/61MzYqc2S7CLwDxF086u8AMY91uvnmKc5CBg0aLGeeeY5ss822zqNhbDfzxX5b76SYOPEyee65Wc50U6c+Lhtu2N/5tXms02233ez8+tprp8hPftJwZ0lrW+OLzs3PMr0DxPzsnnvuly222KrVOcx7RubOfdn52WOPzZRevRr+JdArr7wkF13UcDeGuSvjqKOOznge5m6Ngw76mfPILvNukhtv/L0z9osvPpcTT2zYz8x79tnnO4/RKix0/1diJtgZMeIA5x0oZvxpp50hw4ePdN57EqWNd4BEqRqci18BnmfsV5D9oyJAL0elEpyHXwFtvcw7QPx2RO735x0gua+B3zPgHSB+BUW0fTb7FwluBt4BEpwlM3kXIADxbhepPW0CEPP+D/MOD7PdeOONMnz48IxrMO8IOeecc5yfX3755XLsscc6v47KHNnGJwBxF496ALJ69Wo54YSx67y429yhsPPOu8qQIbs6j2RqDArcVltdXS3fffetLFq00Lm7w4QC//nPB2Lu4GjcHnroMecOBrNde+1EefrpJ51fT5/+lPTt2zfjIW677RZ58MGGR1S1FYA888xLzvtDWtuuvPJSef75Z/53vBnSt+8Gzq/vvvtOueeeu9yW1+LnZh1mPY3bb35zjrz66itN/11aWiY77riTY2n+N2DA5hmP8dBDf5c//KEhDDKbeayYCaJ23nk3GTJkF+fxYuYF6rncCEByqc+xgxbgYi5oUebLlQC9nCt5jhu0gLZeJgAJukOyPx8BSPbNgz4iAYh/UW2fzf5FgpuBACQ4S2byLkAA4t0uUnvaBCDvv/++jB492jnvs88+W04//fSMa7jzzjudkMRs9957r+y2227Or6MyR7bxCUDcxaMegJgVmEdcmZdwv/vuuu/WaFydeefEAQccJIcfPlpKS0vXWXR5eblMm/aAcxeFmafxMVXNBzV/gXnzAOSCC86Wf/5zrjP0hRfmSklJSUbQ5neLtBWAvPTS6xmDguZ3ojz88JPOS93NdsMNk+Sxxx52L+Z6I8z7RmbOnN30u+YRWrfeeoPMnDmj6YXtzXfp3buP7Lvv/jJmzDgx7yFZfzNr/Mtf/uS8+Hz9rUOHDrLXXvvIEUeMke22G9Tucw1iBwKQIBSZIyoCXMxFpRKch18BetmvIPtHRUBbLxOARKWzvJ8HAYh3u6jsSQDivxLaPpv9iwQ3AwFIcJbM5F2AAMS7XaT2tAlAzL9a33333Z3n/++9995y9913Z1zDKaecInPnzpWioiJ58803m74Mjsoc2cYnAHEXj0MA0riKefM+kZde+oe8/vo/5fPP57X4Et/cMXHLLXc0PcLqrbfekEsvvUDWrFnTBGFCjI033tR5CflWW20tO+wwRMxjtp555mlnjNcApPmjuoIOQCZPvlqefLLhTo7LLpsoAwZs5l5YEcnLy5fNNmt5V8f3338nc+b8wwl33n//PedxWc038zL4iROvc943sv5WUbFGXnlljnMnydtvv+k8Fmv97YQT/p/8/OcTrM4xyEEEIEFqMleuBbiYy3UFOH5QAvRyUJLMk2sBbb1MAJLrjvJ/fAIQ/4a5noEAxH8FtH02+xcJbgYCkOAsmcm7AAGId7tI7WkTgJgTPvfcc+Wpp55ynr8/a9Ys2Wijhkf0NN8WLFggBx98sNTW1sqBBx4of/jDH9b5eVTmyGYBCEDcteMUgDRfzcqVK507Qt588zV58cUXmr6IN49jMiHIsmVLnReTr1q10nlc07HHnui8+HvTTQe0eB+ICUlMsGK25gHIpElXy4wZDcFD8zsyWlM1d0aY/5kt6ADkj3/8g/z973915jbBxH77HeBeWMsRa9eulQ8/fF/efvstmT37eVm48GtnT/MC9kcemSEdOrT+uC4zxtxNY4Ios68JRd57752mo952210yePCOlmcRzDACkGAcmSUaAlzMRaMOnIV/AXrZvyEzRENAWy8TgESjr/ycBQGIH71o7EsA4r8O2j6b/YsENwMBSHCWzORdgADEu12k9rQNQMzLzY855hjnC8ddd91V/vznP4v5V9qNm7nDY/z48c5dH2Zr7WXpUZkjmwUgAHHXjnoAYr6gN1/K19TUOndstLYtXbpETj75WFmypNz5sXlc1eOPT296Z8XJJ58qp5xyWkaMU089QT7++CPn580DkGnTHnQeGWW2K6+8Rvbff2jGOS666FwnBDBb0AHIc889IxMnXurMPWrUkXLeeRdlPA/jdd9990ifPn2csMe8m8Ns5kXw3367SMzdHzvttHOr+5vw9PzzzxJz54zZrr/+Ftljj72cXxvbr7/+r1ODsrIOre5v3lNi3lditnHjTpAJE37l3oABjiAACRCTqXIuwMVczkvACQQkQC8HBMk0ORfQ1ssEIDlvKd8nQADimzDnExCA+C+Bts9m/yLBzUAAEpwlM3kXIADxbhepPW0DEHPS5qXmU6dOdc5/yy23dAKPTTfdVObPn+88FuvTTz91fjZ27FiZOHFiq+uMyhzZKgIBiLt0lAMQE/gdeuhQWb58mWywwYby8MNPZFxQ8/d1zJz5D7nzzj/IE0886oyfNOmmVh/nZH5mXoBuXrJuAgKz3X//dOfxWGZbvPh7OfLIEU7waF64fsstt7d6fBPAHHXUYU2Pkgo6ADHzH3HEcOfuLhM+TJ36uHTr1q3VczHBz5Qp1zk/Gz78MLnoosudX1966W/kpZca3gcyffqPL1hff5IHHrhPbr/9Fue3r776evnpT/eVRx6ZJjfdNNn5vUsu+a0MGzai1WN/8slHMn78Cc7PjjrqaDn77PPcGzDAEQQgAWIyVc4FuJjLeQk4gYAE6OWAIJkm5wLaepkAJOct5fsEmgcglQs/keKiAikqyJO6+rTr3IWF+ZJKpZzrnJqaOtfxDAhBIC1S0n9Lye/WT1Ide0hlZU0IB9E/pbbP5ihVjAAkStVI7rkQgCipfXsCkJqaGjn//POdR2Bl2g455BCZNGmS8w6Q1raozJGt8hGAuEtHOQAxZ3/ttRPl6aefdBZy1lnnyejRR7dY1HfffSsnnTROVq9e5bz/wwQEf/rT7XLvvX9xxo4ceYScf/7FLfYzd0SY4OSrr75s+tk99zwgW2yxZdN/X3HFRc6jocw2YcJZMm7c8evMY+64uOii8+SNN/7Z9PtBByBm4muuudJ5ebnZzB0cJtRZ/4XvX375hUyYMN5xMBc0f/nL/U1rMe84ueqqK5z9Tahx1VWTnTHNN/P5cMYZp8pHH33oPCZs2rQnxLxXxTiNHTvKCYmM7113/U3MC9bX38zdMuauGbOZd5UcdNAh7g0Y4AgCkAAxmSrnAlzM5bwEnEBAAvRyQJBMk3MBbb1MAJLzlvJ9AusEIN98KgV5eU6gUZ92D0Aa/t7cEIDU1TX8QzC27AkU5udJQUGelGxIAOJXXdtns1+PIPcnAAlSk7m8ChCAeJWL2H7tCUAaT/2FF16Q6dOny4cffijLli2Tjh07yqBBg2TMmDEydGjmR/Q0X3pU5gi7HAQg7sJRD0C++WahnHTSMVJZWen8Jd18eb/vvgdKnz59pbJyjcyb96nzpXvj468uvfRKOfjg4fLZZ/PklFOOa7qz46CDhjn7devWXZYtW+I85smEAs1fkG60/vCHP8kOO+zUBGfeJXLiiceIuQvDbD/5yc9k+PBDpXv3Hs7dI1On3i9ffPG5E0aYczRbGAGIeefJ+PHHy6JF3zjHMHfEjB17jGy11UCpqqpy3r/x8MMPNq1n/UdQmbtHjIc5V7NtvfU2MmrUEdK//8bOf5vHjD366MOOp9lGjBgpF154WZPD9ddf03RHTa9eveWoo8bKFltsJWVlZbJ48WJ54YVn5eWXX3TGmzto/va3h6SgoMC9AQMcQQASICZT5VyAi7mcl4ATCEiAXg4IkmlyLqCtlwlAct5Svk9g/QDE5B7Va2utAg3zj53Mv4Uy+zTeCe/7hJjASsDYl5UUSGlxAQGIlVjbg7R9NgdAEtgUBCCBUTKRDwECEB947JocAQIQ91pHPQAxK3j99X+KuRNj/bCi+erMl+3jx/9CjjvupKbfNi8ONy8Qb2vbbLMtZP/9D3TuGDHbuedeKIcfftQ6u5gQ5rzzfiULFjS8IHz9beDAbZ13ZYT1EvTG45lHcl1yyQXy8cf/ybgkExKNGXOMnHnmOS3u8DDhybnn/jLjOhon/dnP9pcrrrhKCgsLm45j3jNkajB37stteg4YsJlMnnyL9O3b1735Ah5BABIwKNPlVICLuZzyc/AABejlADGZKqcC2nqZACSn7RTIwVsLQCqrauS7JWtc5y8saPYIrFoegeUKFuCAPt3LpGNZEQFIQKbaPpsDYglkGgKQQBiZxKcAAYhPQHZPhkA2A5D6VT9IujZ+z+1s/hgkcwu0zZYqKJS8Tr2y+qzS8vJy58Xm5s4NE0SsWbNaSkvLnDtBdtllNznssMNl4403aXH6//73v+SRR6bKhx9+ICtWLJf8/Hzp2rWbbLbZ5rLffgc6LzY3d26MGjXMeYfH4ME7ym233dVinurqKpk16yl59tmZzvFNINCvX38ZOvRgGTNmnDz88ENN784I4w6QxhMyNTLv8pg9+zn56KP/yPLly50f9e7d2zl385J0E8hk2sx5m0dpmbs1vvzyczF3lpjwyNzRYvY3j60aMmSXjPvPnTtHnn12lnzyyceydGm58y/GjOeWW24lJjgZOnSYY5yLjQAkF+ocMywBLubCkmXebAvQy9kW53hhCWjrZQKQsDole/MSgGTPOsgjEYAEqSmi7bM5WB1/sxGA+PNj72AECECCcWQW5QLZCkCkplLS1RWx1DQBSOPtz7YBiFloqrhMpNA89il+oU8sC8VJuwoQgLgSMSBGAlzMxahYnGqbAvQyDaJFQFsvE4DEvzMJQOJZQwKQYOum7bM5WB1/sxGA+PNj72AECECCcWQW5QLZCEBKSgqdACGuW17ejydfX293B0jjWs0NI1VVBCBxrb228yYA0VbRZK+Hi7lk11/T6ullTdVM9lq09TIBSPz7mQAknjUkAAm2bto+m4PV8TcbAYg/P/YORoAAJBhHZlEukI0AJO6Etl8ax32dnL9+AdteXrx4odTX10leXr707t1fPwwrjKUAF3OxLBsn3YoAvUxbaBHQ1ssEIPHvTAKQeNaQACTYumn7bA5Wx99sBCD+/Ng7GAECkGAcmUW5AAGIe4FtvzR2n4kRCORWwLaXCUByWyeObifAxZydE6OiL0AvR79GnKGdgLZeJgCxq3uURxGARLk6mc+NACTYumn7bA5Wx99sBCD+/Ng7GAECkGAcmUW5AAGIe4FtvzR2n4kRCORWwLaXCUByWyeObifAxZydE6OiL0AvR79GnKGdgLZeJgCxq3uURxGARLk6BCDZqo62z+ZsudkchwDERokxYQsQgIQtzPwqBAhA3Mto+6Wx+0yMQCC3Ara9TACS2zpxdDsBLubsnBgVfQF6Ofo14gztBLT1MgGIXd2jPIoAJMrVIQDJVnW0fTZny83mOAQgNkqMCVuAACRsYeZXIUAA4l5G2y+N3WdiBAK5FbDtZQKQ3NaJo9sJcDFn58So6AvQy9GvEWdoJ6CtlwlA7Ooe5VEEIFGuDgFItqqj7bM5W242xyEAsVFiTNgCBCBhCzO/CgECEPcy2n5p7D4TIxDIrYBtLxOA5LZOHN1OgIs5OydGRV+AXo5+jThDOwFtvUwAYlf3KI8iAIlydQhAslUdbZ/N2XKzOQ4BiI0SY8IWIAAJW5j5VQgQgLiX0fZLY/eZGIFAbgVse5kAJLd14uh2AlzM2TkxKvoC9HL0a8QZ2glo62UCELu6R3kUAUiUq0MAkq3qaPtszpabzXEIQGyUGBO2AAFI2MLMr0KAAMS9jLZfGrvPxAgEcitg28sEILmtE0e3E+Bizs6JUdEXoJejXyPO0E5AWy8TgNjVPcqjCECiXB0CkGxVR9tnc7bcbI5DAGKjxJiwBQhAwhZmfhUCBCDuZbT90th9JkYgkFsB214mAMltnTi6nQAXc3ZOjIq+AL0c/RpxhnYC2nqZAMSu7lEeRQAS5eoQgGSrOto+m7PlZnMcAhAbJcaELUAAErYw86sQIABxL6Ptl8buMzECgdwK2PYyAUhu68TR7QS4mLNzYlT0Bejl6NeIM7QT0NbLBCB2dY/yKAKQKFeHACRb1dH22ZwtN5vjEIDYKDEmbAECkLCFmV+FAAGIexltvzR2n4kRCORWwLaXCUByWyeObifAxZydE6OiL0AvR79GnKGdgLZeJgCxq3uURxGARLk6BCDZqo62z+ZsudkchwDERokxYQsQgIQtzPwqBNobgJSXL5La2hoRSUmfPhtJKpVS4dDWImy/NFYPwQJjL2DTy+l0Wr7/foGIpKWgoFB69uwX+3WzAJ0CXMzprGsSV0UvJ7HqOtesrZcJQOLfpwQg8axhn+5l0rGsSEqLC6Rkwy0lv1s/SXXsIZWV5nsItvYKaPtsbu/6wxxPABKmLnPbChCA2EoxLtEC7Q1Ali37QaqrKxyzbt36SHFxiXo/my+N1SOwQBUCNr1cXV0ly5Z976y3uLhMunXrpWLtLEKfABdz+mqa1BXRy0mtvL51a+tlApD49ygBSDxrSAASbN20fTYHq+NvNgIQf37sHYwAAUgwjsyiXKC9AUhl5RpZsaL8f1+OlkrXrr3U3wVi86Wx8jZheUoE3HrZ3P2xfLkJOSudFXfp0lNKSzsoWT3L0CbAxZy2iiZ3PfRycmuvbeXaepkAJP4dSgASzxoSgARbN22fzcHq+JuNAMSfH3sHI0AAEowjsygXaG8AUl9fL+b9AObxOGYrLi6VsrLOUlRUrDYIcfvSWHmLsDxFApl62QQfa9dWS0XFyqbwwzzmrnfv/pKXl6dIgKVoEuBiTlM1k70WejnZ9de0em29TAAS/+4kAIlnDQds2EWKiwqkqCBPivtvJYXd+0lep55SU1MXzwXl+KzLyoqcazrzXU5FxdpQziadFqmqSt4jyghAQmknJm2nAAFIO8EYnkyB9gYgRqmqqkKWLzd3gTSEIA1bSu0Xpc3fc2K+KGZDIK4CmXrZ/GV4/T/PXbv2lJKSsrgulfNOgIC2L9oSUDKWmEGAXqY1tAho62UCkPh3JgFIPGs4oH9XKcjLE3Pt3XHTgZLfdQOp79BDVq0J58v7eCrZn3VxcYHzj1WNZ3V1rf2OliPLiguktDg/ke9oIQCxbBKGhSpAABIqL5NrEfASgJi1tx6CaFFZdx15eeZF7+Z/aamvJwDRWeVkrMqul1NC+JGMfoj7KrV90Rb3enD+3gXoZe927BktAW29TAASrf7ycjYEIF7Ucr+PCUDMvzusXlsr3QZsK+kufWVtcTf5rnx17k8uhmdQWGgCEHFMa2qCDUAKC/KlZ9dS6dG5mAAkhr3BKesQIADRUUdWEbKA1wDEnJb5V+PmXQEmDKmrq3H+W+MW5l8YNHqxpugKZOplc0t0fn6hc8eHeawdj72Kbg05sx8FtH3RRm2TK0AvJ7f22laurZcJQOLfoQQg8axhYwBSWVUjRf22lJoOvWVVqpN88HnDu0jZ2idQWmoegZVy/jFnZWWwd9EM2rynbNCzIwFI+0rCaAQCFSAACZSTybQK+AlAtJqsvy5tF3NJqRvrbClAL9MVmgToZ03VTPZa6OVk11/T6rX1MgFI/LuTACSeNSQACbZuBCDBejafjUdghWfLzPYCBCD2VoxMsAABiHvxtV3Mua+YEVoF6GWtlU3muujnZNZd46rpZY1VTeaatPUyAUj8+5gAJJ41JAAJtm4EIMF6EoCE58nM3gQIQLy5sVfCBAhA3Auu7WLOfcWM0CpAL2utbDLXRT8ns+4aV00va6xqMtekrZcJQOLfxwQg8awhAUiwdSMACdaTACQ8T2b2JkAA4s2NvRImQADiXnBtF3PuK2aEVgF6WWtlk7ku+jmZdde4anpZY1WTuSZtvUwAEv8+JgCJZw0JQIKtGwFIsJ4EIOF5MrM3AQIQb27slTABAhD3gmu7mHNfMSO0CtDLWiubzHXRz8msu8ZV08saq5rMNWnrZQKQ+PcxAUg8a0gAEmzdCECC9SQACc+Tmb0JEIB4c2OvhAkQgLgXXNvFnPuKGaFVgF7WWtlkrot+TmbdNa6aXtZY1WSuSVsvE4DEv48JQOJZQwKQYOtGABKsJwFIeJ7M7E2AAMSbG3slTIAAxL3g2i7m3FfMCK0C9LLWyiZzXfRzMuuucdX0ssaqJnNN2nqZACT+fUwAEs8aEoAEWzcCkGA9CUDC82RmbwIEIN7c2CthAgQg7gXXdjHnvmJGaBWgl7VWNpnrop+TWXeNq6aXNVY1mWvS1ssEIPHvYwKQeNaQACTYuhGABOtJABKeJzN7EyAA8ebGXgkTIABxL7i2izn3FTNCqwC9rLWyyVwX/ZzMumtcNb2ssarJXJO2XiYAiX8fE4DEs4YEIMHWjQAkWE8CkPA8mdmbAAGINzf2SpgAAYh7wbVdzLmvmBFaBehlrZVN5rro52TWXeOq6WWNVU3mmrT1MgFI/PuYACSeNSQACbZuBCDBehKAhOfJzN4ECEC8ubFXwgQIQNwLru1izn3FjNAqQC9rrWwy10U/J7PuGldNL2usajLXpK2XCUDi38cEIPGsIQFIsHUjAAnWkwAkPE9m9iZAAOLNjb0SJkAA4l5wbRdz7itmhFYBellrZZO5Lvo5mXXXuGp6WWNVk7kmbb1MABL/PiYAiWcNCUCCrRsBSLCeBCDheTKzNwECEG9u7JUwAQIQ94Jru5hzXzEjtArQy1orm8x10c/JrLvGVdPLGquazDVp62UCkPj3MQFIPGtIABJs3QhAgvUkAAnPk5m9CRCAeHNjr4QJEIC4F1zbxZz7ihmhVYBe1lrZZK6Lfk5m3TWuml7WWNVkrklbLxOAxL+PCUDiWUMCkGDrRgASrCcBSHiezOxNgADEmxt7JUyAAMS94Nou5txXzAitAvSy1somc130czLrrnHV9LLGqiZzTdp6mQAk/n1MABLPGhKABFs3ApBgPQlAwvNkZm8CBCDe3NgrYQIEIO4F13Yx575iRmgVoJe1VjaZ66Kfk1l3jaumlzVWNZlr0tbLBCDx72MCkHjWkAAk2LoRgATrSQASniczexMgAPHmxl4JEyAAcS+4tos59xUzQqsAvay1sslcF/2czLprXDW9rLGqyVyTtl4mAIl/HxOAxLOGBCDB1o0AJFhPApDwPJnZmwABiDc39kqYAAGIe8G1Xcy5r5gRWgXoZa2VTea66Odk1l3jqulljVVN5pq09TIBSPz7mAAknjUkAAm2bgQgwXoSgITnyczeBAhAvLmxV8IECEDcC67tYs59xYzQKkAva61sMtdFPyez7hpXTS9rrGoy16StlwlA4t/HBCDxrCEBSLB1IwAJ1pMAJDxPZvYmQADizY29EiZAAOJecG0Xc+4rZoRWAXpZa2WTuS76OZl117hqelljVZO5Jm29TAAS/z4mAIlnDQlAgq0bAUiwngQg4XkyszcBAhBvbuyVMAECEPeCa7uYc18xI7QK0MtaK5vMddHPyay7xlXTyxqrmsw1aetlApD49zEBSDxrSAASbN0IQIL1JAAJz5OZvQkQgHhzY6+ECRCAuBdc28Wc+4oZoVWAXtZa2WSui35OZt01rppe1ljVZK5JWy8TgMS/jwlA4llDApBg60YAEqwnAUh4nszsTYAAxJsbeyVMgADEveDaLubcV8wIrQL0stbKJnNd9HMy665x1fSyxqomc03aepkAJP59TAASzxoSgARbNwKQYD0JQMLzZGZvAgQg3tw8GxkoAAAgAElEQVTYK2ECBCDuBdd2Mee+YkZoFaCXtVY2meuin5NZd42rppc1VjWZa9LWywQg8e9jApB41pAAJNi6EYAE60kAEp4nM3sTIADx5sZeCRMgAHEvuLaLOfcVM0KrAL2stbLJXBf9nMy6a1w1vayxqslck7ZeJgCJfx8TgMSzhgQgwdaNACRYTwKQ8DyZ2ZsAAYg3N/ZKmAABiHvBtV3Mua+YEVoF6GWtlU3muujnZNZd46rpZY1VTeaatPUyAUj8+5gAJJ41JAAJtm4EIMF6EoCE58nM3gQIQLy5sVfCBAhA3Auu7WLOfcWM0CpAL2utbDLXRT8ns+4aV00va6xqMtekrZcJQOLfxwQg8awhAUiwdSMACdaTACQ8T2b2JkAA4s2NvRImQADiXnBtF3PuK2aEVgF6WWtlk7ku+jmZdde4anpZY1WTuSZtvUwAEv8+JgCJZw0JQIKtGwFIsJ4EIOF5MrM3AQIQb27slTABAhD3gmu7mHNfMSO0CtDLWiubzHXRz8msu8ZV08saq5rMNWnrZQKQ+PcxAUg8a0gAEmzdCECC9SQACc+Tmb0JEIB4c2OvhAkQgLgXXNvFnPuKGaFVgF7WWtlkrot+TmbdNa6aXtZY1WSuSVsvE4DEv48JQOJZQwKQYOtGABKsJwFIeJ7M7E2AAMSbG3slTIAAxL3g2i7m3FfMCK0C9LLWyiZzXfRzMuuucdX0ssaqJnNN2nqZACT+fUwAEs8aEoAEWzcCkGA9CUDC82RmbwIEIN7c2CthAgQg7gXXdjHnvmJGaBWgl7VWNpnrop+TWXeNq6aXNVY1mWvS1ssEIPHvYwKQeNaQACTYuhGABOtJABKeJzN7EyAA8ebGXgkTIABxL7i2izn3FTNCqwC9rLWyyVwX/ZzMumtcNb2ssarJXJO2XiYAiX8fE4DEs4YEIMHWjQAkWE8CkPA8mdmbAAGINzf2SpgAAYh7wbVdzLmvmBFaBehlrZVN5rro52TWXeOq6WWNVU3mmrT1MgFI/PuYACSeNSQACbZuBCDBehKAhOfJzN4ECEC8ubFXwgQIQNwLru1izn3FjNAqQC9rrWwy10U/J7PuGldNL2usajLXpK2XCUDi38cEIPGsIQFIsHUjAAnWkwAkPE9m9iZAAOLNjb0SJkAA4l5wbRdz7itmhFYBellrZZO5Lvo5mXXXuGp6WWNVk7kmbb1MABL/PiYAiWcNCUCCrRsBSLCeBCDheTKzNwECEG9u7JUwAQIQ94Jru5hzXzEjtArQy1orm8x10c/JrLvGVdPLGquazDVp62UCkPj3MQFIPGtIABJs3QhAgvUkAAnPk5m9CRCAeHNjr4QJEIC4F1zbxZz7ihmhVYBe1lrZZK6Lfk5m3TWuml7WWNVkrklbLxOAxL+PCUDiWUMCkGDrRgASrCcBSHiezOxNgADEmxt7JUyAAMS94Nou5txXzAitAvSy1somc130czLrrnHV9LLGqiZzTdp6mQAk/n1MABLPGjYPQHrtuI+kS7pIVapEvitfHc8F5fisCwsLJJUSSadFampqAz2bvj07SucORdKhpEBqauranNscv6qqJtDj53qygoJ86datLNenwfETLkAAkvAGYPl2AgQg7k7aLubcV8wIrQL0stbKJnNd9HMy665x1fSyxqomc03aepkAJP59TAASzxo2D0B6D9lXUgVFUlNbJ8tWVsVzQTk+64KCPElJStKSltra+kDPplvnEikrLpDiovw2504Vl4kUlkplJQFIoAVgMgREhACENkDAQoAAxB1J28Wc+4oZoVWAXtZa2WSui35OZt01rppe1ljVZK5JWy8TgMS/jwlA4lnDFgFIul7qK1fKihVr4rmgHJ91fn5e0xnU1QUbgHQqK5KionwpLMiT+gxzpwoKJa9TL0l17EEAkuNe4PA6BQhAdNaVVQUsQADiDqrtYs59xYzQKkAva61sMtdFPyez7hpXTS9rrKq/NZWUFDqPK4nbVlZWJHl5eVJfXy8VFWvjdvotzrewMF/qV5VLzdJFUvH1J62uJz8vJRVVtbKqYq18t4QvZ6NWdAKQqFXE7nxaC0BqVy6R/7zxht0EjFpHoLAgX1KplKTTaedOmiC3Pt3LpGNZkZQWF0hthkdgddx0oOR360cAEiQ8cyHQTIAAhHZAwEKAAMQdiS8m3I0YEQ8BejkedeIs7QToZzsnRkVfgF6Ofo2yfYbmzoPK6jqpqA72We1hr6O42DxnvuFLtuqYnXtrNp06FEnemiVSt/xbWfnVR63yFRXmy9qaOllTWUMAEnaDeZifAMQDWgR2IQAJtggEIMF6Np+Nd4CEZ8vM9gIEIPZWjEywAAGIe/H5YsLdiBHxEKCX41EnztJOgH62c2JU9AXo5ejXKNtnaAKQJSurpXx5ZeD/WjfMtYT5ot0wzzvT3OblvkXVyyS14jsp/+yDVod16lAsdfVpqawiAMlFjdyOSQDiJhTNnxOABFsXApBgPQlAwvNkZm8CBCDe3NgrYQIEIO4F54sJdyNGxEOAXo5HnThLOwH62c6JUdEXoJejX6Nsn2FjAPJt+Wr54PPybB/e8/FKS80jsFJSbwKByvg/AmvQ5j2lU3qVFK5ZLF9/8E6rLs2/qOURWJ5bJ7QdCUBCow11YgKQYHkJQIL1JAAJz5OZvQkQgHhzY6+ECRCAuBecLybcjRgRDwF6OR514iztBOhnOydGRV+AXo5+jbJ9hgQg2RZv/XgEINGow/9n711gNS2ru+9rMzMMDgPMcD4omtq+b/VtqlJo9IutohgRDxViFaVVFEQUz4Bgm2A1tZiKNR6rktZDYiymrSNqpFDUGKQItDZaQZD3o198UcvJgYEZYM/M/nLfvgx7ZHbXYl3req619v3badJh9lrXvZ7ff7FNrh/PfmqmQIDU0OvXiwDxZY8A8eWJAGnHk5NtBBAgNm50TYwAAkQOnIsJmREVOQiwyzlyYkodAfZZx4mq+ATY5fgZzXpCBMisiSNAYhD3nwIB4s90FiciQHwpI0B8eSJA2vHkZBsBBIiNG10TI4AAkQPnYkJmREUOAuxyjpyYUkeAfdZxoio+AXY5fkaznhABMmviCJAYxP2nQID4M53FiQgQX8oIEF+eCJB2PDnZRgABYuNG18QIIEDkwLmYkBlRkYMAu5wjJ6bUEWCfdZyoik+AXY6f0awnRIDMmjgCJAZx/ykQIP5MZ3EiAsSXMgLElycCpB1PTrYRQIDYuNE1MQIIEDlwLiZkRlTkIMAu58iJKXUE2GcdJ6riE2CX42c06wkRILMmjgCJQdx/CgSIP9NZnIgA8aWMAPHliQBpx5OTbQQQIDZudE2MAAJEDpyLCZkRFTkIsMs5cmJKHQH2WceJqvgE2OX4Gc16QgTIrIkjQGIQ958CAeLPdBYnIkB8KSNAfHkiQNrx5GQbAQSIjRtdEyOAAJED52JCZkRFDgLsco6cmFJHgH3WcaIqPgF2OX5Gs54QATJr4giQGMT9p0CA+DOdxYkIEF/KCBBfngiQdjw52UYAAWLjRtfECCBA5MC5mJAZUZGDALucIyem1BFgn3WcqIpPgF2On5F1wj32WFXm5h5596pVK8q9920td9/7QPn57fc88gM6daxatXJ8vQsLpczPb+00hd9jD95/bdn9/l+UhY0/K9dfffUuD158UfvzO+71ezgnuRBAgLhgnPkhCBBf5AgQX54IkHY8OdlGAAFi40bXxAggQOTAuZiQGVGRgwC7nCMnptQRYJ91nKiKT4Bdjp+RdcLhnRxlfktZuH/zIzpi5crdyv0PbCub799afnH3fY+ot2fxMPdcmSsLZaFs3bq95yguz95v//Vlt/l7y7aNt5Yffve7CBAXqrM9BAEyW95eT0OAeJH85TkIEF+ei09buXJFWb9+TbsHcDIEFAQQIApIlEAAASLvABcTMiMqchBgl3PkxJQ6AuyzjhNV8Qmwy/Ezsk44CJCFe+4o2zfdVha2zquP2W3FbmV+6/bywAPbyqbND6j7eheuWLHbjhG2bcsvQPZ9zOFlYX6+bL37DgRI7+UyPh8BYgTXuQ0B4hsAAsSXJwKkHU9OthFAgNi40TUxAggQOXAuJmRGVOQgwC7nyIkpdQTYZx0nquITYJfjZ2Sd8EEBsu0XPy33/Of16mNWrlpRtty/tdyz+YHyX3c+snePqB/SoLDlJVuDccUjF1+e8w4QEVfIAgRIyFjEoRAgIqJHVNDyZ/NB+64pa9fsXh61emXZOr9tl3OtfdwTyor1h5a5tfuVLVv0/zHAI3qRnYp5B0gn8Dx2JwIIEBYCAgoCCBAZEhcTMiMqchBgl3PkxJQ6AuyzjhNV8Qmwy/Ezsk6IALGSi9GHAImRQ80UCJAaev16ESC+7BEgvjwXn4YAaceWk/UEECB6VlROmAACRA6fiwmZERU5CLDLOXJiSh0B9lnHiar4BNjl+BlZJ0SAWMnF6EOAxMihZgoESA29fr0IEF/2CBBfngiQdjw52UYAAWLjRtfECCBA5MC5mJAZUZGDALucIyem1BFgn3WcqIpPgF2On5F1QgSIlVyMPgRIjBxqpkCA1NDr14sA8WWPAPHliQBpx5OTbQQQIDZudE2MAAJEDpyLCZkRFTkIsMs5cmJKHQH2WceJqvgE2OX4GVknRIBYycXoQ4DEyKFmCgRIDb1+vQgQX/YIEF+eCJB2PDnZRgABYuNG18QIIEDkwLmYkBlRkYMAu5wjJ6bUEWCfdZyoik+AXY6fkXVCBIiVXIw+BEiMHGqmQIDU0OvXiwDxZY8A8eWJAGnHk5NtBBAgNm50TYwAAkQOnIsJmREVOQiwyzlyYkodAfZZx4mq+ATY5fgZWSdEgFjJxehDgMTIoWYKBEgNvX69CBBf9ggQX54IkHY8OdlGAAFi40bXxAggQOTAuZiQGVGRgwC7nCMnptQRYJ91nKiKT4Bdjp+RdUIEiJVcjD4ESIwcaqZAgNTQ69eLAPFljwDx5YkAaceTk20EECA2bnRNjAACRA6ciwmZERU5CLDLOXJiSh0B9lnHiar4BNjl+BlZJ0SAWMnF6EOAxMihZgoESA29fr0IEF/2CBBfngiQdjw52UYAAWLjRtfECCBA5MC5mJAZUZGDALucIyem1BFgn3WcqIpPgF2On5F1QgSIlVyMPgRIjBxqpkCA1NDr14sA8WWPAPHliQBpx5OTbQQQIDZudE2MAAJEDpyLCZkRFTkIsMs5cmJKHQH2WceJqvgE2OX4GVknRIBYycXoQ4DEyKFmCgRIDb1+vQgQX/YIEF+eCJB2PDnZRgABYuNG18QIIEDkwLmYkBlRkYMAu5wjJ6bUEWCfdZyoik+AXY6fkXVCBIiVXIw+BEiMHGqmQIDU0OvXiwDxZY8A8eWJAGnHk5NtBBAgNm50TYwAAkQOnIsJmREVOQiwyzlyYkodAfZZx4mq+ATY5fgZWSdEgFjJxehDgMTIoWYKBEgNvX69CBBf9ggQX54IkHY8OdlGAAFi40bXxAggQOTAuZiQGVGRgwC7nCMnptQRYJ91nKiKT4Bdjp+RdUIEiJVcjD4ESIwcaqZAgNTQ69eLAPFljwDx5YkAaceTk20EECA2bnRNjAACRA6ciwmZERU5CLDLOXJiSh0B9lnHiar4BNjl+BlZJ0SAWMnF6EOAxMihZgoESA29fr0IEF/2CBBfngiQdjw52UYAAWLjRtfECCBA5MC5mJAZUZGDALucIyem1BFgn3WcqIpPgF2On5F1QgSIlVyMPgRIjBxqpkCA1NDr14sA8WWPAPHliQBpx5OTbQQQIDZudE2MAAJEDpyLCZkRFTkIsMs5cmJKHQH2WceJqvgE2OX4GVknRIBYycXoQ4DEyKFmCgRIDb1+vQgQX/YIEF+eCJB2PDnZRgABYuNG18QIIEDkwLmYkBlRkYMAu5wjJ6bUEWCfdZyoik+AXY6fkXVCBIiVXIw+BEiMHGqmQIDU0OvXiwDxZY8A8eWJAGnHk5NtBBAgNm50TYwAAkQOnIsJmREVOQiwyzlyYkodAfZZx4mq+ATY5fgZWSdEgFjJxehDgMTIoWYKBEgNvX69CBBf9ggQX54IkHY8OdlGAAFi40bXxAggQOTAuZiQGVGRgwC7nCMnptQRYJ91nKiKT4Bdjp+RdUIEiJVcjD4ESIwcaqZAgNTQ69eLAPFljwDx5YkAaceTk20EECA2bnRNjAACRA6ciwmZERU5CLDLOXJiSh0B9lnHiar4BNjl+BlZJ0SAWMnF6EOAxMihZgoESA29fr0IEF/2CBBfngiQdjw52UYAAWLjRtfECCBA5MC5mJAZUZGDALucIyem1BFgn3WcqIpPgF2On5F1QgSIlVyMPgRIjBxqpkCA1NDr14sA8WWPAPHliQBpx5OTbQQQIDZudE2MAAJEDpyLCZkRFTkIsMs5cmJKHQH2WceJqvgE2OX4GVknRIBYycXoQ4DEyKFmCgRIDb1+vQgQX/YIEF+eCJB2PDnZRgABYuNG18QIIEDkwLmYkBlRkYMAu5wjJ6bUEWCfdZyoik+AXY6fkXVCBIiVXIw+BEiMHGqmQIDU0OvXiwDxZY8A8eWJAGnHk5NtBBAgNm50TYwAAkQOnIsJmREVOQiwyzlyYkodAfZZx4mq+ATY5fgZWSdEgFjJxehDgMTIoWYKBEgNvX69CBBf9ggQX54IkHY8OdlGAAFi40bXxAggQOTAuZiQGVGRgwC7nCMnptQRYJ91nKiKT4Bdjp+RdUIEiJVcjD4ESIwcaqZAgNTQ69eLAPFljwDx5YkAaceTk20EECA2bnRNjAACRA6ciwmZERU5CLDLOXJiSh0B9lnHiar4BNjl+BlZJ0SAWMnF6EOAxMihZgoESA29fr0IEF/2CBBfngiQdjw52UYAAWLjRtfECCBA5MC5mJAZUZGDALucIyem1BFgn3WcqIpPgF2On5F1QgSIlVyMPgRIjBxqpkCA1NDr14sA8WWPAPHliQBpx5OTbQQQIDZudE2MAAJEDpyLCZkRFTkIsMs5cmJKHQH2WceJqvgE2OX4GVknRIBYycXoQ4DEyKFmCgRIDb1+vQgQX/YIEF+eCJB2PDnZRgABYuNG18QIIEDkwLmYkBlRkYMAu5wjJ6bUEWCfdZyoik+AXY6fkXVCBIiVXIw+BEiMHGqmQIDU0OvXiwDxZY8A8eWJAGnHk5NtBBAgNm50TYwAAkQOnIsJmREVOQiwyzlyYkodAfZZx4mq+ATY5fgZWSdEgFjJxehDgMTIoWYKBEgNvX69CBBf9ggQX54IkHY8OdlGAAFi40bXxAggQOTAuZiQGVGRgwC7nCMnptQRYJ91nKiKT4Bdjp+RdUIEiJVcjD4ESIwcaqZAgNTQ69eLAPFljwDx5YkAaceTk20EECA2bnRNjAACRA6ciwmZERU5CLDLOXJiSh0B9lnHiar4BNjl+BlZJ0SAWMnF6EOAxMihZgoESA29fr0IEF/2CBBfngiQdjw52UYAAWLjRtfECCBA5MC5mJAZUZGDALucIyem1BFgn3WcqIpPgF2On5F1QgSIlVyMPgRIjBxqpkCA1NDr14sA8WWPAPHliQBpx5OTbQQQIDZudE2MAAJEDpyLCZkRFTkIsMs5cmJKHQH2WceJqvgE2OX4GVknRIBYycXoQ4DEyKFmCgRIDb1+vQgQX/YIEF+eCJB2PDnZRgABYuNG18QIIEDkwLmYkBlRkYMAu5wjJ6bUEWCfdZyoik+AXY6fkXVCBIiVXIw+BEiMHGqmQIDU0OvXiwDxZY8A8eWJAGnHk5NtBBAgNm50TYwAAkQOnIsJmREVOQiwyzlyYkodAfZZx4mq+ATY5fgZWSdEgFjJxehDgMTIoWYKBEgNvX69CBBf9ggQX54IkHY8OdlGAAFi40bXxAggQOTAuZiQGVGRgwC7nCMnptQRYJ91nKiKT4Bdjp+RdUIEiJVcjD4ESIwcaqZAgNTQ69eLAPFljwDx5YkAaceTk20EECA2bnRNjAACRA6ciwmZERU5CLDLOXJiSh0B9lnHiar4BNjl+BlZJ0SAWMnF6EOAxMihZgoESA29fr0IEF/2CBBfngiQdjw52UYAAWLjtiy6tmzZUi666KJy2WWXlR//+Mdl8+bNZe+99y5PfOITyx/8wR+U4447rqxYsWLJ17p9+/bypS99qWzYsKHccMMNY/8BBxxQjjjiiHLiiSeWo446SuTkcYb4EIcCBIgMkYsJmREVOQiwyzlyYkodAfZZx4mq+ATY5fgZWSdEgFjJxehDgMTIoWYKBEgNvX69CBBf9ggQX54IkHY8OdlGAAFi45a+6z//8z/L6aefXm6++eYlX8vv/u7vlo9+9KNln332eVjNpk2byhve8IZy9dVX77J/bm6unHzyyeXcc89d8nyPM2YVBAJEJs3FhMyIihwE2OUcOTGljgD7rONEVXwC7HL8jKwTIkCs5GL0IUBi5FAzBQKkhl6/XgSIL3sEiC9PBEg7npxsI4AAsXFL3TW8U+NFL3pR+clPfjK+juGdGsM7Ng455JAyiJG//du/LTfddNP4vUGCfO5znyuD0Hjwa2FhoZx66qnliiuuGP/q6U9/enn5y19e9t9//3L99deXCy+8sNxyyy3j984888xy2mmnPYyXxxmzDAEBItPmYkJmREUOAuxyjpyYUkeAfdZxoio+AXY5fkbWCREgVnIx+hAgMXKomQIBUkOvXy8CxJc9AsSX5+LTVq5cUdavX9PuAZwMAQUBBIgC0nIr+dSnPlU+8IEPjC9rECF/+Zd/uZPgeOCBB8rrXve6cuWVV441H/rQh8qxxx67A8PFF19czj777PGfTzjhhHL++efvhGjjxo3lpJNOGiXK6tWry6WXXloOPvjgnWo8zphlLggQmTYXEzIjKnIQYJdz5MSUOgLss44TVfEJsMvxM7JOiACxkovRhwCJkUPNFAiQGnr9ehEgvuwRIL48F5+GAGnHlpP1BBAgelbLpnKQE9dee+34egbJsd9++z3stQ3v5Hjxi188/v0gSd7//vfvqDn++OPLddddV9auXVsuv/zysm7duof1D+cPzxm+TjnllPKOd7xjpxqPM2YZCAJEps3FhMyIihwE2OUcOTGljgD7rONEVXwC7HL8jKwTIkCs5GL0IUBi5FAzBQKkhl6/XgSIL3sEiC/PxachQNqx5WQ9AQSIntWyqXzuc587/qqr4QPPr7nmml2+rvvuu6886UlPGr/3tKc9rXzmM58Z/zz82qxjjjlm/PMLX/jCcsEFFyzJZXjXyPAZI4cddlj5xje+saPO44xZh4EAkYlzMSEzoiIHAXY5R05MqSPAPus4URWfALscPyPrhAgQK7kYfQiQGDnUTIEAqaHXrxcB4sseAeLLc/FpCJB2bDlZTwABome1bCr/+I//eMeHlw+f43HAAQc87LUN7/AY3qUxfA3//33ve9/45w0bNpRzzjln/PN73/ve8pKXvGRJLuedd1656KKLxu9fdtll5fDDD3c7Y9ZhIEBk4lxMyIyoyEGAXc6RE1PqCLDPOk5UxSfALsfPyDohAsRKLkYfAiRGDjVTIEBq6PXrRYD4skeA+PJcfBoCpB1bTtYTQIDoWS2byuHdHA9+bsdiufHgC9y2bVt57WtfW77zne+MfzV8qPnv//7vj38e3vEx/PPw9fnPf74ceeSRS3IZ6h58h8jHP/7x8uxnP9vtjFmHgQCRiXMxITOiIgcBdjlHTkypI8A+6zhRFZ8Auxw/I+uECBAruRh9CJAYOdRMgQCpodevFwHiyx4B4stz8WkIkHZsOVlPAAGiZ7VsKu+///5y6qmn7ngXyFOf+tTy0pe+tBxyyCHjr7j67Gc/W374wx+Or/fEE08s7373u3e89rPOOqt85StfGf/5m9/8Zjn00EOX5PLVr361nHnmmeP3h3eDPPiZIB5nzDoMBIhMnIsJmREVOQiwyzlyYkodAfZZx4mq+ATY5fgZWSdEgFjJxehDgMTIoWYKBEgNvX69CBBf9ggQX56LT0OAtGPLyXoCCBA9q2VVOXzGx9/8zd+UT3/602XTpk0Pe23Dr8UaPrh8+AD0xV/DO0O+/e1vj3919dVXl3322WdJLsPnfrz+9a8fv/+2t72tnH766eOfPc6YdRgIEJk4FxMyIypyEGCXc+TElDoC7LOOE1XxCbDL8TOyTogAsZKL0YcAiZFDzRQIkBp6/XoRIL7sESC+PBefhgBpx5aT9QQQIHpWy6ryP/7jP8onPvGJ8cPJh1959atfc3Nz5eijjy7DuzUe//jH7/j2q171qnLVVVeN//z973+/rF69ekkuV155ZXn1q189fv+MM84ob37zm8c/e5wx6zC2bds+60eme95uu82VYW8WFhbK9u0L6eZnYAg8SIBdZheWEwH2eTmlOe3Xwi4v3/zn5krZetdtZf6On5b7/s8N+hc6V8q9W+bLpnsfKLdv3KLv6105V8pcmSsLZaEM/5f9638dc1yZW9he5u++o9xwzTW7fDmPPWTvsn1hoWy5f2u5/ReJssoejnL+xRkO/w4+oqyW2T4rkYUoW/zv1UG/c7T472GIoSMP0XCX91/3qLLXnruXPR+1asmf+3s8+n+WVfsdWlbuc0BZWAb/2/CrUa9YsVvk9JltAgQQIBMI+Vdf4re+9a3ylre8pQzvAtl3331HMTF8Pse6devKT3/603LxxRePn/PxwAMPjH83vFPkt37rt8ZjXvOa1+z4bJAf/OAHZffdd1+S4PAZIkP98PWmN72pvPGNb3Q7Y4Kx8ZIhAAEIQAACEIAABCCwLAnMb7y1zN9xS7nvlhsf0ev7pQC5v9y+8b5H1EexH4EnPvt5Oy5eb7z22l0efPjBe5Xhv4+67/55svJD73bS4gx/KUDIyg1uw4MW/3t14CIBstS/hw1H4WiBwP7r9ih77bn6lwJkia89DvsfZdV+h5VV6yQ1W3EAACAASURBVA6EJwQg0IAAAqQB1MhH3nrrreW5z31u2bx5c1m/fn354he/WA4//PCHjfzd7363nHLKKWV+fn78nI9LLrlkfLfHIDEuu+yysf6aa64pe++995Ivd/GvwBo+C+S0004baz3OmDVj3gEiE+e/zJQZUZGDALucIyem1BFgn3WcqIpPgF2On5F1Qt4BYiUXo493gMTIoWYK3gFSQ69fL+8AcWbPO0Ccge58HO8AaYqXwxUEECAKSMup5FOf+lT5wAc+ML6kd73rXeUVr3jFki/v/PPPL5/5zGfG73/wgx8sxx13XDnnnHPKhg0bxr8bPgvkoIMOWrJ/8Yegv+c97ykve9nLxlqPM2adCZ8BIhPnd3PLjKjIQYBdzpETU+oIsM86TlTFJ8Aux8/IOiGfAWIlF6OPzwCJkUPNFHwGSA29fr18Bogvez4DxJfn4tP4DJB2bDlZTwABome1LCoXv/tCEhjXXnttOemkk8bXPXxux5/8yZ+UD3/4w+VjH/vY+HcXXXRRefKTn7wkl+HXaF1wwQXj9z/5yU+WZz7zmeOfPc6YdRgIEJk4FxMyIypyEGCXc+TElDoC7LOOE1XxCbDL8TOyTogAsZKL0YcAiZFDzRQIkBp6/XoRIL7sESC+PBefhgBpx5aT9QQQIHpWy6Jy8Wd4fO973ytr1qxZ8nXdfPPN5dhjjx2/f8IJJ5ThHSFf//rXy1vf+tbx797//veXF73oRUv2n3feeaMkGb4uv/zy8uhHP3r8s8cZsw4DASIT52JCZkRFDgLsco6cmFJHgH3WcaIqPgF2OX5G1gkRIFZyMfoQIDFyqJkCAVJDr18vAsSXPQLEl+fi0xAg7dhysp4AAkTPallUDp/FMfxqquHry1/+cvnN3/zNJV/XVVddNb7zY/h67WtfW84666zys5/9rBx99NFlYWFh/JVWw6+2WuprkCeDRDnkkEPK8MHrD355nDHrMBAgMnEuJmRGVOQgwC7nyIkpdQTYZx0nquITYJfjZ2SdEAFiJRejDwESI4eaKRAgNfT69SJAfNkjQHx5Lj4NAdKOLSfrCSBA9KyWReXwjozhnRnD1/BukOHzOJb6+tM//dPy93//9+O3h88OecYznjH++cQTTyzDu0fWrVs3vrNj7dq1Dzti8a/POvnkk8s73/nOnWo8zphlIAgQmTYXEzIjKnIQYJdz5MSUOgLss44TVfEJsMvxM7JOiACxkovRhwCJkUPNFAiQGnr9ehEgvuwRIL48F5+GAGnHlpP1BBAgelbLovKee+4pz3nOc8qdd95ZVqxYMX6ex/COjl/9+spXvlLOPvvs8Z0ev/Zrv1aGf165cuVY9rWvfa28/e1vH//8ghe8YPxVWLvtttuOI+66667xw9VvuummsmrVqvFXXj3mMY/Z6REeZ8wyEASITJuLCZkRFTkIsMs5cmJKHQH2WceJqvgE2OX4GVknRIBYycXoQ4DEyKFmCgRIDb1+vQgQX/YIEF+ei09DgLRjy8l6AggQPatlU/mNb3yjnHHGGWX79u1lbm6uPP/5zy/Pe97zyoEHHlhuvfXWUVgMgmKQH3vssUf53Oc+V570pCft9PpPOeWUcsUVV4x/d+SRR5ZXvvKV5aCDDio33HDD+IHnt9xyy/i9QZS87nWv2yU7jzNmFQoCRCbNxYTMiIocBNjlHDkxpY4A+6zjRFV8Auxy/IysEyJArORi9CFAYuRQMwUCpIZev14EiC97BIgvz8WnIUDaseVkPQEEiJ7Vsqq87LLLyrnnnluGd4Qs9XXAAQeUD37wg+Woo456WMnQd/rpp5drrrlmyf7hV18Nzxgky66+PM6YVSgIEJk0FxMyIypyEGCXc+TElDoC7LOOE1XxCbDL8TOyTogAsZKL0YcAiZFDzRQIkBp6/XoRIL7sESC+PBefhgBpx5aT9QQQIHpWy65y+DVYX/jCF8q3v/3t8cPK77333rLXXnuV3/iN3yjPetazyktf+tKy5557Lvm6h3eQbNiwoVx88cXlRz/6Udm0aVNZv359ecpTnlJOOumk8tSnPlVk5nGG+BCHAgSIDJGLCZkRFTkIsMs5cmJKHQH2WceJqvgE2OX4GVknRIBYycXoQ4DEyKFmCgRIDb1+vQgQX/YIEF+eCJB2PDnZRgABYuNG18QIIEDkwLmYkBlRkYMAu5wjJ6bUEWCfdZyoik+AXY6fkXVCBIiVXIw+BEiMHGqmQIDU0OvXiwDxZY8A8eWJAGnHk5NtBBAgNm50TYwAAkQOnIsJmREVOQiwyzlyYkodAfZZx4mq+ATY5fgZWSdEgFjJxehDgMTIoWYKBEgNvX69CBBf9ggQX54IkHY8OdlGAAFi40bXxAggQOTAuZiQGVGRgwC7nCMnptQRYJ91nKiKT4Bdjp+RdUIEiJVcjD4ESIwcaqZAgNTQ69eLAPFljwDx5YkAaceTk20EECA2bnRNjAACRA6ciwmZERU5CLDLOXJiSh0B9lnHiar4BNjl+BlZJ0SAWMnF6EOAxMihZgoESA29fr0IEF/2CBBfngiQdjw52UYAAWLjRtfECCBA5MC5mJAZUZGDALucIyem1BFgn3WcqIpPgF2On5F1QgSIlVyMPgRIjBxqpkCA1NDr14sA8WWPAPHliQBpx5OTbQQQIDZudE2MAAJEDpyLCZkRFTkIsMs5cmJKHQH2WceJqvgE2OX4GVknRIBYycXoQ4DEyKFmCgRIDb1+vQgQX/YIEF+eCJB2PDnZRgABYuNG18QIIEDkwLmYkBlRkYMAu5wjJ6bUEWCfdZyoik+AXY6fkXVCBIiVXIw+BEiMHGqmQIDU0OvXiwDxZY8A8eWJAGnHk5NtBBAgNm50TYwAAkQOnIsJmREVOQiwyzlyYkodAfZZx4mq+ATY5fgZWSdEgFjJxehDgMTIoWYKBEgNvX69CBBf9ggQX54IkHY8OdlGAAFi40bXxAggQOTAuZiQGVGRgwC7nCMnptQRYJ91nKiKT4Bdjp+RdUIEiJVcjD4ESIwcaqZAgNTQ69eLAPFljwDx5YkAaceTk20EECA2bnRNjAACRA6ciwmZERU5CLDLOXJiSh0B9lnHiar4BNjl+BlZJ0SAWMnF6EOAxMihZgoESA29fr0IEF/2CBBfngiQdjw52UYAAWLjRtfECCBA5MC5mJAZUZGDALucIyem1BFgn3WcqIpPgF2On5F1QgSIlVyMPgRIjBxqpkCA1NDr14sA8WWPAPHliQBpx5OTbQQQIDZudE2MAAJEDpyLCZkRFTkIsMs5cmJKHQH2WceJqvgE2OX4GVknRIBYycXoQ4DEyKFmCgRIDb1+vQgQX/YIEF+eCJB2PDnZRgABYuNG18QIIEDkwLmYkBlRkYMAu5wjJ6bUEWCfdZyoik+AXY6fkXVCBIiVXIw+BEiMHGqmQIDU0OvXiwDxZY8A8eWJAGnHk5NtBBAgNm50TYwAAkQOnIsJmREVOQiwyzlyYkodAfZZx4mq+ATY5fgZWSdEgFjJxehDgMTIoWYKBEgNvX69CBBf9ggQX54IkHY8OdlGAAFi40bXxAggQOTAuZiQGVGRgwC7nCMnptQRYJ91nKiKT4Bdjp+RdUIEiJVcjD4ESIwcaqZAgNTQ69eLAPFljwDx5YkAaceTk20EECA2bnRNjAACRA6ciwmZERU5CLDLOXJiSh0B9lnHiar4BNjl+BlZJ0SAWMnF6EOAxMihZgoESA29fr0IEF/2CBBfngiQdjw52UYAAWLjRtfECCBA5MC5mJAZUZGDALucIyem1BFgn3WcqIpPgF2On5F1QgSIlVyMPgRIjBxqpkCA1NDr14sA8WWPAPHliQBpx5OTbQQQIDZudE2MAAJEDpyLCZkRFTkIsMs5cmJKHQH2WceJqvgE2OX4GVknRIBYycXoQ4DEyKFmCgRIDb1+vQgQX/YIEF+eCJB2PDnZRgABYuNG18QIIEDkwLmYkBlRkYMAu5wjJ6bUEWCfdZyoik+AXY6fkXVCBIiVXIw+BEiMHGqmQIDU0OvXiwDxZY8A8eWJAGnHk5NtBBAgNm50TYwAAkQOnIsJmREVOQiwyzlyYkodAfZZx4mq+ATY5fgZWSdEgFjJxehDgMTIoWYKBEgNvX69CBBf9ggQX54IkHY8OdlGAAFi40bXxAggQOTAuZiQGVGRgwC7nCMnptQRYJ91nKiKT4Bdjp+RdUIEiJVcjD4ESIwcaqZAgNTQ69eLAPFljwDx5YkAaceTk20EECA2bnRNjAACRA6ciwmZERU5CLDLOXJiSh0B9lnHiar4BNjl+BlZJ0SAWMnF6EOAxMihZgoESA29fr0IEF/2CBBfngiQdjw52UYAAWLjRtfECCBA5MC5mJAZUZGDALucIyem1BFgn3WcqIpPgF2On5F1QgSIlVyMPgRIjBxqpkCA1NDr14sA8WWPAPHliQBpx5OTbQQQIDZudE2MAAJEDpyLCZkRFTkIsMs5cmJKHQH2WceJqvgE2OX4GVknRIBYycXoQ4DEyKFmCgRIDb1+vQgQX/YIEF+eCJB2PDnZRgABYuNG18QIIEDkwLmYkBlRkYMAu5wjJ6bUEWCfdZyoik+AXY6fkXVCBIiVXIw+BEiMHGqmQIDU0OvXiwDxZY8A8eWJAGnHk5NtBBAgNm50TYwAAkQOnIsJmREVOQiwyzlyYkodAfZZx4mq+ATY5fgZWSdEgFjJxehDgMTIoWYKBEgNvX69CBBf9ggQX54IkHY8OdlGAAFi40bXxAggQOTAuZiQGVGRgwC7nCMnptQRYJ91nKiKT4Bdjp+RdUIEiJVcjD4ESIwcaqZAgNTQ69eLAPFljwDx5YkAaceTk20EECA2bnRNjAACRA6ciwmZERU5CLDLOXJiSh0B9lnHiar4BNjl+BlZJ0SAWMnF6EOAxMihZgoESA29fr0IEF/2CBBfngiQdjw52UYAAWLjRtfECCBA5MC5mJAZUZGDALucIyem1BFgn3WcqIpPgF2On5F1QgSIlVyMPgRIjBxqpkCA1NDr14sA8WWPAPHliQBpx5OTbQQQIDZudE2MAAJEDpyLCZkRFTkIsMs5cmJKHQH2WceJqvgE2OX4GVknRIBYycXoQ4DEyKFmCgRIDb1+vQgQX/YIEF+eCJB2PDnZRgABYuNG18QIIEDkwLmYkBlRkYMAu5wjJ6bUEWCfdZyoik+AXY6fkXVCBIiVXIw+BEiMHGqmQIDU0OvXiwDxZY8A8eWJAGnHk5NtBBAgNm50TYwAAkQOnIsJmREVOQiwyzlyYkodAfZZx4mq+ATY5fgZWSdEgFjJxehDgMTIoWYKBEgNvX69CBBf9ggQX54IkHY8OdlGAAFi40bXxAggQOTAuZiQGVGRgwC7nCMnptQRYJ91nKiKT4Bdjp+RdUIEiJVcjD4ESIwcaqZAgNTQ69eLAPFljwDx5YkAaceTk20EECA2bnRNjAACRA6ciwmZERU5CLDLOXJiSh0B9lnHiar4BNjl+BlZJ0SAWMnF6EOAxMihZgoESA29fr0IEF/2CBBfngiQdjw52UYAAWLjRtfECCBA5MC5mJAZUZGDALucIyem1BFgn3WcqIpPgF2On5F1QgSIlVyMPgRIjBxqpkCA1NDr14sA8WWPAPHliQBpx5OTbQQQIDZudE2MAAJEDpyLCZkRFTkIsMs5cmJKHQH2WceJqvgE2OX4GVknRIBYycXoQ4DEyKFmCgRIDb1+vQgQX/YIEF+eCJB2PDnZRgABYuNG18QIIEDkwLmYkBlRkYMAu5wjJ6bUEWCfdZyoik+AXY6fkXVCBIiVXIw+BEiMHGqmQIDU0OvXiwDxZY8A8eWJAGnHk5NtBBAgNm50TYwAAkQOnIsJmREVOQiwyzlyYkodAfZZx4mq+ATY5fgZWSdEgFjJxehDgMTIoWYKBEgNvX69CBBf9ggQX54IkHY8OdlGAAFi40bXxAggQOTAuZiQGVGRgwC7nCMnptQRYJ91nKiKT4Bdjp+RdUIEiJVcjD4ESIwcaqZAgNTQ69eLAPFljwDx5YkAaceTk20EECA2bnRNjAACRA6ciwmZERU5CLDLOXJiSh0B9lnHiar4BNjl+BlZJ0SAWMnF6EOAxMihZgoESA29fr0IEF/2CBBfngiQdjw52UYAAWLjRtfECCBA5MC5mJAZUZGDALucIyem1BFgn3WcqIpPgF2On5F1QgSIlVyMPgRIjBxqpkCA1NDr14sA8WWPAPHliQBpx5OTbQQQIDZudE2MAAJEDpyLCZkRFTkIsMs5cmJKHQH2WceJqvgE2OX4GVknRIBYycXoQ4DEyKFmCgRIDb1+vQgQX/YIEF+eCJB2PDnZRgABYuNG18QIIEDkwLmYkBlRkYMAu5wjJ6bUEWCfdZyoik+AXY6fkXVCBIiVXIw+BEiMHGqmQIDU0OvXiwDxZY8A8eWJAGnHk5NtBBAgNm50TYwAAkQOnIsJmREVOQiwyzlyYkodAfZZx4mq+ATY5fgZWSdEgFjJxehDgMTIoWYKBEgNvX69CBBf9ggQX54IkHY8OdlGAAFi40bXxAggQOTAuZiQGVGRgwC7nCMnptQRYJ91nKiKT4Bdjp+RdUIEiJVcjD4ESIwcaqZAgNTQ69eLAPFljwDx5YkAaceTk20EECA2bnRNjAACRA6ciwmZERU5CLDLOXJiSh0B9lnHiar4BNjl+BlZJ0SAWMnF6EOAxMihZgoESA29fr0IEF/2CBBfngiQdjw52UYAAWLjRtfECCBA5MC5mJAZUZGDALucIyem1BFgn3WcqIpPgF2On5F1QgSIlVyMPgRIjBxqpkCA1NDr14sA8WWPAPHliQBpx5OTbQQQIDZudE2MAAJEDpyLCZkRFTkIsMs5cmJKHQH2WceJqvgE2OX4GVknRIBYycXoQ4DEyKFmCgRIDb1+vQgQX/YIEF+eCJB2PDnZRgABYuNG18QIIEDkwLmYkBlRkYMAu5wjJ6bUEWCfdZyoik+AXY6fkXVCBIiVXIw+BEiMHGqmQIDU0OvXiwDxZY8A8eWJAGnHk5NtBBAgNm50TYwAAkQOnIsJmREVOQiwyzlyYkodAfZZx4mq+ATY5fgZWSdEgFjJxehDgMTIoWYKBEgNvX69CBBf9ggQX54IkHY8OdlGAAFi40bXxAggQOTAuZiQGVGRgwC7nCMnptQRYJ91nKiKT4Bdjp+RdUIEiJVcjD4ESIwcaqZAgNTQ69eLAPFljwDx5YkAaceTk20EECA2bnRNjAACRA6ciwmZERU5CLDLOXJiSh0B9lnHiar4BNjl+BlZJ0SAWMnF6EOAxMihZgoESA29fr0IEF/2CBBfngiQdjw52UYAAWLjRtfECCBA5MC5mJAZUZGDALucIyem1BFgn3WcqIpPgF2On5F1QgSIlVyMPgRIjBxqpkCA1NDr14sA8WWPAPHliQBpx5OTbQQQIDZudE2MAAJEDpyLCZkRFTkIsMs5cmJKHQH2WceJqvgE2OX4GVknRIBYycXoQ4DEyKFmCgRIDb1+vQgQX/YIEF+eCJB2PDnZRgABYuNG18QIIEDkwLmYkBlRkYMAu5wjJ6bUEWCfdZyoik+AXY6fkXVCBIiVXIw+BEiMHGqmQIDU0OvXiwDxZY8A8eWJAGnHk5NtBBAgNm50TYwAAkQOnIsJmREVOQiwyzlyYkodAfZZx4mq+ATY5fgZWSdEgFjJxehDgMTIoWYKBEgNvX69CBBf9ggQX54IkHY8OdlGAAFi40bXxAggQOTAuZiQGVGRgwC7nCMnptQRYJ91nKiKT4Bdjp+RdUIEiJVcjD4ESIwcaqZAgNTQ69eLAPFljwDx5YkAaceTk20EECA2bnRNjAACRA6ciwmZERU5CLDLOXJiSh0B9lnHiar4BNjl+BlZJ0SAWMnF6EOAxMihZgoESA29fr0IEF/2CBBfngiQdjw52UYAAWLjRtfECCBA5MC5mJAZUZGDALucIyem1BFgn3WcqIpPgF2On5F1QgSIlVyMPgRIjBxqpkCA1NDr14sA8WWPAPHliQBpx5OTbQQQIDZudE2MAAJEDpyLCZkRFTkIsMs5cmJKHQH2WceJqvgE2OX4GVknRIBYycXoQ4DEyKFmCgRIDb1+vQgQX/YIEF+eCJB2PDnZRgABYuNG18QIIEDkwLmYkBlRkYMAu5wjJ6bUEWCfdZyoik+AXY6fkXVCBIiVXIw+BEiMHGqmQIDU0OvXiwDxZY8A8eWJAGnHk5NtBBAgNm50TYwAAkQOnIsJmREVOQiwyzlyYkodAfZZx4mq+ATY5fgZWSdEgFjJxehDgMTIoWYKBEgNvX69CBBf9ggQX54IkHY8OdlGAAFi40bXxAggQOTAuZiQGVGRgwC7nCMnptQRYJ91nKiKT4Bdjp+RdUIEiJVcjD4ESIwcaqZAgNTQ69eLAPFljwDx5YkAaceTk20EECA2bnRNjAACRA6ciwmZERU5CLDLOXJiSh0B9lnHiar4BNjl+BlZJ0SAWMnF6EOAxMihZgoESA29fr0IEF/2CBBfngiQdjw52UYAAWLjRtfECCBA5MC5mJAZUZGDALucIyem1BFgn3WcqIpPgF2On5F1QgSIlVyMPgRIjBxqpkCA1NDr14sA8WWPAPHliQBpx5OTbQQQIDZudE2MAAJEDpyLCZkRFTkIsMs5cmJKHQH2WceJqvgE2OX4GVknRIBYycXoQ4DEyKFmCgRIDb1+vQgQX/YIEF+eCJB2PDnZRgABYuNG18QIIEDkwLmYkBlRkYMAu5wjJ6bUEWCfdZyoik+AXY6fkXVCBIiVXIw+BEiMHGqmQIDU0OvXiwDxZY8A8eWJAGnHk5NtBBAgNm50TYwAAkQOnIsJmREVOQiwyzlyYkodAfZZx4mq+ATY5fgZWSdEgFjJxehDgMTIoWYKBEgNvX69CBBf9ggQX54IkHY8OdlGAAFi40bXxAggQOTAuZiQGVGRgwC7nCMnptQRYJ91nKiKT4Bdjp+RdUIEiJVcjD4ESIwcaqZAgNTQ69eLAPFljwDx5YkAaceTk20EECA2bnRNjAACRA6ciwmZERU5CLDLOXJiSh0B9lnHiar4BNjl+BlZJ0SAWMnF6EOAxMihZgoESA29fr0IEF/2CBBfngiQdjw52UYAAWLjRtfECCBA5MC5mJAZUZGDALucIyem1BFgn3WcqIpPgF2On5F1QgSIlVyMPgRIjBxqpkCA1NDr14sA8WWPAPHliQBpx5OTbQQQIDZudE2MAAJEDpyLCZkRFTkIsMs5cmJKHQH2WceJqvgE2OX4GVknRIBYycXoQ4DEyKFmCgRIDb1+vQgQX/YIEF+eCJB2PDnZRgABYuNG18QIIEDkwLmYkBlRkYMAu5wjJ6bUEWCfdZyoik+AXY6fkXVCBIiVXIw+BEiMHGqmQIDU0OvXiwDxZY8A8eWJAGnHk5NtBBAgNm50TYwAAkQOnIsJmREVOQiwyzlyYkodAfZZx4mq+ATY5fgZWSdEgFjJxehDgMTIoWYKBEgNvX69CBBf9ggQX54IkHY8OdlGAAFi40bXxAggQOTAuZiQGVGRgwC7nCMnptQRYJ91nKiKT4Bdjp+RdUIEiJVcjD4ESIwcaqZAgNTQ69eLAPFljwDx5YkAaceTk20EECA2bnRNjAACRA6ciwmZERU5CLDLOXJiSh0B9lnHiar4BNjl+BlZJ0SAWMnF6EOAxMihZgoESA29fr0IEF/2CBBfngiQdjw52UYAAWLjRtfECCBA5MC5mJAZUZGDALucIyem1BFgn3WcqIpPgF2On5F1QgSIlVyMPgRIjBxqpkCA1NDr14sA8WWPAPHliQBpx5OTbQQQIDZudE2MAAJEDpyLCZkRFTkIsMs5cmJKHQH2WceJqvgE2OX4GVknRIBYycXoQ4DEyKFmCgRIDb1+vQgQX/YIEF+eCJB2PDnZRgABYuNG18QIIEDkwLmYkBlRkYMAu5wjJ6bUEWCfdZyoik+AXY6fkXVCBIiVXIw+BEiMHGqmQIDU0OvXiwDxZY8A8eWJAGnHk5NtBBAgNm50TYwAAkQOnIsJmREVOQiwyzlyYkodAfZZx4mq+ATY5fgZWSdEgFjJxehDgMTIoWYKBEgNvX69CBBf9ggQX54IkHY8OdlGAAFi40bXxAggQOTAuZiQGVGRgwC7nCMnptQRYJ91nKiKT4Bdjp+RdUIEiJVcjD4ESIwcaqZAgNTQ69eLAPFljwDx5YkAaceTk20EECA2bnRNjAACRA6ciwmZERU5CLDLOXJiSh0B9lnHiar4BNjl+BlZJ0SAWMnF6EOAxMihZgoESA29fr0IEF/2CBBfngiQdjw52UYAAWLjRtfECCBA5MC5mJAZUZGDALucIyem1BFgn3WcqIpPgF2On5F1QgSIlVyMPgRIjBxqpkCA1NDr14sA8WWPAPHliQBpx5OTbQQQIDZudE2MAAJEDpyLCZkRFTkIsMs5cmJKHQH2WceJqvgE2OX4GVknRIBYycXoQ4DEyKFmCgRIDb1+vQgQX/YIEF+eCJB2PDnZRgABYuNG18QIIEDkwLmYkBlRkYMAu5wjJ6bUEWCfdZyoik+AXY6fkXVCBIiVXIw+BEiMHGqmQIDU0OvXiwDxZY8A8eWJAGnHk5NtBBAgNm50TYwAAkQOnIsJmREVOQiwyzlyYkodAfZZx4mq+ATY5fgZWSdEgFjJxehDgMTIoWYKBEgNvX69CBBf9ggQX54IkHY8OdlGAAFi40bXxAggQOTAuZiQGVGRgwC7nCMnptQRYJ91nKiKT4Bdjp+RdUIEiJVcjD4ESIwcaqZAgNTQ69eLAPFljwDx5YkAaceTk20EECA2bnRNjAACRA6ciwmZERU5CLDLOXJiSh0B9lnHiar4BNjl+BlZJ0SAWMnF6EOAxMihZgoESA29fr0IEF/2CBBfngiQdjw52UYAAWLjRtfECCBA5MC5mJAZUZGDALucIyem1BFgVTDhrwAAIABJREFUn3WcqIpPgF2On5F1QgSIlVyMPgRIjBxqpkCA1NDr14sA8WWPAPHliQBpx5OTbQQQIDZudE2MAAJEDpyLCZkRFTkIsMs5cmJKHQH2WceJqvgE2OX4GVknRIBYycXoQ4DEyKFmCgRIDb1+vQgQX/YIEF+eCJB2PDnZRgABYuNG18QIIEDkwLmYkBlRkYMAu5wjJ6bUEWCfdZyoik+AXY6fkXVCBIiVXIw+BEiMHGqmQIDU0OvXiwDxZY8A8eWJAGnHk5NtBBAgNm50TYwAAkQOnIsJmREVOQiwyzlyYkodAfZZx4mq+ATY5fgZWSdEgFjJxehDgMTIoWYKBEgNvX69CBBf9ggQX54IkHY8OdlGAAFi40bXxAggQOTAuZiQGVGRgwC7nCMnptQRYJ91nKiKT4Bdjp+RdUIEiJVcjD4ESIwcaqZAgNTQ69eLAPFljwDx5YkAaceTk20EECA2bnRNjAACRA6ciwmZERU5CLDLOXJiSh0B9lnHiar4BNjl+BlZJ0SAWMnF6EOAxMihZgoESA29fr0IEF/2CBBfngiQdjw52UYAAWLjRtfECCBA5MC5mJAZUZGDALucIyem1BFgn3WcqIpPgF2On5F1QgSIlVyMPgRIjBxqpkCA1NDr14sA8WWPAPHliQBpx5OTbQQQIDZudE2MAAJEDpyLCZkRFTkIsMs5cmJKHQH2WceJqvgE2OX4GVknRIBYycXoQ4DEyKFmCgRIDb1+vQgQX/YIEF+eCJB2PDnZRgABYuNG18QIIEDkwLmYkBlRkYMAu5wjJ6bUEWCfdZyoik+AXY6fkXVCBIiVXIw+BEiMHGqmQIDU0OvXiwDxZY8A8eWJAGnHk5NtBBAgNm50TYwAAkQOnIsJmREVOQiwyzlyYkodAfZZx4mq+ATY5fgZWSdEgFjJxehDgMTIoWYKBEgNvX69CBBf9ggQX54IkHY8OdlGAAFi40bXxAggQOTAuZiQGVGRgwC7nCMnptQRYJ91nKiKT4Bdjp+RdUIEiJVcjD4ESIwcaqZAgNTQ69eLAPFljwDx5YkAaceTk20EECA2bnRNjAACRA6ciwmZERU5CLDLOXJiSh0B9lnHiar4BNjl+BlZJ0SAWMnF6EOAxMihZgoESA29fr0IEF/2CBBfngiQdjw52UYAAWLjRtfECCBA5MC5mJAZUZGDALucIyem1BFgn3WcqIpPgF2On5F1QgSIlVyMPgRIjBxqpkCA1NDr14sA8WWPAPHliQBpx5OTbQQQIDZudE2MAAJEDpyLCZkRFTkIsMs5cmJKHQH2WceJqvgE2OX4GVknRIBYycXoQ4DEyKFmCgRIDb1+vQgQX/YIEF+eCJB2PDnZRgABYuNG18QIIEDkwLmYkBlRkYMAu5wjJ6bUEWCfdZyoik9gqV3eY49VZW4u/vxMuDSBVatWlO2bbi/zd/y03P3//lCNauWqFWXL/VvLPZsfKP9152Z1X+/ClpdsPV4bAqQHdd9nIkB8ec7qNASIL+mWP5sP2ndNWbtm9/Ko1SvL1vltuxx87eOeUFasP7TMrd2vbNky7/viOp+2cuWKsn79ms5T8PipE0CATH0DeP0qAggQGROXbDIjKnIQYJdz5MSUOgLss44TVfEJLLXLw7sHyvyWsnB/ngvw+LRnO+GqNWvLwn13l/mNt5a7/zcCZLb065+GAKln2PsEBEjvBGzPR4DYuC3VhQDx5bn4NARIO7acrCeAANGzonLCBBAgcvhcssmMqMhBgF3OkRNT6giwzzpOVMUn8N8JkIV77ijbN91WFrYur/9iMn4qPhOu3v/QMbutm+5AgPggnekpCJCZ4m7yMARIE6zND0WA+CJGgPjyRIC048nJNgIIEBs3uiZGAAEiB84lm8yIihwE2OUcOTGljgD7rONEVXwCkgDZ9ouflnv+8/r4L4QJH0ZgvyOeWRa2b0eAJN0NBEjS4BaNjQDJmSECxDc3BIgvTwRIO56cbCOAALFxo2tiBBAgcuBcssmMqMhBgF3OkRNT6giwzzpOVMUngACJn5F1QgSIlVyMPgRIjBxqpkCA1NDr14sA8WWPAPHliQBpx5OTbQQQIDZudE2MAAJEDpxLNpkRFTkIsMs5cmJKHQH2WceJqvgEZiFAht9RXfhA9Zkvw7rf/v1SFraVrXffWe75//Tv4lmx21zZfN/WsmnzA+Xnd9w787mtD2x5yWadqaYPAVJDL0YvAiRGDo90CgTIIyX239e3/NnMh6DzIei+28ppFgIIEAs1eiZHAAEiR84lm8yIihwE2OUcOTGljgD7rONEVXwCMxEgq1aUrVu3l/lt2+MDWUYTHvg7R5eyfVvZuunOcudN/6F+ZbuvWlEemN9W7t0yjwBRU/MvRID4M531iQiQWRP3eR4CxIfjg6cgQHx5Lj6ND0Fvx5aT9QQQIHpWVE6YAAJEDp9LNpkRFTkIsMs5cmJKHQH2WceJqvgEZiVAtty/dXxXwfbtSJBZbcVj/5/nlIWF7WXr3XeUn/7w39WP3WvP1WXb9oWy5T4EiBpag0IESAOoMz4SATJj4E6PQ4A4gfy/xyBAfHkiQNrx5GQbAQSIjRtdEyOAAJED55JNZkRFDgLsco6cmFJHgH3WcaIqPoFZCpB7Nj9Q/uvOzfGhLJMJNRfou3qpiy//+BVY/ZZBk1/WrPpRne2TESCz5e31NASIF8lfnoMA8eWJAGnHk5NtBBAgNm50TYwAAkQOnEs2mREVOQiwyzlyYkodAfZZx4mq+AQQIPEzsk6ouUBHgFjptu/T5IcAaZ9DzRMQIDX0+vUiQHzZI0B8eSJA2vHkZBsBBIiNG10TI4AAkQPnkk1mREUOAuxyjpyYUkeAfdZxoio+AQRI/IysE2ou0BEgVrrt+zT5IUDa51DzBARIDb1+vQgQX/YIEF+eCJB2PDnZRgABYuNG18QIIEDkwLlkkxlRkYMAu5wjJ6bUEWCfdZyoik8AARI/I+uEmgt0BIiVbvs+TX4IkPY51DwBAVJDr18vAsSXPQLElycCpB1PTrYRQIDYuNE1MQIIEDlwLtlkRlTkIMAu58iJKXUE2GcdJ6riE0CAxM/IOqHmAh0BYqXbvk+THwKkfQ41T0CA1NDr14sA8WWPAPHliQBpx5OTbQQQIDZudE2MAAJEDpxLNpkRFTkIsMs5cmJKHQH2WceJqvgEECDxM7JOqLlAR4BY6bbv0+SHAGmfQ80TECA19Pr1IkB82SNAfHkiQNrx5GQbAQSIjduy6frxj39c/u7v/q5ceeWV5ec//3nZvn17Oeyww8rv/d7vlZNPPrkccsghS77WofZLX/pS2bBhQ7nhhhvK5s2bywEHHFCOOOKIcuKJJ5ajjjpK5ORxhvgQhwIEiAyRSzaZERU5CLDLOXJiSh0B9lnHiar4BBAg8TOyTqi5QEeAWOm279PkhwBpn0PNExAgNfT69SJAfNkjQHx5IkDa8eRkGwEEiI3bsuj6+Mc/Xj72sY+VrVu37vL1rF27tvzVX/1VecYznvGw72/atKm84Q1vKFdfffUue+fm5kaBcu655y7JyuOMWQWBAJFJc8kmM6IiBwF2OUdOTKkjwD7rOFEVnwACJH5G1gk1F+gIECvd9n2a/BAg7XOoeQICpIZev14EiC97BIgvTwRIO56cbCOAALFxS9/10Y9+tHzkIx8ZX8f69evLa17zmvKUpzxllCGXXHJJ+eIXvzi+G2SPPfYo//iP/1ge//jH73jNCwsL5dRTTy1XXHHF+HdPf/rTy8tf/vKy//77l+uvv75ceOGF5ZZbbhm/d+aZZ5bTTjvtYbw8zphlCAgQmTaXbDIjKnIQYJdz5MSUOgLss44TVfEJIEDiZ2SdUHOBvquzs16qt7xks2ZQ06fJL2tWNVwy9SJAMqX10KwIEN/cWv5sPmjfNWXtmt3Lo1avLFvnt+1y8LWPe0JZsf7QMrd2v7Jly7zvi+t82sqVK8r69Ws6T8Hjp04AATLBDRgkxUte8pJRdgy/7uqzn/1secxjHrMTiYsuuqicd955498997nPLR/+8Id3fP/iiy8uZ5999vjPJ5xwQjn//PN36t24cWM56aSTyk033VRWr15dLr300nLwwQfvVONxxiyjQ4DItLlkkxlRkYMAu5wjJ6bUEWCfdZyoik8AARI/I+uEmgv0XZ2d9VK95SWbNYOaPk1+WbOq4ZKpFwGSKa2HZkWA+ObW8mczAgQB4rutnGYhgACxUEve8/rXv7584xvfKMOvqRre6fHbv/3bu3xFL3zhC8uNN95YVq1aVa699trx3SDD1/HHH1+uu+66MvyKrMsvv7ysW7fuYf1D/SBBhq9TTjmlvOMd79ipxuOMWcaAAJFpc8kmM6IiBwF2OUdOTKkjwD7rOFEVnwACJH5G1gk1F+i7OjvrpXrLSzZrBjV9mvyyZlXDJVMvAiRTWg/NigDxza3lz2YECALEd1s5zUIAAWKhlrjnF7/4xfgB5/Pz8+XYY48tH/rQh5Z8NcOHm//rv/7r+Cuyhs/z2HfffctPfvKTcswxx4w9gyC54IILluwfzr/55pvHd5kMwuXBL48zZh0BAkQmziWbzIiKHATY5Rw5MaWOAPus40RVfAIIkPgZWSfUXKAjQKx02/dp8kOAtM+h5gkIkBp6/XoRIL7sESC+PBefxq/AaseWk/UEECB6Vsui8mtf+1p5+9vfPr6W4XNAnvOc5zyi1zVIkXPOOWfsee973zv+Kq2lvoZfoTX8Kq3h67LLLiuHH374+GePMx7R0A7FCBAZIpdsMiMqchBgl3PkxJQ6AuyzjhNV8QkgQOJnZJ1Qc4G+q7OzXqq3vGSzZlDTp8kva1Y1XDL1IkAypfXQrAgQ39xa/mzmHSC8A8R3WznNQgABYqGWuOcDH/hA+dSnPjW+gm9/+9vloIMOGv88fOD5bbfdVu69997x7/bcc89dvsrhHR/Dh5wPX5///OfLkUceuSSNoe7Bd4h8/OMfL89+9rPHWo8zZh0BAkQmziWbzIiKHATY5Rw5MaWOAPus40RVfAIIkPgZWSfUXKDv6uysl+otL9msGdT0afLLmlUNl0y9CJBMaT00KwLEN7eWP5sRIAgQ323lNAsBBIiFWuKe008/vXzzm98cP9fjBz/4QbnjjjvKRz7ykfL1r3+93HXXXeMrW7FiRTnqqKPKm970pocJjrPOOqt85StfGeuGcw499NAlaXz1q18tZ5555vj94d0gD34miMcZs44AASIT55JNZkRFDgLsco6cmFJHgH3WcaIqPgEESPyMrBNqLtB3dXbWS/WWl2zWDGr6NPllzaqGS6ZeBEimtB6aFQHim1vLn80IEASI77ZymoUAAsRCLXHPiSeeWL73ve+Nn+vx13/912UQIhs3btzlKxo+JH348PLXvOY1O77/2te+dnznyPB19dVXl3322WdJGsPnfgwfuD58ve1tbxufNXx5nDHrCBAgMnEu2WRGVOQgwC7nyIkpdQTYZx0nquITQIDEz8g6oeYCfVdnZ71Ub3nJZs2gpk+TX9asarhk6kWAZErroVkRIL65tfzZjABBgPhuK6dZCCBALNQS9wwfXH7jjTeWNWvWlN13331818cf/dEflUGMDJ/Rceedd47vBvnwhz9cNm/ePL7SD37wg+W4444b//yqV72qXHXVVeOfv//975fVq1cvSePKK68sr371q8fvn3HGGeXNb36z2xmzjmDbtu2zfmS65+2221wZpNnCwkLZvn0h3fwMDIEHCbDL7MJyIsA+L6c0p/1altrlublStt51W5m/46flvv9zQx2kuVLu3TJfNt37QLl945a6s+hWE/hfxxxX5ha2l/m77yg3XHONuu+xh+xdti8slC33by23/yJRXnOlzJW5slAWyvB/2b80+aXNKns4yvkXZzj8HH1E/14ts31WIgtRtvjfq4N+52jTz9EQLyTKEA13ef91jyp77bl72fNRq5b8ub/Ho/9nWbXfoWXlPgeUhWXwvw2/GuuKFbtFSZo5JkoAATKx4I855pjyk5/8ZMer/vM///Pyh3/4hw+j8O///u+jGJmfnx8/E2T4EPNBdgzvBvnOd74z1g+/QmuQKEt9DXUPvntk+HVab3zjG8dSjzMmFhsvFwIQgAAEIAABCEBgCQLzG28t83fcUu675cZqRr8UIPeX2zfeV30WB+gIPPHZz9txcXfjtdfqmkophx+8Vxn+m5v77p8nLzU1/0JNfmTlz93zxMUZ/lKA8O+VJ99WZy3+9+rARQLkkfwcbTUb5+5MYP91e5S99lz9SwGyxNceh/2Psmq/w8qqdQeCDwIQaEAAAdIAauQjX/CCF5Qf//jH44hPe9rTymc+85klx/2zP/uz8oUvfGH8/ic+8Yly9NFHjxJjkCHD1zXXXFP23nvvJfsX/wqs4bNATjvttLHW44xZM+YdIDJx/itjmREVOQiwyzlyYkodAfZZx4mq+AR4B0j8jKwTat5BsKuz076roOF/ZWzNoKZPk1/arGrAJOrlHSCJwlo0Ku8Acc6t4c9m3gEyfNYw7wBx3liOe4QEECCPEFj28gc/A2R4He9617vKK17xiiVf0vBZH8PndQxfw+d3DJ/jcc4555QNGzaMfzd8f3h3yFJfiz8E/T3veU952cteNpZ6nDHrHPgMEJk4v2deZkRFDgLsco6cmFJHgH3WcaIqPgE+AyR+RtYJNZ8hsauzs36uRMvfM2/NoKZPk1/WrGq4ZOrlM0AypfXQrHwGiG9uLX828xkgfAaI77ZymoUAAsRCLXHP8KuoLr300vEVDB+C/qxnPWvJV3PTTTeV5z//+eP3B3kxSIzhs0E+9rGPjX930UUXlSc/+clL9l944YXlggsuGL//yU9+sjzzmc8c/+xxxqwjQIDIxLlkkxlRkYMAu5wjJ6bUEWCfdZyoik8AARI/I+uEmgv0XZ2d9VK95SWbNYOaPk1+WbOq4ZKpFwGSKa2HZkWA+ObW8mczAgQB4rutnGYhgACxUEvc89GPfrR85CMfGV/B+973vnL88ccv+Wquu+66Hd8f3gly1llnjR+Q/ta3vnXsef/7319e9KIXLdl/3nnnjZJk+Lr88svLox/96PHPHmfMOgIEiEycSzaZERU5CLDLOXJiSh0B9lnHiar4BBAg8TOyTqi5QN/V2Vkv1VteslkzqOnT5Jc1qxoumXoRIJnSemhWBIhvbi1/NiNAECC+28ppFgIIEAu1xD1XXHFFOeWUU8ZXMHz4+fAh6Et9ffnLXy7veMc7xm+/+93vLsOvz/rZz342fhbIwsLCjneFLNV/7LHHlptvvrkccsgh5Vvf+taOMo8zZh0BAkQmziWbzIiKHATY5Rw5MaWOAPus40RVfAIIkPgZWSfUXKDv6uysl+otL9msGdT0afLLmlUNl0y9CJBMaT00KwLEN7eWP5sRIAgQ323lNAsBBIiFWuKebdu2lWc84xnltttuK2vXri3/9E//VPbff/9dvqKTTz65/Mu//EtZsWLFKDAOPPDAse7BzxFZt27d+M6O4Zxf/br22mvLSSedNP71cM473/nOnUo8zphlDAgQmTaXbDIjKnIQYJdz5MSUOgLss44TVfEJIEDiZ2SdUHOBvquzs16qt7xks2ZQ06fJL2tWNVwy9SJAMqX10KwIEN/cWv5sRoAgQHy3ldMsBBAgFmrJez796U+Pv/5q+Hra0542fqbHnnvuudOr+uxnP1v+4i/+Yvy74Z0cH/rQh3Z8/2tf+1p5+9vfPv7zC17wgvFXYe222247vn/XXXeNH64+fIbIqlWrxl959ZjHPGan8z3OmGUMCBCZNpdsMiMqchBgl3PkxJQ6AuyzjhNV8QkgQOJnZJ1Qc4G+q7OzXqq3vGSzZlDTp8kva1Y1XDL1IkAypfXQrAgQ39xa/mxGgCBAfLeV0ywEECAWasl7tm/fXl796leXq666anwlj33sY8urXvWq8oQnPKFs2rSpXHzxxeWrX/3q+L199913/PN+++2306sefo3W8Ou0hq8jjzyyvPKVrywHHXRQueGGG8YPPL/lllvG7w2i5HWve90uiXmcMasoECAyaS7ZZEZU5CDALufIiSl1BNhnHSeq4hNAgMTPyDqh5gJ9V2dnvVRveclmzaCmT5Nf1qxquGTqRYBkSuuhWREgvrm1/NmMAEGA+G4rp1kIIEAs1JZBz3333VfOOeeccskllyz5ah73uMeN7w759V//9YfV3HPPPeX0008v11xzzZL9w6++Ovfcc8vc3NwuazzOmFUUCBCZNJdsMiMqchBgl3PkxJQ6AuyzjhNV8QkgQOJnZJ1Qc4GOALHSbd+nyQ8B0j6HmicgQGro9etFgPiyR4D48lx82sqVCJB2dDlZSwABoiW1TOuuvPLK8g//8A/l3/7t38rtt99e9tprr/EdIcOvtnrxi1/8sF+NtRjD8E6SDRs2jO8Y+dGPfjS+e2T9+vXlKU95yvj5H0996lNFah5niA9xKECAyBC5ZJMZUZGDALucIyem1BFgn3WcqIpPAAESPyPrhJoLdASIlW77Pk1+CJD2OdQ8AQFSQ69fLwLElz0CxJcnAqQdT062EUCA2LjRNTECCBA5cC7ZZEZU5CDALufIiSl1BNhnHSeq4hNAgMTPyDqh5gIdAWKl275Pkx8CpH0ONU9AgNTQ69eLAPFljwDx5YkAaceTk20EECA2bnRNjAACRA6cSzaZERU5CLDLOXJiSh0B9lnHiar4BBAg8TOyTqi5QEeAWOm279PkhwBpn0PNExAgNfT69SJAfNkjQHx5IkDa8eRkGwEEiI0bXRMjgACRA+eSTWZERQ4C7HKOnJhSR4B91nGiKj4BBEj8jKwTai7QESBWuu37NPkhQNrnUPMEBEgNvX69CBBf9ggQX54IkHY8OdlGAAFi40bXxAggQOTAuWSTGVGRgwC7nCMnptQRYJ91nKiKTwABEj8j64SaC3QEiJVu+z5NfgiQ9jnUPAEBUkOvXy8CxJc9AsSXJwKkHU9OthFAgNi40TUxAggQOXAu2WRGVOQgwC7nyIkpdQTYZx0nquITQIDEz8g6oeYCHQFipdu+T5MfAqR9DjVPQIDU0OvXiwDxZY8A8eWJAGnHk5NtBBAgNm50TYwAAkQOnEs2mREVOQiwyzlyYkodAfZZx4mq+AQQIPEzsk6ouUBHgFjptu/T5IcAaZ9DzRMQIDX0+vUiQHzZI0B8eSJA2vHkZBsBBIiNG10TI4AAkQPnkk1mREUOAuxyjpyYUkeAfdZxoio+AQRI/IysE2ou0BEgVrrt+zT5IUDa51DzBARIDb1+vQgQX/YIEF+eCJB2PDnZRgABYuNG18QIIEDkwLlkkxlRkYMAu5wjJ6bUEWCfdZyoik8AARI/I+uEmgt0BIiVbvs+TX4IkPY51DwBAVJDr18vAsSXPQLElycCpB1PTrYRQIDYuNE1MQIIEDlwLtlkRlTkIMAu58iJKXUE2GcdJ6riE0CAxM/IOqHmAh0BYqXbvk+THwKkfQ41T0CA1NDr14sA8WWPAPHliQBpx5OTbQQQIDZudE2MAAJEDpxLNpkRFTkIsMs5cmJKHQH2WceJqvgEECDxM7JOqLlAR4BY6bbv0+SHAGmfQ80TECA19Pr1IkB82SNAfHkiQNrx5GQbAQSIjRtdEyOAAJED55JNZkRFDgLsco6cmFJHgH3WcaIqPgEESPyMrBNqLtARIFa67fs0+SFA2udQ8wQESA29fr0IEF/2CBBfngiQdjw52UYAAWLjRtfECCBA5MC5ZJMZUZGDALucIyem1BFgn3WcqIpPAAESPyPrhJoLdASIlW77Pk1+CJD2OdQ8AQFSQ69fLwLElz0CxJcnAqQdT062EUCA2LjRNTECCBA5cC7ZZEZU5CDALufIiSl1BNhnHSeq4hNAgMTPyDqh5gIdAWKl275Pkx8CpH0ONU9AgNTQ69eLAPFljwDx5YkAaceTk20EECA2bnRNjAACRA6cSzaZERU5CLDLOXJiSh0B9lnHiar4BBAg8TOyTqi5QEeAWOm279PkhwBpn0PNExAgNfT69SJAfNkjQHx5IkDa8eRkGwEEiI0bXRMjgACRA+eSTWZERQ4C7HKOnJhSR4B91nGiKj4BBEj8jKwTai7QESBWuu37NPkhQNrnUPMEBEgNvX69CBBf9ggQX54IkHY8OdlGAAFi40bXxAggQOTAuWSTGVGRgwC7nCMnptQRYJ91nKiKTwABEj8j64SaC3QEiJVu+z5NfgiQ9jnUPAEBUkOvXy8CxJc9AsSXJwKkHU9OthFAgNi40TUxAggQOXAu2WRGVOQgwC7nyIkpdQTYZx0nquITQIDEz8g6oeYCHQFipdu+T5MfAqR9DjVPQIDU0OvXiwDxZY8A8eWJAGnHk5NtBBAgNm50TYwAAkQOnEs2mREVOQiwyzlyYkodAfZZx4mq+AQQIPEzsk6ouUBHgFjptu/T5IcAaZ9DzRMQIDX0+vUiQHzZI0B8eSJA2vHkZBsBBIiNG10TI4AAkQPnkk1mREUOAuxyjpyYUkeAfdZxoio+AQRI/IysE2ou0BEgVrrt+zT5IUDa51DzBARIDb1+vQgQX/YIEF+eCJB2PDnZRgABYuNG18QIIEDkwLlkkxlRkYMAu5wjJ6bUEWCfdZyoik8AARI/I+uEmgt0BIiVbvs+TX4IkPY51DwBAVJDr18vAsSXPQLElycCpB1PTrYRQIDYuNE1MQIIEDlwLtlkRlTkIMAu58iJKXUE2GcdJ6riE0CAxM/IOqHmAh0BYqXbvk+THwKkfQ41T0CA1NDr14sA8WWPAPHliQBpx5OTbQQQIDZudE2MAAJEDpxLNpkRFTkIsMs5cmJKHQH2WceJqvgEECDxM7JOqLlAR4BY6bbv0+SHAGmfQ80TECA19Pr1IkB82SNAfHkiQNrx5GQbAQSIjRtdEyOAAJED55IURj1BAAAgAElEQVRNZkRFDgLsco6cmFJHgH3WcaIqPgEESPyMrBNqLtARIFa67fs0+SFA2udQ8wQESA29fr0IEF/2CBBfngiQdjw52UYAAWLjRtfECCBA5MC5ZJMZUZGDALucIyem1BFgn3WcqIpPAAESPyPrhJoLdASIlW77Pk1+CJD2OdQ8AQFSQ69fLwLElz0CxJcnAqQdT062EUCA2LjRNTECCBA5cC7ZZEZU5CDALufIiSl1BNhnHSeq4hNAgMTPyDqh5gIdAWKl275Pkx8CpH0ONU9AgNTQ69eLAPFljwDx5YkAaceTk20EECA2bnRNjAACRA6cSzaZERU5CLDLOXJiSh0B9lnHiar4BBAg8TOyTqi5QEeAWOm279PkhwBpn0PNExAgNfT69SJAfNkjQHx5IkDa8eRkGwEEiI0bXRMjgACRA+eSTWZERQ4C7HKOnJhSR4B91nGiKj4BBEj8jKwTai7QESBWuu37NPkhQNrnUPMEBEgNvX69CBBf9ggQX54IkHY8OdlGAAFi40bXxAggQOTAuWSTGVGRgwC7nCMnptQRYJ91nKiKTwABEj8j64SaC3QEiJVu+z5NfgiQ9jnUPAEBUkOvXy8CxJc9AsSXJwKkHU9OthFAgNi40TUxAggQOXAu2WRGVOQgwC7nyIkpdQTYZx0nquITQIDEz8g6oeYCHQFipdu+T5MfAqR9DjVPQIDU0OvXiwDxZY8A8eWJAGnHk5NtBBAgNm50TYwAAkQOnEs2mREVOQiwyzlyYkodAfZZx4mq+AQQIPEzsk6ouUBHgFjptu/T5IcAaZ9DzRMQIDX0+vUiQHzZI0B8eSJA2vHkZBsBBIiNG10TI4AAkQPnkk1mREUOAuxyjpyYUkeAfdZxoio+AQRI/IysE2ou0BEgVrrt+zT5IUDa51DzBARIDb1+vQgQX/YIEF+eCJB2PDnZRgABYuNG18QIIEDkwLlkkxlRkYMAu5wjJ6bUEWCfdZyoik8AARI/I+uEmgt0BIiVbvs+TX4IkPY51DwBAVJDr18vAsSXPQLElycCpB1PTrYRQIDYuNE1MQIIEDlwLtlkRlTkIMAu58iJKXUE2GcdJ6riE0CAxM/IOqHmAh0BYqXbvk+THwKkfQ41T0CA1NDr14sA8WWPAPHliQBpx5OTbQQQIDZudE2MAAJEDpxLNpkRFTkIsMs5cmJKHQH2WceJqvgEECDxM7JOqLlAR4BY6bbv0+SHAGmfQ80TECA19Pr1IkB82SNAfHkiQNrx5GQbAQSIjRtdEyOAAJED55JNZkRFDgLsco6cmFJHgH3WcaIqPgEESPyMrBNqLtARIFa67fs0+SFA2udQ8wQESA29fr0IEF/2CBBfngiQdjw52UYAAWLjRtfECCBA5MC5ZJMZUZGDALucIyem1BFgn3WcqIpPAAESPyPrhJoLdASIlW77Pk1+CJD2OdQ8AQFSQ69fLwLElz0CxJcnAqQdT062EUCA2LjRNTECCBA5cC7ZZEZU5CDALufIiSl1BNhnHSeq4hNAgMTPyDqh5gIdAWKl275Pkx8CpH0ONU9AgNTQ69eLAPFljwDx5YkAaceTk20EECA2bnRNjAACRA6cSzaZERU5CLDLOXJiSh0B9lnHiar4BBAg8TOyTqi5QEeAWOm279PkhwBpn0PNExAgNfT69SJAfNkjQHx5IkDa8eRkGwEEiI0bXRMjgACRA+eSTWZERQ4C7HKOnJhSR4B91nGiKj4BBEj8jKwTai7QESBWuu37NPkhQNrnUPMEBEgNvX69CBBf9ggQX54IkHY8OdlGAAFi40bXxAggQOTAuWSTGVGRgwC7nCMnptQRYJ91nKiKTwABEj8j64SaC3QEiJVu+z5NfgiQ9jnUPAEBUkOvXy8CxJc9AsSXJwKkHU9OthFAgNi40TUxAggQOXAu2WRGVOQgwC7nyIkpdQTYZx0nquITQIDEz8g6oeYCHQFipdu+T5MfAqR9DjVPQIDU0OvXiwDxZY8A8eWJAGnHk5NtBBAgNm50TYwAAkQOnEs2mREVOQiwyzlyYkodAfZZx4mq+AQQIPEzsk6ouUBHgFjptu/T5IcAaZ9DzRMQIDX0+vUiQHzZI0B8eSJA2vHkZBsBBIiNG10TI4AAkQPnkk1mREUOAuxyjpyYUkeAfdZxoio+AQRI/IysE2ou0BEgVrrt+zT5IUDa51DzBARIDb1+vQgQX/YIEF+eCJB2PDnZRgABYuNG18QIIEDkwLlkkxlRkYMAu5wjJ6bUEWCfdZyoik8AARI/I+uEmgt0BIiVbvs+TX4IkPY51DwBAVJDr18vAsSXPQLElycCpB1PTrYRQIDYuNE1MQIIEDlwLtlkRlTkIMAu58iJKXUE2GcdJ6riE0CAxM/IOqHmAh0BYqXbvk+THwKkfQ41T0CA1NDr14sA8WWPAPHliQBpx5OTbQQQIDZudE2MAAJEDpxLNpkRFTkIsMs5cmJKHQH2WceJqvgEECDxM7JOqLlAR4BY6bbv0+SHAGmfQ80TECA19Pr1IkB82SNAfHkiQNrx5GQbAQSIjRtdEyOAAJED55JNZkRFDgLsco6cmFJHgH3WcaIqPgEESPyMrBNqLtARIFa67fs0+SFA2udQ8wQESA29fr0IEF/2CBBfngiQdjw52UYAAWLjRtfECCBA5MC5ZJMZUZGDALucIyem1BFgn3WcqIpPAAESPyPrhJoLdASIlW77Pk1+CJD2OdQ8AQFSQ69fLwLElz0CxJcnAqQdT062EUCA2LjRNTECCBA5cC7ZZEZU5CDALufIiSl1BNhnHSeq4hNAgMTPyDqh5gIdAWKl275Pkx8CpH0ONU9AgNTQ69eLAPFljwDx5YkAaceTk20EECA2bnRNjAACRA6cSzaZERU5CLDLOXJiSh0B9lnHiar4BBAg8TOyTqi5QEeAWOm279PkhwBpn0PNExAgNfT69SJAfNkjQHx5IkDa8eRkGwEEiI0bXRMjgACRA+eSTWZERQ4C7HKOnJhSR4B91nGiKj4BBEj8jKwTai7QESBWuu37NPkhQNrnUPMEBEgNvX69CBBf9ggQX54IkHY8OdlGAAFi40bXxAggQOTAuWSTGVGRgwC7nCMnptQRYJ91nKiKTwABEj8j64SaC3QEiJVu+z5NfgiQ9jnUPAEBUkOvXy8CxJc9AsSXJwKkHU9OthFAgNi40TUxAggQOXAu2WRGVOQgwC7nyIkpdQTYZx0nquITQIDEz8g6oeYCHQFipdu+T5MfAqR9DjVPQIDU0OvXiwDxZY8A8eWJAGnHk5NtBBAgNm50TYwAAkQOnEs2mREVOQiwyzlyYkodAfZZx4mq+AQQIPEzsk6ouUBHgFjptu/T5IcAaZ9DzRMQIDX0+vUiQHzZI0B8eSJA2vHkZBsBBIiNG10TI4AAkQPnkk1mREUOAuxyjpyYUkeAfdZxoio+AQRI/IysE2ou0BEgVrrt+zT5IUDa51DzBARIDb1+vQgQX/YIEF+eCJB2PDnZRgABYuNG18QIIEDkwLlkkxlRkYMAu5wjJ6bUEWCfdZyoik8AARI/I+uEmgt0BIiVbvs+TX4IkPY51DwBAVJDr18vAsSXPQLElycCpB1PTrYRQIDYuNE1MQIIEDlwLtlkRlTkIMAu58iJKXUE2GcdJ6riE0CAxM/IOqHmAh0BYqXbvk+THwKkfQ41T0CA1NDr14sA8WWPAPHliQBpx5OTbQQQIDZudE2MAAJEDpxLNpkRFTkIsMs5cmJKHQH2WceJqvgEECDxM7JOqLlAR4BY6bbv0+SHAGmfQ80TECA19Pr1IkB82SNAfHkiQNrx5GQbAQSIjRtdEyOAAJED55JNZkRFDgLsco6cmFJHgH3WcaIqPgEESPyMrBNqLtARIFa67fs0+SFA2udQ8wQESA29fr0IEF/2CBBfngiQdjw52UYAAWLjRtfECCBA5MC5ZJMZUZGDALucIyem1BFgn3WcqIpPAAESPyPrhJoLdASIlW77Pk1+CJD2OdQ8AQFSQ69fLwLElz0CxJcnAqQdT062EUCA2LjRNTECCBA5cC7ZZEZU5CDALufIiSl1BNhnHSeq4hNAgMTPyDqh5gIdAWKl275Pkx8CpH0ONU9AgNTQ69eLAPFljwDx5YkAaceTk20EECA2bnRNjAACRA6cSzaZERU5CLDLOXJiSh0B9lnHiar4BBAg8TOyTqi5QEeAWOm279PkhwBpn0PNExAgNfT69SJAfNkjQHx5IkDa8eRkGwEEiI0bXRMjgACRA+eSTWZERQ4C7HKOnJhSR4B91nGiKj4BBEj8jKwTai7QESBWuu37NPkhQNrnUPMEBEgNvX69CBBf9ggQX54IkHY8OdlGAAFi40bXxAggQOTAuWSTGVGRgwC7nCMnptQRYJ91nKiKTwABEj8j64SaC3QEiJVu+z5NfgiQ9jnUPAEBUkOvXy8CxJc9AsSXJwKkHU9OthFAgNi40TUxAggQOXAu2WRGVOQgwC7nyIkpdQTYZx0nquITQIDEz8g6oeYCHQFipdu+T5MfAqR9DjVPQIDU0OvXiwDxZY8A8eWJAGnHk5NtBBAgNm50TYwAAkQOnEs2mREVOQiwyzlyYkodAfZZx4mq+AQQIPEzsk6ouUBHgFjptu/T5IcAaZ9DzRMQIDX0+vUiQHzZI0B8eSJA2vHkZBsBBIiNG10TI4AAkQPnkk1mREUOAuxyjpyYUkeAfdZxoio+AQRI/IysE2ou0BEgVrrt+zT5IUDa51DzBARIDb1+vQgQX/YIEF+eCJB2PDnZRgABYuNG18QIIEDkwLlkkxlRkYMAu5wjJ6bUEWCfdZyoik8AARI/I+uEmgt0BIiVbvs+TX4IkPY51DwBAVJDr18vAsSXPQLElycCpB1PTrYRQIDYuNE1MQIIEDlwLtlkRlTkIMAu58iJKXUE2GcdJ6riE0CAxM/IOqHmAh0BYqXbvk+THwKkfQ41T0CA1NDr14sA8WWPAPHliQBpx5OTbQQQIDZudE2MAAJEDpxLNpkRFTkIsMs5cmJKHQH2WceJqvgEECDxM7JOqLlAR4BY6bbv0+SHAGmfQ80TECA19Pr1IkB82SNAfHkiQNrx5GQbAQSIjRtdEyOAAJED55JNZkRFDgLsco6cmFJHgH3WcaIqPgEESPyMrBNqLtARIFa67fs0+SFA2udQ8wQESA29fr0IEF/2CBBfngiQdjw52UYAAWLjRtfECCBA5MC5ZJMZUZGDALucIyem1BFgn3WcqIpPAAESPyPrhJoLdASIlW77Pk1+CJD2OdQ8AQFSQ69fLwLElz0CxJcnAqQdT062EUCA2LjRNTECCBA5cC7ZZEZU5CDALufIiSl1BNhnHSeq4hNAgMTPyDqh5gIdAWKl275Pkx8CpH0ONU9AgNTQ69eLAPFljwDx5YkAaceTk20EECA2bnRNjAACRA6cSzaZERU5CLDLOXJiSh0B9lnHiar4BBAg8TOyTqi5QEeAWOm279PkhwBpn0PNExAgNfT69SJAfNkjQHx5IkDa8eRkGwEEiI0bXRMjgACRA+eSTWZERQ4C7HKOnJhSR4B91nGiKj4BBEj8jKwTai7QESBWuu37NPkhQNrnUPMEBEgNvX69CBBf9ggQX54IkHY8OdlGAAFi40bXxAggQOTAuWSTGVGRgwC7nCMnptQRYJ91nKiKTwABEj8j64SaC3QEiJVu+z5NfgiQ9jnUPAEBUkOvXy8CxJc9AsSXJwKkHU9OthFAgNi40TUxAggQOXAu2WRGVOQgwC7nyIkpdQTYZx0nquITQIDEz8g6oeYCHQFipdu+T5MfAqR9DjVPQIDU0OvXiwDxZY8A8eWJAGnHk5NtBBAgNm50TYwAAkQOnEs2mREVOQiwyzlyYkodAfZZx4mq+AQQIPEzsk6ouUBHgFjptu/T5IcAaZ9DzRMQIDX0+vUiQHzZI0B8eSJA2vHkZBsBBIiNG10TI4AAkQPnkk1mREUOAuxyjpyYUkeAfdZxoio+AQRI/IysE2ou0BEgVrrt+zT5IUDa51DzBARIDb1+vQgQX/YIEF+eCJB2PDnZRgABYuNG18QIIEDkwLlkkxlRkYMAu5wjJ6bUEWCfdZyoik8AARI/I+uEmgt0BIiVbvs+TX4IkPY51DwBAVJDr18vAsSXPQLElycCpB1PTrYRQIDYuNE1MQIIEDlwLtlkRlTkIMAu58iJKXUE2GcdJ6riE0CAxM/IOqHmAh0BYqXbvk+THwKkfQ41T0CA1NDr14sA8WWPAPHliQBpx5OTbQQQIDZudE2MAAJEDpxLNpkRFTkIsMs5cmJKHQH2WceJqvgEECDxM7JOqLlAR4BY6bbv0+SHAGmfQ80TECA19Pr1IkB82SNAfHkiQNrx5GQbAQSIjRtdEyOAAJED55JNZkRFDgLsco6cmFJHgH3WcaIqPgEESPyMrBNqLtARIFa67fs0+SFA2udQ8wQESA29fr0IEF/2CBBfngiQdjw52UYAAWLjRtfECCBA5MC5ZJMZUZGDALucIyem1BFgn3WcqIpPAAESPyPrhJoLdASIlW77Pk1+CJD2OdQ8AQFSQ69fLwLElz0CxJcnAqQdT062EUCA2LjRNTECCBA5cC7ZZEZU5CDALufIiSl1BNhnHSeq4hNAgMTPyDqh5gIdAWKl275Pkx8CpH0ONU9AgNTQ69eLAPFljwDx5YkAaceTk20EECA2bnRNjAACRA6cSzaZERU5CLDLOXJiSh0B9lnHiar4BBAg8TOyTqi5QEeAWOm279PkhwBpn0PNExAgNfT69SJAfNkjQHx5IkDa8eRkGwEEiI0bXRMjgACRA+eSTWZERQ4C7HKOnJhSR4B91nGiKj4BBEj8jKwTai7QESBWuu37NPkhQNrnUPMEBEgNvX69CBBf9ggQX54IkHY8OdlGAAFi40bXxAggQOTAuWSTGVGRgwC7nCMnptQRYJ91nKiKTwABEj8j64SaC3QEiJVu+z5NfgiQ9jnUPAEBUkOvXy8CxJc9AsSXJwKkHU9OthFAgNi40TUxAggQOXAu2WRGVOQgwC7nyIkpdQTYZx0nquITQIDEz8g6oeYCHQFipdu+T5MfAqR9DjVPQIDU0OvXiwDxZY8A8eWJAGnHk5NtBBAgNm50TYwAAkQOnEs2mREVOQiwyzlyYkodAfZZx4mq+AQQIPEzsk6ouUBHgFjptu/T5IcAaZ9DzRMQIDX0+vUiQHzZI0B8eSJA2vHkZBsBBIiNG10TI4AAkQPnkk1mREUOAuxyjpyYUkeAfdZxoio+AQRI/IysE2ou0BEgVrrt+zT5IUDa51DzBARIDb1+vQgQX/YIEF+eCJB2PDnZRgABYuNG18QIIEDkwLlkkxlRkYMAu5wjJ6bUEWCfdZyoik8AARI/I+uEmgt0BIiVbvs+TX4IkPY51DwBAVJDr18vAsSXPQLElycCpB1PTrYRQIDYuNE1MQIIEDlwLtlkRlTkIMAu58iJKXUE2GcdJ6riE0CAxM/IOqHmAh0BYqXbvk+THwKkfQ41T0CA1NDr14sA8WWPAPHliQBpx5OTbQQQIDZudE2MAAJEDpxLNpkRFTkIsMs5cmJKHQH2WceJqvgEECDxM7JOqLlAR4BY6bbv0+SHAGmfQ80TECA19Pr1IkB82SNAfHkiQNrx5GQbAQSIjRtdEyOAAJED55JNZkRFDgLsco6cmFJHgH3WcaIqPgEESPyMrBNqLtARIFa67fs0+SFA2udQ8wQESA29fr0IEF/2CBBfngiQdjw52UYAAWLjRtfECCBA5MC5ZJMZUZGDALucIyem1BFgn3WcqIpPAAESPyPrhJoLdASIlW77Pk1+CJD2OdQ8AQFSQ69fLwLElz0CxJcnAqQdT062EUCA2LjRNTECCBA5cC7ZZEZU5CDALufIiSl1BNhnHSeq4hNAgMTPyDqh5gIdAWKl275Pkx8CpH0ONU9AgNTQ69eLAPFljwDx5YkAaceTk20EECA2bnRNjAACRA6cSzaZERU5CLDLOXJiSh0B9lnHiar4BBAg8TOyTqi5QEeAWOm279PkhwBpn0PNExAgNfT69SJAfNkjQHx5IkDa8eRkGwEEiI0bXRMjgACRA+eSTWZERQ4C7HKOnJhSR4B91nGiKj4BBEj8jKwTai7QESBWuu37NPkhQNrnUPMEBEgNvX69CBBf9ggQX54IkHY8OdlGAAFi40bXxAggQOTAuWSTGVGRgwC7nCMnptQRYJ91nKiKTwABEj8j64SaC3QEiJVu+z5NfgiQ9jnUPAEBUkOvXy8CxJc9AsSXJwKkHU9OthFAgNi40TUxAggQOXAu2WRGVOQgwC7nyIkpdQTYZx0nquITQIDEz8g6oeYCHQFipdu+T5MfAqR9DjVPQIDU0OvXiwDxZY8A8eWJAGnHk5NtBBAgNm50TYwAAkQOnEs2mREVOQiwyzlyYkodAfZZx4mq+AQQIPEzsk6ouUBHgFjptu/T5IcAaZ9DzRMQIDX0+vUiQHzZI0B8eSJA2vHkZBsBBIiNG10TI4AAkQPnkk1mREUOAuxyjpyYUkeAfdZxoio+AQRI/IysE2ou0BEgVrrt+zT5IUDa51DzBARIDb1+vQgQX/YIEF+eCJB2PDnZRgABYuNG18QIIEDkwLlkkxlRkYMAu5wjJ6bUEWCfdZyoik8AARI/I+uEmgt0BIiVbvs+TX4IkPY51DwBAVJDr18vAsSXPQLElycCpB1PTrYRQIDYuNE1MQIIEDlwLtlkRlTkIMAu58iJKXUE2GcdJ6riE0CAxM/IOqHmAh0BYqXbvk+THwKkfQ41T0CA1NDr14sA8WWPAPHliQBpx5OTbQQQIDZudE2MAAJEDpxLNpkRFTkIsMs5cmJKHQH2WceJqvgEECDxM7JOqLlAR4BY6bbv0+SHAGmfQ80TECA19Pr1IkB82SNAfHkiQNrx5GQbAQSIjRtdEyOAAJED55JNZkRFDgLsco6cmFJHgH3WcaIqPgEESPyMrBNqLtARIFa67fs0+SFA2udQ8wQESA29fr0IEF/2CBBfngiQdjw52UYAAWLjRtfECCBA5MC5ZJMZUZGDALucIyem1BFgn3WcqIpPAAESPyPrhJoLdASIlW77Pk1+CJD2OdQ8AQFSQ69fLwLElz0CxJcnAqQdT062EUCA2LjRNTECCBA5cC7ZZEZU5CDALufIiSl1BNhnHSeq4hNAgMTPyDqh5gIdAWKl275Pkx8CpH0ONU9AgNTQ69eLAPFljwDx5YkAaceTk20EECA2bnRNjAACRA6cSzaZERU5CLDLOXJiSh0B9lnHiar4BBAg8TOyTqi5QEeAWOm279PkhwBpn0PNExAgNfT69SJAfNkjQHx5IkDa8eRkGwEEiI0bXRMjgACRA+eSTWZERQ4C7HKOnJhSR4B91nGiKj4BBEj8jKwTai7QESBWuu37NPkhQNrnUPMEBEgNvX69CBBf9ggQX54IkHY8OdlGAAFi40bXxAggQOTAuWSTGVGRgwC7nCMnptQRYJ91nKiKTwABEj8j64SaC3QEiJVu+z5NfgiQ9jnUPAEBUkOvXy8CxJc9AsSXJwKkHU9OthFAgNi40TUxAggQOXAu2WRGVOQgwC7nyIkpdQTYZx0nquITQIDEz8g6oeYCHQFipdu+T5MfAqR9DjVPQIDU0OvXiwDxZY8A8eWJAGnHk5NtBBAgNm50TYwAAkQOnEs2mREVOQiwyzlyYkodAfZZx4mq+AQQIPEzsk6ouUBHgFjptu/T5IcAaZ9DzRMQIDX0+vUiQHzZI0B8eSJA2vHkZBsBBIiNG10TI4AAkQPnkk1mREUOAuxyjpyYUkeAfdZxoio+AQRI/IysE2ou0BEgVrrt+zT5IUDa51DzBARIDb1+vQgQX/YIEF+eCJB2PDnZRgABYuNG18QIIEDkwLlkkxlRkYMAu5wjJ6bUEWCfdZyoik8AARI/I+uEmgt0BIiVbvs+TX4IkPY51DwBAVJDr18vAsSXPQLElycCpB1PTrYRQIDYuC3brrvvvrs8//nPL7feemt54QtfWC644IIlX+v27dvLl770pbJhw4Zyww03lM2bN5cDDjigHHHEEeXEE08sRx11lMjJ4wzxIQ4FCBAZIpdsMiMqchBgl3PkxJQ6AuyzjhNV8QkgQOJnZJ1Qc4GOALHSbd+nyQ8B0j6HmicgQGro9etFgPiyR4D48kSAtOPJyTYCCBAbt2XbdfbZZ5eLL754fH3/nQDZtGlTecMb3lCuvvrqXbKYm5srJ598cjn33HOXZOVxxqyCQIDIpLlkkxlRkYMAu5wjJ6bUEWCfdZyoik8AARI/I+uEmgt0BIiVbvs+TX4IkPY51DwBAVJDr18vAsSXPQLElycCpB1PTrYRQIDYuC3Lrn/+538uZ5xxxo7XtpQAWVhYKKeeemq54oorxtqnP/3p5eUvf3nZf//9y/XXX18uvPDCcsstt4zfO/PMM8tpp532MF4eZ8wyBASITJtLNpkRFTkIsMs5cmJKHQH2WceJqvgEECDxM7JOqLlA39XZWS/VW16yWTOo6dPklzWrGi6ZehEgmdJ6aFYEiG9uLX82H7TvmrJ2ze7lUatXlq3z23Y5+NrHPaGsWH9omVu7X9myZd73xXU+beXKFWX9+jWdp+DxUyeAAJn6Bvzf13/nnXeO7/i4/fbbdxBZSoAM7xAZ3ikyfJ1wwgnl/PPP34nixo0by0knnVRuuummsnr16nLppZeWgw8+eKcajzNmGR0CRKbNJZvMiIocBNjlHDkxpY4A+6zjRFV8AgiQ+BlZJ9RcoO/q7KyX6i0v2awZ1PRp8suaVQ2XTL0IkExpPTQrAsQ3t5Y/mxEgCBDfbeU0CwEEiIXaMux5y1veUi655JKy7777lkGGDF9LCZDjjz++XHfddWXt2rXl/2fvbWA1Lat772vvPXtmgAEGHeRT7HffntPzRhFbbcxbCEan7tcAACAASURBVJyEniCp1FSUVhAU8TMIKtgYmphY20rThBRbS78TbUlbmaLWRIqoQaswKb5SBTy8B63yPTPAfOw9M/vjefM8OzPzMOxnX+tZ17Wu61rP/ds5J5kya61r3b//um/Z68/9PHfeeWfYvHnzC4hs27ZtYIL0f6644orwoQ996HkxOWqUlAEDJE6bJVucERE+CDDLPnSiSxkB5lnGiaj2CWCAtK+RtkPJAh0DREvXPk+iHwaIvQ4pJ2CApNCrl4sBkpc9BkhensPVeAPEji2V5QQwQOSsJjbyX//1X8P73//+MD09PfjS82uuuWZwrasZID/60Y/CeeedN/LvhyGdf/754ZFHHgmnnXZa+PKXv3zor3LUKC0GBkicOEu2OCMifBBgln3oRJcyAsyzjBNR7RPAAGlfI22HkgX6arW9LtUtl2xaDVLyJPp51SqFi6dcDBBPah3uFQMkr26Wz2beAOENkLzTSjUNAQwQDbUJyul/5NUFF1wQnnnmmXD55ZcP3to499xzRxocW7duDdddd93g7z/2sY+FN7zhDSNp3HDDDeHWW28d/P0dd9wRzjjjjMGfc9QoLQEGSJw4S7Y4IyJ8EGCWfehElzICzLOME1HtE8AAaV8jbYeSBfpqtb0u1S2XbFoNUvIk+nnVKoWLp1wMEE9qHe4VAySvbpbPZgwQDJC800o1DQEMEA21Ccrpf+l5/8vPf/InfzL8y7/8S3j66afXNED6b4j0v+S8//PpT386nHXWWSNp9OP68f2fT37yk4fq5qhRWgIMkDhxlmxxRkT4IMAs+9CJLmUEmGcZJ6LaJ4AB0r5G2g4lC3QMEC1d+zyJfhgg9jqknIABkkKvXi4GSF72GCB5eQ5X4yOw7NhSWU4AA0TOauIiD76J0f/oq8985jPhFa94Rfjxj3+8pgHygQ98IHzuc58bsLjrrrvCqaeeOpLL5z//+XDttdcO/r7/NsjB7wTJUaO0GBggceIs2eKMiPBBgFn2oRNdyggwzzJORLVPAAOkfY20HUoW6KvV9rpUt1yyaTVIyZPo51WrFC6ecjFAPKl1uFcMkLy6WT6beQOEN0DyTivVNAQwQDTUJiDnySefHHz01a5duwYffXXwY61iBsjb3/728LWvfW1A4J577gnHH3/8SBr97/145zvfOfj7/neMXHXVVYM/56hRWgIMkDhxlmxxRkT4IMAs+9CJLmUEmGcZJ6LaJ4AB0r5G2g4lC/TVantdqlsu2bQapORJ9POqVQoXT7kYIJ7UOtwrBkhe3SyfzRggGCB5p5VqGgIYIBpqE5Bz0IT4iZ/4icFHX23cuHFwVTED5NJLLw3f/OY3B7Hf+c53woYNG0bS+MY3vhHe+ta3Dv6+/1Fb73vf+wZ/zlGjtARLS8ulj3R33vT0VJiamgq9Xi8sL/fc9U/DEDhIgFlmFiaJAPM8SWp2+1pGzfLUVAiLzz0dFnY8Fvb9+KE0SFMh7J1fCLv3Hgjbn51Pq0W2mMB/P+9/hanecljYtSM8dO+94ryXnXJcWO71wvz+xbD9GUd6TYUwFaZCL/RC//95/5Ho51Yr7+II+x/WsP8cHeu+mrB5FiJrImz4vjrpleeonqNNXEgrTRjO8pbNR4Vjj1kfjjlqduRzf+PpPx9mX3xqWHf8iaE3Af/bcKSsMzPTrShNHx0lgAHSQeH/8R//MXzkIx8J/Y++6n+Px5lnnnmIQswA6b8t8vWvf30Qf//994f169ePJNiP68f3f9773veG97znPYM/56jRQdm4ZAhAAAIQgAAEIACBVQgsPPtUWNjxaNj36PeT+awYIPvD9mf3JdeigIzAfzv31w4t7r6/bZssKYRwxsnHhv5/c7Nv/wJ6ianlD5Toh1b5ueesOKzhigHCfZWTr1Wt4fvqJUMGyDjPUaveqPt8Als2bwzHHrNhxQAZ8bPxtJ8Lsy8+Lcxufgn4IAABAwIYIAZQWy752GOPhde97nVhz549g7czrr/++ue1GzNA+ibGHXfcMci59957w3HHHTfycoc/Aqv/XSBXXnnlIDZHjdKMeQMkTpz/yjjOiAgfBJhlHzrRpYwA8yzjRFT7BHgDpH2NtB1K3iBYrbbbtwoM/ytjrQYpeRL93GqVAsZRLm+AOBJrqFXeAMmsm+GzmTdAQuANkMzzSrmxCWCAjI3Mb0L/o4n6b1/0P5rqyI++OnhVMQOk/10h/S9P7//0vwvkpJNOGglk+EvQP/rRj4Y3vvGNg9gcNUqrwHeAxInzOfNxRkT4IMAs+9CJLmUEmGcZJ6LaJ8B3gLSvkbZDyXdIrFbb6/dKWH7OvFaDlDyJfl61SuHiKZfvAPGk1uFe+Q6QvLpZPpv5DhC+AyTvtFJNQwADREPNac4//MM/hN/93d8ddH/DDTc876OvDl7SU089dehNjV/91V8dfHl5/2fLli3hxBNPDDfddFO4+eabB//s1ltvDS9/+ctH0rjlllvCjTfeOPj7T33qU+Hss88e/DlHjdISYIDEibNkizMiwgcBZtmHTnQpI8A8yzgR1T4BDJD2NdJ2KFmgr1bb61Ldcsmm1SAlT6KfV61SuHjKxQDxpNbhXjFA8upm+WzGAMEAyTutVNMQwADRUHOa0/+4q9tuu03Vff9jq/rf4/HFL34xXH311YMan/jEJ8KFF144sl7fZOmbJP2fO++8M5x++umDP+eoobqIhCQMkDg8lmxxRkT4IMAs+9CJLmUEmGcZJ6LaJ4AB0r5G2g4lC/TVantdqlsu2bQapORJ9POqVQoXT7kYIJ7UOtwrBkhe3SyfzRggGCB5p5VqGgIYIBpqTnNyGCCPP/54OOecc0L/47T6H2nV/2irUT/nn39+eOSRR8Ipp5wSvvKVrxwKy1GjtAQYIHHiLNnijIjwQYBZ9qETXcoIMM8yTkS1TwADpH2NtB1KFugYIFq69nkS/TBA7HVIOQEDJIVevVwMkLzsMUDy8hyutm4dBogdXSpLCWCASEl1JC72HSB9DBdffHG47777wubNmwdvdmzatOkFdLZt2xYuueSSwT+/7LLLwoc//OHnxeSoUVISDJA4bZZscUZE+CDALPvQiS5lBJhnGSei2ieAAdK+RtoOJQv01Wp7XapbLtm0GqTkSfTzqlUKF0+5GCCe1DrcKwZIXt0sn828AYIBkndaqaYhgAGioTbBORID5Atf+EK45pprBhQuuOCCwUdhTU9PH6Ly3HPPhTe/+c3h4YcfDrOzs4OPvHrpS1/6PGo5apSUAQMkTpslW5wRET4IMMs+dKJLGQHmWcaJqPYJYIC0r5G2Q8kCHQNES9c+T6IfBoi9DiknYICk0KuXiwGSlz0GSF6ew9V4A8SOLZXlBDBA5Kw6ESkxQPogrrjiinD33XcPmJx11lnhLW95SzjppJPCQw89NPjC80cffXTwd32j5B3veMeq7HLUKCUKBkicNEu2OCMifBBgln3oRJcyAsyzjBNR7RPAAGlfI22HkgX6arW9LtUtl2xaDVLyJPp51SqFi6dcDBBPah3uFQMkr26Wz2beAOENkLzTSjUNAQwQDbUJzpEaIHv27AlXXXVVuPfee0fS6H/0Vf97R6amplaNyVGjlBQYIHHSLNnijIjwQYBZ9qETXcoIMM8yTpZRGzfOhhH/KmR57MTVPvro9YM3jpeXl8Pc3IFD1zc7OxOWd28PCzsfC3P/9WDSdc9MT4W5fYth99yB8MSOvUm1SJYTkCzQMUDkPEtHSvTDACmtynjnYYCMx6uVaAyQvEpggOTlOVyNN0Ds2FJZTgADRM6qE5FSA6QPo/8L6NatW8Ptt98eHnzwwbB79+5wwgknhFe84hWD7/949atfHWWWo0b0kAwBGCBxiCzZ4oyI8EGAWfahE13KCDDPMk6WUUcdNRvm9y+Fuf2LlsdMfO0NG9YN/qOaXq8X9g+xPPaY9WF6746w9OzjYdcj30visH52JhxYWAp75xcwQJJIjpcsWaCvVtHrUt1yyTYe+TzREv28apWHUPtVMEDa1yj2DHzJK88JU73lsLhrR/jut77l84Iqd235bOYNEN4AqTzeHB9CwABhDCAgIIABEofEki3OiAgfBJhlHzrRpYwA8yzjZBnVN0B27Noftj87HxYWlyyPmujas7N9AySEXi+EhYXDZtLJWzaF9fufCVPPPRG2/+/7kxgce8yGsLTcC/P7MECSQI6ZLFmgx5Z/nt7YsVyyjYk+S7hEPwyQLKjNimCAmKE1LcwbIHnxWj6bMUAwQPJOK9U0BDBANNTI6RwBDJC45CzZ4oyI8EGAWfahE13KCDDPMk6WUQcNkMe37wn3P7zd8qiJrn3UUf2PwJoKy32DYv7wR2D9j5/ZEo7t7Q6ze58K/3X/fUkMWNIm4VMnSxboGCBqvOaJEv24t8xlSDoAAyQJX7VkDJC86DFA8vIcrsZHYNmxpbKcAAaInBWRHSaAARIXnyVbnBERPggwyz50oksZAeZZxskyCgMkD10MkDwcW6wiWaBjgLSo3EpPEv0wQNrV70gN5x99aPCmnfRNOMulcdvU6neHAZJXA8tZ5g0Q3gDJO61U0xDAANFQI6dzBDBA4pKzZIszIsIHAWbZh050KSPAPMs4WUZhgOShiwGSh2OLVSQLdAyQFpXDAGlXlfE64w2Q8Xi1Eo0BklcJDJC8PIer8QaIHVsqywlggMhZEdlhAhggcfFZssUZEeGDALPsQye6lBFgnmWcLKMwQPLQxQDJw7HFKhggLaoi70miH2+AyHnWiMQAqUE9/UwMkHSGwxUwQPLyxACx40llHQEMEB03sjpGAAMkLjhLtjgjInwQYJZ96ESXMgLMs4yTZRQGSB66GCB5OLZYRbJAX61vr0t1yyVbDX0l+nnVqgbPGmdigNSgnn4mBkg6QwyQvAxHVeMNkDKcOWVtAhggTAgEBAQwQOKQWLLFGRHhgwCz7EMnupQRYJ5lnCyjMEDy0MUAycOxxSqSBToGSIvKrfQk0Q8DpF39jtSQ7wBpW6vh7jBA8mplaU7zHSB8B0jeaaWahgAGiIYaOZ0jgAESl5wlW5wRET4IMMs+dKJLGQHmWcbJMgoDJA9dDJA8HFusIlmgY4C0qBwGSLuqjNcZb4CMx6uVaAyQvEpggOTlOVyNN0Ds2FJZTgADRM6KyA4TwACJi8+SLc6ICB8EmGUfOtGljADzLONkGYUBkocuBkgeji1WwQBpURV5TxL9eANEzrNGJAZIDerpZ2KApDMcroABkpcnBogdTyrrCGCA6LiR1TECGCBxwVmyxRkR4YMAs+xDJ7qUEWCeZZwsozBA8tDFAMnDscUqkgX6an17XapbLtlq6CvRz6tWNXjWOBMDpAb19DMxQNIZYoDkZTiqGm+AlOHMKWsTwABhQiAgIIABEofEki3OiAgfBJhlHzrRpYwA8yzjZBmFAZKHLgZIHo4tVpEs0DFAWlRupSeJfhgg7ep3pIZ8B0jbWg13hwGSVytLc5rvAOE7QPJOK9U0BDBANNTI6RwBDJC45CzZ4oyI8EGAWfahE13KCDDPMk6WURggeehigOTh2GIVyQIdA6RF5TBA2lVlvM54A2Q8Xq1EY4DkVQIDJC/P4Wq8AWLHlspyAhggclZEdpgABkhcfJZscUZE+CDALPvQiS5lBJhnGSfLKAyQPHQxQPJwbLEKBkiLqsh7kujHGyBynjUiMUBqUE8/EwMkneFwBQyQvDwxQOx4UllHAANEx42sjhHAAIkLzpItzogIHwSYZR860aWMAPMs42QZhQGShy4GSB6OLVaRLNBX69vrUt1yyVZDX4l+XrWqwbPGmRggNainn4kBks4QAyQvw1HVeAOkDGdOWZsABggTAgEBAQyQOCSWbHFGRPggwCz70IkuZQSYZxknyygMkDx0MUDycGyximSBjgHSonIrPUn0wwBpV78jNeQ7QNrWarg7DJC8Wlma03wHCN8BkndaqaYhgAGioUZO5whggMQlZ8kWZ0SEDwLMsg+d6FJGgHmWcbKMwgDJQxcDJA/HFqtIFugYIC0qhwHSrirjdcYbIOPxaiUaAySvEhggeXkOV+MNEDu2VJYTwACRsyKywwQwQOLis2SLMyLCBwFm2YdOdCkjwDzLOFlGYYDkoYsBkodji1UwQFpURd6TRD/eAJHzrBGJAVKDevqZGCDpDIcrYIDk5YkBYseTyjoCGCA6bmR1jAAGSFxwlmxxRkT4IMAs+9CJLmUEmGcZJ8soDJA8dDFA8nBssYpkgb5a316X6pZLthr6SvTzqlUNnjXOxACpQT39TAyQdIYYIHkZjqrGGyBlOHPK2gQwQJgQCAgIYIDEIbFkizMiwgcBZtmHTnQpI8A8yzhZRmGA5KGLAZKHY4tVJAt0DJAWlVvpSaIfBki7+h2pId8B0rZWw91hgOTVytKc5jtA+A6QvNNKNQ0BDBANNXI6RwADJC45S7Y4IyJ8EGCWfehElzICzLOMk2UUBkgeuhggeTi2WEWyQMcAaVE5DJB2VRmvM94AGY9XK9EYIHmVwADJy3O4Gm+A2LGlspwABoicFZEdJoABEhefJVucERE+CDDLPnSiSxkB5lnGyTIKAyQPXQyQPBxbrIIB0qIq8p4k+vEGiJxnjUgMkBrU08/EAElnOFwBAyQvTwwQO55U1hHAANFxI6tjBDBA4oKzZIszIsIHAWbZh050KSPAPMs4WUZhgOShiwGSh2OLVSQL9NX69rpUt1yy1dBXop9XrWrwrHEmBkgN6ulnYoCkM8QAyctwVDXeACnDmVPWJoABwoRAQEAAAyQOiSVbnBERPggwyz50oksZAeZZxskyCgMkD10MkDwcW6wiWaBjgLSo3EpPEv0wQNrV70gN+Q6QtrUa7g4DJK9WluY03wHCd4DknVaqaQhggGiokdM5AhggcclZssUZEeGDALPsQye6lBFgnmWcLKMwQPLQxQDJw7HFKpIFOgZIi8phgLSrynid8QbIeLxaicYAyasEBkhensPVeAPEji2V5QQwQOSsiOwwAQyQuPgs2eKMiPBBgFn2oRNdyggwz2tz2rhxNkxNyVhqo2ZnZ8LefYth194D4Ynte7RlOp83O7tuoFWvF8LCwuIhHidv2RTW738m9J59PDxwzz1JnPiv1JPwqZMxQNTomkiU6Me91YRUI5vAAGlbn1HdYYDk1Q0DJC9PDBA7nlTWEcAA0XEjq2MEMEDigrNkizMiwgcBZtmHTnQpI8A8r82p/3ZGWJgPvf1zMqCKqHXrpsP+A0thbv9ieGbXPkUFUvoE+hynwlTohV5YXFw+BOXFW04I0wt7w9KzT4XvfutbSbBY0ibhUydLFuirFfeql+WSTS1CQqJEP69aJWBxlYoB4kquQ81igOTVzfLZzEdg8RFYeaeVahoCGCAaauR0jgAGSFxylmxxRkT4IMAs+9CJLmUEmOe4AdLbsyMs73469BYXZFDHjJqemQ4Li8vhwIGlsHvuwJjZhB8kMDMzfQjG0tJhA+RFLz0j9BYWwuKuHRggTsdFskDHAGlXXIl+GCDt6tfvDAOkbX1GdYcBklc3DJC8PIer8RFYdmypLCeAASJnRWSHCWCAxMVnyRZnRIQPAsyyD53oUkaAeZYZIEvPPBb2/OABGdQxo9bNzoT5/Ythz9yB8OROuzdNxmzLXfioxYRk+Sq9WJa0UlJ547QaetXLcsmWVxlZNYl+XrWSEfAfhQHiU0MMkLy6WT6beQOEN0DyTivVNAQwQDTUyOkcAQyQuOQs2eKMiPBBgFn2oRNdyggwzxggsklpPwoDpH2NtB1KFuir1fa6VLdcsmk1SMmT6OdVqxQunnIxQDypdbhXDJC8ulk+mzFAMEDyTivVNAQwQDTUyOkcAQyQuOQs2eKMiPBBgFn2oRNdyggwzxggsklpPwoDpH2NtB1KFugYIFq69nkS/TBA7HVIOQEDJIVevVwMkLzsMUDy8hyuxkdg2bGlspwABoicFZEdJoABEhefJVucERE+CDDLPnSiSxkB5hkDRDYp7UdhgLSvkbZDyQIdA0RL1z5Poh8GiL0OKSdggKTQq5eLAZKXPQZIXp4YIHY8qawjgAGi40ZWxwhggMQFZ8kWZ0SEDwLMsg+d6FJGgHnGAJFNSvtRGCDta6TtULJAxwDR0rXPk+iHAWKvQ8oJGCAp9OrlYoDkZY8BkpcnBogdTyrrCGCA6LiR1TECGCBxwVmyxRkR4YMAs+xDJ7qUEWCeMUBkk9J+FAZI+xppO5Qs0DFAtHTt8yT6YYDY65ByAgZICr16uRggedljgOTliQFix5PKOgIYIDpuZHWMAAZIXHCWbHFGRPggwCz70IkuZQSYZwwQ2aS0H4UB0r5G2g4lC3QMEC1d+zyJfhgg9jqknIABkkKvXi4GSF72GCB5eWKA2PGkso4ABoiOG1kdI4ABEhecJVucERE+CDDLPnSiSxkB5hkDRDYp7UdhgLSvkbZDyQIdA0RL1z5Poh8GiL0OKSdggKTQq5eLAZKXPQZIXp4YIHY8qawjgAGi40ZWxwhggMQFZ8kWZ0SEDwLMsg+d6FJGgHnGAJFNSvtRGCDta6TtULJAxwDR0rXPk+iHAWKvQ8oJGCAp9OrlYoDkZY8BkpcnBogdTyrrCGCA6LiR1TECGCBxwVmyxRkR4YMAs+xDJ7qUEWCeMUBkk9J+FAZI+xppO5Qs0DFAtHTt8yT6YYDY65ByAgZICr16uRggedljgOTliQFix5PKOgIYIDpuZHWMAAZIXHCWbHFGRPggwCz70IkuZQSYZwwQ2aS0H4UB0r5G2g4lC3QMEC1d+zyJfhgg9jqknIABkkKvXi4GSF72GCB5eWKA2PGkso4ABoiOG1kdI4ABEhecJVucERE+CDDLPnSiSxkB5hkDRDYp7UdhgLSvkbZDyQIdA0RL1z5Poh8GiL0OKSdggKTQq5eLAZKXPQZIXp4YIHY8qawjgAGi40ZWxwhggMQFZ8kWZ0SEDwLMsg+d6FJGgHnGAJFNSvtRGCDta6TtULJAxwDR0rXPk+iHAWKvQ8oJGCAp9OrlYoDkZY8BkpcnBogdTyrrCGCA6LiR1TECGCBxwVmyxRkR4YMAs+xDJ7qUEWCeMUBkk9J+FAZI+xppO5Qs0DFAtHTt8yT6YYDY65ByAgZICr16uRggedljgOTliQFix5PKOgIYIDpuZHWMAAZIXHCWbHFGRPggwCz70IkuZQSYZwwQ2aS0H4UB0r5G2g4lC3QMEC1d+zyJfhgg9jqknIABkkKvXi4GSF72GCB5eWKA2PGkso4ABoiOG1kdI4ABEhecJVucERE+CDDLPnSiSxkB5hkDRDYp7UdhgLSvkbZDyQIdA0RL1z5Poh8GiL0OKSdggKTQq5eLAZKXPQZIXp4YIHY8qawjgAGi40ZWxwhggMQFZ8kWZ0SEDwLMsg+d6FJGgHnGAJFNSvtRGCDta6TtULJAxwDR0rXPk+iHAWKvQ8oJGCAp9OrlYoDkZY8BkpcnBogdTyrrCGCA6LiR1TECGCBxwVmyxRkR4YMAs+xDJ7qUEWCeMUBkk9J+FAZI+xppO5Qs0DFAtHTt8yT6YYDY65ByAgZICr16uRggedljgOTliQFix5PKOgIYIDpuZHWMAAZIXHCWbHFGRPggwCz70IkuZQSYZwwQ2aS0H4UB0r5G2g4lC3QMEC1d+zyJfhgg9jqknIABkkKvXi4GSF72GCB5eWKA2PGkso4ABoiOG1kdI4ABEhecJVucERE+CDDLPnSiSxkB5hkDRDYp7UdhgLSvkbZDyQIdA0RL1z5Poh8GiL0OKSdggKTQq5eLAZKXPQZIXp4YIHY8qawjgAGi40ZWxwhggMQFZ8kWZ0SEDwLMsg+d6FJGgHnGAJFNSvtRGCDta6TtULJAxwDR0rXPk+iHAWKvQ8oJGCAp9OrlYoDkZY8BkpcnBogdTyrrCGCA6LiR1TECGCBxwVmyxRkR4YMAs+xDJ7qUEWCeMUBkk9J+FAZI+xppO5Qs0DFAtHTt8yT6YYDY65ByAgZICr16uRggedljgOTliQFix5PKOgIYIDpuZHWMAAZIXHCWbHFGRPggwCz70IkuZQSYZwwQ2aS0H4UB0r5G2g4lC3QMEC1d+zyJfhgg9jqknIABkkKvXi4GSF72GCB5eWKA2PGkso4ABoiOG1kdI4ABEhecJVucERE+CDDLPnSiSxkB5hkDRDYp7UdhgLSvkbZDyQIdA0RL1z5Poh8GiL0OKSdggKTQq5eLAZKXPQZIXp4YIHY8qawjgAGi40ZWxwhggMQFZ8kWZ0SEDwLMsg+d6FJGgHnGAJFNSvtRGCDta6TtULJAxwDR0rXPk+iHAWKvQ8oJGCAp9OrlYoDkZY8BkpcnBogdTyrrCGCA6LiR1TECGCBxwVmyxRkR4YMAs+xDJ7qUEWCeMUBkk9J+FAZI+xppO5Qs0DFAtHTt8yT6YYDY65ByAgZICr16uRggedljgOTliQFix5PKOgIYIDpuZHWMAAZIXHCWbHFGRPggwCz70IkuZQSYZwwQ2aS0H4UB0r5G2g4lC3QMEC1d+zyJfhgg9jqknIABkkKvXi4GSF72GCB5eWKA2PGkso4ABoiOG1kdI4ABEhecJVucERE+CDDLPnSiSxkB5hkDRDYp7UdhgLSvkbZDyQIdA0RL1z5Poh8GiL0OKSdggKTQq5eLAZKXPQZIXp4YIHY8qawjgAGi40ZWxwhggMQFZ8kWZ0SEDwLMsg+d6FJGgHnGAJFNSvtRGCDta6TtULJAxwDR0rXPk+iHAWKvQ8oJGCAp9OrlYoDkZY8BkpcnBogdTyrrCGCA6LiR1TECGCBxwVmyxRkR4YMAs+xDJ7qUEWCeMUBkk9J+FAZI+xppO5Qs0DFAtHTt8yT6YYDY65ByAgZICr16uRggedljgOTliQFix5PKOgIYIDpuZHWMAAZIXHCWbHFGRPggwCz70Iku5HS/GgAAIABJREFUZQSYZwwQ2aS0H4UB0r5G2g4lC3QMEC1d+zyJfhgg9jqknIABkkKvXi4GSF72GCB5eWKA2PGkso4ABoiOG1kdI4ABEhecJVucERE+CDDLPnSiSxkB5hkDRDYp7UdhgLSvkbZDyQIdA0RL1z5Poh8GiL0OKSdggKTQq5eLAZKXPQZIXp4YIHY8qawjgAGi40ZWxwhggMQFZ8kWZ0SEDwLMsg+d6FJGgHnGAJFNSvtRGCDta6TtULJAxwDR0rXPk+iHAWKvQ8oJGCAp9OrlYoDkZY8BkpcnBogdTyrrCGCA6LiR1TECGCBxwVmyxRkR4YMAs+xDJ7qUEWCeMUBkk9J+FAZI+xppO5Qs0DFAtHTt8yT6YYDY65ByAgZICr16uRggedljgOTliQFix5PKOgIYIDpuZHWMAAZIXHCWbHFGRPggwCz70IkuZQSYZwwQ2aS0H4UB0r5G2g4lC3QMEC1d+zyJfhgg9jqknIABkkKvXi4GSF72GCB5eWKA2PGkso4ABoiOG1kdI4ABEhecJVucERE+CDDLPnSiSxkB5hkDRDYp7UdhgLSvkbZDyQIdA0RL1z5Poh8GiL0OKSdggKTQq5eLAZKXPQZIXp4YIHY8qawjgAGi40ZWxwhggMQFZ8kWZ0SEDwLMsg+d6FJGgHnGAJFNSvtRGCDta6TtULJAxwDR0rXPk+iHAWKvQ8oJGCAp9OrlYoDkZY8BkpcnBogdTyrrCGCA6LiR1TECGCBxwVmyxRkR4YMAs+xDJ7qUEWCeMUBkk9J+FAZI+xppO5Qs0DFAtHTt8yT6YYDY65ByAgZICr16uRggedljgOTliQFix5PKOgIYIDpuZHWMAAZIXHCWbHFGRPggwCz70IkuZQSYZwwQ2aS0H4UB0r5G2g4lC3QMEC1d+zyJfhgg9jqknIABkkKvXi4GSF72GCB5eWKA2PGkso4ABoiOG1kdI4ABEhecJVucERE+CDDLPnSiSxkB5hkDRDYp7UdhgLSvkbZDyQIdA0RL1z5Poh8GiL0OKSdggKTQq5eLAZKXPQZIXp4YIHY8qawjgAGi40ZWxwhggMQFZ8kWZ0SEDwLMsg+d6FJGgHnGAJFNSvtRGCDta6TtULJAxwDR0rXPk+iHAWKvQ8oJGCAp9OrlYoDkZY8BkpcnBogdTyrrCGCA6LiR1TECGCBxwVmyxRkR4YMAs+xDJ7qUEWCeMUBkk9J+FAZI+xppO5Qs0DFAtHTt8yT6YYDY65ByAgZICr16uRggedljgOTliQFix5PKOgIYIDpuZHWMAAZIXHCWbHFGRPggwCz70IkuZQSYZwwQ2aS0H4UB0r5G2g4lC3QMEC1d+zyJfhgg9jqknIABkkKvXi4GSF72GCB5eWKA2PGkso4ABoiOG1kdI4ABEhecJVucERE+CDDLPnSiSxkB5hkDRDYp7UdhgLSvkbZDyQIdA0RL1z5Poh8GiL0OKSdggKTQq5eLAZKXPQZIXp4YIHY8qawjgAGi40ZWxwhggMQFZ8kWZ0SEDwLMsg+d6FJGgHnGAJFNSvtRGCDta6TtULJAxwDR0rXPk+iHAWKvQ8oJGCAp9OrlYoDkZY8BkpcnBogdTyrrCGCA6LiR1TECGCBxwVmyxRkR4YMAs+xDJ7qUEWCeMUBkk9J+FAZI+xppO5Qs0DFAtHTt8yT6YYDY65ByAgZICr16uRggedljgOTliQFix5PKOgIYIDpuZHWMAAZIXHCWbHFGRPggwCz70IkuZQSYZwwQ2aS0H4UB0r5G2g4lC3QMEC1d+zyJfhgg9jqknIABkkKvXi4GSF72GCB5eWKA2PGkso4ABoiOG1kdI4ABEhecJVucERE+CDDLPnSiSxkB5hkDRDYp7UdhgLSvkbZDyQIdA0RL1z5Poh8GiL0OKSdggKTQq5eLAZKXPQZIXp4YIHY8qawjgAGi40ZWxwhggMQFZ8kWZ0SEDwLMsg+d6FJGgHnGAJFNSvtRGCDta6TtULJAxwDR0rXPk+iHAWKvQ8oJGCAp9OrlYoDkZY8BkpcnBogdTyrrCGCA6LiR1TECGCBxwVmyxRkR4YMAs+xDJ7qUEWCeMUBkk9J+FAZI+xppO5Qs0DFAtHTt8yT6YYDY65ByAgZICr16uRggedljgOTliQFix5PKOgIYIDpuZHWMAAZIXHCWbHFGRPggwCz70IkuZQSYZwwQ2aS0H4UB0r5G2g4lC3QMEC1d+zyJfhgg9jqknIABkkKvXi4GSF72GCB5eWKA2PGkso4ABoiOG1kdI4ABEhecJVucERE+CDDLPnSiSxkB5hkDRDYp7UdhgLSvkbZDyQIdA0RL1z5Poh8GiL0OKSdggKTQq5eLAZKXPQZIXp4YIHY8qawjgAGi40ZWxwhggMQFZ8kWZ0SEDwLMsg+d6FJGgHnGAJFNSvtRGCDta6TtULJAxwDR0rXPk+iHAWKvQ8oJGCAp9OrlYoDkZY8BkpcnBogdTyrrCGCA6LiR1TECGCBxwVmyxRkR4YMAs+xDJ7qUEWCeMUBkk9J+FAZI+xppO5Qs0DFAtHTt8yT6YYDY65ByAgZICr16uRggedljgOTliQFix5PKOgIYIDpuZHWMAAZIXHCWbHFGRPggwCz70IkuZQSYZwwQ2aS0H4UB0r5G2g4lC3QMEC1d+zyJfhgg9jqknIABkkKvXi4GSF72GCB5eWKA2PGkso4ABoiOG1kdI4ABEhecJVucERE+CDDLPnSiSxkB5hkDRDYp7UdhgLSvkbZDyQIdA0RL1z5Poh8GiL0OKSdggKTQq5eLAZKXPQZIXp4YIHY8qawjgAGi40ZWxwhggMQFZ8kWZ0SEDwLMsg+d6FJGgHnGAJFNSvtRGCDta6TtULJAxwDR0rXPk+iHAWKvQ8oJGCAp9OrlYoDkZY8BkpcnBogdTyrrCGCA6LiR1TECGCBxwVmyxRkR4YMAs+xDJ7qUEWCeMUBkk9J+FAZI+xppO5Qs0DFAtHTt8yT6YYDY65ByAgZICr16uRggedljgOTliQFix5PKOgIYIDpuZHWMAAZIXHCWbHFGRPggwCz70IkuZQSYZwwQ2aS0H4UB0r5G2g4lC3QMEC1d+zyJfhgg9jqknIABkkKvXi4GSF72GCB5eWKA2PGkso4ABoiOG1kdI4ABEhecJVucERE+CDDLPnSiSxkB5hkDRDYp7UdhgLSvkbZDyQIdA0RL1z5Poh8GiL0OKSdggKTQq5eLAZKXPQZIXp4YIHY8qawjgAGi40ZWxwhggMQFZ8kWZ0SEDwLMsg+d6FJGgHnGAJFNSvtRGCDta6TtULJAxwDR0rXPk+iHAWKvQ8oJGCAp9OrlYoDkZY8BkpcnBogdTyrrCGCA6LiR1TECGCBxwVmyxRkR4YMAs+xDJ7qUEWCeMUBkk9J+FAZI+xppO5Qs0DFAtHTt8yT6YYDY65ByAgZICr16uRggedljgOTliQFix5PKOgIYIDpuZHWMAAZIXHCWbHFGRPggwCz70IkuZQSYZwwQ2aS0H4UB0r5G2g4lC3QMEC1d+zyJfhgg9jqknIABkkKvXi4GSF72GCB5eWKA2PGkso4ABoiOG1kdI4ABEhecJVucERE+CDDLPnSiSxkB5hkDRDYp7UdhgLSvkbZDyQIdA0RL1z5Poh8GiL0OKSdggKTQq5eLAZKXPQZIXp4YIHY8qawjgAGi40ZWxwhggMQFZ8kWZ0SEDwLMsg+d6FJGgHnGAJFNSvtRGCDta6TtULJAxwDR0rXPk+iHAWKvQ8oJGCAp9OrlYoDkZY8BkpcnBogdTyrrCGCA6LiR1TECGCBxwVmyxRkR4YMAs+xDJ7qUEWCeMUBkk9J+FAZI+xppO5Qs0DFAtHTt8yT6YYDY65ByAgZICr16uRggedljgOTliQFix5PKOgIYIDpuZHWMAAZIXHCWbHFGRPggwCz70IkuZQSYZwwQ2aS0H4UB0r5G2g4lC3QMEC1d+zyJfhgg9jqknIABkkKvXi4GSF72GCB5eWKA2PGkso4ABoiOG1kdI4ABEhecJVucERE+CDDLPnSiSxkB5hkDRDYp7UdhgLSvkbZDyQIdA0RL1z5Poh8GiL0OKSdggKTQq5eLAZKXPQZIXp4YIHY8qawjgAGi40ZWxwhggMQFZ8kWZ0SEDwLMsg+d6FJGgHnGAJFNSvtRGCDta6TtULJAxwDR0rXPk+iHAWKvQ8oJGCAp9OrlYoDkZY8BkpcnBogdTyrrCGCA6LiR1TECGCBxwVmyxRkR4YMAs+xDJ7qUEWCeMUBkk9J+FAZI+xppO5Qs0DFAtHTt8yT6YYDY65ByAgZICr16uRggedljgOTliQFix5PKOgIYIDpuZHWMAAZIXHCWbHFGRPggwCz70IkuZQSYZwwQ2aS0H4UB0r5G2g4lC3QMEC1d+zyJfhgg9jqknIABkkKvXi4GSF72GCB5eWKA2PGkso4ABoiOG1kdI4ABEhecJVucERE+CDDLPnSiSxkB5hkDRDYp7UdhgLSvkbZDyQIdA0RL1z5Poh8GiL0OKSdggKTQq5eLAZKXPQZIXp4YIHY8qawjgAGi40ZWxwhggMQFZ8kWZ0SEDwLMsg+d6FJGgHnGAJFNSvtRGCDta6TtULJAxwDR0rXPk+iHAWKvQ8oJGCAp9OrlYoDkZY8BkpcnBogdTyrrCGCA6LiR1TECGCBxwVmyxRkR4YMAs+xDJ7qUEWCeMUBkk9J+FAZI+xppO5Qs0DFAtHTt8yT6YYDY65ByAgZICr16uRggedljgOTliQFix5PKOgIYIDpuZHWMAAZIXHCWbHFGRPggwCz70IkuZQSYZwwQ2aS0H4UB0r5G2g4lC3QMEC1d+zyJfhgg9jqknIABkkKvXi4GSF72GCB5eWKA2PGkso4ABoiOG1kdI4ABEhecJVucERE+CDDLPnSiSxkB5hkDRDYp7UdhgLSvkbZDyQIdA0RL1z5Poh8GiL0OKSdggKTQq5eLAZKXPQZIXp4YIHY8qawjgAGi40ZWxwhggMQFZ8kWZ0SEDwLMsg+d6FJGgHnGAJFNSvtRGCDta6TtULJAxwDR0rXPk+iHAWKvQ8oJGCAp9OrlYoDkZY8BkpcnBogdTyrrCGCA6LiR1TECGCBxwVmyxRkR4YMAs+xDJ7qUEWCeMUBkk9J+FAZI+xppO5Qs0DFAtHTt8yT6YYDY65ByAgZICr16uRggedljgOTliQFix5PKOgIYIDpuZHWMAAZIXHCWbHFGRPggwCz70IkuZQSYZwwQ2aS0H4UB0r5G2g4lC3QMEC1d+zyJfhgg9jqknIABkkKvXi4GSF72GCB5eWKA2PGkso4ABoiOG1kdI4ABEhecJVucERE+CDDLPnSiSxkB5hkDRDYp7UdhgLSvkbZDyQIdA0RL1z5Poh8GiL0OKSdggKTQq5eLAZKXPQZIXp4YIHY8qawjgAGi40ZWxwhggMQFZ8kWZ0SEDwLMsg+d6FJGgHnGAJFNSvtRGCDta6TtULJAxwDR0rXPk+iHAWKvQ8oJGCAp9OrlYoDkZY8BkpcnBogdTyrrCGCA6LiR1TECGCBxwVmyxRkR4YMAs+xDJ7qUEWCeMUBkk9J+FAZI+xppO5Qs0DFAtHTt8yT6YYDY65ByAgZICr16uRggedljgOTliQFix5PKOgIYIDpuZHWMAAZIXHCWbHFGRPggwCz70IkuZQSYZwwQ2aS0H4UB0r5G2g4lC3QMEC1d+zyJfhgg9jqknIABkkKvXi4GSF72GCB5eWKA2PGkso4ABoiOG1kdI4ABEhecJVucERE+CDDLPnSiSxkB5hkDRDYp7UdhgLSvkbZDyQIdA0RL1z5Poh8GiL0OKSdggKTQq5eLAZKXPQZIXp4YIHY8qawjgAGi40ZWxwhggMQFZ8kWZ0SEDwLMsg+d6FJGgHnGAJFNSvtRGCDta6TtULJAxwDR0rXPk+iHAWKvQ8oJGCAp9OrlYoDkZY8BkpcnBogdTyrrCGCA6LiR1TECGCBxwVmyxRkR4YMAs+xDJ7qUEWCeMUBkk9J+FAZI+xppO5Qs0DFAtHTt8yT6YYDY65ByAgZICr16uRggedljgOTliQFix5PKOgIYIDpuZHWMAAZIXHCWbHFGRPggwCz70IkuZQSYZwwQ2aS0H4UB0r5G2g4lC3QMEC1d+zyJfhgg9jqknIABkkKvXi4GSF72GCB5eWKA2PGkso4ABoiOG1kdI4ABEhecJVucERE+CDDLPnSiSxkB5hkDRDYp7UdhgLSvkbZDyQIdA0RL1z5Poh8GiL0OKSdggKTQq5eLAZKXPQZIXp4YIHY8qawjgAGi40ZWxwhggMQFZ8kWZ0SEDwLMsg+d6FJGgHnGAJFNSvtRGCDta6TtULJAxwDR0rXPk+iHAWKvQ8oJGCAp9OrlYoDkZY8BkpcnBogdTyrrCGCA6LhNRNb27dvD3//934e77747PPLII2Fubi5s2rQp/OzP/mw499xzw2/+5m+Go48+euS1Li8vh9tuuy1s3bo1PPTQQ4P8E088MZx55pnh4osvDq961auinHLUiB6SIQADJA6RJVucERE+CDDLPnSiSxkB5hkDRDYp7UdhgLSvkbZDyQIdA0RL1z5Poh8GiL0OKSdggKTQq5eLAZKXPQZIXp4YIHY8qawjgAGi4+Y+69/+7d/C9ddfH3bv3j3yWk477bRw8803h1/4hV94QUw/713vele45557Vs2fmpoKl1122eCMUT85apQSAgMkTpolW5wRET4IMMs+dKJLGQHmeW1ORx01G3p7doSlZx4Le37wgAzqmFHrZmfC/P7FsGfuQHhy59yY2YQfJIABMrmzIFmgr3b1Xpfqlku2GlMi0c+rVjV41jgTA6QG9fQzMUDSGQ5XsHw2n/Sio8Omo9eHozasC4sLS6s2vuknfiHMnHBqmNr04jA/v5D34ipXW7duJpxwwuj/uLpyexzfEQIYIB0Revgy+6bF5ZdfHhYWFsLs7OzgTY+zzz47bN68OTz++OODtzruuuuuQcqLXvSi8NnPfjaccsoph0r0er3wtre9bfDmSP/nta99bXjTm94UtmzZEh544IFwyy23hEcffXTwd9dee2248sorX0A5R42S0mGAxGmzZIszIsIHAWbZh050KSPAPK/NCQNENkctRGGAtKCCTQ+SBfpqJ3tdqlsu2WwUWruqRD+vWtXgWeNMDJAa1NPPxABJZzhcwfLZjAGCAZJ3WqmmIYABoqHmOKdvPFxwwQXh4YcfHpgff/mXfxl++Zd/+QVX1H/z46abbhr88378H/3RHx2Kuf3228MHP/jBwf990UUXhY9//OPPy3/22WfDJZdcMjhjw4YN4Utf+lI4+eSTnxeTo0ZJGTBA4rRZssUZEeGDALPsQye6lBFgntfmhAEim6MWojBAWlDBpgfJAn21k70u1S2XbDYKrV1Vop9XrWrwrHEmBkgN6ulnYoCkMxyuYPlsxgDBAMk7rVTTEMAA0VBznHPfffcNvp+j//Pbv/3b4SMf+ciqV9M3Si688MLw/e9/P6xfvz5861vfOvR9IK9//evD9773vcH3hdx5552DN0eO/Nm2bdvABOn/XHHFFeFDH/rQ80Jy1CgpAwZInDZLtjgjInwQYJZ96ESXMgLM89qcMEBkc9RCFAZICyrY9CBZoK92steluuWSzUahtatK9POqVQ2eNc7EAKlBPf1MDJB0hsMVLJ/NGCAYIHmnlWoaAhggGmqOc/78z//80Nscf/M3fxNe85rXjLya3//93w9//dd/Pfj7f/7nfw6/+Iu/GH70ox+F8847b/DPXve614Ubb7xxZP75558/+HL1/neJfPnLXz4Ul6NGaQkwQOLEWbLFGRHhgwCz7EOnrne5ceNsmJqKUzj66PVheno6LC8vh7m5A/GEjkXMzs6E5d3bw8LOx8Lcfz1ocvUz01Nhbt9i2D13IDyxY6/JGV0oigEyuSpLFuirXb3Xpbrlkq3GlEj086pVDZ41zsQAqUE9/UwMkHSGwxUsn80YIBggeaeVahoCGCAaao5zvvnNb4Z///d/D08++WS4+uqrX/DRVMOX1v9oq75J0v/5zGc+E175yleGrVu3huuuu27wzz72sY+FN7zhDSNp3HDDDeHWW28d/P0dd9wRzjjjjMGfc9QoLQEGSJw4S+M4IyJ8EGCWfejU9S77by7M718Kc/sX10SxYcO6MDU1Ffpvdu6PxHaR6bHHrA/Te3eEpWcfD7se+Z4JgvWzM+HAwlLYO7+AAZJAGAMkAV7jqZIF+mqX4HWpbrlkqyG1RD+vWtXgWeNMDJAa1NPPxABJZzhcwfLZjAGCAZJ3WqmmIYABoqHWkZxf//VfH3ypef/nq1/96sAs6b/x0f+S8/7Ppz/96XDWWWeNpNGPO/iGyCc/+clw7rnnDmJz1CgtAQZInDhL4zgjInwQYJZ96NT1LvsGyI5d+8P2Z+fDwuLSSByzs30DJIReL4SFhbXNki4yPXnLprB+/zNh6rknwvb/fb8JgmOP2RCWlnthfh8GSApgDJAUem3nShboq12B16W65ZKthtIS/bxqVYNnjTMxQGpQTz8TAySd4XAFy2czBggGSN5ppZqGAAaIhloHcvqGx5VXXjm40p/7uZ8Ln/vc5wZ//sAHPnDoz3fddVc49dRTR9L4/Oc/H6699trB3/ffBjn4nSA5apSWAAMkTpylcZwRET4IMMs+dOp6lwcNkMe37wn3P7x9JI6jjup/BNZUWO4v4Of5CKwjQf2Pn9kSju3tDrN7nwr/df99JmPF4i8PVgyQPBxbrCJZoK/Wt9d7y3LJVkNfiX5etarBs8aZGCA1qKefiQGSznC4guWzGQMEAyTvtFJNQwADRENtwnN27twZLrroovD4448PrvQP/uAPQv9tkP7P29/+9vC1r31t8Od77rknHH/88SNp9L/3453vfOfg79///veHq666KluN0hJggMSJszSOMyLCBwFm2YdOXe8SAyTPBGCA5OFYogoGSAnKdc6QLNBX68zrUt1yyVZDQYl+XrWqwbPGmRggNainn4kBks5wuILlsxkDBAMk77RSTUMAA0RDbYJz9u7dGy6//PLw7W9/e3CVv/RLvxT+9m//dvAFqv2fSy+9NPS/R6T/853vfCds2LBhJI1vfOMb4a1vfevg79/97neH973vfdlqlJZgaWm59JHuzuv/F8YHP2e+/18a8wMBrwSYZa/Kdavv/sdaPfXMfHj0qT3hgR/sHHnx/biDz+b+x2Dx83wCv/ATLwqblp8L6/Y8FX78nyv/7pP752WnHBeWe70wv38xbH9mPnf57tTrz3KYCr3QC/3/d/Dnv5/3v8JUbzks7NoRHrr33iQeaJWET52s1dCtXiNmWQ2wcqJEP7daVWZb6vhhDff9+KHx/jdrwua5FPMc5wzfVye98pxs/1uYozeXNQxnecvmo0L/e+eOOWr2ef8OM8xp4+k/H2ZffGpYd/yJg4+unbSfmZmVnSI/EKhFAAOkFvkGz929e/fgY6/+4z/+Y9Bd/zs//umf/imceOKJh7rtmyNf//rXB//3/fffH9avXz/ySvpx/fj+z3vf+97wnve8Z/DnHDUaxEdLEIAABCAAgaIEntw5Fx59and48IfPFD13kg77v152Qti0tCvM7HkyPPrd/9fk0s44+djQ/+8C9u1fCNuf3WdyRpeL/rdzf+3Q0uf727YloUCrJHzqZK2G6KVGnjVRoh9aZUWevdiwhisGCP+blR2yQcHh++olQwZI6v8WGrTa+ZJbNm8M/e+EGxggI342nvZzYfbFp4XZzS/pPC8AQMCCAAaIBVWHNZ966qmB+XHwS8+3bNkS/u7v/i789E//9POupm9i3HHHHYN/du+994bjjjtu5NUOfwRW/7tADn6nSI4apRHzBkicOP/VfJwRET4IMMs+dOp6l7wBkmcCeAMkD8ciVXgDpAjmGodI3iBYrS+3bxUY/lfGrernVqsaQCucyRsgFaBnOJI3QDJAHC5h+GzmDZAQeAMk87xSbmwCGCBjI5u8hAcffDC84x3vCE888cTg4vpvfvzVX/3VC8yP/t9dd911YevWrYO4/neBnHTSSSOBDH8J+kc/+tHwxje+cRCbo0ZpFfgOkDhxvjchzogIHwSYZR86db1LvgMkzwTwHSB5OJaowneAlKBc5wzJd0is1pnX75Ww/Jz5GgpK9POqVQ2eNc7kO0BqUE8/k+8ASWc4XMHy2cx3gPAdIHmnlWoaAhggGmoTlPPVr341XH311WFubm5wVT/1Uz8V/uIv/iKcdtppq17lTTfdFG6++ebB3916663h5S9/+Ugat9xyS7jxxhsHf/+pT30qnH322YM/56hRWgIMkDhxlsZxRkT4IMAs+9Cp611igOSZAAyQPBxLVMEAKUG5zhmSBfpqnXldqlsu2WooKNHPq1Y1eNY4EwOkBvX0MzFA0hkOV7B8NmOAYIDknVaqaQhggGioTUjObbfdFj7ykY+ExcXFwRWdeeaZ4U//9E/D5s2bR17hF7/4xYFh0v/5xCc+ES688MKRsTfccMPAJOn/3HnnneH0008f/DlHjdISYIDEibM0jjMiwgcBZtmHTl3vEgMkzwRggOThWKIKBkgJynXOkCzQV+vM61LdcslWQ0GJfl61qsGzxpkYIDWop5+JAZLOcLiC5bMZAwQDJO+0Uk1DAANEQ20Ccj772c+G3/md3wm9Xm9wNb/2a78W/vAP/3DNLzXvxz3++OPhnHPOGeT1P9Kq/9FWo37OP//88Mgjj4RTTjklfOUrXzkUlqNGaQkwQOLEWRrHGRHhgwCz7EOnrneJAZJnAjBA8nAsUQUDpATlOmdIFugYIHW0kZwq0Q8DREKyXgwGSD32KSdjgKTQe2EuBkhensPV1q3DALGjS2UpAQwQKakJiut/efmll14alpaWBlf1W7/1W4M3Qab636gq+Ll4uXX/AAAgAElEQVT44ovDfffdN3hTpP9mx6ZNm16QtW3btnDJJZcM/vlll10WPvzhDz8vJkcNQavZQjBA4ihZGscZEeGDALPsQ6eud4kBkmcCMEDycCxRBQOkBOU6Z0gW6Kt15nWpbrlkq6GgRD+vWtXgWeNMDJAa1NPPxABJZzhcwfLZzBsgGCB5p5VqGgIYIBpqjnP27NkTLrjggsGbHP2f3/iN3wi/93u/N9YVfeELXwjXXHPNIKdfq/9RWNPT04dqPPfcc+HNb35zePjhh8Ps7OzgI69e+tKXPu+MHDXGajoxGAMkDpClcZwRET4IMMs+dGqly40bZ4Pwvx/I2vLs7EzYu28x7Np7IDyxfc/I2rOz6wb99V/4XFhY+chLfg4TOHnLprB+/zOh9+zj4YF77jFBw+IvD1YMkDwcW6wiWaCv1rfXe8tyyVZDX4l+XrWqwbPGmRggNainn4kBks5wuILlsxkDBAMk77RSTUMAA0RDzXHOn/3Zn4U//uM/HlzBiSeeGP7kT/4kbNiwIXpF/Y+xGv5ukCuuuCLcfffdg7yzzjorvOUtbwknnXRSeOihhwZfeP7oo48O/q5vlLzjHe9YtX6OGtHGMwVggMRBsjSOMyLCBwFm2YdOrXTZfxMjLMyH3v65oi2tWzcd9h9YCnP7F8Mzu/aNPLsfNxWmQi/0wuLictEePRz24i0nhOmFvWHp2afCd7/1LZOWWfzlwYoBkodji1UkC/TV+vZ6b1ku2WroK9HPq1Y1eNY4EwOkBvX0MzFA0hkOV7B8NmOAYIDknVaqaQhggGioOc45++yzD739Mc5lfPzjHw8XXXTRoZT+myRXXXVV6H+c1qif/kdfXX/99SM/WitHjXGuISUWAyROj6VxnBERPggwyz50aqXLvgHS27MjLO9+OvQWF4q1NT0zHRYWl8OBA0th99yBkefOzBx+Q3NpCQPkSFAveukZobewEBZ37cAAKTa9uoMwQHTcPGRJFugYIO0qKdEPA6Rd/fqdYYC0rc+o7jBA8uqGAZKX53A1vgPEji2V5QQwQOSs3Efu3LkzvOY1r1Fdx5EGSL/I8vJy2Lp1a7j99tvDgw8+GHbv3h1OOOGE8IpXvGLw/R+vfvWro2flqBE9JEMABkgcIkvjOCMifBBgln3o1EqXBw2QpWceC3t+8ECxttbNzoT5/Ythz9yB8OTO0W+fWP4yV+xiDQ+SLO5Sj2fxl0pwJR8DJA/HFqto70Ov99akPZcl+nnVqsX7xaInDBALqvY1MUDyMrZ8NvMGCG+A5J1WqmkIYIBoqJHTOQIYIHHJWRrHGRHhgwCz7EOnVrrEAGlFCV0fksWdrvLhLBZ/qQQxQPIQbLeK9j70em9ZLtlqqCzRz6tWNXjWOBMDpAb19DMxQNIZDlewfDZjgGCA5J1WqmkIYIBoqJHTOQIYIHHJWRrHGRHhgwCz7EOnVrrEAGlFCV0fksWdrjIGSCq3I/N5AyQ30Xbqae9Dr0t1yyVbDVUl+nnVqgbPGmdigNSgnn4mBkg6QwyQvAxHVeMjsMpw5pS1CWCAMCEQEBDAAIlDYmkcZ0SEDwLMsg+dWukSA6QVJXR9SBZ3usoYIKncMEByE2y3nvY+9LpUxwDZ2+4wdrQzDBCfwmOA5NXN8tnMGyC8AZJ3WqmmIYABoqFGTucIYIDEJWdpHGdEhA8CzLIPnVrpEgOkFSV0fWgXr+Oc5nVJO841lojlDZASlOucob0Pvd5blku2GgpK9POqVQ2eNc7EAKlBPf1MDJB0hsMVLJ/NGCAYIHmnlWoaAhggGmrkdI4ABkhccpbGcUZE+CDALPvQqZUuMUBaUULXh2Rxp6t8OIvFXyrBlXwMkDwcW6yivQ+93luWS7Ya+kr086pVDZ41zsQAqUE9/UwMkHSGGCB5GY6qxkdgleHMKWsTwABhQiAgIIABEofE0jjOiAgfBJhlHzq10iUGSCtK6PqQLO50lTFAUrkdmY8BkptoO/W096HXpToGCB+B1c7dt9IJBkhrisj6wQCRcZJGWT6beQOEN0Ckc0icHQEMEDu2VJ4gAhggcTFZGscZEeGDALPsQ6dWusQAaUUJXR/axes4p3ld0o5zjSViMUBKUK5zhvY+9HpvWS7Zaigo0c+rVjV41jgTA6QG9fQzMUDSGQ5XsHw2Y4BggOSdVqppCGCAaKiR0zkCGCBxyVkaxxkR4YMAs+xDp1a6xABpRQldH5LFna7y4SwWf6kEV/IxQPJwbLGK9j70em9ZLtlq6CvRz6tWNXjWOBMDpAb19DMxQNIZYoDkZTiqGh+BVYYzp6xNAAOECYGAgAAGSBwSS+M4IyJ8EGCWfejUSpcYIK0ooetDsrjTVcYASeV2ZD4GSG6i7dTT3odel+oYIHwEVjt330onGCCtKSLrBwNExkkaZfls5g0Q3gCRziFxdgQwQOzYUnmCCGCAxMVkaRxnRIQPAsyyD51a6RIDpBUldH1oF6/jnOZ1STvONZaIxQApQbnOGdr70Ou9Zblkq6GgRD+vWtXgWeNMDJAa1NPPxABJZzhcwfLZjAGCAZJ3WqmmIYABoqFGTucIYIDEJWdpHGdEhA8CzLIPnVrpEgOkFSV0fUgWd7rKh7NY/KUSXMnHAMnDscUq2vvQ671luWSroa9EP69a1eBZ40wMkBrU08/EAElniAGSl+GoanwEVhnOnLI2AQwQJgQCAgIYIHFILI3jjIjwQYBZ9qFTK11igLSihK4PyeJOVxkDJJXbkfkYILmJtlNPex96XapjgPARWO3cfSudYIC0poisHwwQGSdplOWzmTdAeANEOofE2RHAALFjS+UJIoABEheTpXGcERE+CDDLPnRqpUsMkFaU0PWhXbyOc5rXJe0411giFgOkBOU6Z2jvQ6/3luWSrYaCEv28alWDZ40zMUBqUE8/EwMkneFwBctnMwYIBkjeaaWahgAGiIYaOZ0jgAESl5ylcZwRET4IMMs+dGqlSwyQVpTQ9SFZ3OkqH85i8ZdKcCUfAyQPxxaraO9Dr/eW5ZKthr4S/bxqVYNnjTMxQGpQTz8TAySdIQZIXoajqvERWGU4c8raBDBAmBAICAhggMQhsTSOMyLCBwFm2YdOrXSJAdKKEro+JIs7XWUMkFRuR+ZjgOQm2k497X3odamOAcJHYLVz9610ggHSmiKyfjBAZJykUZbPZt4A4Q0Q6RwSZ0cAA8SOLZUniAAGSFxMlsZxRkT4IMAs+9CplS4xQFpRQteHdvE6zmlel7TjXGOJWAyQEpTrnKG9D73eW5ZLthoKSvTzqlUNnjXOxACpQT39TAyQdIbDFSyfzRggGCB5p5VqGgIYIBpq5HSOAAZIXHKWxnFGRPggwCz70KmVLjFAWlFC14dkcaerfDiLxV8qwZV8DJA8HFusor0Pvd5blku2GvpK9POqVQ2eNc7EAKlBPf1MDJB0hhggeRmOqsZHYJXhzClrE8AAYUIgICCAARKHxNI4zogIHwSYZR86tdIlBkgrSuj6kCzudJUxQFK5HZmPAZKbaDv1tPeh16U6BggfgdXO3bfSCQZIa4rI+sEAkXGSRlk+m3kDhDdApHNInB0BDBA7tlSeIAIYIHExWRrHGRHhgwCz7EOnVrrEAGlFCV0f2sXrOKd5XdKOc40lYjFASlCuc4b2PvR6b1ku2WooKNHPq1Y1eNY4EwOkBvX0MzFA0hkOV7B8NmOAYIDknVaqaQhggGiokdM5AhggcclZGscZEeGDALPsQ6dWusQAaUUJXR+SxZ2u8uEsFn+pBFfyMUDycGyxivY+9HpvWS7Zaugr0c+rVjV41jgTA6QG9fQzMUDSGWKA5GU4qhofgVWGM6esTQADhAmBgIAABkgcEkvjOCMifBBgln3o1EqXGCCtKKHrQ7K401XGAEnldmQ+Bkhuou3U096HXpfqGCB8BFY7d99KJxggrSki6wcDRMZJGmX5bOYNEN4Akc4hcXYEMEDs2FJ5gghggMTFZGkcZ0SEDwLMsg+dWukSA6QVJXR9aBev45zmdUk7zjWWiMUAKUG5zhna+9DrvWW5ZKuhoEQ/r1rV4FnjTAyQGtTTz8QASWc4XMHy2YwBggGSd1qppiGAAaKhRk7nCGCAxCVnaRxnRIQPAsyyD51a6RIDpBUldH1IFne6yoezWPylElzJxwDJw7HFKtr70Ou9Zblkq6GvRD+vWtXgWeNMDJAa1NPPxABJZ4gBkpfhqGp8BFYZzpyyNgEMECYEAgICGCBxSCyN44yI8EGAWfahUytdYoC0ooSuD8niTlcZAySV25H5GCC5ibZTT3sfel2qY4DwEVjt3H0rnWCAtKaIrB8MEBknaZTls5k3QHgDRDqHxNkRwACxY0vlCSKAARIXk6VxnBERPggwyz50aqVLDJBWlND1oV28jnOa1yXtONdYIhYDpATlOmdo70Ov95blkq2GghL9vGpVg2eNMzFAalBPPxMDJJ3hcAXLZzMGCAZI3mmlmoYABoiGGjmdI4ABEpecpXGcERE+CDDLPnRqpUsMkFaU0PUhWdzpKh/OYvGXSnAlHwMkD8cWq2jvQ6/3luWSrYa+Ev28alWDZ40zMUBqUE8/EwMknSEGSF6Go6rxEVhlOHPK2gQwQJgQCAgIYIDEIbE0jjMiwgcBZtmHTq10iQHSihK6PiSLO11lDJBUbkfmY4DkJtpOPe196HWpjgHCR2C1c/etdIIB0poisn4wQGScpFGWz2beAOENEOkcEmdHAAPEji2VJ4gABkhcTJbGcUZE+CDALPvQqZUuMUBaUULXh3bxOs5pXpe041xjiVgMkBKU65yhvQ+93luWS7YaCkr086pVDZ41zsQAqUE9/UwMkHSGwxUsn80YIBggeaeVahoCGCAaauR0jgAGSFxylsZxRkT4IMAs+9CplS4xQFpRQteHZHGnq3w4i8VfKsGVfAyQPBxbrKK9D73eW5ZLthr6SvTzqlUNnjXOxACpQT39TAyQdIYYIHkZjqrGR2CV4cwpaxPAAGFCICAggAESh8TSOM6ICB8EmGUfOrXSJQZIK0ro+pAs7nSVMUBSuR2ZjwGSm2g79bT3odelOgYIH4HVzt230gkGSGuKyPrBAJFxkkZZPpt5A4Q3QKRzSJwdAQwQO7ZUniACGCBxMVkaxxkR4YMAs+xDp1a6xABpRQldH9rF6zineV3SjnONJWIxQEpQrnOG9j70em9ZLtlqKCjRz6tWNXjWOBMDpAb19DMxQNIZDlewfDZjgGCA5J1WqmkIYIBoqJHTOQIYIHHJWRrHGRHhgwCz7EOnVrrEAGlFCV0fksWdrvLhLBZ/qQRX8jFA8nBssYr2PvR6b1ku2WroK9HPq1Y1eNY4EwOkBvX0MzFA0hligORlOKoaH4FVhjOnrE0AA4QJgYCAAAZIHBJL4zgjInwQYJZ96NRKlxggrSih60OyuNNVxgBJ5XZkPgZIbqLt1NPeh16X6hggfARWO3ffSicYIK0pIusHA0TGSRpl+WzmDRDeAJHOIXF2BDBA7NhSeYIIYIDExWRpHGdEhA8CzLIPnVrpEgOkFSV0fWgXr+Oc5nVJO841lojFAClBuc4Z2vvQ671luWSroaBEP69a1eBZ40wMkBrU08/EAElnOFzB8tmMAYIBkndaqaYhgAGioUZO5whggMQlZ2kcZ0SEDwLMsg+dWukSA6QVJXR9SBZ3usqHs1j8pRJcyccAycOxxSra+9DrvWW5ZKuhr0Q/r1rV4FnjTAyQGtTTz8QASWeIAZKX4ahqfARWGc6csjYBDBAmBAICAhggcUgsjeOMiPBBgFn2oVMrXWKAtKKErg/J4k5XGQMklduR+RgguYm2U097H3pdqmOA8BFY7dx9K51ggLSmiKwfDBAZJ2mU5bOZN0B4A0Q6h8TZEcAAsWNL5QkigAESF5OlcZwRET4IMMs+dGqlSwyQVpTQ9aFdvI5zmtcl7TjXWCIWA6QE5TpnaO9Dr/eW5ZKthoIS/bxqVYNnjTMxQGpQTz8TAySd4XAFy2czBggGSN5ppZqGAAaIhho5nSOAARKXnKVxnBERPggwyz50aqVLDJBWlND1IVnc6SofzmLxl0pwJR8DJA/HFqto70Ov95blkq2GvhL9vGpVg2eNMzFAalBPPxMDJJ0hBkhehqOq8RFYZThzytoEMECYEAgICGCAxCGxNI4zIsIHAWbZh06tdIkB0ooSuj4kiztdZQyQVG5H5mOA5CbaTj3tfeh1qY4BwkdgtXP3rXSCAdKaIrJ+MEBknKRRls9m3gDhDRDpHBJnRwADxI4tlSeIAAZIXEyWxnFGRPggwCz70KmVLjFAWlFC14d28TrOaV6XtONcY4lYDJASlOucob0Pvd5blku2GgpK9POqVQ2eNc7EAKlBPf1MDJB0hsMVLJ/NGCAYIHmnlWoaAhggGmrkdI4ABkhccpbGcUZE+CDALPvQqZUuMUBaUULXh2Rxp6t8OIvFXyrBlXwMkDwcW6yivQ+93luWS7Ya+kr086pVDZ41zsQAqUE9/UwMkHSGGCB5GY6qxkdgleHMKWsTwABhQiAgIIABEofE0jjOiAgfBJhlHzq10iUGSCtK6PqQLO50lTFAUrkdmY8BkptoO/W096HXpToGCB+B1c7dt9IJBkhrisj6wQCRcZJGWT6beQOEN0Ckc0icHQEMEDu2VJ4gAhggcTFZGscZEeGDALPsQ6dWusQAaUUJXR/axes4p3ld0o5zjSViMUBKUK5zhvY+9HpvWS7Zaigo0c+rVjV41jgTA6QG9fQzMUDSGQ5XsHw2Y4BggOSdVqppCGCAaKiR0zkCGCBxyVkaxxkR4YMAs+xDp1a6xABpRQldH5LFna7y4SwWf6kEV/IxQPJwbLGK9j70em9ZLtlq6CvRz6tWNXjWOBMDpAb19DMxQNIZYoDkZTiqGh+BVYYzp6xNAAOECYGAgAAGSBwSS+M4IyJ8EGCWfejUSpcYIK0ooetDsrjTVcYASeV2ZD4GSG6i7dTT3odel+oYIHwEVjt330onGCCtKSLrBwNExkkaZfls5g0Q3gCRziFxdgQwQOzYUnmCCGCAxMVkaRxnRIQPAsyyD51a6RIDpBUldH1oF6/jnOZ1STvONZaIxQApQbnOGdr70Ou9Zblkq6GgRD+vWtXgWeNMDJAa1NPPxABJZzhcwfLZjAGCAZJ3WqmmIYABoqFGTucIYIDEJWdpHGdEhA8CzLIPnVrpEgOkFSV0fUgWd7rKh7NY/KUSXMnHAMnDscUq2vvQ671luWSroa9EP69a1eBZ40wMkBrU08/EAElniAGSl+GoanwEVhnOnLI2AQwQJgQCAgIYIHFILI3jjIjwQYBZ9qFTK11igLSihK4PyeJOVxkDJJXbkfkYILmJtlNPex96XapjgPARWO3cfSudYIC0poisHwwQGSdplOWzmTdAeANEOofE2RHAALFjS+UJIoABEheTpXGcERE+CDDLPnRqpUsMkFaU0PWhXbyOc5rXJe0411giFgOkBOU6Z2jvQ6/3luWSrYaCEv28alWDZ40zMUBqUE8/EwMkneFwBctnMwYIBkjeaaWahgAGiIYaOZ0jgAESl5ylcZwRET4IMMs+dGqlSwyQVpTQ9SFZ3OkqH85i8ZdKcCUfAyQPxxaraO9Dr/eW5ZKthr4S/bxqVYNnjTMxQGpQTz8TAySdIQZIXoajqvERWGU4c8raBDBAmBAICAhggMQhsTSOMyLCBwFm2YdOrXSJAdKKEro+JIs7XWUMkFRuR+ZjgOQm2k497X3odamOAcJHYLVz9610ggHSmiKyfjBAZJykUZbPZt4A4Q0Q6RwSZ0cAA8SOLZUniAAGSFxMlsZxRkT4IMAs+9CplS4xQFpRQteHdvE6zmlel7TjXGOJWAyQEpTrnKG9D73eW5ZLthoKSvTzqlUNnjXOxACpQT39TAyQdIbDFSyfzRggGCB5p5VqGgIYIBpq5HSOAAZIXHKWxnFGRPggwCz70KmVLjFAWlFC14dkcaerfDiLxV8qwZV8DJA8HFusor0Pvd5blku2GvpK9POqVQ2eNc7EAKlBPf1MDJB0hhggeRmOqsZHYJXhzClrE8AAYUIgICCAARKHxNI4zogIHwSYZR86tdIlBkgrSuj6kCzudJUxQFK5HZmPAZKbaDv1tPeh16U6BggfgdXO3bfSCQZIa4rI+sEAkXGSRlk+m3kDhDdApHNInB0BDBA7tlSeIAIYIHExWRrHGRHhgwCz7EOnVrrEAGlFCV0f2sXrOKd5XdKOc40lYjFASlCuc4b2PvR6b1ku2WooKNHPq1Y1eNY4EwOkBvX0MzFA0hkOV7B8NmOAYIDknVaqaQhggGiokdM5AhggcclZGscZEeGDALPsQ6dWusQAaUUJXR+SxZ2u8uEsFn+pBFfyMUDycGyxivY+9HpvWS7Zaugr0c+rVjV41jgTA6QG9fQzMUDSGWKA5GU4qhofgVWGM6esTQADhAmBgIAABkgcEkvjOCMifBBgln3o1EqXGCCtKKHrQ7K401XGAEnldmQ+Bkhuou3U096HXpfqGCB8BFY7d99KJxggrSki6wcDRMZJGmX5bOYNEN4Akc4hcXYEMEDs2FJ5gghggMTFZGkcZ0SEDwLMsg+dWukSA6QVJXR9aBev45zmdUk7zjWWiMUAKUG5zhna+9DrvWW5ZKuhoEQ/r1rV4FnjTAyQGtTTz8QASWc4XMHy2YwBggGSd1qppiGAAaKhRk7nCGCAxCVnaRxnRIQPAsyyD51a6RIDpBUldH1IFne6yoezWPylElzJxwDJw7HFKtr70Ou9Zblkq6GvRD+vWtXgWeNMDJAa1NPPxABJZ4gBkpfhqGp8BFYZzpyyNgEMECYEAgICGCBxSCyN44yI8EGAWfahUytdYoC0ooSuD8niTlcZAySV25H5GCC5ibZTT3sfel2qY4DwEVjt3H0rnWCAtKaIrB8MEBknaZTls5k3QHgDRDqHxNkRwACxY0vlCSKAARIXk6VxnBERPggwyz50aqVLDJBWlND1oV28jnOa1yXtONdYIhYDpATlOmdo70Ov95blkq2GghL9vGpVg2eNMzFAalBPPxMDJJ3hcAXLZzMGCAZI3mmlmoYABoiGGjmdI4ABEpecpXGcERE+CDDLPnRqpUsMkFaU0PUhWdzpKh/OYvGXSnAlHwMkD8cWq2jvQ6/3luWSrYa+Ev28alWDZ40zMUBqUE8/EwMknSEGSF6Go6rxEVhlOHPK2gQwQJgQCAgIYIDEIbE0jjMiwgcBZtmHTq10iQHSihK6PiSLO11lDJBUbkfmY4DkJtpOPe196HWpjgHCR2C1c/etdIIB0poisn4wQGScpFGWz2beAOENEOkcEmdHAAPEji2VJ4gABkhcTJbGcUZE+CDALPvQqZUuMUBaUULXh3bxOs5pXpe041xjiVgMkBKU65yhvQ+93luWS7YaCkr086pVDZ41zsQAqUE9/UwMkHSGwxUsn80YIBggeaeVahoCGCAaauR0jgAGSFxylsZxRkT4IMAs+9CplS4xQFpRQteHZHGnq3w4i8VfKsGVfAyQPBxbrKK9D73eW5ZLthr6SvTzqlUNnjXOxACpQT39TAyQdIYYIHkZjqrGR2CV4cwpaxPAAGFCICAggAESh8TSOM6ICB8ESs7yxo2zYWqqHS79fzltqZ92yIzuZGZmOiw993Q4sPOxsPeHDxRreWZ6KsztWwy75w6EJ3aM/jiRSVu05QYsWdylnsniL5UgBkgegu1W0d6HXu+tSXsuS/TzqlW7d03ezjBA8vIsVQ0DJC9py2czb4DwBkjeaaWahgAGiIYaOZ0jgAESl7zk0jjeDREQ0BMoOcv9twfCwnzo7Z/TN5wxc9266bC41AtLS8sZq052qQ3HbArL+3aHxWefCjsf/s9iF7t+diYcWFgKe+cXMEASqEsWdwnlB6ks/lIJYoDkIdhuFe196PXeslyy1VBZop9XrWrwrHEmBkgN6ulnYoCkMxyuYPlsxgDBAMk7rVTTEMAA0VAjp3MEMEDikpdcGse7IQICegIlZ/ngxyct73469BYX9E1nypyemQ4Li8uD/99b7mWqOtllNp18WlheXAiLu3aEx7777WIXe+wxG8LSci/M78MASYEuWdyl1McASaV3OJ+PwMrHsrVK2vvQ61LdcslWQ1uJfl61qsGzxpkYIDWop5+JAZLOEAMkL8NR1fgIrDKcOWVtAhggTAgEBAQwQOKQSi6N490QAQE9gZKzXOv7I0b+y+nsTJjfvxj2zB0IT+5s460UvZJlMiWLH4tOpMukSVu05WZZQj+pVrmvbdLqYYBMmqKHr0d7H3q9tybtuSzRz6tWk3vXPf/KMEB8Ko0Bklc3y2czb4DwBkjeaaWahgAGiIYaOZ0jgAESl7zk0jjeDREQ0BMoOcsYIHqdWsmULH4sepUukyx/mbO4rtI1S+gn1ar0tXs7DwPEm2LyfrX3odd7a9KeyxL9vGoln2LfkRggPvXDAMmrm+WzGQMEAyTvtFJNQwADREONnM4RwACJS15yaRzvhggI6AmUnGUMEL1OrWRKFj8WvUqXSZa/zFlcV+maJfSTalX62r2dhwHiTTF5v9r70Ou9NWnPZYl+XrWST7HvSAwQn/phgOTVzfLZjAGCAZJ3WqmmIYABoqFGTucIYIDEJS+5NI53QwQE9ARKzjIGiF6nVjIlix+LXqXLJMtf5iyuq3TNEvpJtSp97d7OwwDxppi8X+196PXemrTnskQ/r1rJp9h3JAaIT/0wQPLqZvlsxgDBAMk7rVTTEMAA0VAjp3MEMEDikpdcGse7IQICegIlZxkDRK9TK5mSxY9Fr9JlkuUvcxbXVbpmCf2kWpW+dm/nYYB4U0zer/Y+9HpvTdpzWaKfV63kU+w7EgPEp34YIHl1s3w2Y4BggOSdVqppCGCAaKiR0zkCGCBxyUsujePdEJho2poAACAASURBVAEBPYGSs4wBoteplUzJ4seiV+kyyfKXOYvrKl2zhH5SrUpfu7fzMEC8KSbvV3sfer23Ju25LNHPq1byKfYdiQHiUz8MkLy6WT6bMUAwQPJOK9U0BDBANNTI6RwBDJC45CWXxvFuiICAnkDJWcYA0evUSqZk8WPRq3SZZPnLnMV1la5ZQj+pVqWv3dt5GCDeFJP3q70Pvd5bk/ZclujnVSv5FPuOxADxqR8GSF7dLJ/NGCAYIHmnlWoaAhggGmrkdI4ABkhc8pJL43g3REBAT6DkLGOA6HVqJVOy+LHoVbpMsvxlzuK6StcsoZ9Uq9LX7u08DBBvisn71d6HXu+tSXsuS/TzqpV8in1HYoD41A8DJK9uls9mDBAMkLzTSjUNAQwQDTVyOkcAAyQuecmlcbwbIiCgJ1ByljFA9Dq1kilZ/Fj0Kl0mWf4yZ3FdpWuW0E+qVelr93YeBog3xeT9au9Dr/fWpD2XJfp51Uo+xb4jMUB86ocBklc3y2czBggGSN5ppZqGAAaIhho5nSOAARKXvOTSON4NERDQEyg5yxggep1ayZQsfix6lS6TLH+Zs7iu0jVL6CfVqvS1ezsPA8SbYvJ+tfeh13tr0p7LEv28aiWfYt+RGCA+9cMAyaub5bMZAwQDJO+0Uk1DAANEQ42czhHAAIlLXnJpHO+GCAjoCZScZQwQvU6tZEoWPxa9SpdJlr/MWVxX6Zol9JNqVfravZ2HAeJNMXm/2vvQ6701ac9liX5etZJPse9IDBCf+mGA5NXN8tmMAYIBkndaqaYhgAGioUZO5whggMQlL7k0jndDBAT0BErOMgaIXqdWMiWLH4tepcsky1/mLK6rdM0S+km1Kn3t3s7DAPGmmLxf7X3o9d6atOeyRD+vWsmn2HckBohP/TBA8upm+WzGAMEAyTutVNMQwADRUCOncwQwQOKSl1wax7shAgJ6AiVnGQNEr1MrmZLFj0Wv0mWS5S9zFtdVumYJ/aRalb52b+dhgHhTTN6v9j70em9N2nNZop9XreRT7DsSA8SnfhggeXWzfDZjgGCA5J1WqmkIYIBoqJHTOQIYIHHJSy6N490QAQE9gZKzjAGi16mVTMnix6JX6TLJ8pc5i+sqXbOEflKtSl+7t/MwQLwpJu9Xex96vbcm7bks0c+rVvIp9h2JAeJTPwyQvLpZPpsxQDBA8k4r1TQEMEA01MjpHAEMkLjkJZfG8W6IgICeQMlZxgDR69RKpmTxY9GrdJlk+cucxXWVrllCP6lWpa/d23kYIN4Uk/ervQ+93luT9lyW6OdVK/kU+47EAPGpHwZIXt0sn80YIBggeaeVahoCGCAaauR0jgAGSFzykkvjeDdEQEBPoOQsY4DodWolU7L4sehVukyy/GXO4rpK1yyhn1Sr0tfu7TwMEG+KyfvV3ode761Jey5L9POqlXyKfUdigPjUDwMkr26Wz2YMEAyQvNNKNQ0BDBANNXI6RwADJC55yaVxvBsiIKAnUHKWMUD0OrWSKVn8WPQqXSZZ/jJncV2la5bQT6pV6Wv3dh4GiDfF5P1q70Ov99akPZcl+nnVSj7FviMxQHzqhwGSVzfLZzMGCAZI3mmlmoYABoiGGjmdI4ABEpe85NI43g0RENATKDnLGCB6nVrJlCx+LHqVLpMsf5mzuK7SNUvoJ9Wq9LV7Ow8DxJti8n6196HXe2vSnssS/bxqJZ9i35EYID71wwDJq5vlsxkDBAMk77RSTUMAA0RDjZzOEcAAiUtecmkc74YICOgJlJxlDBC9Tq1kShY/Fr1Kl0mWv8xZXFfpmiX0k2pV+tq9nYcB4k0xeb/a+9DrvTVpz2WJfl61kk+x70gMEJ/6YYDk1c3y2YwBggGSd1qppiGAAaKhRk7nCGCAxCUvuTSOd0MEBPQESs4yBohep1YyJYsfi16lyyTLX+Ysrqt0zRL6SbUqfe3ezsMA8aaYvF/tfej13pq057JEP69ayafYdyQGiE/9MEDy6mb5bMYAwQDJO61U0xDAANFQI6dzBDBA4pKXXBrHuyECAnoCJWcZA0SvUyuZksWPRa/SZZLlL3MW11W6Zgn9pFqVvnZv52GAeFNM3q/2PvR6b03ac1min1et5FPsOxIDxKd+GCB5dbN8NmOAYIDknVaqaQhggGiokdM5AhggcclLLo3j3RABAT2BkrOMAaLXqZVMyeLHolfpMsnylzmL6ypds4R+Uq1KX7u38zBAvCkm71d7H3q9tybtuSzRz6tW8in2HYkB4lM/DJC8ulk+mzFAMEDyTivVNAQwQDTUyOkcAQyQuOQll8bxboiAgJ5AyVnGANHr1EqmZPFj0at0mWT5y5zFdZWuWUI/qValr93beRgg3hST96u9D73eW5P2XJbo51Ur+RT7jsQA8akfBkhe3SyfzRggGCB5p5VqGgIYIBpq5HSOAAZIXPKSS+N4N0RAQE+g5CxjgOh1aiVTsvix6FW6TLL8Zc7iukrXLKGfVKvS1+7tPAwQb4rJ+9Xeh17vrUl7Lkv086qVfIp9R2KA+NQPAySvbpbPZgwQDJC800o1DQEMEA01cjpHAAMkLnnJpXG8GyIgoCdQcpYxQPQ6tZIpWfxY9CpdJln+MmdxXaVrltBPqlXpa/d2HgaIN8Xk/WrvQ6/31qQ9lyX6edVKPsW+IzFAfOqHAZJXN8tnMwYIBkjeaaWahgAGiIYaOZ0jgAESl7zk0jjeDREQ0BMoOcsYIHqdWsmULH4sepUukyx/mbO4rtI1S+gn1ar0tXs7DwPEm2LyfrX3odd7a9KeyxL9vGoln2LfkRggPvXDAMmrm+WzGQMEAyTvtFJNQwADREONnM4RwACJS15yaRzvhggI6AmUnGUMEL1OrWRKFj8WvUqXSZa/zFlcV+maJfSTalX62r2dhwHiTTF5v9r70Ou9NWnPZYl+XrWST7HvSAwQn/phgOTVzfLZjAGCAZJ3WqmmIYABoqFGTucIYIDEJS+5NI53QwQE9ARKzjIGiF6nVjIlix+LXqXLJMtf5iyuq3TNEvpJtSp97d7OwwDxppi8X+196PXemrTnskQ/r1rJp9h3JAaIT/0wQPLqZvlsxgDBAMk7rVTTEMAA0VAjp3MEMEDikpdcGse7IQICegIlZxkDRK9TK5mSxY9Fr9JlkuUvcxbXVbpmCf2kWpW+dm/nYYB4U0zer/Y+9HpvTdpzWaKfV63kU+w7EgPEp34YIHl1s3w2Y4BggOSdVqppCGCAaKiR0zkCGCBxyUsujePdEAEBPYGSs4wBoteplUzJ4seiV+kyyfKXOYvrKl2zhH5SrUpfu7fzMEC8KSbvV3sfer23Ju25LNHPq1byKfYdiQHiUz8MkLy6WT6bMUAwQPJOK9U0BDBANNTI6RwBDJC45CWXxvFuiICAnkDJWcYA0evUSqZk8WPRq3SZZPnLnMV1la5ZQj+pVqWv3dt5GCDeFJP3q70Pvd5bk/ZclujnVSv5FPuOxADxqR8GSF7dLJ/NGCAYIHmnlWoaAhggGmrkdI4ABkhc8pJL43g3REBAT6DkLGOA6HVqJVOy+LHoVbpMsvxlzuK6StcsoZ9Uq9LX7u08DBBvisn71d6HXu+tSXsuS/TzqpV8in1HYoD41A8DJK9uls9mDBAMkLzTSjUNAQwQDTVyOkcAAyQuecmlcbybbkRs3Dgbpqa6ca0lr/Loo9eH6enpsLy8HObmDpgePTs7E5Z3bw8LOx4Lu/7Pd03PkhRfNzsT5vcvhj1zB8KTO+ckKZ2PkSx+LCBJl0mWv8xZXFfpmiX0k2pV+tq9nYcB4k0xeb/a+9DrvTVpz2WJfl61kk+x70gMEJ/6YYDk1c3y2YwBggGSd1qppiGAAaKhRk7nCGCAxCXHAIkzyh3Rf3sgLMyH3n4W1TnZbtiwLkxNTYVerxf271/MWfoFtWaP3hR6+3aFhWefCrv+PwwQU9hGxSWLH4ujpcsky1/mLK6rdM0S+km1Kn3t3s7DAPGmmLxf7X3o9d6atOeyRD+vWsmn2HckBohP/TBA8upm+WzGAMEAyTutVNMQwADRUCOncwQwQOKSY4DEGeWOOPjxScu7nw69xYXc5Ttbb3a2b4CE0OuFsLBga4Bs2HLqQLvF3TswQJxOnGTxY3Fp0mWS5S9zFtdVumYJ/aRalb52b+dhgHhTTN6v9j70em9N2nNZop9XreRT7DsSA8SnfhggeXWzfDZjgGCA5J1WqmkIYIBoqJHTOQIYIHHJMUDijHJHtPb9Ebmvr1a9o45aH6amp0JvuRfm520/AuvFZ54desvLGCC1xM5wrmTxk+GYF5SQLpMsf5mzuK7SNUvoJ9Wq9LV7Ow8DxJti8n6196HXe2vSnssS/bxqJZ9i35EYID71wwDJq5vlsxkDBAMk77RSTUMAA0RDjZzOEcAAiUuOARJnlDsCAyQ30ZV6GCB8B8g4kyVZ/IxTTxorXSZZ/jIn7bXluBL6SbVqmVMLvWGAtKCCTQ/a+9DrvTVpz2WJfl61spn49qpigLSniaQjDBAJJXmM5bMZAwQDRD6JRFoRwACxIkvdiSKAARKXEwMkzih3BAZIbqIYIHwJ+vgzJVn8jF81niFdJln+Mhfvsv2IEvpJtWqfVt0OMUDq8rc8XXsfer23Ju25LNHPq1aWc99SbQyQltSQ94IBImclibR8NmOAYIBIZpAYWwIYILZ8qT4hBDBA4kJigMQZ5Y7AAMlNFAMEA2T8mZIsfsavGs+QLpMsf5mLd9l+RAn9pFq1T6tuhxggdflbnq69D73eW5P2XJbo51Ury7lvqTYGSEtqyHvBAJGzkkRaPpsxQDBAJDNIjC0BDBBbvlSfEAIYIHEhMUDijHJHYIDkJooBggEy/kxJFj/jV41nSJdJlr/MxbtsP6KEflKt2qdVt0MMkLr8LU/X3ode761Jey5L9POqleXct1QbA6QlNeS9YIDIWUkiLZ/NGCAYIJIZJMaWAAaILV+qTwgBDJC4kBggcUa5IzBAchPFAMEAGX+mJIuf8avGM6TLJMtf5uJdth9RQj+pVu3TqtshBkhd/pana+9Dr/fWpD2XJfp51cpy7luqjQHSkhryXjBA5KwkkZbPZgwQDBDJDBJjSwADxJYv1SeEAAZIXEgMkDij3BEYILmJYoBggIw/U5LFz/hV4xnSZZLlL3PxLtuPKKGfVKv2adXtEAOkLn/L07X3odd7a9KeyxL9vGplOfct1cYAaUkNeS8YIHJWkkjLZzMGCAaIZAaJsSWAAWLLl+oTQgADJC4kBkicUe4IDJDcRDFAMEDGnynJ4mf8qvEM6TLJ8pe5eJftR5TQT6pV+7TqdogBUpe/5ena+9DrvTVpz2WJfl61spz7lmpjgLSkhrwXDBA5K0mk5bMZAwQDRDKDxNgSwACx5Uv1CSGAARIXEgMkzih3BAZIbqIYIBgg48+UZPEzftV4hnSZZPnLXLzL9iNK6CfVqn1adTvEAKnL3/J07X3o9d6atOeyRD+vWlnOfUu1MUBaUkPeCwaInJUk0vLZjAGCASKZQWJsCWCA2PKl+oQQwACJC4kBEmeUO8KLAbJu3UwIU7mv3q7e7OxMmJqaCr1eLywsLNkdFELY/H//PyH0lsLirp1hzw8fMD1LUnxmeirM7VsMu+cOhCd27JWkdD5GsvixgCRdJln+MmdxXaVrltBPqlXpa/d2HgaIN8Xk/WrvQ6/31qQ9lyX6edVKPsW+IzFAfOqHAZJXN8tnMwYIBkjeaaWahgAGiIYaOZ0jgAESlxwDJM4od4QbA2R2JiwuLoeFpeXcCEzqzcxMHzJAlox7fskrzwlheSks7t4Zdj78nybXM07R9bMz4cDCUtg7v4ABIgQnWfwIS40VJl0mWf4yN1bDjQaX0E+qVaOImmkLA6QZKbI3or0Pvd5bk/ZclujnVavsw95oQQyQRoWJtIUBklc3y2czBggGSN5ppZqGAAaIhho5nSOAARKXHAMkzih3hCcDZH7/4uDNguXl9k2Q6em+ARJCrxfM+33Zr/zP0Osth8VdO8Jj3/127hEZu96xx2wIS8u9ML8PA0QKT7L4kdYaJ066TLL8ZW6cfluNLaGfVKtWGbXSFwZIK0rk70N7H3q9tybtuSzRz6tW+ae9zYoYIG3qEusKAyRGaLy/t3w2Y4BggIw3jURbEMAAsaBKzYkjgAESlxQDJM4od4Q3A2TP3IHw5M653Biy17P8l98jm5UsDbJf4BoFWVCMT7uWhlKtSs7z+PTqZ5TQT6pVfRptd4AB0rY+Kd1p70Ov99akPZcl+nnVKmWuPeVigHhS63CvGCB5dbN8NmOAYIDknVaqaQhggGiokZOVQP+/CL/tttvC1q1bw0MPPRTm5ubCiSeeGM4888xw8cUXh1e96lVZz9MUwwCJU8MAiTPKHYEBkpvoSj3Lf/nFALHRrGZVyeLHoj/pMqnkPFtcp3XNEvpJtbK+Vu/1MUC8Kzi6f+196PXemrTnskQ/r1pN7l33/CvDAPGpNAZIXt0sn80YIBggeaeVahoCGCAaauRkI7B79+7wrne9K9xzzz2r1ux/EfFll10Wrr/++mxnagphgMSpYYDEGeWOwADJTRQDhAXF+DMlWfyMXzWeIdXK8pe5eJftR5TQT6pV+7TqdogBUpe/5ena+9DrvTVpz2WJfl61spz7lmpjgLSkhrwXDBA5K0mk5bMZAwQDRDKDxNgSwACx5Uv1NQj0er3wtre9Ldx9992DqNe+9rXhTW96U9iyZUt44IEHwi233BIeffTRwd9de+214corr6zGEwMkjh4DJM4odwQGSG6iGCAsKMafKcniZ/yq8QypVpa/zMW7bD+ihH5SrdqnVbdDDJC6/C1P196HXu+tSXsuS/TzqpXl3LdUGwOkJTXkvWCAyFlJIi2fzRggGCCSGSTGlgAGiC1fqq9B4Pbbbw8f/OAHBxEXXXRR+PjHP/686GeffTZccskl4eGHHw4bNmwIX/rSl8LJJ59chekkGiAbN84Ovug518/RR68P/S+P7n+k2dzcgVxlqbMGgdnZmbC8e3tY2PFY2PV/vtssq3WzM6H/Jeh8B8gLJZIsDUoKy4JifNq1NJRqZfnL3Pi02ssooZ9Uq/botNURBkhbeuTsRnsfer23Ju25LNHPq1Y557zlWhggLaszujcMkLy6WT6bMUAwQPJOK9U0BDBANNTIyULg9a9/ffje974XNm3aFO68886wefPmF9Tdtm3bwATp/1xxxRXhQx/6UJazxy0yiQZI/+2BsDAfevvzfCn1hg3rQv8jy/pv9uzfvzgu4rHjZ2amsxo4YzfQQMK6jceEpfldYfHZp8KeHz7QQEertzAzPRXm9i2G3XMHwhM79jbb58HGLP/l98iLlywNSgJjQTE+7VoaSrUqOc/j06ufUUI/qVb1abTdAQZI2/qkdKe9D73eW5P2XJbo51WrlLn2lIsB4kmtw71igOTVzfLZjAGCAZJ3WqmmIYABoqFGTjKBH/3oR+G8884b1Hnd614XbrzxxpE1zz///PDII4+E0047LXz5y19OPltTYFINkN6eHWF599Oht7igwfK8nNnZvgESQq8XwsKCvQEyPdN/26QXlpZ7yb17LXDUllNDb/FAWNy9M+x8+D+bvYz1szPhwMJS2Du/gAFyhEqSpUFJYVlQjE+7loZSrSx/mRufVnsZJfSTatUenbY6wgBpS4+c3WjvQ6/31qQ9lyX6edUq55y3XAsDpGV1RveGAZJXN8tnMwYIBkjeaaWahgAGiIYaOckEtm7dGq677rpBnY997GPhDW94w8iaN9xwQ7j11lsHf3/HHXeEM844I/n8cQtMsgGy9MxjYc8P0t8eOOqo9WFqeir0lnthft7+I7AOfqxS/82C/sdudfHnZb/yP0OvtxwWd+0Ij333280iOPaYDQOjan4fBsiRIkmWBiWFZUExPu1aGkq1svxlbnxa7WWU0E+qVXt02uoIA6QtPXJ2o70Pvd5bk/ZclujnVaucc95yLQyQltXBACmljuWzGQMEA6TUHHPOaAIYIExHFQL9Nz76X3Le//n0pz8dzjrrrJF99OMOviHyyU9+Mpx77rnFe8YAiSOvZYB4+V6JOMHxIyS/cI5fNX+Gt196Lf/lFwMk/3zVrljrPpTeVyXnubYWmvNL6CfVStN/l3IwQCZXbe196PXemrTnskQ/r1pN7l33/CvDAPGpNG+A5NXN8tmMAYIBkndaqaYhgAGioUZOMoEPfOAD4XOf+9ygzl133RVOPfXUkTU///nPh2uvvXbw9/23QQ5+J0hyE2MUwACJw8IAiTPKHSH5hTP3mZp63n7ptfyXXwwQzQS1nVPrPpTeVyXnuW2lVu+uhH5SrTzyK9kzBkhJ2mXP0t6HXu+tSXsuS/TzqlXZO6HeaRgg9dinnIwBkkLvhbmWz2YMEAyQvNNKNQ0BDBANNXKSCbz97W8PX/va1wZ17rnnnnD88cePrNn/3o93vvOdg79///vfH6666qrk88ctsGvXvrC0NFkfs7Rhw0wI87vC0u7tYf6JH46L5AXxNb4Eff/C0uBjlXbu3p/cv8cCP/OqXwmhtxyW5naFR773vWYv4dQTN4XQC2H/gcWwY9e+Zvs82Ni6mekwNTUVer1eWDS+71vT0JtWLQxTLQ2lWpWc5xb0GLeHEvpJtRq3967Fj5rlnBqiVZ2p0mroVa9Jey5L9POqVZ07ovypwxruf/q/xvr39kmb5/L09ScO31cn/PyZLn4v1F+tfablLL/o2A3hqI2zYcPszMi90lEnvyzMHLslhKOOC/v3L9lfcMETZmamw3HHbSx4IkdB4IUEMECYiioELr300vDNb35zcPZ3vvOdsGHDhpF9fOMb3whvfetbB3//7ne/O7zvfe+r0jOHQgACEIAABCAAAQhAAAIQgAAEIAABCEAAAhCAgB8CGCB+tJqoTi+//PLw9a9/fXBN999/f1i/fv3I6+vH9eP7P+9973vDe97znoliwcVAAAIQgAAEIAABCEAAAhCAAAQgAAEIQAACEIBAfgIYIPmZUlFAoG9i3HHHHYPIe++9Nxx33HEjs4Y/Aqv/XSBXXnml4ARCIAABCEAAAhCAAAQgAAEIQAACEIAABCAAAQhAoMsEMEC6rH7Fa7/uuuvC1q1bBx30vwvkpJNOGtnN8Jegf/SjHw1vfOMbK3bO0RCAAAQgAAEIQAACEIAABCAAAQhAAAIQgAAEIOCBAAaIB5UmsMebbrop3HzzzYMru/XWW8PLX/7ykVd5yy23hBtvvHHw95/61KfC2WefPYFEuCQIQAACEIAABCAAAQhAAAIQgAAEIAABCEAAAhDISQADJCdNaokJfPGLXwxXX331IP4Tn/hEuPDCC0fm3nDDDQOTpP9z5513htNPP118DoEQgAAEIAABCEAAAhCAAAQgAAEIQAACEIAABCDQTQIYIN3UvfpVP/744+Gcc84JvV5v8JFW/Y+2GvVz/vnnh0ceeSSccsop4Stf+Ur13mkAAhCAAAQgAAEIQAACEIAABCAAAQhAAAIQgAAE2ieAAdK+RhPb4cUXXxzuu+++sHnz5sGbHZs2bXrBtW7bti1ccsklg39+2WWXhQ9/+MMTy4MLgwAEIAABCEAAAhCAAAQgAAEIQAACEIAABCAAgXwEMEDysaTSmAS+8IUvhGuuuWaQdcEFFww+Cmt6evpQleeeey68+c1vDg///+3de7BVVf0A8OUDMYdU1AJTUytNJ3O0SFORLExNzcpH+SSLUdCifEuNlTn5DstHYyKm6aCJhoSlNpORxKSGaU8Vx4ZMifAdEE0+f/Ndvzl3bsi9d5/HPvtwz2f9o3LWXmvtz1osz9nfvdZ6/PE0ZMiQFNtmbbHFFnXWIjsBAgQIECBAgAABAgQIECBAgAABAgQIdKOAAEg39noH3fP48ePTvHnzcotGjRqVxo0bl0aMGJEWLFiQDzxftGhR/iwCJRMmTOiglmsKAQIECBAgQIAAAQIECBAgQIAAAQIECHSygABIJ/dOF7Rt+fLlaeLEiWn+/Pl93m1sfTV58uS0xhprdIGIWyRAgAABAgQIECBAgAABAgQIECBAgACBVggIgLRCURlNCbz22mtp1qxZafbs2enRRx9Ny5YtS8OHD08777xzPv/jgx/8YFPlu5gAAQIECBAgQIAAAQIECBAgQIAAAQIEuk9AAKT7+twdEyBAgAABAgQIECBAgAABAgQIECBAgACBQS8gADLou9gNEiBAgAABAgQIECBAgAABAgQIECBAgACB7hMQAOm+PnfHBAgQIECAAAECBAgQIECAAAECBAgQIEBg0AsIgAz6LnaDBAgQIECAAAECBAgQIECAAAECBAgQIECg+wQEQLqvz90xAQIECBAgQIAAAQIECBAgQIAAAQIECBAY9AICIIO+i90gAQIECBAgQIAAAQIECBAgQIAAAQIECBDoPgEBkO7rc3dMgAABAgQIECBAgAABAgQIECBAgAABAgQGvYAAyKDvYjdIgAABAgQIECBAgAABAgQIECBAgAABAgS6T0AApPv63B0TIECAAAECBAgQIECAAAECBAgQIECAAIFBLyAAMui72A0SIECAAAECBAgQIECAAAECBAgQIECAAIHuExAA6b4+d8cECBAgQIAAAQIECBAgQIAAAQIECBAgQGDQCwiADPoudoMECBAgQIAAAQIECBAgQIAAAQIECBAgQKD7BARAuq/P3TEBAgQIECBAgAABAgQIECBAgAABAgQIEBj0AgIgg76L3SABAgQIECBAgAABAgQIECBAgAABAgQIEOg+AQGQ7utzd0yAAAECBAgQIECAAAECBAgQIECAAAECBAa9gADIoO9iN0igmMCzzz6bbrrppjRv3ry0cOHCtGLFijRs2LC0zTbbpLFjx6ZPf/rTab311itWWB+5Hn744XTdddel+fPnApCF3AAAGylJREFUp2eeeSaXv/XWW6cDDzwwHXbYYWmdddZpqnwXE6gJlD2e99hjjxR1FEnxd+otb3lLkazyEHiDwJIlS9INN9yQ7rnnnvTUU0/lz0eMGJFGjx6d5813v/vdTauZm5smVEABgbLHsnm5QCfIUqrA0qVL0wEHHJCefvrp9PGPfzx9+9vfbqo+c3NTfC5uQqCVY9nc3ERHuLSwQHxPPv744wvlj+/Q11xzTaG8K2cyLzfE5iICHSEgANIR3aARBKoV+MUvfpEmT56cli1b1mdDNttss/S9730vbb/99g019tprr00XX3xxevXVV1d5/XbbbZeuuuqqNHLkyIbKdxGBmkDZ4zkebOy5556FwQVAClPJuJJAjOUzzzwzLV++fJU2a6+9dpo4cWKaNGlSw3bm5obpXFiHQNlj2bxcR2fIWprA6aefnmbPnp3LbzYAYm4urZsUXECgVWPZ3FwAW5aWCMRzhEsuuaRQWY0GQMzLhXhlItCxAgIgHds1GkagPQK//e1v0+c///n08ssvpyFDhuSVHnvttVfacMMN0+LFi9Ntt92W5syZkxuz0UYbpZkzZ6ZNN920rsbdfvvt6bTTTsvXvPWtb80P7N7znvek559/Ps2YMaOn/Aiu3HzzzWno0KF1lS8zgZpAO8Zz7zeMzjnnnLTjjjv22wGxiioeVEsE6hF46KGH0jHHHJPn5rXWWivPzWPGjMkr5+Lts6uvvrpnFVIESWIerzeZm+sVk78RgXaMZfNyIz3jmlYKRJDvC1/4Qk+RzQRAzM2t7Bll1SvQyrFsbq5XX/5GBb785S+nu+66K22yySZp2rRp/RYT36W32GKLuqoyL9fFJTOBjhQQAOnIbtEoAu0ReP311/P2U48//ngOfsRS0F133fUNlcfKj8suuyz/eeSfMmVK4QbGm8t77713euGFF3Lw49Zbb83bt/ROUd7UqVPzH51xxhlp/PjxhcuXkUBNoB3jOeq68sor03e/+91c7W9+85u08cYb6wQCLRf41Kc+lQMdkWIOjnm0d3ruuefSJz7xibydYGxP+Ktf/SptsMEGhdthbi5MJWOTAmWPZfNykx3k8qYF4oWeCHj03hqz0QCIubnp7lBAEwKtHMvm5iY6wqV1C+yzzz7piSeeyC8LxUtCrUzm5VZqKotAdQICINXZq5lA5QLxVubhhx+e2xFvGp911lmrbFM8WD7ooIPSY489ls/puP/++wufB3L99denc889N5f7rW99K+9Zv3KKbbFiz+Q4eyTOSpg7d25ac801K/fRgNVLoB3jOUS+9KUvpZ///Oc5oPfrX/969ULS2tVC4M9//nM65JBDclv33XffngD0yo2PpfgXXHBB/uOLLrooB0SKJnNzUSn5mhFox1g2LzfTQ65thUDtzeNYKR0PkCM1GgAxN7eiR5TRqEArx7K5udFecF29AhGgGDVqVIpnFrHTxMknn1xvEf3mNy+3lFNhBCoTEACpjF7FBKoXiFUXtdUccTj5brvt1mej4iFbPGyL9OMf/zjtsMMOhW7gqKOOSg888EBeYRLbE/V1kHrvtsSBv7vsskuh8mUiUBNox3iOuuJN/CeffDJvFRf7zUoEWi3w4IMP5hV5EXSOgFs8SFtV6r21RPzYix99RZO5uaiUfM0ItGMsm5eb6SHXNitwxx135Idt8eJOHHp+yimn5CIbDYCYm5vtEdc3KtDqsWxubrQnXFevQDxriLkz0qWXXpr222+/eovoN795uaWcCiNQmYAASGX0KiZQvcB9992X7r333rRkyZJ00kkn9XsA+fnnn58iSBLpxhtvTO9///sHvIFXXnkl7bTTTnkP+3grY/r06X1e0/vt/RNOOCG3RyJQj0DZ4znasmzZsvSBD3wgv2F04oknpnhTTiJQlUDMxd/85jdz9TFHH3zwwYWaYm4uxCRTGwUaHcvm5TZ2kqreIBBbXsXWsLHNa5zDFA/Jxo4dm/M1EgAxNxtkVQm0eiybm6vqye6st/cKjTjDpt7zPfpTMy9355hy14NTQABkcParuyLQcoFPfvKT6ZFHHsnlxlvHI0eOHLCOv/71r2n//ffP+Q499NCerbBWdWHsZ7/77rvnjz760Y+mK664YsDyZSDQqEAj4znqilVMsV1cpHjTMwIid955Z1qwYEFasWJF3sItVi8dffTR6b3vfW+jzXMdgQEFYpuVOBg9ViPFyrpf/vKXafjw4QNeFxnMzYWYZGqTQDNj2bzcpk5SzSoF4tDzeNi29dZbp5/85Cf5TKZmAiDmZgOtKoFWj2Vzc1U92Z31fuUrX0kzZ85Mb37zm/N5ozfddFOaN29e/o689tprpy233DLPzePGjUvrr79+XUjm5bq4ZCbQ0QICIB3dPRpHoDMEem+zsu2226bbb7+9UMPigOjPfe5zOe+kSZPSF7/4xX6viwfGL730Un5wHF9eJAJlCDQ6nqMtsQoq3rSPNGzYsBR7zq4qrbHGGmn8+PHp1FNPdZ5NGZ3YpWX+97//TU899VS6++67U7ztFg/bYqydd955hVd/BJ25uUsHUAfddqvGsnm5gzq1y5oya9asdOaZZ+b/x8cKpp133jnPz80EQMzNXTaIOuR2yxjL5uYO6dwuaUacgffoo4+mddddN8XZorH7xKpSvCh0+eWX59X8RZN5uaiUfAQ6X0AApPP7SAsJVCoQb2bGtiqLFy/O7bjwwgtTvD1fJNX2ko288WbGscce2+9lu+66a3rxxRfTVlttlQ+Zlgi0WqCZ8RxtiYcd8UOxlj784Q+ngw46KG222WZ57M6dOzfNmDEjB/IiRRDkjDPOaPVtKK8LBf70pz/llXS9U6zEO/vss1OMw3qSubkeLXlbLdDKsWxebnXvKK+IQGwdG1tfLV26NG99Fd8NIjUbADE3F9GXp5UCZY1lc3Mre0lZ/QnEb673ve99PUGPWAVy+OGHp3iuEKs9Fi5cmM8vjVX8kYYOHZqD1kXPMzUvG38EBo+AAMjg6Ut3QqDlAv/+97/zD7vf//73uezY2ueHP/xh4Tfaa28UxbXxkO6II47ot41jxozJ55G87W1vS3PmzGn5/SiwuwWaHc+hF3t6x8HU8db9BRdcsMpg4B//+Mcc7Iv6Iv3oRz/Kb4ZKBJoRiKBwHIjeO6211lop5s1YXVf0h1xcb25upidc26xAK8eyebnZ3nB9IwLHHXdcfuEhXtiJra/ireNIzQZAzM2N9IZrmhEoayybm5vpFdfWI/CXv/ylZxV0zMnXXHNN2nzzzd9QxJQpU9LUqVPzn7/zne9MP/3pTws90zAv19Mb8hLobAEBkM7uH60jUJlAnG1w/PHHpwcffDC3Id40jm2p4oyDoim2yjrttNNy9jioN97G6C/tueee6emnn85v08d+9hKBVgm0YjxHW2IFyd///vf8llF/y6cj6PGNb3wjN3+fffbJy60lAs0IxDkzsRJvo402yvPkz372sxRvpUV605velMdYzKFFkrm5iJI8ZQm0ciybl8vqJeX2JXDLLbeks846Kz84mz59en7zuJaaDYCYm427dgqUOZbNze3sye6uK7a8WrRoUQ5Av/3tb19l8COEXn/99fwy5kMPPZTBrrzyyvSRj3xkQDzz8oBEMhBYbQQEQFabrtJQAu0TiIdrEfyoHXq+ySab5P3m422JelLsU3/iiSfmS+rZAisOk7zrrrvqqUpeAn0KtGo810Mc+9tHgCT+GWeFPPDAA3nViESglQKxpP+rX/1qLnLDDTfMZ4PEeBsomZsHEvJ5uwUaHcv1tNO8XI+WvKsS+Mc//pFXgsb5X3HG3eTJk/8nW7MBEHOzcdcugbLHcj33YW6uR0veZgRuu+22nnn7mGOOycHsgZJ5eSAhnxNYfQQEQFafvtJSAm0RiAPEJkyYkP75z3/m+mLlxw9+8IO6gx9x7X333Zc++9nP5nJOOumkdMIJJ/R7D7VD0GO7oHiDXiLQrEArx3O9bYmzcmpBxNh3doMNNqi3CPkJDCgQ22LVzkyKw9APOeSQAa8xNw9IJEMFAo2M5XqbaV6uV0z+mkC8PRzbwsaBuCtvfVXL02wAxNxsvLVDoB1jud77MDfXKyZ/IwLxuzAOTI8Uqz9iFchAybw8kJDPCaw+AgIgq09faSmB0gXuueeeHKhYsWJFrusd73hHmjZtWt6SqpH05JNPpr333jtf+pnPfCadc845fRbz3HPPpd133z1/vu+++6bLLruskSpdQ6BHoNXjuV7a2PKttsx63rx5dW0fV29d8nevQOxhfOqpp2aAom+zmZu7d7x08p03MpbrvR/zcr1i8tcEem9t+fWvf/1/tr6q5amtOI3//tCHPpROPvnk/FGspC6yhay52Xhrh0A7xnK992FurldM/kYE/va3v+XnDJFGjx6dzwsZKJmXBxLyOYHVR0AAZPXpKy0lUKpALAmNZaCvvPJKrif2NI63ImJblUZTvGEU5URAJYIb1157bZ9FxYPi2hkhcaDvpEmTGq3WdQRSGeP52WefTXHQXgTrttlmmxQrlvpLcfbHE088keKg6j/84Q9pyJAheoZAIYE4sybOmom3iWMc9bd9WgTXxo8fn8uNOTTOWxoomZsHEvJ5qwTKHsvm5Vb1lHIGEojtruK7RSOp6Pdac3Mjuq6pV6AdY9ncXG+vyN+owMMPP5y/L8fvs1hJFOfi9ZV+97vfpSOPPDJ/HHkvvPDCAas1Lw9IJAOB1UZAAGS16SoNJVCewMyZM/M+8vE/+Egf+9jH0kUXXZTWWWedpis99thj07333pvWW2+9FNsA9fUQeOrUqWnKlCm5vuuuuy7ttttuTdetgO4UKGs8z507Nx133HEZNZZPx9+RvlK8BTpmzJj8d2qHHXZIsb+9RKCowOmnn55mz56ds8+aNSttv/32fV5644039gQ9imw1WCvI3Fy0N+RrRqDssWxebqZ3XFuPQDseGkd7zM319Iq8jQi0YyybmxvpGdc0IhAr7e64445CzxB6P2+IlXxHHXVUoSrNy4WYZCLQ8QICIB3fRRpIoFyB+fPn53M6Xn311VzR0UcfnVeCtOrA5ptvvjnFF4xI8cC4tu9m77uKuvfff/8Uy1I33njjFFsXeVu+3H4frKWXOZ7jTeY99tij52DzOXPmpPXXX3+VlPFGUZydEyl+aMZhqRKBogIzZsxIX/va13rm5Nq/r3z9a6+9lg499NC8MinSrbfeOuDKpFoZ5uaivSFfMwJlj2XzcjO949pWCzR7Bki0x9zc6l5RXiMCzY5lc3Mj6q5pRKD3nNnfqo7//Oc/6YADDkiLFi3Kzxnid1yRrQnNy430imsIdKaAAEhn9otWEWiLwPLly9OBBx6YFi9enOuLw3PjEN1WpvgCvN9++6VYCh1fMmLf2c033/x/qrjkkkvSVVddlf8s3uKYOHFiK5ugrC4RaMd4juDgLbfckkVjpVSsWootrnqnOJA6xnEE9jbddNMU+9oPGzasS3rBbbZCIMZynJ/0wgsv5B9pV1999RtWxcXqonPPPTfdcMMNucoIztWCbkXaYG4uoiRPswLtGMvm5WZ7yfWtEmj2oXG0w9zcqt5QTjMCrRjL5uZmesC1RQVizozvzC+++GJac8010+WXX95zBmmtjJdffjmflxe/0SLFy5+x+0XRZF4uKiUfgc4WEADp7P7ROgKlCnz/+99P3/nOd3IdEZy44oor0tChQwesMx7q1s4Guf/++9O4cePyNbvsskvPw7jehfQ+2HT48OFpwoQJaaeddkr/+te/Urwdevfdd+fs2223Xf7vIm0YsJEydJ1AO8bz888/n9+4j7eHIu244455/G+55ZZ579k777wzb10UD6fXXXfdfLjeqFGjuq4v3HDzAvEjLba0ilUe8YPusMMOy4fqxmG6CxcuzMHkODsp0siRI/Nbw/HPWjI3N98HSmiNQNlj2bzcmn5SSvMCRR4am5ubd1ZC+QKtGMvm5vL7SQ3/LxBbYJ1yyin591e8mBbfmeMMvXgB7bHHHkvXX399/mftt1v8d++zQszLRhKB7hAQAOmOfnaXBFYpsNdee/Ws/qiH6Pzzz08HH3xwvqTIF4bIFwegX3zxxT1bba1c37bbbpumTZuWRowYUU9T5CXQI9Cu8RyHU8eBpgsWLOhTPwKKMd6dZWOANiMQwePY/mrFihV9FhNnzFx66aVvWFlnbm5G3rWtFih7LJuXW91jymtEoBUPjWv1+t7cSA+4plUCrRrL5uZW9YhyBhKIM/POPvvsFFtd9ZVGjx6dX/5ceQtj35kH0vU5gcEhIAAyOPrRXRCoWyDeymn04WwjAZBo4COPPJLfwIgvGc8880ze2uVd73pXPv/jyCOPbMmh63VDuGBQCLR7PL/00kt5pUes+IhxvXTp0vyW0VZbbZXGjh2bjjjiCNteDYqRVf1NLFmyJE2fPj3FgaLxICHGXqyki9VHsZdxbDEYK0RWTkV/zJmbq+/jbmlB2WPZvNwtI6lz77NVD41rd+h7c+f29WBvWSvHsrl5sI+Wzrm/2NY7vjPPmzev5ztzrJyO78xxDmn8RltV8p25c/pQSwiUKSAAUqausgkQIECAAAECBAgQIECAAAECBAgQIECAAIFKBARAKmFXKQECBAgQIECAAAECBAgQIECAAAECBAgQIFCmgABImbrKJkCAAAECBAgQIECAAAECBAgQIECAAAECBCoREACphF2lBAgQIECAAAECBAgQIECAAAECBAgQIECAQJkCAiBl6iqbAAECBAgQIECAAAECBAgQIECAAAECBAgQqERAAKQSdpUSIECAAAECBAgQIECAAAECBAgQIECAAAECZQoIgJSpq2wCBAgQIECAAAECBAgQIECAAAECBAgQIECgEgEBkErYVUqAAAECBAgQIECAAAECBAgQIECAAAECBAiUKSAAUqausgkQIECAAAECBAgQIECAAAECBAgQIECAAIFKBARAKmFXKQECBAgQIECAAAECBAgQIECAAAECBAgQIFCmgABImbrKJkCAAAECBAgQIECAAAECBAgQIECAAAECBCoREACphF2lBAgQIECAAAECBAgQIECAAAECBAgQIECAQJkCAiBl6iqbAAECBAgQIECAAAECBAgQIECAAAECBAgQqERAAKQSdpUSIECAAAECBAgQIECAAAECBAgQIECAAAECZQoIgJSpq2wCBAgQIECAAAECBAgQIECAAAECBAgQIECgEgEBkErYVUqAAAECBAgQIECAAAECBAgQIECAAAECBAiUKSAAUqausgkQIECAAAECBAgQIECAAAECBAgQIECAAIFKBARAKmFXKQECBAgQIECAAAECBAgQIECAAAECBAgQIFCmgABImbrKJkCAAAECBAgQIECAAAECBAgQIECAAAECBCoREACphF2lBAgQIECAAAECBAgQIECAAAECBAgQIECAQJkCAiBl6iqbAAECBAgQIECAAAECBAgQIECAAAECBAgQqERAAKQSdpUSIECAAAECBAgQIECAAAECBAgQIECAAAECZQoIgJSpq2wCBAgQIECAAAECBAgQIECAAAECBAgQIECgEgEBkErYVUqAAAECBAgQIECAAAECBAgQIECAAAECBAiUKSAAUqausgkQIECAAAECBAgQIECAAAECBAgQIECAAIFKBARAKmFXKQECBAgQIECAAAECBAgQIECAAAECBAgQIFCmgABImbrKJkCAAAECBAgQIECAAAECBAgQIECAAAECBCoREACphF2lBAgQIECAAAECBAgQIECAAAECBAgQIECAQJkCAiBl6iqbAAECBAgQIECAAAECBAgQIECAAAECBAgQqERAAKQSdpUSIECAAAECBAgQIECAAAECBAgQIECAAAECZQoIgJSpq2wCBAgQIECAAAECBAgQIECAAAECBAgQIECgEgEBkErYVUqAAAECBAgQIECAAAECBAgQIECAAAECBAiUKSAAUqausgkQIECAAAECBAgQIECAAAECBAgQIECAAIFKBARAKmFXKQECBAgQIECAAAECBAgQIECAAAECBAgQIFCmgABImbrKJkCAAAECBAgQIECAAAECBAgQIECAAAECBCoREACphF2lBAgQIECAAAECBAgQIECAAAECBAgQIECAQJkCAiBl6iqbAAECBAgQIECAAAECBAgQIECAAAECBAgQqERAAKQSdpUSIECAAAECBAgQIECAAAECBAgQIECAAAECZQoIgJSpq2wCBAgQIECAAAECBAgQIECAAAECBAgQIECgEgEBkErYVUqAAAECBAgQIECAAAECBAgQIECAAAECBAiUKSAAUqausgkQIECAAAECBAgQIECAAAECBAgQIECAAIFKBARAKmFXKQECBAgQIECAAAECBAgQIECAAAECBAgQIFCmgABImbrKJkCAAAECBAgQIECAAAECBAgQIECAAAECBCoREACphF2lBAgQIECAAAECBAgQIECAAAECBAgQIECAQJkCAiBl6iqbAAECBAgQIECAAAECBAgQIECAAAECBAgQqERAAKQSdpUSIECAAAECBAgQIECAAAECBAgQIECAAAECZQoIgJSpq2wCBAgQIECAAAECBAgQIECAAAECBAgQIECgEgEBkErYVUqAAAECBAgQIECAAAECBAgQIECAAAECBAiUKSAAUqausgkQIECAAAECBAgQIECAAAECBAgQIECAAIFKBARAKmFXKQECBAgQIECAAAECBAgQIECAAAECBAgQIFCmgABImbrKJkCAAAECBAgQIECAAAECBAgQIECAAAECBCoREACphF2lBAgQIECAAAECBAgQIECAAAECBAgQIECAQJkCAiBl6iqbAAECBAgQIECAAAECBAgQIECAAAECBAgQqERAAKQSdpUSIECAAAECBAgQIECAAAECBAgQIECAAAECZQoIgJSpq2wCBAgQIECAAAECBAgQIECAAAECBAgQIECgEgEBkErYVUqAAAECBAgQIECAAAECBAgQIECAAAECBAiUKSAAUqausgkQIECAAAECBAgQIECAAAECBAgQIECAAIFKBARAKmFXKQECBAgQIECAAAECBAgQIECAAAECBAgQIFCmgABImbrKJkCAAAECBAgQIECAAAECBAgQIECAAAECBCoREACphF2lBAgQIECAAAECBAgQIECAAAECBAgQIECAQJkCAiBl6iqbAAECBAgQIECAAAECBAgQIECAAAECBAgQqERAAKQSdpUSIECAAAECBAgQIECAAAECBAgQIECAAAECZQr8H/rbQWsfvCY1AAAAAElFTkSuQmCC\" width=\"800\">"
      ],
      "text/plain": [
       "<IPython.core.display.HTML object>"
      ]
     },
     "metadata": {},
     "output_type": "display_data"
    }
   ],
   "source": [
    "data.loc[data['sentiment'] == 'happiness', 'content'].str.len().apply(np.log1p).hist(label = 'happiness', alpha = .5)\n",
    "data.loc[data['sentiment'] == 'sadness', 'content'].str.len().apply(np.log1p).hist(label = 'sadness', alpha = .5)\n",
    "plt.legend();"
   ]
  },
  {
   "cell_type": "markdown",
   "metadata": {},
   "source": [
    "Hence, we have created a new dataframe with only two sentiments - _happiness_, _sadness_.<br>\n",
    "\n",
    "**Observation**\n",
    "\n",
    "- The dataset is nearly balanced with almost equal number of _happiness_ and _sadness_ records.\n",
    "- The distribution of lengths for _happiness_ and _sadness_ contents is also almost the same."
   ]
  },
  {
   "cell_type": "markdown",
   "metadata": {},
   "source": [
    "### Preprocessing the data"
   ]
  },
  {
   "cell_type": "markdown",
   "metadata": {},
   "source": [
    "The input provided to Sentiment analysis is not all useful. While recent Deep Learning models have promoted shifting all feature engineering to these models, NLP practitioners still prefer cleaning up the input before passing it through any pipeline.<br>When we take a look at the `content` feature of our dataset, we can see that there are a lot of stop words(auxiliary verbs, prepositions, special characters like punctuations and other symbols which we need to eliminate. In order to bring uniformity, we will convert the entire text to lower case."
   ]
  },
  {
   "cell_type": "code",
   "execution_count": 19,
   "metadata": {},
   "outputs": [
    {
     "data": {
      "text/plain": [
       "1    Layin n bed with a headache  ughhhh...waitin o...\n",
       "2                  Funeral ceremony...gloomy friday...\n",
       "6    I should be sleep, but im not! thinking about ...\n",
       "8              @charviray Charlene my love. I miss you\n",
       "9           @kelcouch I'm sorry  at least it's Friday?\n",
       "Name: content, dtype: object"
      ]
     },
     "execution_count": 19,
     "metadata": {},
     "output_type": "execute_result"
    }
   ],
   "source": [
    "data['content'].head()"
   ]
  },
  {
   "cell_type": "code",
   "execution_count": 20,
   "metadata": {},
   "outputs": [],
   "source": [
    "#Converting the text to lower-case\n",
    "data['content'] = data['content'].apply(lambda x: \" \".join(x.lower() for x in x.split()))\n",
    "\n",
    "#Removing Punctuation, Symbols,\n",
    "data['content'] = data['content'].str.replace('[^\\w\\s]',' ')\n",
    "\n",
    "#Removing Stop Words using NLTK\n",
    "from nltk.corpus import stopwords\n",
    "stop = stopwords.words('english')\n",
    "data['content'] = data['content'].apply(lambda x: \" \".join(x for x in x.split() if x not in stop))"
   ]
  },
  {
   "cell_type": "code",
   "execution_count": 21,
   "metadata": {},
   "outputs": [
    {
     "data": {
      "text/plain": [
       "1              layin n bed headache ughhhh waitin call\n",
       "2                       funeral ceremony gloomy friday\n",
       "6    sleep im thinking old friend want married damn...\n",
       "8                         charviray charlene love miss\n",
       "9                          kelcouch sorry least friday\n",
       "Name: content, dtype: object"
      ]
     },
     "execution_count": 21,
     "metadata": {},
     "output_type": "execute_result"
    }
   ],
   "source": [
    "data['content'].head()"
   ]
  },
  {
   "cell_type": "markdown",
   "metadata": {},
   "source": [
    "### Lemmatisation"
   ]
  },
  {
   "cell_type": "code",
   "execution_count": 4,
   "metadata": {},
   "outputs": [
    {
     "ename": "ModuleNotFoundError",
     "evalue": "No module named 'textblob'",
     "output_type": "error",
     "traceback": [
      "\u001b[0;31m---------------------------------------------------------------------------\u001b[0m",
      "\u001b[0;31mModuleNotFoundError\u001b[0m                       Traceback (most recent call last)",
      "\u001b[0;32m<ipython-input-4-4510d5820024>\u001b[0m in \u001b[0;36m<module>\u001b[0;34m\u001b[0m\n\u001b[1;32m      1\u001b[0m \u001b[0;31m#Lemmatisating 'content'\u001b[0m\u001b[0;34m\u001b[0m\u001b[0;34m\u001b[0m\u001b[0;34m\u001b[0m\u001b[0m\n\u001b[0;32m----> 2\u001b[0;31m \u001b[0;32mfrom\u001b[0m \u001b[0mtextblob\u001b[0m \u001b[0;32mimport\u001b[0m \u001b[0mWord\u001b[0m\u001b[0;34m\u001b[0m\u001b[0;34m\u001b[0m\u001b[0m\n\u001b[0m\u001b[1;32m      3\u001b[0m \u001b[0mdata\u001b[0m\u001b[0;34m[\u001b[0m\u001b[0;34m'content'\u001b[0m\u001b[0;34m]\u001b[0m \u001b[0;34m=\u001b[0m \u001b[0mdata\u001b[0m\u001b[0;34m[\u001b[0m\u001b[0;34m'content'\u001b[0m\u001b[0;34m]\u001b[0m\u001b[0;34m.\u001b[0m\u001b[0mapply\u001b[0m\u001b[0;34m(\u001b[0m\u001b[0;32mlambda\u001b[0m \u001b[0mx\u001b[0m\u001b[0;34m:\u001b[0m \u001b[0;34m\" \"\u001b[0m\u001b[0;34m.\u001b[0m\u001b[0mjoin\u001b[0m\u001b[0;34m(\u001b[0m\u001b[0;34m[\u001b[0m\u001b[0mWord\u001b[0m\u001b[0;34m(\u001b[0m\u001b[0mword\u001b[0m\u001b[0;34m)\u001b[0m\u001b[0;34m.\u001b[0m\u001b[0mlemmatize\u001b[0m\u001b[0;34m(\u001b[0m\u001b[0;34m)\u001b[0m \u001b[0;32mfor\u001b[0m \u001b[0mword\u001b[0m \u001b[0;32min\u001b[0m \u001b[0mx\u001b[0m\u001b[0;34m.\u001b[0m\u001b[0msplit\u001b[0m\u001b[0;34m(\u001b[0m\u001b[0;34m)\u001b[0m\u001b[0;34m]\u001b[0m\u001b[0;34m)\u001b[0m\u001b[0;34m)\u001b[0m\u001b[0;34m\u001b[0m\u001b[0;34m\u001b[0m\u001b[0m\n\u001b[1;32m      4\u001b[0m \u001b[0;34m\u001b[0m\u001b[0m\n\u001b[1;32m      5\u001b[0m \u001b[0;31m#Correcting Letter Repetitions\u001b[0m\u001b[0;34m\u001b[0m\u001b[0;34m\u001b[0m\u001b[0;34m\u001b[0m\u001b[0m\n",
      "\u001b[0;31mModuleNotFoundError\u001b[0m: No module named 'textblob'"
     ]
    }
   ],
   "source": [
    "#Lemmatisating 'content'\n",
    "from textblob import Word\n",
    "data['content'] = data['content'].apply(lambda x: \" \".join([Word(word).lemmatize() for word in x.split()]))\n",
    "\n",
    "#Correcting Letter Repetitions\n",
    "import re\n",
    "def de_repeat(text):\n",
    "    pattern = re.compile(r\"(.)\\1{2,}\")\n",
    "    return pattern.sub(r\"\\1\\1\", text)\n"
   ]
  },
  {
   "cell_type": "markdown",
   "metadata": {},
   "source": [
    "Next consideration is the idea that if a word is appearing only once in the entire sample of data, then it most likely has no influence in determining the sentiment of the text. Hence we can remove all the rarely occurring words from the dataset which are generally proper nouns and other insignificant words with respect to the current context."
   ]
  },
  {
   "cell_type": "code",
   "execution_count": 23,
   "metadata": {},
   "outputs": [],
   "source": [
    "# Code to find the top 10,000 rarest words (modify according to your dataset) \n",
    "# appearing in the data\n",
    "freq = pd.Series(' '.join(data['content']).split()).value_counts()[-10000:]\n",
    "\n",
    "# Removing all those rarely appearing words from the data\n",
    "freq = list(freq.index)\n",
    "data['content'] = data['content'].apply(lambda x: \" \".join(x for x in x.split() if x not in freq))"
   ]
  },
  {
   "cell_type": "code",
   "execution_count": 24,
   "metadata": {},
   "outputs": [
    {
     "data": {
      "text/plain": [
       "1                    n bed headache ughhhh waitin call\n",
       "2                       funeral ceremony gloomy friday\n",
       "6    sleep im thinking old friend want married damn...\n",
       "8                                  charviray love miss\n",
       "9                          kelcouch sorry least friday\n",
       "Name: content, dtype: object"
      ]
     },
     "execution_count": 24,
     "metadata": {},
     "output_type": "execute_result"
    }
   ],
   "source": [
    "data['content'].head()"
   ]
  },
  {
   "cell_type": "markdown",
   "metadata": {},
   "source": [
    "There are few other obstacles like sarcasm detection, spelling mistakes which need to be taken care of while doing sentiment analysis. Again, we will skip that to keep the model simple. "
   ]
  },
  {
   "cell_type": "markdown",
   "metadata": {},
   "source": [
    "### Encoding the target variable"
   ]
  },
  {
   "cell_type": "markdown",
   "metadata": {},
   "source": [
    "Our goal is to predict the sentiment from the given content. Henceforth, we will pick `sentiment` as our output label.<br><br>\n",
    "Also, we can’t have text in our data if we’re going to run any kind of model on it. So before we can run a model, we need to make this data ready for the model.<br>\n",
    "To convert categorical text data into model-understandable numerical data, we will use the `Label Encoder` class. The preference for `Label Encoder` over `One Hot Encoder` is purely because of the fact that we just have two labels(_happiness_ and _sadness_). In order to label encode the `sentiment` column, all we have to do is to import the `LabelEncoder` class from the `sklearn` library, fit and transform the `sentiment` column of the data, and then replace the existing text data with the new encoded data.<br><br>\n"
   ]
  },
  {
   "cell_type": "code",
   "execution_count": 25,
   "metadata": {},
   "outputs": [],
   "source": [
    "#Encoding output labels 'sadness' as '1' & 'happiness' as '0'\n",
    "from sklearn.preprocessing import LabelEncoder\n",
    "labelencoder = LabelEncoder()\n",
    "y = labelencoder.fit_transform(data.sentiment.values)"
   ]
  },
  {
   "cell_type": "code",
   "execution_count": 26,
   "metadata": {},
   "outputs": [
    {
     "data": {
      "text/plain": [
       "array([1, 1, 1, ..., 0, 0, 0])"
      ]
     },
     "execution_count": 26,
     "metadata": {},
     "output_type": "execute_result"
    }
   ],
   "source": [
    "#Output label 'y' is a numpy array consisting of label-encoded values\n",
    "y"
   ]
  },
  {
   "cell_type": "markdown",
   "metadata": {},
   "source": [
    "### Splitting the dataset into train and test"
   ]
  },
  {
   "cell_type": "markdown",
   "metadata": {},
   "source": [
    "Our data didn't come with separate training and test dataset(s), hence we will split our data into the same. Input to the model is `content` feature, while `sentiment` is the target variable."
   ]
  },
  {
   "cell_type": "code",
   "execution_count": 27,
   "metadata": {},
   "outputs": [],
   "source": [
    "#Splitting into train and test data in 90:10 ratio\n",
    "from sklearn.model_selection import train_test_split\n",
    "X_train, X_test, y_train, y_test = train_test_split(data.content.values, y, stratify=y, \n",
    "                                                    random_state=38, test_size=0.1, shuffle=True)"
   ]
  },
  {
   "cell_type": "markdown",
   "metadata": {},
   "source": [
    "Note that if we are not setting `shuffle = True` in `train_test_split`, then we can do the same prior to this step in the following way: \n",
    "```python\n",
    "#Shuffling the dataframe on its indexes\n",
    "data = data.reindex(np.random.permutation(data.index))\n",
    "data.head()\n",
    "```"
   ]
  },
  {
   "cell_type": "markdown",
   "metadata": {},
   "source": [
    "## Feature Extraction"
   ]
  },
  {
   "cell_type": "markdown",
   "metadata": {},
   "source": [
    "Now that the dataset is clean, the next step we would like to make sure that the input fed to the machine learning model doesn't contains any text as we know that our machine learning models are mathematical models, thereby needing numerical data.<br>\n",
    "We will look at the following methods to achieve that,\n",
    "- TF-IDF\n",
    "- Count Vectors"
   ]
  },
  {
   "cell_type": "markdown",
   "metadata": {},
   "source": [
    "### Term Frequency-Inverse Document Frequency (TF-IDF)"
   ]
  },
  {
   "cell_type": "markdown",
   "metadata": {},
   "source": [
    "This is a technique to quantify a word in documents, we generally compute a weight to each word which signifies the importance of the word in the document and corpus. This method is a widely used technique in Information Retrieval and Text Mining.<br>\n",
    "For example “Deep Learning methodologies work well for NLP problems”. Its easy for us to understand the sentence as we know the semantics of the words and the sentence. But how will the computer understand this sentence? The computer can understand any data only in the form of numerical value. So, for this reason we vectorize all of the text so that the computer can understand the text better."
   ]
  },
  {
   "cell_type": "code",
   "execution_count": 28,
   "metadata": {},
   "outputs": [],
   "source": [
    "# Extracting TF-IDF parameters\n",
    "from sklearn.feature_extraction.text import TfidfVectorizer\n",
    "tfidf = TfidfVectorizer(max_features=1000, analyzer='word',ngram_range=(1,3))\n",
    "X_train_tfidf = tfidf.fit_transform(X_train)\n",
    "X_test_tfidf = tfidf.fit_transform(X_test)"
   ]
  },
  {
   "cell_type": "markdown",
   "metadata": {},
   "source": [
    "### Count Vectors"
   ]
  },
  {
   "cell_type": "markdown",
   "metadata": {},
   "source": [
    "This is another way we can represent text data numerically: one-hot encoding (or count vectorization).<br>\n",
    "The idea is very simple, we will be creating vectors that have a dimensionality equal to the size of our vocabulary, and if the text data features that vocab word, we will put a one in that dimension. Every time we encounter that word again, we will increase the count, leaving 0s everywhere we did not find the word even once.<br>\n",
    "The result of this will be very large vectors, if we use them on real text data, however, we will get very accurate counts of the word content of our text data. Unfortunately, this won’t provide use with any semantic or relational information, but that’s okay since that’s not the point of using this technique.<br>"
   ]
  },
  {
   "cell_type": "code",
   "execution_count": 29,
   "metadata": {},
   "outputs": [],
   "source": [
    "# Extracting Count Vectors Parameters\n",
    "from sklearn.feature_extraction.text import CountVectorizer\n",
    "count_vect = CountVectorizer(analyzer='word')\n",
    "count_vect.fit(data['content'])\n",
    "X_train_count =  count_vect.transform(X_train)\n",
    "X_test_count =  count_vect.transform(X_test)"
   ]
  },
  {
   "cell_type": "markdown",
   "metadata": {},
   "source": [
    "## Build, Train, Evaluate the Model"
   ]
  },
  {
   "cell_type": "markdown",
   "metadata": {},
   "source": [
    "Now our data is model-ready. Since this is basically a classification task, we will discuss the implementation of four machine learning classifiers, namely, Multinomial Naive Bayes Classifier, Linear SVM, Logistic Regression, and Random Forest Classifier. "
   ]
  },
  {
   "cell_type": "markdown",
   "metadata": {},
   "source": [
    "### Evaluation Metrics\n",
    "\n",
    "It is a measure of how our model performs. In general, performance on all metrics is correlated. But, some algorithms may end up doing better or worse in different situations. The practical coding of any metric looks almost exactly the same. The difficulty comes in how to make the choice, not in how to implement it. There are two categories of evaluation metrics, _error metrics_ and _scoring metrics_. Below is a list of metrics for classification problems,<br><br>\n",
    "**Classification Metrics**<br>\n",
    "- Error metrics (Accuracy, Precision, Recall)\n",
    "- Scoring metrics(F1 Score)"
   ]
  },
  {
   "cell_type": "code",
   "execution_count": 30,
   "metadata": {},
   "outputs": [],
   "source": [
    "#Importing the metrics\n",
    "from sklearn.metrics import accuracy_score\n",
    "from sklearn.metrics import recall_score as recall\n",
    "from sklearn.metrics import precision_score as precision\n",
    "from sklearn.metrics import f1_score as f1\n",
    "from sklearn.metrics import roc_curve"
   ]
  },
  {
   "cell_type": "markdown",
   "metadata": {},
   "source": [
    "### Building the model using TF-IDF vectors"
   ]
  },
  {
   "cell_type": "code",
   "execution_count": 31,
   "metadata": {},
   "outputs": [
    {
     "name": "stdout",
     "output_type": "stream",
     "text": [
      "Multinomial Naive Bayes\n",
      "accuracy: 0.521\n",
      "recall: 0.520\n",
      "precision: 0.519\n",
      "f1_score: 0.520\n",
      "Linear SVM\n",
      "accuracy: 0.550\n",
      "recall: 0.636\n",
      "precision: 0.541\n",
      "f1_score: 0.585\n",
      "Logistic Regression\n",
      "accuracy: 0.537\n",
      "recall: 0.574\n",
      "precision: 0.532\n",
      "f1_score: 0.553\n",
      "Decision Tree\n",
      "accuracy: 0.509\n",
      "recall: 0.373\n",
      "precision: 0.509\n",
      "f1_score: 0.431\n",
      "Random Forest\n",
      "accuracy: 0.523\n",
      "recall: 0.468\n",
      "precision: 0.524\n",
      "f1_score: 0.494\n"
     ]
    }
   ],
   "source": [
    "# Model 1: Multinomial Naive Bayes Classifier\n",
    "from sklearn.naive_bayes import MultinomialNB\n",
    "nb = MultinomialNB()\n",
    "nb.fit(X_train_tfidf, y_train)\n",
    "y_pred = nb.predict(X_test_tfidf)\n",
    "accuracy_nb = accuracy_score(y_test,y_pred)\n",
    "recall_nb = recall(y_test,y_pred)\n",
    "precision_nb = precision(y_test,y_pred)\n",
    "f1_nb = f1(y_test,y_pred)\n",
    "print('Multinomial Naive Bayes\\naccuracy: %.3f\\nrecall: %.3f\\nprecision: %.3f\\nf1_score: %.3f' \n",
    "      %(accuracy_nb, recall_nb, precision_nb,f1_nb))\n",
    "\n",
    "# Model 2: Linear SVM\n",
    "from sklearn.linear_model import SGDClassifier\n",
    "lsvm = SGDClassifier(alpha=0.001, random_state=7, max_iter=20, tol=None)\n",
    "lsvm.fit(X_train_tfidf, y_train)\n",
    "y_pred = lsvm.predict(X_test_tfidf)\n",
    "accuracy_lsvm = accuracy_score(y_test,y_pred)\n",
    "recall_lsvm = recall(y_test,y_pred)\n",
    "precision_lsvm = precision(y_test,y_pred)\n",
    "f1_lsvm = f1(y_test,y_pred)\n",
    "print('Linear SVM\\naccuracy: %.3f\\nrecall: %.3f\\nprecision: %.3f\\nf1_score: %.3f' \n",
    "      %(accuracy_lsvm, recall_lsvm, precision_lsvm,f1_lsvm))\n",
    "\n",
    "# Model 3: logistic regression\n",
    "from sklearn.linear_model import LogisticRegression\n",
    "logreg = LogisticRegression(C=1)\n",
    "logreg.fit(X_train_tfidf, y_train)\n",
    "y_pred = logreg.predict(X_test_tfidf)\n",
    "accuracy_logreg = accuracy_score(y_test,y_pred)\n",
    "recall_logreg = recall(y_test,y_pred)\n",
    "precision_logreg = precision(y_test,y_pred)\n",
    "f1_logreg = f1(y_test,y_pred)\n",
    "print('Logistic Regression\\naccuracy: %.3f\\nrecall: %.3f\\nprecision: %.3f\\nf1_score: %.3f' \n",
    "      %(accuracy_logreg, recall_logreg, precision_logreg,f1_logreg))\n",
    "\n",
    "# Model 4: Decision Tree Classifier\n",
    "from sklearn.tree import DecisionTreeClassifier\n",
    "dt = DecisionTreeClassifier()\n",
    "dt.fit(X_train_tfidf, y_train)\n",
    "y_pred = dt.predict(X_test_tfidf)\n",
    "accuracy_dt = accuracy_score(y_test,y_pred)\n",
    "recall_dt = recall(y_test,y_pred)\n",
    "precision_dt = precision(y_test,y_pred)\n",
    "f1_dt = f1(y_test,y_pred)\n",
    "print('Decision Tree\\naccuracy: %.3f\\nrecall: %.3f\\nprecision: %.3f\\nf1_score: %.3f' \n",
    "      %(accuracy_dt, recall_dt, precision_dt,f1_dt))\n",
    "\n",
    "# Model 5: Random Forest Classifier\n",
    "from sklearn.ensemble import RandomForestClassifier\n",
    "rf = RandomForestClassifier(n_estimators=400)\n",
    "rf.fit(X_train_tfidf, y_train)\n",
    "y_pred = rf.predict(X_test_tfidf)\n",
    "accuracy_rf = accuracy_score(y_test,y_pred)\n",
    "recall_rf = recall(y_test,y_pred)\n",
    "precision_rf = precision(y_test,y_pred)\n",
    "f1_rf = f1(y_test,y_pred)\n",
    "print('Random Forest\\naccuracy: %.3f\\nrecall: %.3f\\nprecision: %.3f\\nf1_score: %.3f' \n",
    "      %(accuracy_rf, recall_rf, precision_rf,f1_rf))\n"
   ]
  },
  {
   "cell_type": "markdown",
   "metadata": {},
   "source": [
    "### How well TF-IDF Vectors performed?"
   ]
  },
  {
   "cell_type": "code",
   "execution_count": 32,
   "metadata": {},
   "outputs": [
    {
     "data": {
      "text/html": [
       "        <script type=\"text/javascript\">\n",
       "        window.PlotlyConfig = {MathJaxConfig: 'local'};\n",
       "        if (window.MathJax) {MathJax.Hub.Config({SVG: {font: \"STIX-Web\"}});}\n",
       "        if (typeof require !== 'undefined') {\n",
       "        require.undef(\"plotly\");\n",
       "        requirejs.config({\n",
       "            paths: {\n",
       "                'plotly': ['https://cdn.plot.ly/plotly-latest.min']\n",
       "            }\n",
       "        });\n",
       "        require(['plotly'], function(Plotly) {\n",
       "            window._Plotly = Plotly;\n",
       "        });\n",
       "        }\n",
       "        </script>\n",
       "        "
      ]
     },
     "metadata": {},
     "output_type": "display_data"
    }
   ],
   "source": [
    "#Importing plotly\n",
    "from plotly.offline import download_plotlyjs, init_notebook_mode, plot, iplot\n",
    "import plotly\n",
    "import plotly.graph_objs as go\n",
    "\n",
    "init_notebook_mode(connected=True)"
   ]
  },
  {
   "cell_type": "code",
   "execution_count": 33,
   "metadata": {},
   "outputs": [
    {
     "data": {
      "application/vnd.plotly.v1+json": {
       "config": {
        "linkText": "Export to plot.ly",
        "plotlyServerURL": "https://plot.ly",
        "showLink": false
       },
       "data": [
        {
         "name": "Multinomial Naive Bayes",
         "type": "bar",
         "x": [
          "accuracy",
          "recall",
          "precision",
          "f1_score"
         ],
         "y": [
          0.5211946050096339,
          0.5203094777562862,
          0.5193050193050193,
          0.5198067632850241
         ]
        },
        {
         "name": "Linear SVM",
         "type": "bar",
         "x": [
          "accuracy",
          "recall",
          "precision",
          "f1_score"
         ],
         "y": [
          0.5500963391136802,
          0.6363636363636364,
          0.5411184210526315,
          0.5848888888888889
         ]
        },
        {
         "name": "Logistic Regression",
         "type": "bar",
         "x": [
          "accuracy",
          "recall",
          "precision",
          "f1_score"
         ],
         "y": [
          0.5366088631984586,
          0.574468085106383,
          0.532258064516129,
          0.5525581395348836
         ]
        },
        {
         "name": "Decision Tree",
         "type": "bar",
         "x": [
          "accuracy",
          "recall",
          "precision",
          "f1_score",
          "f1_score"
         ],
         "y": [
          0.5086705202312138,
          0.3733075435203095,
          0.5092348284960422,
          0.4308035714285714
         ]
        },
        {
         "name": "Random Forest",
         "type": "bar",
         "x": [
          "accuracy",
          "recall",
          "precision",
          "f1_score",
          "f1_score"
         ],
         "y": [
          0.523121387283237,
          0.46808510638297873,
          0.5238095238095238,
          0.49438202247191015
         ]
        }
       ],
       "layout": {
        "template": {
         "data": {
          "bar": [
           {
            "error_x": {
             "color": "#2a3f5f"
            },
            "error_y": {
             "color": "#2a3f5f"
            },
            "marker": {
             "line": {
              "color": "#E5ECF6",
              "width": 0.5
             }
            },
            "type": "bar"
           }
          ],
          "barpolar": [
           {
            "marker": {
             "line": {
              "color": "#E5ECF6",
              "width": 0.5
             }
            },
            "type": "barpolar"
           }
          ],
          "carpet": [
           {
            "aaxis": {
             "endlinecolor": "#2a3f5f",
             "gridcolor": "white",
             "linecolor": "white",
             "minorgridcolor": "white",
             "startlinecolor": "#2a3f5f"
            },
            "baxis": {
             "endlinecolor": "#2a3f5f",
             "gridcolor": "white",
             "linecolor": "white",
             "minorgridcolor": "white",
             "startlinecolor": "#2a3f5f"
            },
            "type": "carpet"
           }
          ],
          "choropleth": [
           {
            "colorbar": {
             "outlinewidth": 0,
             "ticks": ""
            },
            "type": "choropleth"
           }
          ],
          "contour": [
           {
            "colorbar": {
             "outlinewidth": 0,
             "ticks": ""
            },
            "colorscale": [
             [
              0,
              "#0d0887"
             ],
             [
              0.1111111111111111,
              "#46039f"
             ],
             [
              0.2222222222222222,
              "#7201a8"
             ],
             [
              0.3333333333333333,
              "#9c179e"
             ],
             [
              0.4444444444444444,
              "#bd3786"
             ],
             [
              0.5555555555555556,
              "#d8576b"
             ],
             [
              0.6666666666666666,
              "#ed7953"
             ],
             [
              0.7777777777777778,
              "#fb9f3a"
             ],
             [
              0.8888888888888888,
              "#fdca26"
             ],
             [
              1,
              "#f0f921"
             ]
            ],
            "type": "contour"
           }
          ],
          "contourcarpet": [
           {
            "colorbar": {
             "outlinewidth": 0,
             "ticks": ""
            },
            "type": "contourcarpet"
           }
          ],
          "heatmap": [
           {
            "colorbar": {
             "outlinewidth": 0,
             "ticks": ""
            },
            "colorscale": [
             [
              0,
              "#0d0887"
             ],
             [
              0.1111111111111111,
              "#46039f"
             ],
             [
              0.2222222222222222,
              "#7201a8"
             ],
             [
              0.3333333333333333,
              "#9c179e"
             ],
             [
              0.4444444444444444,
              "#bd3786"
             ],
             [
              0.5555555555555556,
              "#d8576b"
             ],
             [
              0.6666666666666666,
              "#ed7953"
             ],
             [
              0.7777777777777778,
              "#fb9f3a"
             ],
             [
              0.8888888888888888,
              "#fdca26"
             ],
             [
              1,
              "#f0f921"
             ]
            ],
            "type": "heatmap"
           }
          ],
          "heatmapgl": [
           {
            "colorbar": {
             "outlinewidth": 0,
             "ticks": ""
            },
            "colorscale": [
             [
              0,
              "#0d0887"
             ],
             [
              0.1111111111111111,
              "#46039f"
             ],
             [
              0.2222222222222222,
              "#7201a8"
             ],
             [
              0.3333333333333333,
              "#9c179e"
             ],
             [
              0.4444444444444444,
              "#bd3786"
             ],
             [
              0.5555555555555556,
              "#d8576b"
             ],
             [
              0.6666666666666666,
              "#ed7953"
             ],
             [
              0.7777777777777778,
              "#fb9f3a"
             ],
             [
              0.8888888888888888,
              "#fdca26"
             ],
             [
              1,
              "#f0f921"
             ]
            ],
            "type": "heatmapgl"
           }
          ],
          "histogram": [
           {
            "marker": {
             "colorbar": {
              "outlinewidth": 0,
              "ticks": ""
             }
            },
            "type": "histogram"
           }
          ],
          "histogram2d": [
           {
            "colorbar": {
             "outlinewidth": 0,
             "ticks": ""
            },
            "colorscale": [
             [
              0,
              "#0d0887"
             ],
             [
              0.1111111111111111,
              "#46039f"
             ],
             [
              0.2222222222222222,
              "#7201a8"
             ],
             [
              0.3333333333333333,
              "#9c179e"
             ],
             [
              0.4444444444444444,
              "#bd3786"
             ],
             [
              0.5555555555555556,
              "#d8576b"
             ],
             [
              0.6666666666666666,
              "#ed7953"
             ],
             [
              0.7777777777777778,
              "#fb9f3a"
             ],
             [
              0.8888888888888888,
              "#fdca26"
             ],
             [
              1,
              "#f0f921"
             ]
            ],
            "type": "histogram2d"
           }
          ],
          "histogram2dcontour": [
           {
            "colorbar": {
             "outlinewidth": 0,
             "ticks": ""
            },
            "colorscale": [
             [
              0,
              "#0d0887"
             ],
             [
              0.1111111111111111,
              "#46039f"
             ],
             [
              0.2222222222222222,
              "#7201a8"
             ],
             [
              0.3333333333333333,
              "#9c179e"
             ],
             [
              0.4444444444444444,
              "#bd3786"
             ],
             [
              0.5555555555555556,
              "#d8576b"
             ],
             [
              0.6666666666666666,
              "#ed7953"
             ],
             [
              0.7777777777777778,
              "#fb9f3a"
             ],
             [
              0.8888888888888888,
              "#fdca26"
             ],
             [
              1,
              "#f0f921"
             ]
            ],
            "type": "histogram2dcontour"
           }
          ],
          "mesh3d": [
           {
            "colorbar": {
             "outlinewidth": 0,
             "ticks": ""
            },
            "type": "mesh3d"
           }
          ],
          "parcoords": [
           {
            "line": {
             "colorbar": {
              "outlinewidth": 0,
              "ticks": ""
             }
            },
            "type": "parcoords"
           }
          ],
          "scatter": [
           {
            "marker": {
             "colorbar": {
              "outlinewidth": 0,
              "ticks": ""
             }
            },
            "type": "scatter"
           }
          ],
          "scatter3d": [
           {
            "line": {
             "colorbar": {
              "outlinewidth": 0,
              "ticks": ""
             }
            },
            "marker": {
             "colorbar": {
              "outlinewidth": 0,
              "ticks": ""
             }
            },
            "type": "scatter3d"
           }
          ],
          "scattercarpet": [
           {
            "marker": {
             "colorbar": {
              "outlinewidth": 0,
              "ticks": ""
             }
            },
            "type": "scattercarpet"
           }
          ],
          "scattergeo": [
           {
            "marker": {
             "colorbar": {
              "outlinewidth": 0,
              "ticks": ""
             }
            },
            "type": "scattergeo"
           }
          ],
          "scattergl": [
           {
            "marker": {
             "colorbar": {
              "outlinewidth": 0,
              "ticks": ""
             }
            },
            "type": "scattergl"
           }
          ],
          "scattermapbox": [
           {
            "marker": {
             "colorbar": {
              "outlinewidth": 0,
              "ticks": ""
             }
            },
            "type": "scattermapbox"
           }
          ],
          "scatterpolar": [
           {
            "marker": {
             "colorbar": {
              "outlinewidth": 0,
              "ticks": ""
             }
            },
            "type": "scatterpolar"
           }
          ],
          "scatterpolargl": [
           {
            "marker": {
             "colorbar": {
              "outlinewidth": 0,
              "ticks": ""
             }
            },
            "type": "scatterpolargl"
           }
          ],
          "scatterternary": [
           {
            "marker": {
             "colorbar": {
              "outlinewidth": 0,
              "ticks": ""
             }
            },
            "type": "scatterternary"
           }
          ],
          "surface": [
           {
            "colorbar": {
             "outlinewidth": 0,
             "ticks": ""
            },
            "colorscale": [
             [
              0,
              "#0d0887"
             ],
             [
              0.1111111111111111,
              "#46039f"
             ],
             [
              0.2222222222222222,
              "#7201a8"
             ],
             [
              0.3333333333333333,
              "#9c179e"
             ],
             [
              0.4444444444444444,
              "#bd3786"
             ],
             [
              0.5555555555555556,
              "#d8576b"
             ],
             [
              0.6666666666666666,
              "#ed7953"
             ],
             [
              0.7777777777777778,
              "#fb9f3a"
             ],
             [
              0.8888888888888888,
              "#fdca26"
             ],
             [
              1,
              "#f0f921"
             ]
            ],
            "type": "surface"
           }
          ],
          "table": [
           {
            "cells": {
             "fill": {
              "color": "#EBF0F8"
             },
             "line": {
              "color": "white"
             }
            },
            "header": {
             "fill": {
              "color": "#C8D4E3"
             },
             "line": {
              "color": "white"
             }
            },
            "type": "table"
           }
          ]
         },
         "layout": {
          "annotationdefaults": {
           "arrowcolor": "#2a3f5f",
           "arrowhead": 0,
           "arrowwidth": 1
          },
          "colorscale": {
           "diverging": [
            [
             0,
             "#8e0152"
            ],
            [
             0.1,
             "#c51b7d"
            ],
            [
             0.2,
             "#de77ae"
            ],
            [
             0.3,
             "#f1b6da"
            ],
            [
             0.4,
             "#fde0ef"
            ],
            [
             0.5,
             "#f7f7f7"
            ],
            [
             0.6,
             "#e6f5d0"
            ],
            [
             0.7,
             "#b8e186"
            ],
            [
             0.8,
             "#7fbc41"
            ],
            [
             0.9,
             "#4d9221"
            ],
            [
             1,
             "#276419"
            ]
           ],
           "sequential": [
            [
             0,
             "#0d0887"
            ],
            [
             0.1111111111111111,
             "#46039f"
            ],
            [
             0.2222222222222222,
             "#7201a8"
            ],
            [
             0.3333333333333333,
             "#9c179e"
            ],
            [
             0.4444444444444444,
             "#bd3786"
            ],
            [
             0.5555555555555556,
             "#d8576b"
            ],
            [
             0.6666666666666666,
             "#ed7953"
            ],
            [
             0.7777777777777778,
             "#fb9f3a"
            ],
            [
             0.8888888888888888,
             "#fdca26"
            ],
            [
             1,
             "#f0f921"
            ]
           ],
           "sequentialminus": [
            [
             0,
             "#0d0887"
            ],
            [
             0.1111111111111111,
             "#46039f"
            ],
            [
             0.2222222222222222,
             "#7201a8"
            ],
            [
             0.3333333333333333,
             "#9c179e"
            ],
            [
             0.4444444444444444,
             "#bd3786"
            ],
            [
             0.5555555555555556,
             "#d8576b"
            ],
            [
             0.6666666666666666,
             "#ed7953"
            ],
            [
             0.7777777777777778,
             "#fb9f3a"
            ],
            [
             0.8888888888888888,
             "#fdca26"
            ],
            [
             1,
             "#f0f921"
            ]
           ]
          },
          "colorway": [
           "#636efa",
           "#EF553B",
           "#00cc96",
           "#ab63fa",
           "#FFA15A",
           "#19d3f3",
           "#FF6692",
           "#B6E880",
           "#FF97FF",
           "#FECB52"
          ],
          "font": {
           "color": "#2a3f5f"
          },
          "geo": {
           "bgcolor": "white",
           "lakecolor": "white",
           "landcolor": "#E5ECF6",
           "showlakes": true,
           "showland": true,
           "subunitcolor": "white"
          },
          "hoverlabel": {
           "align": "left"
          },
          "hovermode": "closest",
          "mapbox": {
           "style": "light"
          },
          "paper_bgcolor": "white",
          "plot_bgcolor": "#E5ECF6",
          "polar": {
           "angularaxis": {
            "gridcolor": "white",
            "linecolor": "white",
            "ticks": ""
           },
           "bgcolor": "#E5ECF6",
           "radialaxis": {
            "gridcolor": "white",
            "linecolor": "white",
            "ticks": ""
           }
          },
          "scene": {
           "xaxis": {
            "backgroundcolor": "#E5ECF6",
            "gridcolor": "white",
            "gridwidth": 2,
            "linecolor": "white",
            "showbackground": true,
            "ticks": "",
            "zerolinecolor": "white"
           },
           "yaxis": {
            "backgroundcolor": "#E5ECF6",
            "gridcolor": "white",
            "gridwidth": 2,
            "linecolor": "white",
            "showbackground": true,
            "ticks": "",
            "zerolinecolor": "white"
           },
           "zaxis": {
            "backgroundcolor": "#E5ECF6",
            "gridcolor": "white",
            "gridwidth": 2,
            "linecolor": "white",
            "showbackground": true,
            "ticks": "",
            "zerolinecolor": "white"
           }
          },
          "shapedefaults": {
           "line": {
            "color": "#2a3f5f"
           }
          },
          "ternary": {
           "aaxis": {
            "gridcolor": "white",
            "linecolor": "white",
            "ticks": ""
           },
           "baxis": {
            "gridcolor": "white",
            "linecolor": "white",
            "ticks": ""
           },
           "bgcolor": "#E5ECF6",
           "caxis": {
            "gridcolor": "white",
            "linecolor": "white",
            "ticks": ""
           }
          },
          "title": {
           "x": 0.05
          },
          "xaxis": {
           "automargin": true,
           "gridcolor": "white",
           "linecolor": "white",
           "ticks": "",
           "zerolinecolor": "white",
           "zerolinewidth": 2
          },
          "yaxis": {
           "automargin": true,
           "gridcolor": "white",
           "linecolor": "white",
           "ticks": "",
           "zerolinecolor": "white",
           "zerolinewidth": 2
          }
         }
        },
        "title": {
         "text": "Performance of Machine Learning Classifiers using TF-IDF"
        }
       }
      },
      "text/html": [
       "<div>\n",
       "        \n",
       "        \n",
       "            <div id=\"4785266e-b888-4ba2-ab3d-62dc4f525f5d\" class=\"plotly-graph-div\" style=\"height:525px; width:100%;\"></div>\n",
       "            <script type=\"text/javascript\">\n",
       "                require([\"plotly\"], function(Plotly) {\n",
       "                    window.PLOTLYENV=window.PLOTLYENV || {};\n",
       "                    \n",
       "                if (document.getElementById(\"4785266e-b888-4ba2-ab3d-62dc4f525f5d\")) {\n",
       "                    Plotly.newPlot(\n",
       "                        '4785266e-b888-4ba2-ab3d-62dc4f525f5d',\n",
       "                        [{\"name\": \"Multinomial Naive Bayes\", \"type\": \"bar\", \"x\": [\"accuracy\", \"recall\", \"precision\", \"f1_score\"], \"y\": [0.5211946050096339, 0.5203094777562862, 0.5193050193050193, 0.5198067632850241]}, {\"name\": \"Linear SVM\", \"type\": \"bar\", \"x\": [\"accuracy\", \"recall\", \"precision\", \"f1_score\"], \"y\": [0.5500963391136802, 0.6363636363636364, 0.5411184210526315, 0.5848888888888889]}, {\"name\": \"Logistic Regression\", \"type\": \"bar\", \"x\": [\"accuracy\", \"recall\", \"precision\", \"f1_score\"], \"y\": [0.5366088631984586, 0.574468085106383, 0.532258064516129, 0.5525581395348836]}, {\"name\": \"Decision Tree\", \"type\": \"bar\", \"x\": [\"accuracy\", \"recall\", \"precision\", \"f1_score\", \"f1_score\"], \"y\": [0.5086705202312138, 0.3733075435203095, 0.5092348284960422, 0.4308035714285714]}, {\"name\": \"Random Forest\", \"type\": \"bar\", \"x\": [\"accuracy\", \"recall\", \"precision\", \"f1_score\", \"f1_score\"], \"y\": [0.523121387283237, 0.46808510638297873, 0.5238095238095238, 0.49438202247191015]}],\n",
       "                        {\"template\": {\"data\": {\"bar\": [{\"error_x\": {\"color\": \"#2a3f5f\"}, \"error_y\": {\"color\": \"#2a3f5f\"}, \"marker\": {\"line\": {\"color\": \"#E5ECF6\", \"width\": 0.5}}, \"type\": \"bar\"}], \"barpolar\": [{\"marker\": {\"line\": {\"color\": \"#E5ECF6\", \"width\": 0.5}}, \"type\": \"barpolar\"}], \"carpet\": [{\"aaxis\": {\"endlinecolor\": \"#2a3f5f\", \"gridcolor\": \"white\", \"linecolor\": \"white\", \"minorgridcolor\": \"white\", \"startlinecolor\": \"#2a3f5f\"}, \"baxis\": {\"endlinecolor\": \"#2a3f5f\", \"gridcolor\": \"white\", \"linecolor\": \"white\", \"minorgridcolor\": \"white\", \"startlinecolor\": \"#2a3f5f\"}, \"type\": \"carpet\"}], \"choropleth\": [{\"colorbar\": {\"outlinewidth\": 0, \"ticks\": \"\"}, \"type\": \"choropleth\"}], \"contour\": [{\"colorbar\": {\"outlinewidth\": 0, \"ticks\": \"\"}, \"colorscale\": [[0.0, \"#0d0887\"], [0.1111111111111111, \"#46039f\"], [0.2222222222222222, \"#7201a8\"], [0.3333333333333333, \"#9c179e\"], [0.4444444444444444, \"#bd3786\"], [0.5555555555555556, \"#d8576b\"], [0.6666666666666666, \"#ed7953\"], [0.7777777777777778, \"#fb9f3a\"], [0.8888888888888888, \"#fdca26\"], [1.0, \"#f0f921\"]], \"type\": \"contour\"}], \"contourcarpet\": [{\"colorbar\": {\"outlinewidth\": 0, \"ticks\": \"\"}, \"type\": \"contourcarpet\"}], \"heatmap\": [{\"colorbar\": {\"outlinewidth\": 0, \"ticks\": \"\"}, \"colorscale\": [[0.0, \"#0d0887\"], [0.1111111111111111, \"#46039f\"], [0.2222222222222222, \"#7201a8\"], [0.3333333333333333, \"#9c179e\"], [0.4444444444444444, \"#bd3786\"], [0.5555555555555556, \"#d8576b\"], [0.6666666666666666, \"#ed7953\"], [0.7777777777777778, \"#fb9f3a\"], [0.8888888888888888, \"#fdca26\"], [1.0, \"#f0f921\"]], \"type\": \"heatmap\"}], \"heatmapgl\": [{\"colorbar\": {\"outlinewidth\": 0, \"ticks\": \"\"}, \"colorscale\": [[0.0, \"#0d0887\"], [0.1111111111111111, \"#46039f\"], [0.2222222222222222, \"#7201a8\"], [0.3333333333333333, \"#9c179e\"], [0.4444444444444444, \"#bd3786\"], [0.5555555555555556, \"#d8576b\"], [0.6666666666666666, \"#ed7953\"], [0.7777777777777778, \"#fb9f3a\"], [0.8888888888888888, \"#fdca26\"], [1.0, \"#f0f921\"]], \"type\": \"heatmapgl\"}], \"histogram\": [{\"marker\": {\"colorbar\": {\"outlinewidth\": 0, \"ticks\": \"\"}}, \"type\": \"histogram\"}], \"histogram2d\": [{\"colorbar\": {\"outlinewidth\": 0, \"ticks\": \"\"}, \"colorscale\": [[0.0, \"#0d0887\"], [0.1111111111111111, \"#46039f\"], [0.2222222222222222, \"#7201a8\"], [0.3333333333333333, \"#9c179e\"], [0.4444444444444444, \"#bd3786\"], [0.5555555555555556, \"#d8576b\"], [0.6666666666666666, \"#ed7953\"], [0.7777777777777778, \"#fb9f3a\"], [0.8888888888888888, \"#fdca26\"], [1.0, \"#f0f921\"]], \"type\": \"histogram2d\"}], \"histogram2dcontour\": [{\"colorbar\": {\"outlinewidth\": 0, \"ticks\": \"\"}, \"colorscale\": [[0.0, \"#0d0887\"], [0.1111111111111111, \"#46039f\"], [0.2222222222222222, \"#7201a8\"], [0.3333333333333333, \"#9c179e\"], [0.4444444444444444, \"#bd3786\"], [0.5555555555555556, \"#d8576b\"], [0.6666666666666666, \"#ed7953\"], [0.7777777777777778, \"#fb9f3a\"], [0.8888888888888888, \"#fdca26\"], [1.0, \"#f0f921\"]], \"type\": \"histogram2dcontour\"}], \"mesh3d\": [{\"colorbar\": {\"outlinewidth\": 0, \"ticks\": \"\"}, \"type\": \"mesh3d\"}], \"parcoords\": [{\"line\": {\"colorbar\": {\"outlinewidth\": 0, \"ticks\": \"\"}}, \"type\": \"parcoords\"}], \"scatter\": [{\"marker\": {\"colorbar\": {\"outlinewidth\": 0, \"ticks\": \"\"}}, \"type\": \"scatter\"}], \"scatter3d\": [{\"line\": {\"colorbar\": {\"outlinewidth\": 0, \"ticks\": \"\"}}, \"marker\": {\"colorbar\": {\"outlinewidth\": 0, \"ticks\": \"\"}}, \"type\": \"scatter3d\"}], \"scattercarpet\": [{\"marker\": {\"colorbar\": {\"outlinewidth\": 0, \"ticks\": \"\"}}, \"type\": \"scattercarpet\"}], \"scattergeo\": [{\"marker\": {\"colorbar\": {\"outlinewidth\": 0, \"ticks\": \"\"}}, \"type\": \"scattergeo\"}], \"scattergl\": [{\"marker\": {\"colorbar\": {\"outlinewidth\": 0, \"ticks\": \"\"}}, \"type\": \"scattergl\"}], \"scattermapbox\": [{\"marker\": {\"colorbar\": {\"outlinewidth\": 0, \"ticks\": \"\"}}, \"type\": \"scattermapbox\"}], \"scatterpolar\": [{\"marker\": {\"colorbar\": {\"outlinewidth\": 0, \"ticks\": \"\"}}, \"type\": \"scatterpolar\"}], \"scatterpolargl\": [{\"marker\": {\"colorbar\": {\"outlinewidth\": 0, \"ticks\": \"\"}}, \"type\": \"scatterpolargl\"}], \"scatterternary\": [{\"marker\": {\"colorbar\": {\"outlinewidth\": 0, \"ticks\": \"\"}}, \"type\": \"scatterternary\"}], \"surface\": [{\"colorbar\": {\"outlinewidth\": 0, \"ticks\": \"\"}, \"colorscale\": [[0.0, \"#0d0887\"], [0.1111111111111111, \"#46039f\"], [0.2222222222222222, \"#7201a8\"], [0.3333333333333333, \"#9c179e\"], [0.4444444444444444, \"#bd3786\"], [0.5555555555555556, \"#d8576b\"], [0.6666666666666666, \"#ed7953\"], [0.7777777777777778, \"#fb9f3a\"], [0.8888888888888888, \"#fdca26\"], [1.0, \"#f0f921\"]], \"type\": \"surface\"}], \"table\": [{\"cells\": {\"fill\": {\"color\": \"#EBF0F8\"}, \"line\": {\"color\": \"white\"}}, \"header\": {\"fill\": {\"color\": \"#C8D4E3\"}, \"line\": {\"color\": \"white\"}}, \"type\": \"table\"}]}, \"layout\": {\"annotationdefaults\": {\"arrowcolor\": \"#2a3f5f\", \"arrowhead\": 0, \"arrowwidth\": 1}, \"colorscale\": {\"diverging\": [[0, \"#8e0152\"], [0.1, \"#c51b7d\"], [0.2, \"#de77ae\"], [0.3, \"#f1b6da\"], [0.4, \"#fde0ef\"], [0.5, \"#f7f7f7\"], [0.6, \"#e6f5d0\"], [0.7, \"#b8e186\"], [0.8, \"#7fbc41\"], [0.9, \"#4d9221\"], [1, \"#276419\"]], \"sequential\": [[0.0, \"#0d0887\"], [0.1111111111111111, \"#46039f\"], [0.2222222222222222, \"#7201a8\"], [0.3333333333333333, \"#9c179e\"], [0.4444444444444444, \"#bd3786\"], [0.5555555555555556, \"#d8576b\"], [0.6666666666666666, \"#ed7953\"], [0.7777777777777778, \"#fb9f3a\"], [0.8888888888888888, \"#fdca26\"], [1.0, \"#f0f921\"]], \"sequentialminus\": [[0.0, \"#0d0887\"], [0.1111111111111111, \"#46039f\"], [0.2222222222222222, \"#7201a8\"], [0.3333333333333333, \"#9c179e\"], [0.4444444444444444, \"#bd3786\"], [0.5555555555555556, \"#d8576b\"], [0.6666666666666666, \"#ed7953\"], [0.7777777777777778, \"#fb9f3a\"], [0.8888888888888888, \"#fdca26\"], [1.0, \"#f0f921\"]]}, \"colorway\": [\"#636efa\", \"#EF553B\", \"#00cc96\", \"#ab63fa\", \"#FFA15A\", \"#19d3f3\", \"#FF6692\", \"#B6E880\", \"#FF97FF\", \"#FECB52\"], \"font\": {\"color\": \"#2a3f5f\"}, \"geo\": {\"bgcolor\": \"white\", \"lakecolor\": \"white\", \"landcolor\": \"#E5ECF6\", \"showlakes\": true, \"showland\": true, \"subunitcolor\": \"white\"}, \"hoverlabel\": {\"align\": \"left\"}, \"hovermode\": \"closest\", \"mapbox\": {\"style\": \"light\"}, \"paper_bgcolor\": \"white\", \"plot_bgcolor\": \"#E5ECF6\", \"polar\": {\"angularaxis\": {\"gridcolor\": \"white\", \"linecolor\": \"white\", \"ticks\": \"\"}, \"bgcolor\": \"#E5ECF6\", \"radialaxis\": {\"gridcolor\": \"white\", \"linecolor\": \"white\", \"ticks\": \"\"}}, \"scene\": {\"xaxis\": {\"backgroundcolor\": \"#E5ECF6\", \"gridcolor\": \"white\", \"gridwidth\": 2, \"linecolor\": \"white\", \"showbackground\": true, \"ticks\": \"\", \"zerolinecolor\": \"white\"}, \"yaxis\": {\"backgroundcolor\": \"#E5ECF6\", \"gridcolor\": \"white\", \"gridwidth\": 2, \"linecolor\": \"white\", \"showbackground\": true, \"ticks\": \"\", \"zerolinecolor\": \"white\"}, \"zaxis\": {\"backgroundcolor\": \"#E5ECF6\", \"gridcolor\": \"white\", \"gridwidth\": 2, \"linecolor\": \"white\", \"showbackground\": true, \"ticks\": \"\", \"zerolinecolor\": \"white\"}}, \"shapedefaults\": {\"line\": {\"color\": \"#2a3f5f\"}}, \"ternary\": {\"aaxis\": {\"gridcolor\": \"white\", \"linecolor\": \"white\", \"ticks\": \"\"}, \"baxis\": {\"gridcolor\": \"white\", \"linecolor\": \"white\", \"ticks\": \"\"}, \"bgcolor\": \"#E5ECF6\", \"caxis\": {\"gridcolor\": \"white\", \"linecolor\": \"white\", \"ticks\": \"\"}}, \"title\": {\"x\": 0.05}, \"xaxis\": {\"automargin\": true, \"gridcolor\": \"white\", \"linecolor\": \"white\", \"ticks\": \"\", \"zerolinecolor\": \"white\", \"zerolinewidth\": 2}, \"yaxis\": {\"automargin\": true, \"gridcolor\": \"white\", \"linecolor\": \"white\", \"ticks\": \"\", \"zerolinecolor\": \"white\", \"zerolinewidth\": 2}}}, \"title\": {\"text\": \"Performance of Machine Learning Classifiers using TF-IDF\"}},\n",
       "                        {\"responsive\": true}\n",
       "                    ).then(function(){\n",
       "                            \n",
       "var gd = document.getElementById('4785266e-b888-4ba2-ab3d-62dc4f525f5d');\n",
       "var x = new MutationObserver(function (mutations, observer) {{\n",
       "        var display = window.getComputedStyle(gd).display;\n",
       "        if (!display || display === 'none') {{\n",
       "            console.log([gd, 'removed!']);\n",
       "            Plotly.purge(gd);\n",
       "            observer.disconnect();\n",
       "        }}\n",
       "}});\n",
       "\n",
       "// Listen for the removal of the full notebook cells\n",
       "var notebookContainer = gd.closest('#notebook-container');\n",
       "if (notebookContainer) {{\n",
       "    x.observe(notebookContainer, {childList: true});\n",
       "}}\n",
       "\n",
       "// Listen for the clearing of the current output cell\n",
       "var outputEl = gd.closest('.output');\n",
       "if (outputEl) {{\n",
       "    x.observe(outputEl, {childList: true});\n",
       "}}\n",
       "\n",
       "                        })\n",
       "                };\n",
       "                });\n",
       "            </script>\n",
       "        </div>"
      ]
     },
     "metadata": {},
     "output_type": "display_data"
    }
   ],
   "source": [
    "#Create a bar for Multinomial Naive Bayes metrics\n",
    "trace0 = go.Bar(\n",
    "           x = ['accuracy','recall', 'precision', 'f1_score'],\n",
    "           y = [accuracy_nb, recall_nb, precision_nb, f1_nb],\n",
    "           name = 'Multinomial Naive Bayes' \n",
    ")\n",
    "\n",
    "#Create a bar for Linear SVM metrics\n",
    "trace1 = go.Bar(\n",
    "          x = ['accuracy','recall', 'precision', 'f1_score'],\n",
    "          y = [accuracy_lsvm, recall_lsvm, precision_lsvm, f1_lsvm],\n",
    "          name = 'Linear SVM'\n",
    ")\n",
    "\n",
    "#Create a bar for Logistic Regression metrics\n",
    "trace2 = go.Bar(\n",
    "           x = ['accuracy','recall', 'precision', 'f1_score'],\n",
    "           y = [accuracy_logreg, recall_logreg, precision_logreg, f1_logreg],\n",
    "           name = 'Logistic Regression' \n",
    ")\n",
    "\n",
    "#Create a bar for Decision Tree metrics\n",
    "trace3 = go.Bar(\n",
    "           x = ['accuracy','recall', 'precision', 'f1_score', 'f1_score'],\n",
    "           y = [accuracy_dt, recall_dt, precision_dt, f1_dt],\n",
    "           name = 'Decision Tree' \n",
    ")\n",
    "\n",
    "#Create a bar for Random Forest metrics\n",
    "trace4 = go.Bar(\n",
    "           x = ['accuracy','recall', 'precision', 'f1_score', 'f1_score'],\n",
    "           y = [accuracy_rf, recall_rf, precision_rf, f1_rf],\n",
    "           name = 'Random Forest' \n",
    ")\n",
    "\n",
    "\n",
    "#Define the data array\n",
    "data = [trace0, trace1, trace2, trace3, trace4]\n",
    "\n",
    "#Set the title\n",
    "layout = {'title': 'Performance of Machine Learning Classifiers using TF-IDF'}\n",
    "\n",
    "#Create a 'Figure' and plot it\n",
    "fig = go.Figure(data = data, layout = layout)\n",
    "iplot(fig, show_link=False)"
   ]
  },
  {
   "cell_type": "markdown",
   "metadata": {},
   "source": [
    "**Observation** <br>\n",
    "\n",
    "\n",
    "As we can see none of the models perform great. All the classifiers had accuracy about 50-52%, same goes for precision as well when taken the TF-IDF approach. In terms of recall, Linear SVM has comparatively higher recall than other classifiers whereas Decison tree fares the worst.The reason for poor performance might be due to the length of the content being very short."
   ]
  },
  {
   "cell_type": "markdown",
   "metadata": {},
   "source": [
    "### Building the model using Count vectors"
   ]
  },
  {
   "cell_type": "code",
   "execution_count": 34,
   "metadata": {},
   "outputs": [
    {
     "name": "stdout",
     "output_type": "stream",
     "text": [
      "Multinomial Naive Bayes\n",
      "accuracy: 0.774\n",
      "recall: 0.781\n",
      "precision: 0.768\n",
      "f1_score: 0.775\n",
      "Linear SVM\n",
      "accuracy: 0.792\n",
      "recall: 0.791\n",
      "precision: 0.791\n",
      "f1_score: 0.791\n",
      "Logistic Regression\n",
      "accuracy: 0.796\n",
      "recall: 0.797\n",
      "precision: 0.794\n",
      "f1_score: 0.795\n",
      "Decision Tree\n",
      "accuracy: 0.731\n",
      "recall: 0.714\n",
      "precision: 0.738\n",
      "f1_score: 0.726\n",
      "Random Forest\n",
      "accuracy: 0.776\n",
      "recall: 0.772\n",
      "precision: 0.778\n",
      "f1_score: 0.775\n"
     ]
    }
   ],
   "source": [
    "# Model 1: Multinomial Naive Bayes Classifier\n",
    "from sklearn.naive_bayes import MultinomialNB\n",
    "nb = MultinomialNB()\n",
    "nb.fit(X_train_count, y_train)\n",
    "y_pred = nb.predict(X_test_count)\n",
    "accuracy_nb = accuracy_score(y_test,y_pred)\n",
    "recall_nb = recall(y_test,y_pred)\n",
    "precision_nb = precision(y_test,y_pred)\n",
    "f1_nb = f1(y_test,y_pred)\n",
    "print('Multinomial Naive Bayes\\naccuracy: %.3f\\nrecall: %.3f\\nprecision: %.3f\\nf1_score: %.3f' \n",
    "      %(accuracy_nb, recall_nb, precision_nb, f1_nb))\n",
    "\n",
    "# Model 2: Linear SVM\n",
    "from sklearn.linear_model import SGDClassifier\n",
    "lsvm = SGDClassifier(alpha=0.001, random_state=7, max_iter=20, tol=None)\n",
    "lsvm.fit(X_train_count, y_train)\n",
    "y_pred = lsvm.predict(X_test_count)\n",
    "accuracy_lsvm = accuracy_score(y_test,y_pred)\n",
    "recall_lsvm = recall(y_test,y_pred)\n",
    "precision_lsvm = precision(y_test,y_pred)\n",
    "f1_lsvm = f1(y_test,y_pred)\n",
    "print('Linear SVM\\naccuracy: %.3f\\nrecall: %.3f\\nprecision: %.3f\\nf1_score: %.3f' \n",
    "      %(accuracy_lsvm, recall_lsvm, precision_lsvm, f1_lsvm))\n",
    "\n",
    "# Model 3: logistic regression\n",
    "from sklearn.linear_model import LogisticRegression\n",
    "logreg = LogisticRegression(C=1)\n",
    "logreg.fit(X_train_count, y_train)\n",
    "y_pred = logreg.predict(X_test_count)\n",
    "accuracy_logreg = accuracy_score(y_test,y_pred)\n",
    "recall_logreg = recall(y_test,y_pred)\n",
    "precision_logreg = precision(y_test,y_pred)\n",
    "f1_logreg = f1(y_test,y_pred)\n",
    "print('Logistic Regression\\naccuracy: %.3f\\nrecall: %.3f\\nprecision: %.3f\\nf1_score: %.3f' \n",
    "      %(accuracy_logreg, recall_logreg, precision_logreg, f1_logreg))\n",
    "\n",
    "# Model 4: Decision Tree Classifier\n",
    "from sklearn.tree import DecisionTreeClassifier\n",
    "dt = DecisionTreeClassifier()\n",
    "dt.fit(X_train_count, y_train)\n",
    "y_pred = dt.predict(X_test_count)\n",
    "accuracy_dt = accuracy_score(y_test,y_pred)\n",
    "recall_dt = recall(y_test,y_pred)\n",
    "precision_dt = precision(y_test,y_pred)\n",
    "f1_dt = f1(y_test,y_pred)\n",
    "print('Decision Tree\\naccuracy: %.3f\\nrecall: %.3f\\nprecision: %.3f\\nf1_score: %.3f' \n",
    "      %(accuracy_dt, recall_dt, precision_dt, f1_dt))\n",
    "\n",
    "# Model 5: Random Forest Classifier\n",
    "from sklearn.ensemble import RandomForestClassifier\n",
    "rf = RandomForestClassifier(n_estimators=400)\n",
    "rf.fit(X_train_count, y_train)\n",
    "y_pred = rf.predict(X_test_count)\n",
    "accuracy_rf = accuracy_score(y_test,y_pred)\n",
    "recall_rf = recall(y_test,y_pred)\n",
    "precision_rf = precision(y_test,y_pred)\n",
    "f1_rf = f1(y_test,y_pred)\n",
    "print('Random Forest\\naccuracy: %.3f\\nrecall: %.3f\\nprecision: %.3f\\nf1_score: %.3f' \n",
    "      %(accuracy_rf, recall_rf, precision_rf, f1_rf))"
   ]
  },
  {
   "cell_type": "markdown",
   "metadata": {},
   "source": [
    "### How well Count Vectors performed?"
   ]
  },
  {
   "cell_type": "code",
   "execution_count": 35,
   "metadata": {},
   "outputs": [
    {
     "data": {
      "application/vnd.plotly.v1+json": {
       "config": {
        "linkText": "Export to plot.ly",
        "plotlyServerURL": "https://plot.ly",
        "showLink": false
       },
       "data": [
        {
         "name": "Multinomial Naive Bayes",
         "type": "bar",
         "x": [
          "accuracy",
          "recall",
          "precision",
          "f1_score"
         ],
         "y": [
          0.7736030828516378,
          0.781431334622824,
          0.7680608365019012,
          0.7746883988494727
         ]
        },
        {
         "name": "Linear SVM",
         "type": "bar",
         "x": [
          "accuracy",
          "recall",
          "precision",
          "f1_score"
         ],
         "y": [
          0.791907514450867,
          0.7911025145067698,
          0.7911025145067698,
          0.7911025145067698
         ]
        },
        {
         "name": "Logistic Regression",
         "type": "bar",
         "x": [
          "accuracy",
          "recall",
          "precision",
          "f1_score"
         ],
         "y": [
          0.7957610789980732,
          0.7969052224371374,
          0.7938342967244701,
          0.7953667953667953
         ]
        },
        {
         "name": "Decision Tree",
         "type": "bar",
         "x": [
          "accuracy",
          "recall",
          "precision",
          "f1_score",
          "f1_score"
         ],
         "y": [
          0.7312138728323699,
          0.7137330754352031,
          0.738,
          0.7256637168141593
         ]
        },
        {
         "name": "Random Forest",
         "type": "bar",
         "x": [
          "accuracy",
          "recall",
          "precision",
          "f1_score",
          "f1_score"
         ],
         "y": [
          0.7764932562620424,
          0.7717601547388782,
          0.7777777777777778,
          0.7747572815533981
         ]
        }
       ],
       "layout": {
        "template": {
         "data": {
          "bar": [
           {
            "error_x": {
             "color": "#2a3f5f"
            },
            "error_y": {
             "color": "#2a3f5f"
            },
            "marker": {
             "line": {
              "color": "#E5ECF6",
              "width": 0.5
             }
            },
            "type": "bar"
           }
          ],
          "barpolar": [
           {
            "marker": {
             "line": {
              "color": "#E5ECF6",
              "width": 0.5
             }
            },
            "type": "barpolar"
           }
          ],
          "carpet": [
           {
            "aaxis": {
             "endlinecolor": "#2a3f5f",
             "gridcolor": "white",
             "linecolor": "white",
             "minorgridcolor": "white",
             "startlinecolor": "#2a3f5f"
            },
            "baxis": {
             "endlinecolor": "#2a3f5f",
             "gridcolor": "white",
             "linecolor": "white",
             "minorgridcolor": "white",
             "startlinecolor": "#2a3f5f"
            },
            "type": "carpet"
           }
          ],
          "choropleth": [
           {
            "colorbar": {
             "outlinewidth": 0,
             "ticks": ""
            },
            "type": "choropleth"
           }
          ],
          "contour": [
           {
            "colorbar": {
             "outlinewidth": 0,
             "ticks": ""
            },
            "colorscale": [
             [
              0,
              "#0d0887"
             ],
             [
              0.1111111111111111,
              "#46039f"
             ],
             [
              0.2222222222222222,
              "#7201a8"
             ],
             [
              0.3333333333333333,
              "#9c179e"
             ],
             [
              0.4444444444444444,
              "#bd3786"
             ],
             [
              0.5555555555555556,
              "#d8576b"
             ],
             [
              0.6666666666666666,
              "#ed7953"
             ],
             [
              0.7777777777777778,
              "#fb9f3a"
             ],
             [
              0.8888888888888888,
              "#fdca26"
             ],
             [
              1,
              "#f0f921"
             ]
            ],
            "type": "contour"
           }
          ],
          "contourcarpet": [
           {
            "colorbar": {
             "outlinewidth": 0,
             "ticks": ""
            },
            "type": "contourcarpet"
           }
          ],
          "heatmap": [
           {
            "colorbar": {
             "outlinewidth": 0,
             "ticks": ""
            },
            "colorscale": [
             [
              0,
              "#0d0887"
             ],
             [
              0.1111111111111111,
              "#46039f"
             ],
             [
              0.2222222222222222,
              "#7201a8"
             ],
             [
              0.3333333333333333,
              "#9c179e"
             ],
             [
              0.4444444444444444,
              "#bd3786"
             ],
             [
              0.5555555555555556,
              "#d8576b"
             ],
             [
              0.6666666666666666,
              "#ed7953"
             ],
             [
              0.7777777777777778,
              "#fb9f3a"
             ],
             [
              0.8888888888888888,
              "#fdca26"
             ],
             [
              1,
              "#f0f921"
             ]
            ],
            "type": "heatmap"
           }
          ],
          "heatmapgl": [
           {
            "colorbar": {
             "outlinewidth": 0,
             "ticks": ""
            },
            "colorscale": [
             [
              0,
              "#0d0887"
             ],
             [
              0.1111111111111111,
              "#46039f"
             ],
             [
              0.2222222222222222,
              "#7201a8"
             ],
             [
              0.3333333333333333,
              "#9c179e"
             ],
             [
              0.4444444444444444,
              "#bd3786"
             ],
             [
              0.5555555555555556,
              "#d8576b"
             ],
             [
              0.6666666666666666,
              "#ed7953"
             ],
             [
              0.7777777777777778,
              "#fb9f3a"
             ],
             [
              0.8888888888888888,
              "#fdca26"
             ],
             [
              1,
              "#f0f921"
             ]
            ],
            "type": "heatmapgl"
           }
          ],
          "histogram": [
           {
            "marker": {
             "colorbar": {
              "outlinewidth": 0,
              "ticks": ""
             }
            },
            "type": "histogram"
           }
          ],
          "histogram2d": [
           {
            "colorbar": {
             "outlinewidth": 0,
             "ticks": ""
            },
            "colorscale": [
             [
              0,
              "#0d0887"
             ],
             [
              0.1111111111111111,
              "#46039f"
             ],
             [
              0.2222222222222222,
              "#7201a8"
             ],
             [
              0.3333333333333333,
              "#9c179e"
             ],
             [
              0.4444444444444444,
              "#bd3786"
             ],
             [
              0.5555555555555556,
              "#d8576b"
             ],
             [
              0.6666666666666666,
              "#ed7953"
             ],
             [
              0.7777777777777778,
              "#fb9f3a"
             ],
             [
              0.8888888888888888,
              "#fdca26"
             ],
             [
              1,
              "#f0f921"
             ]
            ],
            "type": "histogram2d"
           }
          ],
          "histogram2dcontour": [
           {
            "colorbar": {
             "outlinewidth": 0,
             "ticks": ""
            },
            "colorscale": [
             [
              0,
              "#0d0887"
             ],
             [
              0.1111111111111111,
              "#46039f"
             ],
             [
              0.2222222222222222,
              "#7201a8"
             ],
             [
              0.3333333333333333,
              "#9c179e"
             ],
             [
              0.4444444444444444,
              "#bd3786"
             ],
             [
              0.5555555555555556,
              "#d8576b"
             ],
             [
              0.6666666666666666,
              "#ed7953"
             ],
             [
              0.7777777777777778,
              "#fb9f3a"
             ],
             [
              0.8888888888888888,
              "#fdca26"
             ],
             [
              1,
              "#f0f921"
             ]
            ],
            "type": "histogram2dcontour"
           }
          ],
          "mesh3d": [
           {
            "colorbar": {
             "outlinewidth": 0,
             "ticks": ""
            },
            "type": "mesh3d"
           }
          ],
          "parcoords": [
           {
            "line": {
             "colorbar": {
              "outlinewidth": 0,
              "ticks": ""
             }
            },
            "type": "parcoords"
           }
          ],
          "scatter": [
           {
            "marker": {
             "colorbar": {
              "outlinewidth": 0,
              "ticks": ""
             }
            },
            "type": "scatter"
           }
          ],
          "scatter3d": [
           {
            "line": {
             "colorbar": {
              "outlinewidth": 0,
              "ticks": ""
             }
            },
            "marker": {
             "colorbar": {
              "outlinewidth": 0,
              "ticks": ""
             }
            },
            "type": "scatter3d"
           }
          ],
          "scattercarpet": [
           {
            "marker": {
             "colorbar": {
              "outlinewidth": 0,
              "ticks": ""
             }
            },
            "type": "scattercarpet"
           }
          ],
          "scattergeo": [
           {
            "marker": {
             "colorbar": {
              "outlinewidth": 0,
              "ticks": ""
             }
            },
            "type": "scattergeo"
           }
          ],
          "scattergl": [
           {
            "marker": {
             "colorbar": {
              "outlinewidth": 0,
              "ticks": ""
             }
            },
            "type": "scattergl"
           }
          ],
          "scattermapbox": [
           {
            "marker": {
             "colorbar": {
              "outlinewidth": 0,
              "ticks": ""
             }
            },
            "type": "scattermapbox"
           }
          ],
          "scatterpolar": [
           {
            "marker": {
             "colorbar": {
              "outlinewidth": 0,
              "ticks": ""
             }
            },
            "type": "scatterpolar"
           }
          ],
          "scatterpolargl": [
           {
            "marker": {
             "colorbar": {
              "outlinewidth": 0,
              "ticks": ""
             }
            },
            "type": "scatterpolargl"
           }
          ],
          "scatterternary": [
           {
            "marker": {
             "colorbar": {
              "outlinewidth": 0,
              "ticks": ""
             }
            },
            "type": "scatterternary"
           }
          ],
          "surface": [
           {
            "colorbar": {
             "outlinewidth": 0,
             "ticks": ""
            },
            "colorscale": [
             [
              0,
              "#0d0887"
             ],
             [
              0.1111111111111111,
              "#46039f"
             ],
             [
              0.2222222222222222,
              "#7201a8"
             ],
             [
              0.3333333333333333,
              "#9c179e"
             ],
             [
              0.4444444444444444,
              "#bd3786"
             ],
             [
              0.5555555555555556,
              "#d8576b"
             ],
             [
              0.6666666666666666,
              "#ed7953"
             ],
             [
              0.7777777777777778,
              "#fb9f3a"
             ],
             [
              0.8888888888888888,
              "#fdca26"
             ],
             [
              1,
              "#f0f921"
             ]
            ],
            "type": "surface"
           }
          ],
          "table": [
           {
            "cells": {
             "fill": {
              "color": "#EBF0F8"
             },
             "line": {
              "color": "white"
             }
            },
            "header": {
             "fill": {
              "color": "#C8D4E3"
             },
             "line": {
              "color": "white"
             }
            },
            "type": "table"
           }
          ]
         },
         "layout": {
          "annotationdefaults": {
           "arrowcolor": "#2a3f5f",
           "arrowhead": 0,
           "arrowwidth": 1
          },
          "colorscale": {
           "diverging": [
            [
             0,
             "#8e0152"
            ],
            [
             0.1,
             "#c51b7d"
            ],
            [
             0.2,
             "#de77ae"
            ],
            [
             0.3,
             "#f1b6da"
            ],
            [
             0.4,
             "#fde0ef"
            ],
            [
             0.5,
             "#f7f7f7"
            ],
            [
             0.6,
             "#e6f5d0"
            ],
            [
             0.7,
             "#b8e186"
            ],
            [
             0.8,
             "#7fbc41"
            ],
            [
             0.9,
             "#4d9221"
            ],
            [
             1,
             "#276419"
            ]
           ],
           "sequential": [
            [
             0,
             "#0d0887"
            ],
            [
             0.1111111111111111,
             "#46039f"
            ],
            [
             0.2222222222222222,
             "#7201a8"
            ],
            [
             0.3333333333333333,
             "#9c179e"
            ],
            [
             0.4444444444444444,
             "#bd3786"
            ],
            [
             0.5555555555555556,
             "#d8576b"
            ],
            [
             0.6666666666666666,
             "#ed7953"
            ],
            [
             0.7777777777777778,
             "#fb9f3a"
            ],
            [
             0.8888888888888888,
             "#fdca26"
            ],
            [
             1,
             "#f0f921"
            ]
           ],
           "sequentialminus": [
            [
             0,
             "#0d0887"
            ],
            [
             0.1111111111111111,
             "#46039f"
            ],
            [
             0.2222222222222222,
             "#7201a8"
            ],
            [
             0.3333333333333333,
             "#9c179e"
            ],
            [
             0.4444444444444444,
             "#bd3786"
            ],
            [
             0.5555555555555556,
             "#d8576b"
            ],
            [
             0.6666666666666666,
             "#ed7953"
            ],
            [
             0.7777777777777778,
             "#fb9f3a"
            ],
            [
             0.8888888888888888,
             "#fdca26"
            ],
            [
             1,
             "#f0f921"
            ]
           ]
          },
          "colorway": [
           "#636efa",
           "#EF553B",
           "#00cc96",
           "#ab63fa",
           "#FFA15A",
           "#19d3f3",
           "#FF6692",
           "#B6E880",
           "#FF97FF",
           "#FECB52"
          ],
          "font": {
           "color": "#2a3f5f"
          },
          "geo": {
           "bgcolor": "white",
           "lakecolor": "white",
           "landcolor": "#E5ECF6",
           "showlakes": true,
           "showland": true,
           "subunitcolor": "white"
          },
          "hoverlabel": {
           "align": "left"
          },
          "hovermode": "closest",
          "mapbox": {
           "style": "light"
          },
          "paper_bgcolor": "white",
          "plot_bgcolor": "#E5ECF6",
          "polar": {
           "angularaxis": {
            "gridcolor": "white",
            "linecolor": "white",
            "ticks": ""
           },
           "bgcolor": "#E5ECF6",
           "radialaxis": {
            "gridcolor": "white",
            "linecolor": "white",
            "ticks": ""
           }
          },
          "scene": {
           "xaxis": {
            "backgroundcolor": "#E5ECF6",
            "gridcolor": "white",
            "gridwidth": 2,
            "linecolor": "white",
            "showbackground": true,
            "ticks": "",
            "zerolinecolor": "white"
           },
           "yaxis": {
            "backgroundcolor": "#E5ECF6",
            "gridcolor": "white",
            "gridwidth": 2,
            "linecolor": "white",
            "showbackground": true,
            "ticks": "",
            "zerolinecolor": "white"
           },
           "zaxis": {
            "backgroundcolor": "#E5ECF6",
            "gridcolor": "white",
            "gridwidth": 2,
            "linecolor": "white",
            "showbackground": true,
            "ticks": "",
            "zerolinecolor": "white"
           }
          },
          "shapedefaults": {
           "line": {
            "color": "#2a3f5f"
           }
          },
          "ternary": {
           "aaxis": {
            "gridcolor": "white",
            "linecolor": "white",
            "ticks": ""
           },
           "baxis": {
            "gridcolor": "white",
            "linecolor": "white",
            "ticks": ""
           },
           "bgcolor": "#E5ECF6",
           "caxis": {
            "gridcolor": "white",
            "linecolor": "white",
            "ticks": ""
           }
          },
          "title": {
           "x": 0.05
          },
          "xaxis": {
           "automargin": true,
           "gridcolor": "white",
           "linecolor": "white",
           "ticks": "",
           "zerolinecolor": "white",
           "zerolinewidth": 2
          },
          "yaxis": {
           "automargin": true,
           "gridcolor": "white",
           "linecolor": "white",
           "ticks": "",
           "zerolinecolor": "white",
           "zerolinewidth": 2
          }
         }
        },
        "title": {
         "text": "Performance of Machine Learning Classifiers using Count Vectors"
        }
       }
      },
      "text/html": [
       "<div>\n",
       "        \n",
       "        \n",
       "            <div id=\"b2af2146-3260-4834-8a31-a0557c92cb36\" class=\"plotly-graph-div\" style=\"height:525px; width:100%;\"></div>\n",
       "            <script type=\"text/javascript\">\n",
       "                require([\"plotly\"], function(Plotly) {\n",
       "                    window.PLOTLYENV=window.PLOTLYENV || {};\n",
       "                    \n",
       "                if (document.getElementById(\"b2af2146-3260-4834-8a31-a0557c92cb36\")) {\n",
       "                    Plotly.newPlot(\n",
       "                        'b2af2146-3260-4834-8a31-a0557c92cb36',\n",
       "                        [{\"name\": \"Multinomial Naive Bayes\", \"type\": \"bar\", \"x\": [\"accuracy\", \"recall\", \"precision\", \"f1_score\"], \"y\": [0.7736030828516378, 0.781431334622824, 0.7680608365019012, 0.7746883988494727]}, {\"name\": \"Linear SVM\", \"type\": \"bar\", \"x\": [\"accuracy\", \"recall\", \"precision\", \"f1_score\"], \"y\": [0.791907514450867, 0.7911025145067698, 0.7911025145067698, 0.7911025145067698]}, {\"name\": \"Logistic Regression\", \"type\": \"bar\", \"x\": [\"accuracy\", \"recall\", \"precision\", \"f1_score\"], \"y\": [0.7957610789980732, 0.7969052224371374, 0.7938342967244701, 0.7953667953667953]}, {\"name\": \"Decision Tree\", \"type\": \"bar\", \"x\": [\"accuracy\", \"recall\", \"precision\", \"f1_score\", \"f1_score\"], \"y\": [0.7312138728323699, 0.7137330754352031, 0.738, 0.7256637168141593]}, {\"name\": \"Random Forest\", \"type\": \"bar\", \"x\": [\"accuracy\", \"recall\", \"precision\", \"f1_score\", \"f1_score\"], \"y\": [0.7764932562620424, 0.7717601547388782, 0.7777777777777778, 0.7747572815533981]}],\n",
       "                        {\"template\": {\"data\": {\"bar\": [{\"error_x\": {\"color\": \"#2a3f5f\"}, \"error_y\": {\"color\": \"#2a3f5f\"}, \"marker\": {\"line\": {\"color\": \"#E5ECF6\", \"width\": 0.5}}, \"type\": \"bar\"}], \"barpolar\": [{\"marker\": {\"line\": {\"color\": \"#E5ECF6\", \"width\": 0.5}}, \"type\": \"barpolar\"}], \"carpet\": [{\"aaxis\": {\"endlinecolor\": \"#2a3f5f\", \"gridcolor\": \"white\", \"linecolor\": \"white\", \"minorgridcolor\": \"white\", \"startlinecolor\": \"#2a3f5f\"}, \"baxis\": {\"endlinecolor\": \"#2a3f5f\", \"gridcolor\": \"white\", \"linecolor\": \"white\", \"minorgridcolor\": \"white\", \"startlinecolor\": \"#2a3f5f\"}, \"type\": \"carpet\"}], \"choropleth\": [{\"colorbar\": {\"outlinewidth\": 0, \"ticks\": \"\"}, \"type\": \"choropleth\"}], \"contour\": [{\"colorbar\": {\"outlinewidth\": 0, \"ticks\": \"\"}, \"colorscale\": [[0.0, \"#0d0887\"], [0.1111111111111111, \"#46039f\"], [0.2222222222222222, \"#7201a8\"], [0.3333333333333333, \"#9c179e\"], [0.4444444444444444, \"#bd3786\"], [0.5555555555555556, \"#d8576b\"], [0.6666666666666666, \"#ed7953\"], [0.7777777777777778, \"#fb9f3a\"], [0.8888888888888888, \"#fdca26\"], [1.0, \"#f0f921\"]], \"type\": \"contour\"}], \"contourcarpet\": [{\"colorbar\": {\"outlinewidth\": 0, \"ticks\": \"\"}, \"type\": \"contourcarpet\"}], \"heatmap\": [{\"colorbar\": {\"outlinewidth\": 0, \"ticks\": \"\"}, \"colorscale\": [[0.0, \"#0d0887\"], [0.1111111111111111, \"#46039f\"], [0.2222222222222222, \"#7201a8\"], [0.3333333333333333, \"#9c179e\"], [0.4444444444444444, \"#bd3786\"], [0.5555555555555556, \"#d8576b\"], [0.6666666666666666, \"#ed7953\"], [0.7777777777777778, \"#fb9f3a\"], [0.8888888888888888, \"#fdca26\"], [1.0, \"#f0f921\"]], \"type\": \"heatmap\"}], \"heatmapgl\": [{\"colorbar\": {\"outlinewidth\": 0, \"ticks\": \"\"}, \"colorscale\": [[0.0, \"#0d0887\"], [0.1111111111111111, \"#46039f\"], [0.2222222222222222, \"#7201a8\"], [0.3333333333333333, \"#9c179e\"], [0.4444444444444444, \"#bd3786\"], [0.5555555555555556, \"#d8576b\"], [0.6666666666666666, \"#ed7953\"], [0.7777777777777778, \"#fb9f3a\"], [0.8888888888888888, \"#fdca26\"], [1.0, \"#f0f921\"]], \"type\": \"heatmapgl\"}], \"histogram\": [{\"marker\": {\"colorbar\": {\"outlinewidth\": 0, \"ticks\": \"\"}}, \"type\": \"histogram\"}], \"histogram2d\": [{\"colorbar\": {\"outlinewidth\": 0, \"ticks\": \"\"}, \"colorscale\": [[0.0, \"#0d0887\"], [0.1111111111111111, \"#46039f\"], [0.2222222222222222, \"#7201a8\"], [0.3333333333333333, \"#9c179e\"], [0.4444444444444444, \"#bd3786\"], [0.5555555555555556, \"#d8576b\"], [0.6666666666666666, \"#ed7953\"], [0.7777777777777778, \"#fb9f3a\"], [0.8888888888888888, \"#fdca26\"], [1.0, \"#f0f921\"]], \"type\": \"histogram2d\"}], \"histogram2dcontour\": [{\"colorbar\": {\"outlinewidth\": 0, \"ticks\": \"\"}, \"colorscale\": [[0.0, \"#0d0887\"], [0.1111111111111111, \"#46039f\"], [0.2222222222222222, \"#7201a8\"], [0.3333333333333333, \"#9c179e\"], [0.4444444444444444, \"#bd3786\"], [0.5555555555555556, \"#d8576b\"], [0.6666666666666666, \"#ed7953\"], [0.7777777777777778, \"#fb9f3a\"], [0.8888888888888888, \"#fdca26\"], [1.0, \"#f0f921\"]], \"type\": \"histogram2dcontour\"}], \"mesh3d\": [{\"colorbar\": {\"outlinewidth\": 0, \"ticks\": \"\"}, \"type\": \"mesh3d\"}], \"parcoords\": [{\"line\": {\"colorbar\": {\"outlinewidth\": 0, \"ticks\": \"\"}}, \"type\": \"parcoords\"}], \"scatter\": [{\"marker\": {\"colorbar\": {\"outlinewidth\": 0, \"ticks\": \"\"}}, \"type\": \"scatter\"}], \"scatter3d\": [{\"line\": {\"colorbar\": {\"outlinewidth\": 0, \"ticks\": \"\"}}, \"marker\": {\"colorbar\": {\"outlinewidth\": 0, \"ticks\": \"\"}}, \"type\": \"scatter3d\"}], \"scattercarpet\": [{\"marker\": {\"colorbar\": {\"outlinewidth\": 0, \"ticks\": \"\"}}, \"type\": \"scattercarpet\"}], \"scattergeo\": [{\"marker\": {\"colorbar\": {\"outlinewidth\": 0, \"ticks\": \"\"}}, \"type\": \"scattergeo\"}], \"scattergl\": [{\"marker\": {\"colorbar\": {\"outlinewidth\": 0, \"ticks\": \"\"}}, \"type\": \"scattergl\"}], \"scattermapbox\": [{\"marker\": {\"colorbar\": {\"outlinewidth\": 0, \"ticks\": \"\"}}, \"type\": \"scattermapbox\"}], \"scatterpolar\": [{\"marker\": {\"colorbar\": {\"outlinewidth\": 0, \"ticks\": \"\"}}, \"type\": \"scatterpolar\"}], \"scatterpolargl\": [{\"marker\": {\"colorbar\": {\"outlinewidth\": 0, \"ticks\": \"\"}}, \"type\": \"scatterpolargl\"}], \"scatterternary\": [{\"marker\": {\"colorbar\": {\"outlinewidth\": 0, \"ticks\": \"\"}}, \"type\": \"scatterternary\"}], \"surface\": [{\"colorbar\": {\"outlinewidth\": 0, \"ticks\": \"\"}, \"colorscale\": [[0.0, \"#0d0887\"], [0.1111111111111111, \"#46039f\"], [0.2222222222222222, \"#7201a8\"], [0.3333333333333333, \"#9c179e\"], [0.4444444444444444, \"#bd3786\"], [0.5555555555555556, \"#d8576b\"], [0.6666666666666666, \"#ed7953\"], [0.7777777777777778, \"#fb9f3a\"], [0.8888888888888888, \"#fdca26\"], [1.0, \"#f0f921\"]], \"type\": \"surface\"}], \"table\": [{\"cells\": {\"fill\": {\"color\": \"#EBF0F8\"}, \"line\": {\"color\": \"white\"}}, \"header\": {\"fill\": {\"color\": \"#C8D4E3\"}, \"line\": {\"color\": \"white\"}}, \"type\": \"table\"}]}, \"layout\": {\"annotationdefaults\": {\"arrowcolor\": \"#2a3f5f\", \"arrowhead\": 0, \"arrowwidth\": 1}, \"colorscale\": {\"diverging\": [[0, \"#8e0152\"], [0.1, \"#c51b7d\"], [0.2, \"#de77ae\"], [0.3, \"#f1b6da\"], [0.4, \"#fde0ef\"], [0.5, \"#f7f7f7\"], [0.6, \"#e6f5d0\"], [0.7, \"#b8e186\"], [0.8, \"#7fbc41\"], [0.9, \"#4d9221\"], [1, \"#276419\"]], \"sequential\": [[0.0, \"#0d0887\"], [0.1111111111111111, \"#46039f\"], [0.2222222222222222, \"#7201a8\"], [0.3333333333333333, \"#9c179e\"], [0.4444444444444444, \"#bd3786\"], [0.5555555555555556, \"#d8576b\"], [0.6666666666666666, \"#ed7953\"], [0.7777777777777778, \"#fb9f3a\"], [0.8888888888888888, \"#fdca26\"], [1.0, \"#f0f921\"]], \"sequentialminus\": [[0.0, \"#0d0887\"], [0.1111111111111111, \"#46039f\"], [0.2222222222222222, \"#7201a8\"], [0.3333333333333333, \"#9c179e\"], [0.4444444444444444, \"#bd3786\"], [0.5555555555555556, \"#d8576b\"], [0.6666666666666666, \"#ed7953\"], [0.7777777777777778, \"#fb9f3a\"], [0.8888888888888888, \"#fdca26\"], [1.0, \"#f0f921\"]]}, \"colorway\": [\"#636efa\", \"#EF553B\", \"#00cc96\", \"#ab63fa\", \"#FFA15A\", \"#19d3f3\", \"#FF6692\", \"#B6E880\", \"#FF97FF\", \"#FECB52\"], \"font\": {\"color\": \"#2a3f5f\"}, \"geo\": {\"bgcolor\": \"white\", \"lakecolor\": \"white\", \"landcolor\": \"#E5ECF6\", \"showlakes\": true, \"showland\": true, \"subunitcolor\": \"white\"}, \"hoverlabel\": {\"align\": \"left\"}, \"hovermode\": \"closest\", \"mapbox\": {\"style\": \"light\"}, \"paper_bgcolor\": \"white\", \"plot_bgcolor\": \"#E5ECF6\", \"polar\": {\"angularaxis\": {\"gridcolor\": \"white\", \"linecolor\": \"white\", \"ticks\": \"\"}, \"bgcolor\": \"#E5ECF6\", \"radialaxis\": {\"gridcolor\": \"white\", \"linecolor\": \"white\", \"ticks\": \"\"}}, \"scene\": {\"xaxis\": {\"backgroundcolor\": \"#E5ECF6\", \"gridcolor\": \"white\", \"gridwidth\": 2, \"linecolor\": \"white\", \"showbackground\": true, \"ticks\": \"\", \"zerolinecolor\": \"white\"}, \"yaxis\": {\"backgroundcolor\": \"#E5ECF6\", \"gridcolor\": \"white\", \"gridwidth\": 2, \"linecolor\": \"white\", \"showbackground\": true, \"ticks\": \"\", \"zerolinecolor\": \"white\"}, \"zaxis\": {\"backgroundcolor\": \"#E5ECF6\", \"gridcolor\": \"white\", \"gridwidth\": 2, \"linecolor\": \"white\", \"showbackground\": true, \"ticks\": \"\", \"zerolinecolor\": \"white\"}}, \"shapedefaults\": {\"line\": {\"color\": \"#2a3f5f\"}}, \"ternary\": {\"aaxis\": {\"gridcolor\": \"white\", \"linecolor\": \"white\", \"ticks\": \"\"}, \"baxis\": {\"gridcolor\": \"white\", \"linecolor\": \"white\", \"ticks\": \"\"}, \"bgcolor\": \"#E5ECF6\", \"caxis\": {\"gridcolor\": \"white\", \"linecolor\": \"white\", \"ticks\": \"\"}}, \"title\": {\"x\": 0.05}, \"xaxis\": {\"automargin\": true, \"gridcolor\": \"white\", \"linecolor\": \"white\", \"ticks\": \"\", \"zerolinecolor\": \"white\", \"zerolinewidth\": 2}, \"yaxis\": {\"automargin\": true, \"gridcolor\": \"white\", \"linecolor\": \"white\", \"ticks\": \"\", \"zerolinecolor\": \"white\", \"zerolinewidth\": 2}}}, \"title\": {\"text\": \"Performance of Machine Learning Classifiers using Count Vectors\"}},\n",
       "                        {\"responsive\": true}\n",
       "                    ).then(function(){\n",
       "                            \n",
       "var gd = document.getElementById('b2af2146-3260-4834-8a31-a0557c92cb36');\n",
       "var x = new MutationObserver(function (mutations, observer) {{\n",
       "        var display = window.getComputedStyle(gd).display;\n",
       "        if (!display || display === 'none') {{\n",
       "            console.log([gd, 'removed!']);\n",
       "            Plotly.purge(gd);\n",
       "            observer.disconnect();\n",
       "        }}\n",
       "}});\n",
       "\n",
       "// Listen for the removal of the full notebook cells\n",
       "var notebookContainer = gd.closest('#notebook-container');\n",
       "if (notebookContainer) {{\n",
       "    x.observe(notebookContainer, {childList: true});\n",
       "}}\n",
       "\n",
       "// Listen for the clearing of the current output cell\n",
       "var outputEl = gd.closest('.output');\n",
       "if (outputEl) {{\n",
       "    x.observe(outputEl, {childList: true});\n",
       "}}\n",
       "\n",
       "                        })\n",
       "                };\n",
       "                });\n",
       "            </script>\n",
       "        </div>"
      ]
     },
     "metadata": {},
     "output_type": "display_data"
    }
   ],
   "source": [
    "#Create a bar for Multinomial Naive Bayes metrics\n",
    "trace0 = go.Bar(\n",
    "           x = ['accuracy','recall', 'precision', 'f1_score'],\n",
    "           y = [accuracy_nb, recall_nb, precision_nb, f1_nb],\n",
    "           name = 'Multinomial Naive Bayes' \n",
    ")\n",
    "\n",
    "#Create a bar for Linear SVM metrics\n",
    "trace1 = go.Bar(\n",
    "          x = ['accuracy','recall', 'precision', 'f1_score'],\n",
    "          y = [accuracy_lsvm, recall_lsvm, precision_lsvm, f1_lsvm],\n",
    "          name = 'Linear SVM'\n",
    ")\n",
    "\n",
    "#Create a bar for Logistic Regression metrics\n",
    "trace2 = go.Bar(\n",
    "           x = ['accuracy','recall', 'precision', 'f1_score'],\n",
    "           y = [accuracy_logreg, recall_logreg, precision_logreg, f1_logreg],\n",
    "           name = 'Logistic Regression' \n",
    ")\n",
    "\n",
    "#Create a bar for Decision Tree metrics\n",
    "trace3 = go.Bar(\n",
    "           x = ['accuracy','recall', 'precision', 'f1_score', 'f1_score'],\n",
    "           y = [accuracy_dt, recall_dt, precision_dt, f1_dt],\n",
    "           name = 'Decision Tree' \n",
    ")\n",
    "\n",
    "#Create a bar for Random Forest metrics\n",
    "trace4 = go.Bar(\n",
    "           x = ['accuracy','recall', 'precision', 'f1_score', 'f1_score'],\n",
    "           y = [accuracy_rf, recall_rf, precision_rf, f1_rf],\n",
    "           name = 'Random Forest' \n",
    ")\n",
    "\n",
    "\n",
    "#Define the data array\n",
    "data = [trace0, trace1, trace2, trace3, trace4]\n",
    "\n",
    "#Set the title\n",
    "layout = {'title': 'Performance of Machine Learning Classifiers using Count Vectors'}\n",
    "\n",
    "#Create a 'Figure' and plot it\n",
    "fig = go.Figure(data = data, layout = layout)\n",
    "iplot(fig, show_link=False)"
   ]
  },
  {
   "cell_type": "markdown",
   "metadata": {},
   "source": [
    "**Observation**\n",
    "\n",
    "- It is evident from the above results that count vectors performed way better than TF-IDF approach as far as this data is concerned. As stated earlier, we will get very accurate counts of the word content of our text data in count vectors approach. Since tweets are of short length, presence of some significant adjectives plays an important factor in determining the sentiment from a given tweet. \n",
    "- Coming to the classifiers, apart from Decision Tree the metrics for other classifiers are more or less the same with Logistic Regression again coming out as winner in terms of accuracy, recall, precision and f1_score."
   ]
  },
  {
   "cell_type": "markdown",
   "metadata": {},
   "source": [
    "### Random Inputs"
   ]
  },
  {
   "cell_type": "markdown",
   "metadata": {},
   "source": [
    "Let's now input some random sentences to our model and see how it fares. Since, `Logistic Regression` performed the best, we will consider that model for the below inputs. Also we will take the `count vector` approach into consideration for obvious reasons."
   ]
  },
  {
   "cell_type": "code",
   "execution_count": 36,
   "metadata": {},
   "outputs": [
    {
     "name": "stdout",
     "output_type": "stream",
     "text": [
      "[0 0 0 0 1 1 1 1]\n"
     ]
    }
   ],
   "source": [
    "tweets = pd.DataFrame(['I am very happy today! The atmosphere looks cheerful',\n",
    "'Things are looking great. It was such a good day',\n",
    "'Success is right around the corner. Lets celebrate this victory',\n",
    "'Everything is more beautiful when you experience them with a smile!',\n",
    "'Now this is my worst, okay? But I am gonna get better.',\n",
    "'I am tired, boss. Tired of being on the road, lonely as a sparrow in the rain. I am tired of all the pain I feel',\n",
    "'This is quite annoying. I am filled with grief',\n",
    "'Her betrayal shattered my heart into pieces. It was a terrible day'])\n",
    "\n",
    "# Preprocessing tweets as done before\n",
    "tweets[0] = tweets[0].str.replace('[^\\w\\s]',' ')\n",
    "from nltk.corpus import stopwords\n",
    "stop = stopwords.words('english')\n",
    "tweets[0] = tweets[0].apply(lambda x: \" \".join(x for x in x.split() if x not in stop))\n",
    "from textblob import Word\n",
    "tweets[0] = tweets[0].apply(lambda x: \" \".join([Word(word).lemmatize() for word in x.split()]))\n",
    "\n",
    "# Extracting Count Vectors feature from our tweets\n",
    "tweet_count = count_vect.transform(tweets[0])\n",
    "\n",
    "#Predicting the emotion of the tweet\n",
    "tweet_pred = logreg.predict(tweet_count)\n",
    "\n",
    "print(tweet_pred)"
   ]
  },
  {
   "cell_type": "markdown",
   "metadata": {},
   "source": [
    "**Observation**\n",
    "\n",
    "- Since `0` label was for `happiness` and `1` for `sadness`, all the tweets were classified correctly. One can then argue about the low accuracy of our classifiers when the dataset was fed to them, but that is because we haven't had gramatically correct and direct sentences unlike the random inputs. "
   ]
  },
  {
   "cell_type": "markdown",
   "metadata": {},
   "source": [
    "## Conclusion"
   ]
  },
  {
   "cell_type": "markdown",
   "metadata": {},
   "source": [
    "It is safe to conclude that for normal grammatically correct tweets, our model works pretty well. In a similar way, we can detect other emotions as well. Note that we ignored other complexities like sarcasm, spell errors. With more data and other preprocessing techniques we can build better models. Also, we can leverage techniques of classifying sentiments using deep learning(RNN, LSTM)."
   ]
  }
 ],
 "metadata": {
  "kernelspec": {
   "display_name": "Python [conda env:fastai-cpu] *",
   "language": "python",
   "name": "conda-env-fastai-cpu-py"
  },
  "language_info": {
   "codemirror_mode": {
    "name": "ipython",
    "version": 3
   },
   "file_extension": ".py",
   "mimetype": "text/x-python",
   "name": "python",
   "nbconvert_exporter": "python",
   "pygments_lexer": "ipython3",
   "version": "3.6.9"
  },
  "toc": {
   "base_numbering": 1,
   "nav_menu": {},
   "number_sections": false,
   "sideBar": true,
   "skip_h1_title": false,
   "title_cell": "Table of Contents",
   "title_sidebar": "Contents",
   "toc_cell": false,
   "toc_position": {},
   "toc_section_display": true,
   "toc_window_display": false
  }
 },
 "nbformat": 4,
 "nbformat_minor": 2
}
